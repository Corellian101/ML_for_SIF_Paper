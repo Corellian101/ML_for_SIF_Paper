{
 "cells": [
  {
   "cell_type": "code",
   "execution_count": 1,
   "id": "7826bb7c",
   "metadata": {
    "slideshow": {
     "slide_type": "skip"
    }
   },
   "outputs": [],
   "source": [
    "from Plotting import *\n",
    "import ipywidgets as wid"
   ]
  },
  {
   "cell_type": "code",
   "execution_count": 2,
   "id": "5555f868",
   "metadata": {
    "slideshow": {
     "slide_type": "skip"
    }
   },
   "outputs": [
    {
     "data": {
      "text/html": [
       "<script>\n",
       "code_show=true; \n",
       "function code_toggle() {\n",
       " if (code_show){\n",
       " $('div.input').hide();\n",
       " } else {\n",
       " $('div.input').show();\n",
       " }\n",
       " code_show = !code_show\n",
       "} \n",
       "$( document ).ready(code_toggle);\n",
       "</script>\n",
       "<form action=\"javascript:code_toggle()\"><input type=\"submit\" value=\"Click here to toggle on/off the raw code.\"></form>"
      ],
      "text/plain": [
       "<IPython.core.display.HTML object>"
      ]
     },
     "execution_count": 2,
     "metadata": {},
     "output_type": "execute_result"
    }
   ],
   "source": [
    "RN_data, RN_eqn, F3d_data = get_data_sets()\n",
    "dataset = RN_eqn\n",
    "\n",
    "ac_over_1 = 0\n",
    "dataset = split_ac(dataset, ac_over_1)\n",
    "input_vars = dataset[:,0:4]\n",
    "Mu1 = RN_eqn_funs.Mu1\n",
    "gu1 = RN_eqn_funs.gu1\n",
    "Mo1 = RN_eqn_funs.Mo1\n",
    "go1 = RN_eqn_funs.go1\n",
    "\n",
    "F_input = dataset[:,-1]\n",
    "F_bingo = Bingo_cust(input_vars, Mu1 = Mu1, gu1 = gu1)\n",
    "F_RN = F_s(*input_vars.T, only_mg=0)\n",
    "\n",
    "f = lambda n: plot_eqns(F_RN, F_bingo, input_vars, F_input, n)\n",
    "models = num_models(dataset)\n",
    "\n",
    "from IPython.display import HTML\n",
    "\n",
    "HTML('''<script>\n",
    "code_show=true; \n",
    "function code_toggle() {\n",
    " if (code_show){\n",
    " $('div.input').hide();\n",
    " } else {\n",
    " $('div.input').show();\n",
    " }\n",
    " code_show = !code_show\n",
    "} \n",
    "$( document ).ready(code_toggle);\n",
    "</script>\n",
    "<form action=\"javascript:code_toggle()\"><input type=\"submit\" value=\"Click here to toggle on/off the raw code.\"></form>''')"
   ]
  },
  {
   "cell_type": "markdown",
   "id": "dfce36b2",
   "metadata": {
    "slideshow": {
     "slide_type": "slide"
    }
   },
   "source": [
    "Training on Raju-Newman Equation, a/c <= 1\n",
    "\n",
    "Bingo: $M = \\left(\\sqrt{(\\frac{a}{c})} \\left(13.8 (\\frac{a}{c}) - 49.2253\\right) + 36.977\\right) \\left(0.0318 (\\frac{a}{t}) \\left((\\frac{a}{t}) + 1.32\\right) - 0.0018\\right) + 1.05$\n",
    "\n",
    "Raju-Newman: $M = 1.13-0.09\\left ( \\frac{a}{c} \\right ) + \\left ( -0.54+\\frac{0.89}{0.2+\\left ( \\frac{a}{c} \\right )} \\right )\\left ( \\frac{a}{t} \\right )^2+\\left ( 0.5-\\frac{1}{0.65+\\frac{a}{c}} +24\\left ( 1-\\frac{a}{c} \\right )^{24}\\right )\\left ( \\frac{a}{t} \\right )^4$\n",
    "\n",
    "Bingo: $g = 0.9993 + \\left(0.2309 + 0.4085\\left(\\frac{a}{t}\\right)\\right)^2  \\left(1.0128 - \\sin\\left(\\phi\\right)\\right)^2$\n",
    "\n",
    "Raju-Newman: $g = 1 + \\left(0.1 + 0.35\\left(\\frac{a}{t}\\right)^2\\right)\\left(1-sin\\left(\\phi\\right)\\right)^2$"
   ]
  },
  {
   "cell_type": "code",
   "execution_count": 3,
   "id": "46c85e78",
   "metadata": {
    "slideshow": {
     "slide_type": "fragment"
    }
   },
   "outputs": [
    {
     "data": {
      "application/vnd.jupyter.widget-view+json": {
       "model_id": "92f07477a4894d9497dab41c6e8ea2f8",
       "version_major": 2,
       "version_minor": 0
      },
      "text/plain": [
       "interactive(children=(IntSlider(value=280, description='n', max=560), Output()), _dom_classes=('widget-interac…"
      ]
     },
     "metadata": {},
     "output_type": "display_data"
    },
    {
     "data": {
      "text/plain": [
       "<function __main__.<lambda>(n)>"
      ]
     },
     "execution_count": 3,
     "metadata": {},
     "output_type": "execute_result"
    }
   ],
   "source": [
    "wid.interact(f, n=(0,models))"
   ]
  },
  {
   "cell_type": "code",
   "execution_count": 4,
   "id": "2fd57a42",
   "metadata": {
    "slideshow": {
     "slide_type": "slide"
    }
   },
   "outputs": [
    {
     "data": {
      "image/png": "[encoded data removed]",
      "text/plain": [
       "<Figure size 432x288 with 1 Axes>"
      ]
     },
     "metadata": {
      "needs_background": "light"
     },
     "output_type": "display_data"
    }
   ],
   "source": [
    "error_plotting(F_input, F_RN, F_bingo)"
   ]
  },
  {
   "cell_type": "code",
   "execution_count": 5,
   "id": "63dbcdd0",
   "metadata": {
    "slideshow": {
     "slide_type": "skip"
    }
   },
   "outputs": [],
   "source": [
    "dataset1 = RN_eqn\n",
    "\n",
    "ac_over_11 = 1\n",
    "dataset1 = split_ac(dataset1, ac_over_11)\n",
    "\n",
    "input_vars1 = dataset1[:,0:4]\n",
    "F_input1 = dataset1[:,-1]\n",
    "\n",
    "F_bingo1 = Bingo_cust(input_vars1, Mu1 = Mu1, gu1 = gu1, Mo1 = Mo1, go1 = go1)\n",
    "\n",
    "F_RN1 = F_s(*input_vars1.T, only_mg=0)\n",
    "\n",
    "\n",
    "f1 = lambda n: plot_eqns(F_RN1, F_bingo1, input_vars1, F_input1, n)\n",
    "models1 = num_models(dataset1)"
   ]
  },
  {
   "cell_type": "markdown",
   "id": "c62f10ea",
   "metadata": {
    "slideshow": {
     "slide_type": "slide"
    }
   },
   "source": [
    "Training on Raju-Newman Equation, a/c > 1\n",
    "\n",
    "Bingo: $M = 0.274624 \\frac{c}{a}^{3} + 0.274624 \\frac{c}{a}^{2} \\frac{a}{t} - 0.783229 \\frac{c}{a}^{2} - 0.193737 \\frac{c}{a} \\frac{a}{t} + 1.306 \\frac{c}{a} + 0.0341685 \\frac{a}{t} + 0.229524$ \n",
    "\n",
    "Raju-Newman: $M = \\sqrt{\\frac{c}{a}}\\left(1+0.04\\frac{c}{a}\\right) + 0.2\\left(\\frac{c}{a} \\right)^{4}\\left(\\frac{a}{t}\\right)^{2} - 0.11\\left(\n",
    "\\frac{c}{a}\\right)^{4}\\left(\\frac{a}{t}\\right)^{4}$\n",
    "\n",
    "Raju-Newman: $g = 1+\\left [ 0.1+0.35\\left ( \\frac{c}{a} \\right )\\left ( \\frac{a}{t} \\right )^2 \\right ]\\left ( 1-\\sin{\\phi} \\right )^2$"
   ]
  },
  {
   "cell_type": "code",
   "execution_count": 6,
   "id": "a5b4e40e",
   "metadata": {
    "slideshow": {
     "slide_type": "fragment"
    }
   },
   "outputs": [
    {
     "data": {
      "application/vnd.jupyter.widget-view+json": {
       "model_id": "45adbb08fb4c4079a5cc38f88dce5550",
       "version_major": 2,
       "version_minor": 0
      },
      "text/plain": [
       "interactive(children=(IntSlider(value=170, description='n', max=341), Output()), _dom_classes=('widget-interac…"
      ]
     },
     "metadata": {},
     "output_type": "display_data"
    },
    {
     "data": {
      "text/plain": [
       "<function __main__.<lambda>(n)>"
      ]
     },
     "execution_count": 6,
     "metadata": {},
     "output_type": "execute_result"
    }
   ],
   "source": [
    "wid.interact(f1, n=(0,models1))"
   ]
  },
  {
   "cell_type": "code",
   "execution_count": 7,
   "id": "9b5a7463",
   "metadata": {
    "slideshow": {
     "slide_type": "slide"
    }
   },
   "outputs": [
    {
     "data": {
      "image/png": "[encoded data removed]",
      "text/plain": [
       "<Figure size 432x288 with 1 Axes>"
      ]
     },
     "metadata": {
      "needs_background": "light"
     },
     "output_type": "display_data"
    }
   ],
   "source": [
    "error_plotting(F_input1, F_RN1, F_bingo1)"
   ]
  },
  {
   "cell_type": "code",
   "execution_count": 8,
   "id": "ee1c31ba",
   "metadata": {
    "slideshow": {
     "slide_type": "skip"
    }
   },
   "outputs": [],
   "source": [
    "dataset2 = RN_data\n",
    "\n",
    "ac_over_12 = 0\n",
    "dataset2 = split_ac(dataset2, ac_over_12)\n",
    "input_vars2 = dataset2[:,0:4]\n",
    "Mu12 = RN_data_funs.Mu1\n",
    "gu12 = RN_data_funs.gu1\n",
    "\n",
    "F_input2 = dataset2[:,-1]\n",
    "F_bingo2 = Bingo_cust(input_vars2, Mu1 = Mu12, gu1 = gu12)\n",
    "F_RN2 = F_s(*input_vars2.T, only_mg=0)\n",
    "\n",
    "f2 = lambda n: plot_eqns(F_RN2, F_bingo2, input_vars2, F_input2, n)\n",
    "models2 = num_models(dataset2)"
   ]
  },
  {
   "cell_type": "markdown",
   "id": "31c08618",
   "metadata": {
    "slideshow": {
     "slide_type": "slide"
    }
   },
   "source": [
    "Training on Raju-Newman Data, a/c <= 1\n",
    "Bingo: $M = \\left(\\sqrt{\\left(\\frac{a}{c}\\right)} - 0.904845997691154\\right) \\left(0.480859 \\sqrt{\\left(\\frac{a}{c}\\right)} - 2.129986 \\left(\\frac{a}{t}\\right) + 0.02646647936\\right) + 1.08306$\n",
    "\n",
    "Raju-Newman: $M = 1.13-0.09\\left ( \\frac{a}{c} \\right ) + \\left ( -0.54+\\frac{0.89}{0.2+\\left ( \\frac{a}{c} \\right )} \\right )\\left ( \\frac{a}{t} \\right )^2+\\left ( 0.5-\\frac{1}{0.65+\\frac{a}{c}} +24\\left ( 1-\\frac{a}{c} \\right )^{24}\\right )\\left ( \\frac{a}{t} \\right )^4$\n",
    "\n",
    "Bingo: $g = 0.114983 \\left(\\frac{a}{c}\\right) - 0.52154744059 \\left(\\frac{a}{t}\\right) \\left(\\sin{\\left(\\phi \\right)} - 1.055261\\right) + 0.89453125$\n",
    "\n",
    "Raju-Newman: $g = 1 + \\left(0.1 + 0.35\\left(\\frac{a}{t}\\right)^2\\right)\\left(1-sin\\left(\\phi\\right)\\right)^2$"
   ]
  },
  {
   "cell_type": "code",
   "execution_count": 9,
   "id": "eb9e770f",
   "metadata": {
    "slideshow": {
     "slide_type": "fragment"
    }
   },
   "outputs": [
    {
     "data": {
      "application/vnd.jupyter.widget-view+json": {
       "model_id": "93a329560d3e4e428a2fec0c7dfe0776",
       "version_major": 2,
       "version_minor": 0
      },
      "text/plain": [
       "interactive(children=(IntSlider(value=14, description='n', max=28), Output()), _dom_classes=('widget-interact'…"
      ]
     },
     "metadata": {},
     "output_type": "display_data"
    },
    {
     "data": {
      "text/plain": [
       "<function __main__.<lambda>(n)>"
      ]
     },
     "execution_count": 9,
     "metadata": {},
     "output_type": "execute_result"
    }
   ],
   "source": [
    "wid.interact(f2, n=(0,models2))"
   ]
  },
  {
   "cell_type": "code",
   "execution_count": 10,
   "id": "c063496d",
   "metadata": {
    "slideshow": {
     "slide_type": "slide"
    }
   },
   "outputs": [
    {
     "data": {
      "image/png": "[encoded data removed]",
      "text/plain": [
       "<Figure size 432x288 with 1 Axes>"
      ]
     },
     "metadata": {
      "needs_background": "light"
     },
     "output_type": "display_data"
    }
   ],
   "source": [
    "error_plotting(F_input2, F_RN2, F_bingo2, plot_only2=True)"
   ]
  },
  {
   "cell_type": "code",
   "execution_count": 11,
   "id": "f33f244c",
   "metadata": {
    "slideshow": {
     "slide_type": "skip"
    }
   },
   "outputs": [],
   "source": [
    "dataset3 = F3d_data\n",
    "\n",
    "ac_over_13 = 0\n",
    "dataset3 = split_ac(dataset3, ac_over_13)\n",
    "input_vars3 = dataset3[:,0:4]\n",
    "Mu13 = F3d_data_funs.Mu1\n",
    "gu13 = F3d_data_funs.gu1\n",
    "Mo13 = F3d_data_funs.Mo1\n",
    "go13 = F3d_data_funs.go1\n",
    "\n",
    "F_input3 = dataset3[:,-1]\n",
    "F_bingo3 = Bingo_cust(input_vars3, Mu1 = Mu13, gu1 = gu13)\n",
    "F_RN3 = F_s(*input_vars3.T, only_mg=0)\n",
    "\n",
    "f3 = lambda n: plot_eqns(F_RN3, F_bingo3, input_vars3, F_input3, n)\n",
    "models3 = num_models(dataset3)"
   ]
  },
  {
   "cell_type": "markdown",
   "id": "c7eca572",
   "metadata": {
    "slideshow": {
     "slide_type": "slide"
    }
   },
   "source": [
    "Training on F3d Data, a/c <= 1\n",
    "\n",
    "\n",
    "Bingo: $M = - \\left(\\left(\\frac{a}{t}\\right) - 0.1086\\right) \\left(- 2.8168 \\sqrt{\\left(\\frac{a}{c}\\right)} + 5.51 \\sqrt{\\sqrt{\\left(\\frac{a}{c}\\right)} - 0.34141} - 1.7189\\right) + 1.052$\n",
    "\n",
    "Raju-Newman: $M = 1.13-0.09\\left ( \\frac{a}{c} \\right ) + \\left ( -0.54+\\frac{0.89}{0.2+\\left ( \\frac{a}{c} \\right )} \\right )\\left ( \\frac{a}{t} \\right )^2+\\left ( 0.5-\\frac{1}{0.65+\\frac{a}{c}} +24\\left ( 1-\\frac{a}{c} \\right )^{24}\\right )\\left ( \\frac{a}{t} \\right )^4$\n",
    "\n",
    "Bingo: $g = \\left(\\frac{a}{t}\\right) \\sin{\\left(\\sin{\\left(\\phi \\right)} - 279.05517088006 \\right)} + 1.0263496149499 \\left(\\frac{a}{t}\\right) + 0.9873999518025$\n",
    "\n",
    "Raju-Newman: $g = 1 + \\left(0.1 + 0.35\\left(\\frac{a}{t}\\right)^2\\right)\\left(1-sin\\left(\\phi\\right)\\right)^2$"
   ]
  },
  {
   "cell_type": "code",
   "execution_count": 12,
   "id": "8fd696a9",
   "metadata": {
    "slideshow": {
     "slide_type": "fragment"
    }
   },
   "outputs": [
    {
     "data": {
      "application/vnd.jupyter.widget-view+json": {
       "model_id": "15518cb2f65647ca88d58b42ea53bd13",
       "version_major": 2,
       "version_minor": 0
      },
      "text/plain": [
       "interactive(children=(IntSlider(value=280, description='n', max=560), Output()), _dom_classes=('widget-interac…"
      ]
     },
     "metadata": {},
     "output_type": "display_data"
    },
    {
     "data": {
      "text/plain": [
       "<function __main__.<lambda>(n)>"
      ]
     },
     "execution_count": 12,
     "metadata": {},
     "output_type": "execute_result"
    }
   ],
   "source": [
    "wid.interact(f3, n=(0,models3))"
   ]
  },
  {
   "cell_type": "code",
   "execution_count": 13,
   "id": "97e0dcbd",
   "metadata": {
    "slideshow": {
     "slide_type": "slide"
    }
   },
   "outputs": [
    {
     "data": {
      "image/png": "[encoded data removed]",
      "text/plain": [
       "<Figure size 432x288 with 1 Axes>"
      ]
     },
     "metadata": {
      "needs_background": "light"
     },
     "output_type": "display_data"
    }
   ],
   "source": [
    "error_plotting(F_input3, F_RN3, F_bingo3)"
   ]
  },
  {
   "cell_type": "code",
   "execution_count": 14,
   "id": "1c747fc3",
   "metadata": {
    "slideshow": {
     "slide_type": "skip"
    }
   },
   "outputs": [],
   "source": [
    "dataset4 = F3d_data\n",
    "\n",
    "ac_over_14 = 1\n",
    "dataset4 = split_ac(dataset4, ac_over_14)\n",
    "input_vars4 = dataset4[:,0:4]\n",
    "Mu14 = F3d_data_funs.Mu1\n",
    "gu14 = F3d_data_funs.gu1\n",
    "Mo14 = F3d_data_funs.Mo1\n",
    "go14 = F3d_data_funs.go1\n",
    "\n",
    "F_input4 = dataset4[:,-1]\n",
    "F_bingo4 = Bingo_cust(input_vars4, Mo1 = Mo14, go1 = go14)\n",
    "F_RN4 = F_s(*input_vars4.T, only_mg=0)\n",
    "\n",
    "f4 = lambda n: plot_eqns(F_RN4, F_bingo4, input_vars4, F_input4, n)\n",
    "models4 = num_models(dataset4)"
   ]
  },
  {
   "cell_type": "markdown",
   "id": "4ee51834",
   "metadata": {
    "slideshow": {
     "slide_type": "slide"
    }
   },
   "source": [
    "Training on F3d Data, a/c > 1\n",
    "\n",
    "Bingo: $M = \\left(0.066869 \\left(\\frac{c}{a}\\right) \\left(\\sqrt{\\left(\\frac{a}{t}\\right)} - 3.33064\\right) + 0.0429400205612183\\right) \\left(\\left(\\frac{c}{a}\\right) - 2.311179 \\left(\\frac{a}{t}\\right) - 4.120056\\right) + 0.504788$ \n",
    "\n",
    "Raju-Newman: $M = \\sqrt{\\frac{c}{a}}\\left(1+0.04\\frac{c}{a}\\right) + 0.2\\left(\\frac{c}{a} \\right)^{4}\\left(\\frac{a}{t}\\right)^{2} - 0.11\\left(\n",
    "\\frac{c}{a}\\right)^{4}\\left(\\frac{a}{t}\\right)^{4}$\n",
    "\n",
    "Raju-Newman: $g = 1+\\left [ 0.1+0.35\\left ( \\frac{c}{a} \\right )\\left ( \\frac{a}{t} \\right )^2 \\right ]\\left ( 1-\\sin{\\phi} \\right )^2$"
   ]
  },
  {
   "cell_type": "code",
   "execution_count": 15,
   "id": "0afe01da",
   "metadata": {
    "slideshow": {
     "slide_type": "fragment"
    }
   },
   "outputs": [
    {
     "data": {
      "application/vnd.jupyter.widget-view+json": {
       "model_id": "4b605e7b5d3c4020bffe72be5f4e1f16",
       "version_major": 2,
       "version_minor": 0
      },
      "text/plain": [
       "interactive(children=(IntSlider(value=170, description='n', max=341), Output()), _dom_classes=('widget-interac…"
      ]
     },
     "metadata": {},
     "output_type": "display_data"
    },
    {
     "data": {
      "text/plain": [
       "<function __main__.<lambda>(n)>"
      ]
     },
     "execution_count": 15,
     "metadata": {},
     "output_type": "execute_result"
    }
   ],
   "source": [
    "wid.interact(f4, n=(0,models4))"
   ]
  },
  {
   "cell_type": "code",
   "execution_count": 16,
   "id": "bc2a017e",
   "metadata": {
    "slideshow": {
     "slide_type": "slide"
    }
   },
   "outputs": [
    {
     "data": {
      "image/png": "[encoded data removed]",
      "text/plain": [
       "<Figure size 432x288 with 1 Axes>"
      ]
     },
     "metadata": {
      "needs_background": "light"
     },
     "output_type": "display_data"
    }
   ],
   "source": [
    "error_plotting(F_input4, F_RN4, F_bingo4)"
   ]
  },
  {
   "cell_type": "code",
   "execution_count": 17,
   "id": "411d1395",
   "metadata": {
    "slideshow": {
     "slide_type": "skip"
    }
   },
   "outputs": [],
   "source": [
    "dataset5 = F3d_data\n",
    "\n",
    "ac_over_15 = 1\n",
    "dataset5 = split_ac(dataset5, ac_over_15)\n",
    "input_vars5 = dataset5[:,0:4]\n",
    "Mu15 = F3d_data_funs.Mu1\n",
    "gu15 = F3d_data_funs.gu1\n",
    "Mo15 = F3d_data_funs.Mo12\n",
    "go15 = F3d_data_funs.go1\n",
    "\n",
    "F_input5 = dataset5[:,-1]\n",
    "F_bingo5 = Bingo_cust(input_vars5, Mo1 = Mo15, go1 = go15)\n",
    "F_RN5 = F_s(*input_vars5.T, only_mg=0)\n",
    "\n",
    "f5 = lambda n: plot_eqns(F_RN5, F_bingo5, input_vars5, F_input5, n)\n",
    "models5 = num_models(dataset5)"
   ]
  },
  {
   "cell_type": "markdown",
   "id": "372adc31",
   "metadata": {
    "slideshow": {
     "slide_type": "slide"
    }
   },
   "source": [
    "Training on F3d Data, a/c > 1 original model\n",
    "\n",
    "Bingo: $M = 0.663702 \\sqrt[4]{\\left(\\frac{c}{a}\\right)} + 0.29654 \\left(\\frac{c}{a}\\right) + \\sqrt{\\left(\\frac{a}{t}\\right)} \\left(0.50055 \\sqrt{\\left(\\frac{c}{a}\\right)} - 0.3628\\right) + 0.021150$ \n",
    "\n",
    "Raju-Newman: $M = \\sqrt{\\frac{c}{a}}\\left(1+0.04\\frac{c}{a}\\right) + 0.2\\left(\\frac{c}{a} \\right)^{4}\\left(\\frac{a}{t}\\right)^{2} - 0.11\\left(\n",
    "\\frac{c}{a}\\right)^{4}\\left(\\frac{a}{t}\\right)^{4}$\n",
    "\n",
    "Raju-Newman: $g = 1+\\left [ 0.1+0.35\\left ( \\frac{c}{a} \\right )\\left ( \\frac{a}{t} \\right )^2 \\right ]\\left ( 1-\\sin{\\phi} \\right )^2$"
   ]
  },
  {
   "cell_type": "code",
   "execution_count": 18,
   "id": "42976909",
   "metadata": {
    "slideshow": {
     "slide_type": "fragment"
    }
   },
   "outputs": [
    {
     "data": {
      "application/vnd.jupyter.widget-view+json": {
       "model_id": "b252476dffcc4dbf857d883f24049ba8",
       "version_major": 2,
       "version_minor": 0
      },
      "text/plain": [
       "interactive(children=(IntSlider(value=170, description='n', max=341), Output()), _dom_classes=('widget-interac…"
      ]
     },
     "metadata": {},
     "output_type": "display_data"
    },
    {
     "data": {
      "text/plain": [
       "<function __main__.<lambda>(n)>"
      ]
     },
     "execution_count": 18,
     "metadata": {},
     "output_type": "execute_result"
    }
   ],
   "source": [
    "wid.interact(f5, n=(0,models5))"
   ]
  },
  {
   "cell_type": "code",
   "execution_count": 19,
   "id": "1825f3e8",
   "metadata": {
    "slideshow": {
     "slide_type": "slide"
    }
   },
   "outputs": [
    {
     "data": {
      "image/png": "[encoded data removed]",
      "text/plain": [
       "<Figure size 432x288 with 1 Axes>"
      ]
     },
     "metadata": {
      "needs_background": "light"
     },
     "output_type": "display_data"
    }
   ],
   "source": [
    "error_plotting(F_input5, F_RN5, F_bingo5)"
   ]
  }
 ],
 "metadata": {
  "celltoolbar": "Slideshow",
  "kernelspec": {
   "display_name": "Python 3 (ipykernel)",
   "language": "python",
   "name": "python3"
  },
  "language_info": {
   "codemirror_mode": {
    "name": "ipython",
    "version": 3
   },
   "file_extension": ".py",
   "mimetype": "text/x-python",
   "name": "python",
   "nbconvert_exporter": "python",
   "pygments_lexer": "ipython3",
   "version": "3.9.7"
  }
 },
 "nbformat": 4,
 "nbformat_minor": 5
}
