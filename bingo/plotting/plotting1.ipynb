{
 "cells": [
  {
   "cell_type": "code",
   "execution_count": 1,
   "id": "7826bb7c",
   "metadata": {
    "slideshow": {
     "slide_type": "skip"
    }
   },
   "outputs": [],
   "source": [
    "from Plotting import *\n",
    "import ipywidgets as wid"
   ]
  },
  {
   "cell_type": "code",
   "execution_count": 2,
   "id": "5555f868",
   "metadata": {
    "slideshow": {
     "slide_type": "skip"
    }
   },
   "outputs": [
    {
     "data": {
      "text/html": [
       "<script>\n",
       "code_show=true; \n",
       "function code_toggle() {\n",
       " if (code_show){\n",
       " $('div.input').hide();\n",
       " } else {\n",
       " $('div.input').show();\n",
       " }\n",
       " code_show = !code_show\n",
       "} \n",
       "$( document ).ready(code_toggle);\n",
       "</script>\n",
       "<form action=\"javascript:code_toggle()\"><input type=\"submit\" value=\"Click here to toggle on/off the raw code.\"></form>"
      ],
      "text/plain": [
       "<IPython.core.display.HTML object>"
      ]
     },
     "execution_count": 2,
     "metadata": {},
     "output_type": "execute_result"
    }
   ],
   "source": [
    "\n",
    "from IPython.display import HTML\n",
    "\n",
    "HTML('''<script>\n",
    "code_show=true; \n",
    "function code_toggle() {\n",
    " if (code_show){\n",
    " $('div.input').hide();\n",
    " } else {\n",
    " $('div.input').show();\n",
    " }\n",
    " code_show = !code_show\n",
    "} \n",
    "$( document ).ready(code_toggle);\n",
    "</script>\n",
    "<form action=\"javascript:code_toggle()\"><input type=\"submit\" value=\"Click here to toggle on/off the raw code.\"></form>''')"
   ]
  },
  {
   "cell_type": "markdown",
   "id": "64d34c9a",
   "metadata": {
    "slideshow": {
     "slide_type": "slide"
    }
   },
   "source": [
    "a/c <= 1 <br>\n",
    "$M = 1.13-0.09\\left ( \\frac{a}{c} \\right ) + \\left ( -0.54+\\frac{0.89}{0.2+\\left ( \\frac{a}{c} \\right )} \\right )\\left ( \\frac{a}{t} \\right )^2+\\left ( 0.5-\\frac{1}{0.65+\\frac{a}{c}} +24\\left ( 1-\\frac{a}{c} \\right )^{24}\\right )\\left ( \\frac{a}{t} \\right )^4$ <br>\n",
    "Complexity: 34 <br>\n",
    "$g = 1 + \\left(0.1 + 0.35\\left(\\frac{a}{t}\\right)^2\\right)\\left(1-sin\\left(\\phi\\right)\\right)^2$ <br>\n",
    "Complexity: 16\n",
    "\n",
    "a/c > 1 <br>\n",
    "$M = \\sqrt{\\frac{c}{a}}\\left(1+0.04\\frac{c}{a}\\right) + 0.2\\left(\\frac{c}{a} \\right)^{4}\\left(\\frac{a}{t}\\right)^{2} - 0.11\\left(\n",
    "\\frac{c}{a}\\right)^{4}\\left(\\frac{a}{t}\\right)^{4}$ <br>\n",
    "Complexity: 23 <br>\n",
    "$g = 1+\\left [ 0.1+0.35\\left ( \\frac{c}{a} \\right )\\left ( \\frac{a}{t} \\right )^2 \\right ]\\left ( 1-\\sin{\\phi} \\right )^2$ <br>\n",
    "Complexity: 18\n",
    "\n",
    "    \n"
   ]
  },
  {
   "cell_type": "markdown",
   "id": "dfce36b2",
   "metadata": {
    "slideshow": {
     "slide_type": "slide"
    }
   },
   "source": [
    "Training on Raju-Newman Equation, a/c <= 1\n",
    "\n",
    "Bingo: $M = \\left(\\sqrt{(\\frac{a}{c})} \\left(13.8 (\\frac{a}{c}) - 49.2253\\right) + 36.977\\right) \\left(0.0318 (\\frac{a}{t}) \\left((\\frac{a}{t}) + 1.32\\right) - 0.0018\\right) + 1.05$\n",
    "\n",
    "Raju-Newman: $M = 1.13-0.09\\left ( \\frac{a}{c} \\right ) + \\left ( -0.54+\\frac{0.89}{0.2+\\left ( \\frac{a}{c} \\right )} \\right )\\left ( \\frac{a}{t} \\right )^2+\\left ( 0.5-\\frac{1}{0.65+\\frac{a}{c}} +24\\left ( 1-\\frac{a}{c} \\right )^{24}\\right )\\left ( \\frac{a}{t} \\right )^4$\n",
    "\n",
    "Bingo: $g = 0.9993 + \\left(0.2309 + 0.4085\\left(\\frac{a}{t}\\right)\\right)^2  \\left(1.0128 - \\sin\\left(\\phi\\right)\\right)^2$\n",
    "\n",
    "Raju-Newman: $g = 1 + \\left(0.1 + 0.35\\left(\\frac{a}{t}\\right)^2\\right)\\left(1-sin\\left(\\phi\\right)\\right)^2$"
   ]
  },
  {
   "cell_type": "code",
   "execution_count": 3,
   "id": "46c85e78",
   "metadata": {
    "scrolled": true,
    "slideshow": {
     "slide_type": "fragment"
    }
   },
   "outputs": [
    {
     "data": {
      "application/vnd.jupyter.widget-view+json": {
       "model_id": "ff19543625df46c98ec0195d8229932a",
       "version_major": 2,
       "version_minor": 0
      },
      "text/plain": [
       "interactive(children=(IntSlider(value=280, description='n', max=560), Output()), _dom_classes=('widget-interac…"
      ]
     },
     "metadata": {},
     "output_type": "display_data"
    },
    {
     "data": {
      "text/plain": [
       "<function __main__.<lambda>(n)>"
      ]
     },
     "execution_count": 3,
     "metadata": {},
     "output_type": "execute_result"
    }
   ],
   "source": [
    "RN_eqn_u1 = Plotting(\"RN_eqn\", 0)\n",
    "wid.interact(lambda n: RN_eqn_u1.plot_eqns(n=n), n=(0,RN_eqn_u1.n_models))"
   ]
  },
  {
   "cell_type": "code",
   "execution_count": 4,
   "id": "2fd57a42",
   "metadata": {
    "slideshow": {
     "slide_type": "slide"
    }
   },
   "outputs": [
    {
     "data": {
      "image/png": "[encoded data removed]",
      "text/plain": [
       "<Figure size 432x288 with 1 Axes>"
      ]
     },
     "metadata": {
      "needs_background": "light"
     },
     "output_type": "display_data"
    }
   ],
   "source": [
    "RN_eqn_u1.error_plotting()"
   ]
  },
  {
   "cell_type": "markdown",
   "id": "c62f10ea",
   "metadata": {
    "slideshow": {
     "slide_type": "slide"
    }
   },
   "source": [
    "Training on Raju-Newman Equation, a/c > 1\n",
    "\n",
    "Bingo: $M = 0.274624 \\frac{c}{a}^{3} + 0.274624 \\frac{c}{a}^{2} \\frac{a}{t} - 0.783229 \\frac{c}{a}^{2} - 0.193737 \\frac{c}{a} \\frac{a}{t} + 1.306 \\frac{c}{a} + 0.0341685 \\frac{a}{t} + 0.229524$ \n",
    "\n",
    "Raju-Newman: $M = \\sqrt{\\frac{c}{a}}\\left(1+0.04\\frac{c}{a}\\right) + 0.2\\left(\\frac{c}{a} \\right)^{4}\\left(\\frac{a}{t}\\right)^{2} - 0.11\\left(\n",
    "\\frac{c}{a}\\right)^{4}\\left(\\frac{a}{t}\\right)^{4}$\n",
    "\n",
    "Raju-Newman: $g = 1+\\left [ 0.1+0.35\\left ( \\frac{c}{a} \\right )\\left ( \\frac{a}{t} \\right )^2 \\right ]\\left ( 1-\\sin{\\phi} \\right )^2$"
   ]
  },
  {
   "cell_type": "code",
   "execution_count": 5,
   "id": "a5b4e40e",
   "metadata": {
    "slideshow": {
     "slide_type": "fragment"
    }
   },
   "outputs": [
    {
     "data": {
      "application/vnd.jupyter.widget-view+json": {
       "model_id": "a4144f9d7d7a4f779fdcc1093dba9a3d",
       "version_major": 2,
       "version_minor": 0
      },
      "text/plain": [
       "interactive(children=(IntSlider(value=170, description='n', max=341), Output()), _dom_classes=('widget-interac…"
      ]
     },
     "metadata": {},
     "output_type": "display_data"
    },
    {
     "data": {
      "text/plain": [
       "<function __main__.<lambda>(n)>"
      ]
     },
     "execution_count": 5,
     "metadata": {},
     "output_type": "execute_result"
    }
   ],
   "source": [
    "RN_eqn_o1 = Plotting(\"RN_eqn\", 1)\n",
    "wid.interact(lambda n: RN_eqn_o1.plot_eqns(n=n), n=(0,RN_eqn_o1.n_models))"
   ]
  },
  {
   "cell_type": "code",
   "execution_count": 6,
   "id": "9b5a7463",
   "metadata": {
    "slideshow": {
     "slide_type": "slide"
    }
   },
   "outputs": [
    {
     "data": {
      "image/png": "[encoded data removed]",
      "text/plain": [
       "<Figure size 432x288 with 1 Axes>"
      ]
     },
     "metadata": {
      "needs_background": "light"
     },
     "output_type": "display_data"
    }
   ],
   "source": [
    "RN_eqn_o1.error_plotting()"
   ]
  },
  {
   "cell_type": "markdown",
   "id": "31c08618",
   "metadata": {
    "slideshow": {
     "slide_type": "slide"
    }
   },
   "source": [
    "Training on Raju-Newman Data, a/c <= 1\n",
    "Bingo: $M = \\left(\\sqrt{\\left(\\frac{a}{c}\\right)} - 0.904845997691154\\right) \\left(0.480859 \\sqrt{\\left(\\frac{a}{c}\\right)} - 2.129986 \\left(\\frac{a}{t}\\right) + 0.02646647936\\right) + 1.08306$\n",
    "\n",
    "Raju-Newman: $M = 1.13-0.09\\left ( \\frac{a}{c} \\right ) + \\left ( -0.54+\\frac{0.89}{0.2+\\left ( \\frac{a}{c} \\right )} \\right )\\left ( \\frac{a}{t} \\right )^2+\\left ( 0.5-\\frac{1}{0.65+\\frac{a}{c}} +24\\left ( 1-\\frac{a}{c} \\right )^{24}\\right )\\left ( \\frac{a}{t} \\right )^4$\n",
    "\n",
    "Bingo: $g = 0.114983 \\left(\\frac{a}{c}\\right) - 0.52154744059 \\left(\\frac{a}{t}\\right) \\left(\\sin{\\left(\\phi \\right)} - 1.055261\\right) + 0.89453125$\n",
    "\n",
    "Raju-Newman: $g = 1 + \\left(0.1 + 0.35\\left(\\frac{a}{t}\\right)^2\\right)\\left(1-sin\\left(\\phi\\right)\\right)^2$"
   ]
  },
  {
   "cell_type": "code",
   "execution_count": 7,
   "id": "eb9e770f",
   "metadata": {
    "slideshow": {
     "slide_type": "fragment"
    }
   },
   "outputs": [
    {
     "data": {
      "application/vnd.jupyter.widget-view+json": {
       "model_id": "c63f6ddbba19437b8879de5ef97ad0f6",
       "version_major": 2,
       "version_minor": 0
      },
      "text/plain": [
       "interactive(children=(IntSlider(value=14, description='n', max=28), Output()), _dom_classes=('widget-interact'…"
      ]
     },
     "metadata": {},
     "output_type": "display_data"
    },
    {
     "data": {
      "text/plain": [
       "<function __main__.<lambda>(n)>"
      ]
     },
     "execution_count": 7,
     "metadata": {},
     "output_type": "execute_result"
    }
   ],
   "source": [
    "RN_data_u1 = Plotting(\"RN_data\", 0)\n",
    "wid.interact(lambda n: RN_data_u1.plot_eqns(n=n), n=(0,RN_data_u1.n_models))"
   ]
  },
  {
   "cell_type": "code",
   "execution_count": 8,
   "id": "c063496d",
   "metadata": {
    "slideshow": {
     "slide_type": "slide"
    }
   },
   "outputs": [
    {
     "data": {
      "image/png": "[encoded data removed]",
      "text/plain": [
       "<Figure size 432x288 with 1 Axes>"
      ]
     },
     "metadata": {
      "needs_background": "light"
     },
     "output_type": "display_data"
    }
   ],
   "source": [
    "RN_data_u1.error_plotting()"
   ]
  },
  {
   "cell_type": "markdown",
   "id": "c7eca572",
   "metadata": {
    "slideshow": {
     "slide_type": "slide"
    }
   },
   "source": [
    "Training on F3d Data, a/c <= 1\n",
    "\n",
    "\n",
    "Bingo: $M = - \\left(\\left(\\frac{a}{t}\\right) - 0.1086\\right) \\left(- 2.8168 \\sqrt{\\left(\\frac{a}{c}\\right)} + 5.51 \\sqrt{\\sqrt{\\left(\\frac{a}{c}\\right)} - 0.34141} - 1.7189\\right) + 1.052$\n",
    "\n",
    "Raju-Newman: $M = 1.13-0.09\\left ( \\frac{a}{c} \\right ) + \\left ( -0.54+\\frac{0.89}{0.2+\\left ( \\frac{a}{c} \\right )} \\right )\\left ( \\frac{a}{t} \\right )^2+\\left ( 0.5-\\frac{1}{0.65+\\frac{a}{c}} +24\\left ( 1-\\frac{a}{c} \\right )^{24}\\right )\\left ( \\frac{a}{t} \\right )^4$\n",
    "\n",
    "Bingo: $g = \\left(\\frac{a}{t}\\right) \\sin{\\left(\\sin{\\left(\\phi \\right)} - 279.05517088006 \\right)} + 1.0263496149499 \\left(\\frac{a}{t}\\right) + 0.9873999518025$\n",
    "\n",
    "Raju-Newman: $g = 1 + \\left(0.1 + 0.35\\left(\\frac{a}{t}\\right)^2\\right)\\left(1-sin\\left(\\phi\\right)\\right)^2$"
   ]
  },
  {
   "cell_type": "code",
   "execution_count": 9,
   "id": "8fd696a9",
   "metadata": {
    "slideshow": {
     "slide_type": "fragment"
    }
   },
   "outputs": [
    {
     "data": {
      "application/vnd.jupyter.widget-view+json": {
       "model_id": "6f575e3e9afb4a4086fa36f33d640cc9",
       "version_major": 2,
       "version_minor": 0
      },
      "text/plain": [
       "interactive(children=(IntSlider(value=2, description='n', max=4), Output()), _dom_classes=('widget-interact',)…"
      ]
     },
     "metadata": {},
     "output_type": "display_data"
    },
    {
     "data": {
      "text/plain": [
       "<function __main__.<lambda>(n)>"
      ]
     },
     "execution_count": 9,
     "metadata": {},
     "output_type": "execute_result"
    }
   ],
   "source": [
    "RN_data_o1 = Plotting(\"RN_data\", 1)\n",
    "wid.interact(lambda n: RN_data_o1.plot_eqns(n=n), n=(0,RN_data_o1.n_models))"
   ]
  },
  {
   "cell_type": "code",
   "execution_count": 10,
   "id": "97e0dcbd",
   "metadata": {
    "slideshow": {
     "slide_type": "slide"
    }
   },
   "outputs": [
    {
     "data": {
      "image/png": "[encoded data removed]",
      "text/plain": [
       "<Figure size 432x288 with 1 Axes>"
      ]
     },
     "metadata": {
      "needs_background": "light"
     },
     "output_type": "display_data"
    }
   ],
   "source": [
    "RN_data_o1.error_plotting()"
   ]
  },
  {
   "cell_type": "markdown",
   "id": "4ee51834",
   "metadata": {
    "slideshow": {
     "slide_type": "slide"
    }
   },
   "source": [
    "Training on F3d Data, a/c > 1\n",
    "\n",
    "Bingo: $M = \\left(0.066869 \\left(\\frac{c}{a}\\right) \\left(\\sqrt{\\left(\\frac{a}{t}\\right)} - 3.33064\\right) + 0.0429400205612183\\right) \\left(\\left(\\frac{c}{a}\\right) - 2.311179 \\left(\\frac{a}{t}\\right) - 4.120056\\right) + 0.504788$ \n",
    "\n",
    "Raju-Newman: $M = \\sqrt{\\frac{c}{a}}\\left(1+0.04\\frac{c}{a}\\right) + 0.2\\left(\\frac{c}{a} \\right)^{4}\\left(\\frac{a}{t}\\right)^{2} - 0.11\\left(\n",
    "\\frac{c}{a}\\right)^{4}\\left(\\frac{a}{t}\\right)^{4}$\n",
    "\n",
    "Raju-Newman: $g = 1+\\left [ 0.1+0.35\\left ( \\frac{c}{a} \\right )\\left ( \\frac{a}{t} \\right )^2 \\right ]\\left ( 1-\\sin{\\phi} \\right )^2$"
   ]
  },
  {
   "cell_type": "code",
   "execution_count": 11,
   "id": "0afe01da",
   "metadata": {
    "slideshow": {
     "slide_type": "fragment"
    }
   },
   "outputs": [
    {
     "data": {
      "application/vnd.jupyter.widget-view+json": {
       "model_id": "2e4f10bdb0a6466bb6238b29b836d878",
       "version_major": 2,
       "version_minor": 0
      },
      "text/plain": [
       "interactive(children=(IntSlider(value=280, description='n', max=560), Output()), _dom_classes=('widget-interac…"
      ]
     },
     "metadata": {},
     "output_type": "display_data"
    },
    {
     "data": {
      "text/plain": [
       "<function __main__.<lambda>(n)>"
      ]
     },
     "execution_count": 11,
     "metadata": {},
     "output_type": "execute_result"
    }
   ],
   "source": [
    "F3d_data_u1 = Plotting(\"F3d_data\", 0)\n",
    "wid.interact(lambda n: F3d_data_u1.plot_eqns(n=n), n=(0,F3d_data_u1.n_models))"
   ]
  },
  {
   "cell_type": "code",
   "execution_count": 12,
   "id": "bc2a017e",
   "metadata": {
    "slideshow": {
     "slide_type": "slide"
    }
   },
   "outputs": [
    {
     "data": {
      "image/png": "[encoded data removed]",
      "text/plain": [
       "<Figure size 432x288 with 1 Axes>"
      ]
     },
     "metadata": {
      "needs_background": "light"
     },
     "output_type": "display_data"
    }
   ],
   "source": [
    "F3d_data_u1.error_plotting()"
   ]
  },
  {
   "cell_type": "markdown",
   "id": "372adc31",
   "metadata": {
    "slideshow": {
     "slide_type": "slide"
    }
   },
   "source": [
    "Training on F3d Data, a/c > 1 original model\n",
    "\n",
    "Bingo: $M = 0.663702 \\sqrt[4]{\\left(\\frac{c}{a}\\right)} + 0.29654 \\left(\\frac{c}{a}\\right) + \\sqrt{\\left(\\frac{a}{t}\\right)} \\left(0.50055 \\sqrt{\\left(\\frac{c}{a}\\right)} - 0.3628\\right) + 0.021150$ \n",
    "\n",
    "Raju-Newman: $M = \\sqrt{\\frac{c}{a}}\\left(1+0.04\\frac{c}{a}\\right) + 0.2\\left(\\frac{c}{a} \\right)^{4}\\left(\\frac{a}{t}\\right)^{2} - 0.11\\left(\n",
    "\\frac{c}{a}\\right)^{4}\\left(\\frac{a}{t}\\right)^{4}$\n",
    "\n",
    "Raju-Newman: $g = 1+\\left [ 0.1+0.35\\left ( \\frac{c}{a} \\right )\\left ( \\frac{a}{t} \\right )^2 \\right ]\\left ( 1-\\sin{\\phi} \\right )^2$"
   ]
  },
  {
   "cell_type": "code",
   "execution_count": 13,
   "id": "42976909",
   "metadata": {
    "slideshow": {
     "slide_type": "fragment"
    }
   },
   "outputs": [
    {
     "data": {
      "application/vnd.jupyter.widget-view+json": {
       "model_id": "cb46adac099e4344b592cc51696c06c8",
       "version_major": 2,
       "version_minor": 0
      },
      "text/plain": [
       "interactive(children=(IntSlider(value=170, description='n', max=341), Output()), _dom_classes=('widget-interac…"
      ]
     },
     "metadata": {},
     "output_type": "display_data"
    },
    {
     "data": {
      "text/plain": [
       "<function __main__.<lambda>(n)>"
      ]
     },
     "execution_count": 13,
     "metadata": {},
     "output_type": "execute_result"
    }
   ],
   "source": [
    "F3d_data_o1 = Plotting(\"F3d_data\", 1)\n",
    "wid.interact(lambda n: F3d_data_o1.plot_eqns(n=n), n=(0,F3d_data_o1.n_models))"
   ]
  },
  {
   "cell_type": "code",
   "execution_count": 14,
   "id": "1825f3e8",
   "metadata": {
    "slideshow": {
     "slide_type": "slide"
    }
   },
   "outputs": [
    {
     "data": {
      "image/png": "[encoded data removed]",
      "text/plain": [
       "<Figure size 432x288 with 1 Axes>"
      ]
     },
     "metadata": {
      "needs_background": "light"
     },
     "output_type": "display_data"
    }
   ],
   "source": [
    "F3d_data_o1.error_plotting()"
   ]
  },
  {
   "cell_type": "code",
   "execution_count": 15,
   "id": "c295d7bf",
   "metadata": {},
   "outputs": [],
   "source": [
    "\n",
    "    def plot_this(a_c):\n",
    "        RN_data, RN_eqn, F3d_data = Plotting.get_data_sets()\n",
    "        test_smith_f3d = F3d_data[np.where((F3d_data[:,[0, 1, 2]] == [a_c, 0.2, 0.2]).all(axis=1))[0]]\n",
    "        test_smith_RN = RN_data[np.where((RN_data[:,[0, 1, 2]] == [a_c, 0.2, 0.2]).all(axis=1))[0]]\n",
    "        F_paris = Paris(test_smith_f3d[:,0], 0.2,test_smith_f3d[:,3])\n",
    "        smith_data = smith(test_smith_f3d[:,3],test_smith_f3d[:,0])\n",
    "        smith_RN_eqn = F_s(*test_smith_f3d[:,0:4].T)\n",
    "        plt.figure()\n",
    "        plt.title('a/c = '+str(a_c))\n",
    "        plt.plot(test_smith_f3d[:,3], test_smith_f3d[:,-1], 'ro', label='FRANC3D')\n",
    "        plt.plot(test_smith_f3d[:,3], internal_ellipse(test_smith_f3d[:,0], test_smith_f3d[:,3]), 'k-', label='embedded ellipse')\n",
    "        plt.plot(test_smith_f3d[:,3], smith_data, 'b-', label='Smith eqn a/t=c/b = 0')\n",
    "        plt.plot(test_smith_f3d[:,3], smith_RN_eqn, 'g-', label='RN eqn')\n",
    "        plt.plot(test_smith_RN[:,3], test_smith_RN[:,-1], 'k^', label='RN data')\n",
    "        plt.plot(test_smith_f3d[:,3], F_paris, 'mo', label='Paris estimate')\n",
    "        plt.legend()"
   ]
  },
  {
   "cell_type": "code",
   "execution_count": 16,
   "id": "327ffc6e",
   "metadata": {},
   "outputs": [
    {
     "data": {
      "application/vnd.jupyter.widget-view+json": {
       "model_id": "4b4455a22aff40c686364f0561df2565",
       "version_major": 2,
       "version_minor": 0
      },
      "text/plain": [
       "interactive(children=(FloatSlider(value=0.2, description='a_c', max=2.0, min=0.2, step=0.2), Output()), _dom_c…"
      ]
     },
     "metadata": {},
     "output_type": "display_data"
    },
    {
     "data": {
      "text/plain": [
       "<function __main__.plot_this(a_c)>"
      ]
     },
     "execution_count": 16,
     "metadata": {},
     "output_type": "execute_result"
    }
   ],
   "source": [
    "\n",
    "wid.interact(plot_this, \n",
    "             a_c = wid.widgets.FloatSlider(value = 0.2, min=0.2, max=2, step=0.2))"
   ]
  },
  {
   "cell_type": "code",
   "execution_count": null,
   "id": "24f515e9",
   "metadata": {},
   "outputs": [],
   "source": []
  }
 ],
 "metadata": {
  "celltoolbar": "Slideshow",
  "kernelspec": {
   "display_name": "Python 3 (ipykernel)",
   "language": "python",
   "name": "python3"
  },
  "language_info": {
   "codemirror_mode": {
    "name": "ipython",
    "version": 3
   },
   "file_extension": ".py",
   "mimetype": "text/x-python",
   "name": "python",
   "nbconvert_exporter": "python",
   "pygments_lexer": "ipython3",
   "version": "3.9.7"
  }
 },
 "nbformat": 4,
 "nbformat_minor": 5
}
