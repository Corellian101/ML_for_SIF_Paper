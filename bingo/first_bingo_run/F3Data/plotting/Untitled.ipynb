{
 "cells": [
  {
   "cell_type": "code",
   "execution_count": 23,
   "id": "7826bb7c",
   "metadata": {
    "slideshow": {
     "slide_type": "-"
    }
   },
   "outputs": [],
   "source": [
    "from Plotting import *\n",
    "import ipywidgets as wid"
   ]
  },
  {
   "cell_type": "code",
   "execution_count": 28,
   "id": "5555f868",
   "metadata": {
    "slideshow": {
     "slide_type": "skip"
    }
   },
   "outputs": [],
   "source": [
    "RN_data, RN_eqn, F3d_data = get_data_sets()\n",
    "dataset = RN_eqn\n",
    "\n",
    "ac_over_1 = 0\n",
    "dataset = split_ac(dataset, ac_over_1)\n",
    "\n",
    "input_vars = dataset[:,0:4]\n",
    "F_input = dataset[:,-1]\n",
    "n = 400\n",
    "\n",
    "F_bingo = Bingo_cust(input_vars, Mu1 = Mu1, gu1 = gu1)\n",
    "#F_bingo = Mu1(*input_vars.T)*gu1(*input_vars.T)\n",
    "\n",
    "F_RN = F_s(*input_vars.T, only_mg=0)\n",
    "f = lambda n: plot_eqns(F_RN, F_bingo, input_vars, F_input, n)\n",
    "models = num_models(dataset)"
   ]
  },
  {
   "cell_type": "markdown",
   "id": "8e49ce34",
   "metadata": {},
   "source": [
    "$g = \\left(\\sqrt{(\\frac{a}{c})} \\left(13.804167 (\\frac{a}{c}) - 49.225369634493\\right) + 36.977445\\right) \\left(0.031819 (\\frac{a}{t}) \\left((\\frac{a}{t}) + 1.319777\\right) - 0.001833\\right) + 1.051169$\n",
    "\n",
    "$g = 0.9993 + \\left(0.2309 + 0.4085\\left(\\frac{a}{t}\\right)\\right)^2  \\left(1.0128 - \\sin\\left(\\phi\\right)\\right)^2$\n",
    "\n",
    "$g = 1 + \\left(0.1 + 0.35\\left(\\frac{a}{t}\\right)^2\\right)\\left(1-sin\\left(\\phi\\right)\\right)^2$"
   ]
  },
  {
   "cell_type": "code",
   "execution_count": 29,
   "id": "46c85e78",
   "metadata": {
    "slideshow": {
     "slide_type": "slide"
    }
   },
   "outputs": [
    {
     "data": {
      "application/vnd.jupyter.widget-view+json": {
       "model_id": "3a7b7f7127f2473486221120f5e32278",
       "version_major": 2,
       "version_minor": 0
      },
      "text/plain": [
       "interactive(children=(IntSlider(value=280, description='n', max=560), Output()), _dom_classes=('widget-interac…"
      ]
     },
     "metadata": {},
     "output_type": "display_data"
    },
    {
     "data": {
      "text/plain": [
       "<function __main__.<lambda>(n)>"
      ]
     },
     "execution_count": 29,
     "metadata": {},
     "output_type": "execute_result"
    }
   ],
   "source": [
    "\n",
    "wid.interact(f, n=(0,models))"
   ]
  },
  {
   "cell_type": "code",
   "execution_count": 26,
   "id": "63dbcdd0",
   "metadata": {
    "slideshow": {
     "slide_type": "skip"
    }
   },
   "outputs": [],
   "source": [
    "dataset = RN_eqn\n",
    "\n",
    "ac_over_1 = 1\n",
    "dataset = split_ac(dataset, ac_over_1)\n",
    "\n",
    "input_vars = dataset[:,0:4]\n",
    "F_input = dataset[:,-1]\n",
    "\n",
    "F_bingo = Bingo_cust(input_vars, Mu1 = Mu1, gu1 = gu1, Mo1 = Mo1, go1 = go1)\n",
    "\n",
    "F_RN = F_s(*input_vars.T, only_mg=0)\n",
    "\n",
    "\n",
    "f = lambda n: plot_eqns(F_RN, F_bingo, input_vars, F_input, n)\n",
    "models = num_models(dataset)"
   ]
  },
  {
   "cell_type": "markdown",
   "id": "10751b7b",
   "metadata": {
    "slideshow": {
     "slide_type": "slide"
    }
   },
   "source": [
    "$a/c > 1$\n",
    "\n",
    "Bingo: $M = 0.274624 \\frac{a}{c}^{3} + 0.274624 \\frac{a}{c}^{2} \\frac{a}{t} - 0.783229 \\frac{a}{c}^{2} - 0.193737 \\frac{a}{c} \\frac{a}{t} + 1.306 \\frac{a}{c} + 0.0341685 \\frac{a}{t} + 0.229524$ \n",
    "\n",
    "Raju-Newman: $M = \\sqrt{\\frac{c}{a}}\\left(1+0.04\\frac{c}{a}\\right) + 0.2\\left(\\frac{c}{a} \\right)^{4}\\left(\\frac{a}{t}\\right)^{2} - 0.11\\left(\n",
    "\\frac{c}{a}\\right)^{4}\\left(\\frac{a}{t}\\right)^{4}$"
   ]
  },
  {
   "cell_type": "code",
   "execution_count": 27,
   "id": "72216b99",
   "metadata": {
    "slideshow": {
     "slide_type": "fragment"
    }
   },
   "outputs": [
    {
     "data": {
      "application/vnd.jupyter.widget-view+json": {
       "model_id": "f1553a3f612d4ef4a03a1ce583027f16",
       "version_major": 2,
       "version_minor": 0
      },
      "text/plain": [
       "interactive(children=(IntSlider(value=170, description='n', max=341), Output()), _dom_classes=('widget-interac…"
      ]
     },
     "metadata": {},
     "output_type": "display_data"
    },
    {
     "data": {
      "text/plain": [
       "<function __main__.<lambda>(n)>"
      ]
     },
     "execution_count": 27,
     "metadata": {},
     "output_type": "execute_result"
    }
   ],
   "source": [
    "wid.interact(f, n=(0,models))"
   ]
  },
  {
   "cell_type": "code",
   "execution_count": null,
   "id": "9e5d8d64",
   "metadata": {},
   "outputs": [],
   "source": []
  }
 ],
 "metadata": {
  "celltoolbar": "Slideshow",
  "kernelspec": {
   "display_name": "Python 3 (ipykernel)",
   "language": "python",
   "name": "python3"
  },
  "language_info": {
   "codemirror_mode": {
    "name": "ipython",
    "version": 3
   },
   "file_extension": ".py",
   "mimetype": "text/x-python",
   "name": "python",
   "nbconvert_exporter": "python",
   "pygments_lexer": "ipython3",
   "version": "3.9.7"
  }
 },
 "nbformat": 4,
 "nbformat_minor": 5
}
