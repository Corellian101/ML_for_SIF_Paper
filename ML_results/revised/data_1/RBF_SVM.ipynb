{
 "cells": [
  {
   "cell_type": "markdown",
   "id": "4ff8fbb6",
   "metadata": {},
   "source": [
    "# Dependencies"
   ]
  },
  {
   "cell_type": "code",
   "execution_count": 1,
   "id": "6b642e01",
   "metadata": {},
   "outputs": [],
   "source": [
    "import numpy as np\n",
    "import matplotlib.pyplot as plt\n",
    "import sklearn\n",
    "from scipy.stats import loguniform\n",
    "from sklearn.svm import SVR\n",
    "import pandas as pd\n",
    "import timeit\n",
    "import time\n",
    "from joblib import dump, load\n",
    "from sklearn.model_selection import GridSearchCV, RandomizedSearchCV\n",
    "from __future__ import print_function\n",
    "from ipywidgets import interact, interactive, fixed, interact_manual\n",
    "import ipywidgets as widgets\n",
    "import matplotlib.pyplot as plt, random"
   ]
  },
  {
   "cell_type": "markdown",
   "id": "09688a62",
   "metadata": {},
   "source": [
    "# Data"
   ]
  },
  {
   "cell_type": "code",
   "execution_count": 4,
   "id": "dfa8134d",
   "metadata": {},
   "outputs": [],
   "source": [
    "data_type = \"1\""
   ]
  },
  {
   "cell_type": "code",
   "execution_count": 3,
   "id": "0bc3fd93",
   "metadata": {},
   "outputs": [
    {
     "data": {
      "text/plain": [
       "((408, 4), (360, 4), (48, 4))"
      ]
     },
     "execution_count": 3,
     "metadata": {},
     "output_type": "execute_result"
    }
   ],
   "source": [
    "df = pd.read_csv(\"train/{}.csv\".format(data_type))\n",
    "df.drop([\"c/b\", \"F\"], axis=1, inplace=True)\n",
    "d = df.to_numpy()\n",
    "\n",
    "d_le = np.load(\"train/{}_le.npy\".format(data_type))\n",
    "d_g = np.load(\"train/{}_g.npy\".format(data_type))\n",
    "\n",
    "d.shape, d_le.shape, d_g.shape"
   ]
  },
  {
   "cell_type": "markdown",
   "id": "54a633e0",
   "metadata": {},
   "source": [
    "# Hyperparameter Optimisation"
   ]
  },
  {
   "cell_type": "code",
   "execution_count": 3,
   "id": "e6c2df0c",
   "metadata": {
    "collapsed": true
   },
   "outputs": [
    {
     "name": "stdout",
     "output_type": "stream",
     "text": [
      "Fitting 5 folds for each of 50 candidates, totalling 250 fits\n",
      "[CV] END .....................C=0.001, gamma=0.1, kernel=rbf; total time=   0.0s\n",
      "[CV] END .................C=10000.0, gamma=1e-05, kernel=rbf; total time=   0.0s\n",
      "[CV] END ...............C=10000000.0, gamma=10.0, kernel=rbf; total time=   0.0s\n",
      "[CV] END ...................C=100.0, gamma=1e-05, kernel=rbf; total time=   0.0s\n",
      "[CV] END .....................C=1.0, gamma=0.001, kernel=rbf; total time=   0.0s\n",
      "[CV] END ......................C=1.0, gamma=10.0, kernel=rbf; total time=   0.0s\n",
      "[CV] END ......................C=1.0, gamma=10.0, kernel=rbf; total time=   0.0s\n",
      "[CV] END ...................C=10.0, gamma=0.0001, kernel=rbf; total time=   0.0s\n",
      "[CV] END ...................C=10.0, gamma=0.0001, kernel=rbf; total time=   0.0s\n",
      "[CV] END ...............C=1000000.0, gamma=1e-05, kernel=rbf; total time=   0.1s\n",
      "[CV] END ...............C=1000000.0, gamma=1e-05, kernel=rbf; total time=   0.1s\n",
      "[CV] END ...............C=1000000.0, gamma=0.001, kernel=rbf; total time=   3.7s\n",
      "[CV] END ...............C=1000000.0, gamma=0.001, kernel=rbf; total time=   3.7s\n",
      "[CV] END ...............C=1000000.0, gamma=0.001, kernel=rbf; total time=   3.6s\n",
      "[CV] END ...............C=1000000.0, gamma=0.001, kernel=rbf; total time=   3.6s\n",
      "[CV] END ................C=100000.0, gamma=1e-05, kernel=rbf; total time=   0.1s\n",
      "[CV] END ................C=100000.0, gamma=1e-05, kernel=rbf; total time=   0.0s\n",
      "[CV] END ................C=100000.0, gamma=1e-05, kernel=rbf; total time=   0.0s\n",
      "[CV] END ................C=100000.0, gamma=1e-05, kernel=rbf; total time=   0.1s\n",
      "[CV] END ................C=100000.0, gamma=1e-05, kernel=rbf; total time=   0.0s\n",
      "[CV] END ....................C=0.001, gamma=0.01, kernel=rbf; total time=   0.0s\n",
      "[CV] END ....................C=0.001, gamma=0.01, kernel=rbf; total time=   0.0s\n",
      "[CV] END ....................C=0.001, gamma=0.01, kernel=rbf; total time=   0.0s\n",
      "[CV] END ....................C=0.001, gamma=0.01, kernel=rbf; total time=   0.0s\n",
      "[CV] END ....................C=0.001, gamma=0.01, kernel=rbf; total time=   0.0s\n",
      "[CV] END ..............C=1000000.0, gamma=1000.0, kernel=rbf; total time=   0.0s\n",
      "[CV] END ..............C=1000000.0, gamma=1000.0, kernel=rbf; total time=   0.0s\n",
      "[CV] END ..............C=1000000.0, gamma=1000.0, kernel=rbf; total time=   0.0s\n",
      "[CV] END ..............C=1000000.0, gamma=1000.0, kernel=rbf; total time=   0.0s\n",
      "[CV] END ..............C=1000000.0, gamma=1000.0, kernel=rbf; total time=   0.0s\n",
      "[CV] END ..................C=1000.0, gamma=1e-05, kernel=rbf; total time=   0.0s\n",
      "[CV] END ..................C=1000.0, gamma=1e-05, kernel=rbf; total time=   0.0s\n",
      "[CV] END ..................C=1000.0, gamma=1e-05, kernel=rbf; total time=   0.0s\n",
      "[CV] END ..................C=1000.0, gamma=1e-05, kernel=rbf; total time=   0.0s\n",
      "[CV] END ..................C=1000.0, gamma=1e-05, kernel=rbf; total time=   0.0s\n",
      "[CV] END ...................C=0.001, gamma=0.001, kernel=rbf; total time=   0.0s\n",
      "[CV] END ...................C=0.001, gamma=0.001, kernel=rbf; total time=   0.0s\n",
      "[CV] END ...................C=0.001, gamma=0.001, kernel=rbf; total time=   0.0s\n",
      "[CV] END ...................C=0.001, gamma=0.001, kernel=rbf; total time=   0.0s\n",
      "[CV] END ...................C=0.001, gamma=0.001, kernel=rbf; total time=   0.0s\n",
      "[CV] END ....................C=10.0, gamma=100.0, kernel=rbf; total time=   0.0s\n",
      "[CV] END ....................C=10.0, gamma=100.0, kernel=rbf; total time=   0.0s\n",
      "[CV] END ....................C=10.0, gamma=100.0, kernel=rbf; total time=   0.0s\n",
      "[CV] END ....................C=10.0, gamma=100.0, kernel=rbf; total time=   0.0s\n",
      "[CV] END ....................C=10.0, gamma=100.0, kernel=rbf; total time=   0.0s\n",
      "[CV] END ................C=100000.0, gamma=0.001, kernel=rbf; total time=   0.5s\n",
      "[CV] END ................C=100000.0, gamma=0.001, kernel=rbf; total time=   0.6s\n",
      "[CV] END ................C=100000.0, gamma=0.001, kernel=rbf; total time=   0.4s\n",
      "[CV] END ................C=100000.0, gamma=0.001, kernel=rbf; total time=   0.5s\n",
      "[CV] END ................C=100000.0, gamma=0.001, kernel=rbf; total time=   0.7s\n",
      "[CV] END ..................C=100000.0, gamma=0.1, kernel=rbf; total time=   3.9s\n",
      "[CV] END ..................C=100000.0, gamma=0.1, kernel=rbf; total time=   2.5s\n",
      "[CV] END ..................C=100000.0, gamma=0.1, kernel=rbf; total time=   5.5s\n",
      "[CV] END ..................C=100000.0, gamma=0.1, kernel=rbf; total time=   2.4s\n",
      "[CV] END ..................C=100000.0, gamma=0.1, kernel=rbf; total time=   4.9s\n",
      "[CV] END .................C=1000.0, gamma=1000.0, kernel=rbf; total time=   0.0s\n",
      "[CV] END .................C=1000.0, gamma=1000.0, kernel=rbf; total time=   0.0s\n",
      "[CV] END .................C=1000.0, gamma=1000.0, kernel=rbf; total time=   0.0s\n",
      "[CV] END .................C=1000.0, gamma=1000.0, kernel=rbf; total time=   0.0s\n",
      "[CV] END .................C=1000.0, gamma=1000.0, kernel=rbf; total time=   0.0s\n",
      "[CV] END ....................C=0.1, gamma=0.0001, kernel=rbf; total time=   0.0s\n",
      "[CV] END ....................C=0.1, gamma=0.0001, kernel=rbf; total time=   0.0s\n",
      "[CV] END ....................C=0.1, gamma=0.0001, kernel=rbf; total time=   0.0s\n",
      "[CV] END ....................C=0.1, gamma=0.0001, kernel=rbf; total time=   0.0s\n",
      "[CV] END ....................C=0.1, gamma=0.0001, kernel=rbf; total time=   0.0s\n",
      "[CV] END ..................C=10000.0, gamma=10.0, kernel=rbf; total time=   0.0s\n",
      "[CV] END ..................C=10000.0, gamma=10.0, kernel=rbf; total time=   0.0s\n",
      "[CV] END ..................C=10000.0, gamma=10.0, kernel=rbf; total time=   0.0s\n",
      "[CV] END ..................C=10000.0, gamma=10.0, kernel=rbf; total time=   0.0s\n",
      "[CV] END ..................C=10000.0, gamma=10.0, kernel=rbf; total time=   0.0s\n",
      "[CV] END .....................C=0.001, gamma=1.0, kernel=rbf; total time=   0.0s\n",
      "[CV] END .....................C=0.001, gamma=1.0, kernel=rbf; total time=   0.0s\n",
      "[CV] END .....................C=0.001, gamma=1.0, kernel=rbf; total time=   0.0s\n",
      "[CV] END .....................C=0.001, gamma=1.0, kernel=rbf; total time=   0.0s\n",
      "[CV] END .....................C=0.001, gamma=1.0, kernel=rbf; total time=   0.0s\n",
      "[CV] END .....................C=100.0, gamma=0.1, kernel=rbf; total time=   0.1s\n",
      "[CV] END .....................C=100.0, gamma=0.1, kernel=rbf; total time=   0.0s\n",
      "[CV] END .....................C=100.0, gamma=0.1, kernel=rbf; total time=   0.0s\n",
      "[CV] END .....................C=100.0, gamma=0.1, kernel=rbf; total time=   0.0s\n",
      "[CV] END .....................C=100.0, gamma=0.1, kernel=rbf; total time=   0.1s\n",
      "[CV] END ....................C=0.01, gamma=100.0, kernel=rbf; total time=   0.0s\n",
      "[CV] END ....................C=0.01, gamma=100.0, kernel=rbf; total time=   0.0s\n",
      "[CV] END ....................C=0.01, gamma=100.0, kernel=rbf; total time=   0.0s\n",
      "[CV] END ....................C=0.01, gamma=100.0, kernel=rbf; total time=   0.0s\n",
      "[CV] END ....................C=0.01, gamma=100.0, kernel=rbf; total time=   0.0s\n",
      "[CV] END .....................C=100.0, gamma=1.0, kernel=rbf; total time=   0.0s\n",
      "[CV] END .....................C=100.0, gamma=1.0, kernel=rbf; total time=   0.0s\n",
      "[CV] END .....................C=100.0, gamma=1.0, kernel=rbf; total time=   0.0s\n",
      "[CV] END .....................C=100.0, gamma=1.0, kernel=rbf; total time=   0.0s\n",
      "[CV] END .....................C=100.0, gamma=1.0, kernel=rbf; total time=   0.0s\n",
      "[CV] END ..................C=0.001, gamma=0.0001, kernel=rbf; total time=   0.0s\n",
      "[CV] END ..................C=0.001, gamma=0.0001, kernel=rbf; total time=   0.0s\n",
      "[CV] END ..................C=0.001, gamma=0.0001, kernel=rbf; total time=   0.0s\n",
      "[CV] END ..................C=0.001, gamma=0.0001, kernel=rbf; total time=   0.0s\n",
      "[CV] END ..................C=0.001, gamma=0.0001, kernel=rbf; total time=   0.0s\n",
      "[CV] END ...............C=100000.0, gamma=0.0001, kernel=rbf; total time=   0.1s\n",
      "[CV] END ...............C=100000.0, gamma=0.0001, kernel=rbf; total time=   0.1s\n",
      "[CV] END ...............C=100000.0, gamma=0.0001, kernel=rbf; total time=   0.1s\n",
      "[CV] END ...............C=100000.0, gamma=0.0001, kernel=rbf; total time=   0.1s\n",
      "[CV] END ...............C=100000.0, gamma=0.0001, kernel=rbf; total time=   0.1s\n",
      "[CV] END ...................C=10.0, gamma=1000.0, kernel=rbf; total time=   0.0s\n"
     ]
    },
    {
     "name": "stdout",
     "output_type": "stream",
     "text": [
      "[CV] END ...................C=10.0, gamma=1000.0, kernel=rbf; total time=   0.0s\n",
      "[CV] END ...................C=10.0, gamma=1000.0, kernel=rbf; total time=   0.0s\n",
      "[CV] END ...................C=10.0, gamma=1000.0, kernel=rbf; total time=   0.0s\n",
      "[CV] END ...................C=10.0, gamma=1000.0, kernel=rbf; total time=   0.0s\n",
      "[CV] END .......................C=1.0, gamma=1.0, kernel=rbf; total time=   0.0s\n",
      "[CV] END .......................C=1.0, gamma=1.0, kernel=rbf; total time=   0.0s\n",
      "[CV] END .......................C=1.0, gamma=1.0, kernel=rbf; total time=   0.0s\n",
      "[CV] END .......................C=1.0, gamma=1.0, kernel=rbf; total time=   0.0s\n",
      "[CV] END .......................C=1.0, gamma=1.0, kernel=rbf; total time=   0.0s\n",
      "[CV] END .....................C=10.0, gamma=0.01, kernel=rbf; total time=   0.0s\n",
      "[CV] END .....................C=10.0, gamma=0.01, kernel=rbf; total time=   0.0s\n",
      "[CV] END .....................C=10.0, gamma=0.01, kernel=rbf; total time=   0.0s\n",
      "[CV] END .....................C=10.0, gamma=0.01, kernel=rbf; total time=   0.0s\n",
      "[CV] END .....................C=10.0, gamma=0.01, kernel=rbf; total time=   0.0s\n",
      "[CV] END ....................C=100.0, gamma=0.01, kernel=rbf; total time=   0.0s\n",
      "[CV] END ....................C=100.0, gamma=0.01, kernel=rbf; total time=   0.0s\n",
      "[CV] END ....................C=100.0, gamma=0.01, kernel=rbf; total time=   0.0s\n",
      "[CV] END ....................C=100.0, gamma=0.01, kernel=rbf; total time=   0.0s\n",
      "[CV] END ....................C=100.0, gamma=0.01, kernel=rbf; total time=   0.0s\n",
      "[CV] END ....................C=1000.0, gamma=0.1, kernel=rbf; total time=   0.2s\n",
      "[CV] END ....................C=1000.0, gamma=0.1, kernel=rbf; total time=   0.1s\n",
      "[CV] END ....................C=1000.0, gamma=0.1, kernel=rbf; total time=   0.2s\n",
      "[CV] END ....................C=1000.0, gamma=0.1, kernel=rbf; total time=   0.1s\n",
      "[CV] END ....................C=1000.0, gamma=0.1, kernel=rbf; total time=   0.2s\n",
      "[CV] END .....................C=1.0, gamma=100.0, kernel=rbf; total time=   0.0s\n",
      "[CV] END .....................C=1.0, gamma=100.0, kernel=rbf; total time=   0.0s\n",
      "[CV] END .....................C=1.0, gamma=100.0, kernel=rbf; total time=   0.0s\n",
      "[CV] END .....................C=1.0, gamma=100.0, kernel=rbf; total time=   0.0s\n",
      "[CV] END .....................C=1.0, gamma=100.0, kernel=rbf; total time=   0.0s\n",
      "[CV] END ..............C=10000000.0, gamma=1e-05, kernel=rbf; total time=   0.1s\n",
      "[CV] END ..............C=10000000.0, gamma=1e-05, kernel=rbf; total time=   0.1s\n",
      "[CV] END ..............C=10000000.0, gamma=1e-05, kernel=rbf; total time=   0.1s\n",
      "[CV] END ..............C=10000000.0, gamma=1e-05, kernel=rbf; total time=   0.1s\n",
      "[CV] END ..............C=10000000.0, gamma=1e-05, kernel=rbf; total time=   0.1s\n",
      "[CV] END ...................C=100.0, gamma=0.001, kernel=rbf; total time=   0.0s\n",
      "[CV] END ...................C=100.0, gamma=0.001, kernel=rbf; total time=   0.0s\n",
      "[CV] END ...................C=100.0, gamma=0.001, kernel=rbf; total time=   0.0s\n",
      "[CV] END ...................C=100.0, gamma=0.001, kernel=rbf; total time=   0.0s\n",
      "[CV] END ...................C=100.0, gamma=0.001, kernel=rbf; total time=   0.0s\n",
      "[CV] END ....................C=100.0, gamma=10.0, kernel=rbf; total time=   0.0s\n",
      "[CV] END ....................C=100.0, gamma=10.0, kernel=rbf; total time=   0.0s\n",
      "[CV] END ....................C=100.0, gamma=10.0, kernel=rbf; total time=   0.0s\n",
      "[CV] END ....................C=100.0, gamma=10.0, kernel=rbf; total time=   0.0s\n",
      "[CV] END ....................C=100.0, gamma=10.0, kernel=rbf; total time=   0.0s\n",
      "[CV] END ......................C=1.0, gamma=0.01, kernel=rbf; total time=   0.0s\n",
      "[CV] END ......................C=1.0, gamma=0.01, kernel=rbf; total time=   0.0s\n",
      "[CV] END ......................C=1.0, gamma=0.01, kernel=rbf; total time=   0.0s\n",
      "[CV] END ......................C=1.0, gamma=0.01, kernel=rbf; total time=   0.0s\n",
      "[CV] END ......................C=1.0, gamma=0.01, kernel=rbf; total time=   0.0s\n",
      "[CV] END ......................C=0.1, gamma=0.01, kernel=rbf; total time=   0.0s\n",
      "[CV] END ......................C=0.1, gamma=0.01, kernel=rbf; total time=   0.0s\n",
      "[CV] END ......................C=0.1, gamma=0.01, kernel=rbf; total time=   0.0s\n",
      "[CV] END ......................C=0.1, gamma=0.01, kernel=rbf; total time=   0.0s\n",
      "[CV] END ......................C=0.1, gamma=0.01, kernel=rbf; total time=   0.0s\n",
      "[CV] END ..................C=1000.0, gamma=100.0, kernel=rbf; total time=   0.0s\n",
      "[CV] END ...............C=1000000.0, gamma=1e-05, kernel=rbf; total time=   0.1s\n",
      "[CV] END ...............C=1000000.0, gamma=1e-05, kernel=rbf; total time=   0.1s\n",
      "[CV] END ...............C=1000000.0, gamma=100.0, kernel=rbf; total time=   0.0s\n",
      "[CV] END ...............C=1000000.0, gamma=100.0, kernel=rbf; total time=   0.0s\n",
      "[CV] END ...............C=10000000.0, gamma=0.01, kernel=rbf; total time= 1.1min\n",
      "[CV] END ...............C=1000000.0, gamma=0.001, kernel=rbf; total time=   3.5s\n",
      "[CV] END .....................C=1.0, gamma=1e-05, kernel=rbf; total time=   0.0s\n",
      "[CV] END ...................C=10.0, gamma=0.0001, kernel=rbf; total time=   0.0s\n",
      "[CV] END ...............C=1000000.0, gamma=1e-05, kernel=rbf; total time=   0.1s\n",
      "[CV] END ..................C=100.0, gamma=1000.0, kernel=rbf; total time=   0.0s\n",
      "[CV] END ...............C=1000000.0, gamma=100.0, kernel=rbf; total time=   0.0s\n",
      "[CV] END ...............C=10000000.0, gamma=0.01, kernel=rbf; total time=  46.9s\n",
      "[CV] END ...............C=10000000.0, gamma=0.01, kernel=rbf; total time=  41.5s\n",
      "[CV] END .....................C=1.0, gamma=1e-05, kernel=rbf; total time=   0.0s\n",
      "[CV] END ...............C=10000000.0, gamma=10.0, kernel=rbf; total time=   0.0s\n",
      "[CV] END ...................C=100.0, gamma=1e-05, kernel=rbf; total time=   0.0s\n",
      "[CV] END .....................C=1.0, gamma=0.001, kernel=rbf; total time=   0.0s\n",
      "[CV] END .......................C=0.1, gamma=1.0, kernel=rbf; total time=   0.0s\n",
      "[CV] END ......................C=1.0, gamma=10.0, kernel=rbf; total time=   0.0s\n",
      "[CV] END ....................C=0.01, gamma=1e-05, kernel=rbf; total time=   0.0s\n",
      "[CV] END ....................C=0.01, gamma=1e-05, kernel=rbf; total time=   0.0s\n",
      "[CV] END ...................C=10.0, gamma=0.0001, kernel=rbf; total time=   0.0s\n",
      "[CV] END ...................C=10.0, gamma=0.0001, kernel=rbf; total time=   0.0s\n",
      "[CV] END ..................C=100.0, gamma=1000.0, kernel=rbf; total time=   0.0s\n",
      "[CV] END ..................C=100.0, gamma=1000.0, kernel=rbf; total time=   0.0s\n",
      "[CV] END ..................C=100.0, gamma=1000.0, kernel=rbf; total time=   0.0s\n",
      "[CV] END ..................C=100.0, gamma=1000.0, kernel=rbf; total time=   0.0s\n",
      "[CV] END ...............C=1000000.0, gamma=100.0, kernel=rbf; total time=   0.0s\n",
      "[CV] END ...............C=1000000.0, gamma=100.0, kernel=rbf; total time=   0.0s\n",
      "[CV] END ...............C=10000000.0, gamma=0.01, kernel=rbf; total time=  32.6s\n",
      "[CV] END ...............C=10000000.0, gamma=0.01, kernel=rbf; total time= 1.5min\n",
      "[CV] END .....................C=0.001, gamma=0.1, kernel=rbf; total time=   0.0s\n",
      "[CV] END ......................C=0.1, gamma=10.0, kernel=rbf; total time=   0.0s\n",
      "[CV] END ......................C=0.1, gamma=10.0, kernel=rbf; total time=   0.0s\n",
      "[CV] END .................C=10000.0, gamma=1e-05, kernel=rbf; total time=   0.0s\n",
      "[CV] END ...............C=10000000.0, gamma=10.0, kernel=rbf; total time=   0.0s\n",
      "[CV] END ...................C=100.0, gamma=1e-05, kernel=rbf; total time=   0.0s\n",
      "[CV] END .....................C=1.0, gamma=0.001, kernel=rbf; total time=   0.0s\n",
      "[CV] END .......................C=0.1, gamma=1.0, kernel=rbf; total time=   0.0s\n",
      "[CV] END ......................C=1.0, gamma=10.0, kernel=rbf; total time=   0.0s\n",
      "[CV] END ....................C=0.01, gamma=1e-05, kernel=rbf; total time=   0.0s\n",
      "[CV] END .................C=1000000.0, gamma=0.1, kernel=rbf; total time= 4.4min\n",
      "[CV] END .................C=100000.0, gamma=10.0, kernel=rbf; total time=   0.0s\n",
      "[CV] END .....................C=0.001, gamma=0.1, kernel=rbf; total time=   0.0s\n",
      "[CV] END .....................C=1.0, gamma=1e-05, kernel=rbf; total time=   0.0s\n",
      "[CV] END .....................C=1.0, gamma=1e-05, kernel=rbf; total time=   0.0s\n",
      "[CV] END .....................C=1.0, gamma=1e-05, kernel=rbf; total time=   0.0s\n",
      "[CV] END ..................C=1000.0, gamma=100.0, kernel=rbf; total time=   0.0s\n",
      "[CV] END ..................C=1000.0, gamma=100.0, kernel=rbf; total time=   0.0s\n",
      "[CV] END ..................C=1000.0, gamma=100.0, kernel=rbf; total time=   0.0s\n",
      "[CV] END ..................C=1000.0, gamma=100.0, kernel=rbf; total time=   0.0s\n",
      "[CV] END ................C=10000000.0, gamma=0.1, kernel=rbf; total time= 5.2min\n"
     ]
    },
    {
     "data": {
      "text/plain": [
       "RandomizedSearchCV(estimator=SVR(), n_iter=50, n_jobs=-1,\n",
       "                   param_distributions={'C': [0.001, 0.01, 0.1, 1.0, 10.0,\n",
       "                                              100.0, 1000.0, 10000.0, 100000.0,\n",
       "                                              1000000.0, 10000000.0],\n",
       "                                        'gamma': [1e-05, 0.0001, 0.001, 0.01,\n",
       "                                                  0.1, 1.0, 10.0, 100.0,\n",
       "                                                  1000.0],\n",
       "                                        'kernel': ['rbf']},\n",
       "                   scoring='neg_mean_squared_error', verbose=2)"
      ]
     },
     "execution_count": 3,
     "metadata": {},
     "output_type": "execute_result"
    }
   ],
   "source": [
    "# defining parameter range\n",
    "param_grid = {'C': list(10. ** np.arange(-3, 8)),\n",
    "              'gamma': list(10. ** np.arange(-5, 4)),\n",
    "              'kernel': ['rbf']}\n",
    " \n",
    "# define search\n",
    "grid = RandomizedSearchCV(SVR(), param_grid, n_iter=50, scoring='neg_mean_squared_error', n_jobs=-1, verbose=2)\n",
    "# fitting the model for grid search\n",
    "grid.fit(d[:,:3], d[:,3])"
   ]
  },
  {
   "cell_type": "code",
   "execution_count": 4,
   "id": "4aabc4aa",
   "metadata": {
    "collapsed": true
   },
   "outputs": [
    {
     "name": "stdout",
     "output_type": "stream",
     "text": [
      "{'kernel': 'rbf', 'gamma': 0.1, 'C': 100000.0}\n",
      "SVR(C=100000.0, gamma=0.1)\n",
      "[CV] END .................C=100000.0, gamma=10.0, kernel=rbf; total time=   0.0s\n",
      "[CV] END ................C=10000000.0, gamma=0.1, kernel=rbf; total time= 6.9min\n",
      "[CV] END .................C=100000.0, gamma=10.0, kernel=rbf; total time=   0.0s\n",
      "[CV] END ................C=10000000.0, gamma=0.1, kernel=rbf; total time= 7.8min\n",
      "[CV] END .....................C=0.001, gamma=0.1, kernel=rbf; total time=   0.0s\n",
      "[CV] END ................C=10000000.0, gamma=0.1, kernel=rbf; total time= 8.8min\n",
      "[CV] END .................C=100000.0, gamma=10.0, kernel=rbf; total time=   0.0s\n",
      "[CV] END .....................C=0.1, gamma=1e-05, kernel=rbf; total time=   0.0s\n",
      "[CV] END .....................C=0.1, gamma=1e-05, kernel=rbf; total time=   0.0s\n",
      "[CV] END .....................C=0.1, gamma=1e-05, kernel=rbf; total time=   0.0s\n",
      "[CV] END ......................C=0.01, gamma=0.1, kernel=rbf; total time=   0.0s\n",
      "[CV] END ......................C=0.01, gamma=0.1, kernel=rbf; total time=   0.0s\n",
      "[CV] END ......................C=0.1, gamma=10.0, kernel=rbf; total time=   0.0s\n",
      "[CV] END ......................C=0.1, gamma=10.0, kernel=rbf; total time=   0.0s\n",
      "[CV] END .................C=10000.0, gamma=1e-05, kernel=rbf; total time=   0.0s\n",
      "[CV] END ...............C=10000000.0, gamma=10.0, kernel=rbf; total time=   0.0s\n",
      "[CV] END ...............C=10000000.0, gamma=10.0, kernel=rbf; total time=   0.0s\n",
      "[CV] END ...................C=100.0, gamma=1e-05, kernel=rbf; total time=   0.0s\n",
      "[CV] END .....................C=1.0, gamma=0.001, kernel=rbf; total time=   0.0s\n",
      "[CV] END .......................C=0.1, gamma=1.0, kernel=rbf; total time=   0.0s\n",
      "[CV] END ......................C=1.0, gamma=10.0, kernel=rbf; total time=   0.0s\n",
      "[CV] END ....................C=0.01, gamma=1e-05, kernel=rbf; total time=   0.0s\n",
      "[CV] END .................C=1000000.0, gamma=0.1, kernel=rbf; total time= 5.7min\n",
      "[CV] END .................C=1000000.0, gamma=0.1, kernel=rbf; total time= 3.6min\n",
      "[CV] END .....................C=0.001, gamma=0.1, kernel=rbf; total time=   0.0s\n",
      "[CV] END ................C=10000000.0, gamma=0.1, kernel=rbf; total time=10.1min\n",
      "[CV] END .................C=100000.0, gamma=10.0, kernel=rbf; total time=   0.0s\n",
      "[CV] END .....................C=0.1, gamma=1e-05, kernel=rbf; total time=   0.0s\n",
      "[CV] END .....................C=0.1, gamma=1e-05, kernel=rbf; total time=   0.0s\n",
      "[CV] END ......................C=0.01, gamma=0.1, kernel=rbf; total time=   0.0s\n",
      "[CV] END ......................C=0.01, gamma=0.1, kernel=rbf; total time=   0.0s\n",
      "[CV] END ......................C=0.01, gamma=0.1, kernel=rbf; total time=   0.0s\n",
      "[CV] END ......................C=0.1, gamma=10.0, kernel=rbf; total time=   0.0s\n",
      "[CV] END .................C=10000.0, gamma=1e-05, kernel=rbf; total time=   0.0s\n",
      "[CV] END .................C=10000.0, gamma=1e-05, kernel=rbf; total time=   0.0s\n",
      "[CV] END ...................C=100.0, gamma=1e-05, kernel=rbf; total time=   0.0s\n",
      "[CV] END .....................C=1.0, gamma=0.001, kernel=rbf; total time=   0.0s\n",
      "[CV] END .......................C=0.1, gamma=1.0, kernel=rbf; total time=   0.0s\n",
      "[CV] END .......................C=0.1, gamma=1.0, kernel=rbf; total time=   0.0s\n",
      "[CV] END ....................C=0.01, gamma=1e-05, kernel=rbf; total time=   0.0s\n",
      "[CV] END .................C=1000000.0, gamma=0.1, kernel=rbf; total time= 5.9min\n",
      "[CV] END .................C=1000000.0, gamma=0.1, kernel=rbf; total time= 4.3min\n"
     ]
    }
   ],
   "source": [
    "# print best parameter after tuning\n",
    "print(grid.best_params_)\n",
    " \n",
    "# print how our model looks after hyper-parameter tuning\n",
    "print(grid.best_estimator_)"
   ]
  },
  {
   "cell_type": "markdown",
   "id": "dee2f1d2",
   "metadata": {},
   "source": [
    "# RBF Fitting"
   ]
  },
  {
   "cell_type": "code",
   "execution_count": 4,
   "id": "236cd041",
   "metadata": {},
   "outputs": [
    {
     "name": "stdout",
     "output_type": "stream",
     "text": [
      "RBF train time: 0.9922046661376953 secs\n"
     ]
    }
   ],
   "source": [
    "# All Dataset\n",
    "t0 = time.time()\n",
    "reg_all = SVR(kernel=\"rbf\", gamma=0.1, C=100000)\n",
    "reg_all.fit(d[:,:-1], d[:,-1])\n",
    "t1 = time.time()\n",
    "print(\"RBF train time: {} secs\".format(t1-t0))"
   ]
  },
  {
   "cell_type": "code",
   "execution_count": 5,
   "id": "6a04e4e1",
   "metadata": {},
   "outputs": [
    {
     "name": "stdout",
     "output_type": "stream",
     "text": [
      "RBF train time: 0.0009007453918457031 secs\n"
     ]
    }
   ],
   "source": [
    "# a/c > 1\n",
    "t0 = time.time()\n",
    "reg_g = SVR(kernel=\"rbf\", gamma=0.1, C=100000)\n",
    "reg_g.fit(d_g[:,:-1], d_g[:,-1])\n",
    "t1 = time.time()\n",
    "print(\"RBF train time: {} secs\".format(t1-t0))"
   ]
  },
  {
   "cell_type": "code",
   "execution_count": 6,
   "id": "08a1cccb",
   "metadata": {},
   "outputs": [
    {
     "name": "stdout",
     "output_type": "stream",
     "text": [
      "RBF train time: 0.9146866798400879 secs\n"
     ]
    }
   ],
   "source": [
    "# a/c <= 1\n",
    "t0 = time.time()\n",
    "reg_le = SVR(kernel=\"rbf\", gamma=0.1, C=100000)\n",
    "reg_le.fit(d_le[:,:-1], d_le[:,-1])\n",
    "t1 = time.time()\n",
    "print(\"RBF train time: {} secs\".format(t1-t0))"
   ]
  },
  {
   "cell_type": "markdown",
   "id": "d6be85ed",
   "metadata": {},
   "source": [
    "# Results"
   ]
  },
  {
   "cell_type": "code",
   "execution_count": 2,
   "id": "dfe4041e",
   "metadata": {},
   "outputs": [],
   "source": [
    "reg_all = load(\"models/rbf_all.joblib\")\n",
    "reg_le = load(\"models/rbf_le.joblib\")\n",
    "reg_g = load(\"models/rbf_g.joblib\")"
   ]
  },
  {
   "cell_type": "code",
   "execution_count": 5,
   "id": "4e42c46f",
   "metadata": {},
   "outputs": [
    {
     "data": {
      "text/plain": [
       "((136, 4), (116, 4), (20, 4))"
      ]
     },
     "execution_count": 5,
     "metadata": {},
     "output_type": "execute_result"
    }
   ],
   "source": [
    "df = pd.read_csv(\"test/{}.csv\".format(data_type))\n",
    "df.drop([\"c/b\", \"F\"], axis=1, inplace=True)\n",
    "d = df.to_numpy()\n",
    "\n",
    "d_le = np.load(\"test/{}_le.npy\".format(data_type))\n",
    "d_g = np.load(\"test/{}_g.npy\".format(data_type))\n",
    "\n",
    "d.shape, d_le.shape, d_g.shape"
   ]
  },
  {
   "cell_type": "code",
   "execution_count": 7,
   "id": "76693820",
   "metadata": {},
   "outputs": [
    {
     "name": "stdout",
     "output_type": "stream",
     "text": [
      "MAE all:  0.0048922922853430395\n",
      "Prediction time:  0.0007302761077880859\n",
      "MAE a/c<=1:  0.284068883855525\n",
      "Prediction time:  0.00042748451232910156\n",
      "MAE a/c>1:  0.47064689153970596\n",
      "Prediction time:  0.00037026405334472656\n"
     ]
    }
   ],
   "source": [
    "def error(reg, data):\n",
    "    t0 = time.time()\n",
    "    result = reg.predict(data[:,:-1])\n",
    "    t1 = time.time()\n",
    "    MAE = np.mean(np.power(result-data[:,-1],2))\n",
    "    return MAE, t1-t0\n",
    "\n",
    "mse, t = error(reg_all, d)\n",
    "print(\"MAE all: \", mse)\n",
    "print(\"Prediction time: \", t)\n",
    "\n",
    "mse_le, t = error(reg_le, d)\n",
    "print(\"MAE a/c<=1: \", mse_le)\n",
    "print(\"Prediction time: \", t)\n",
    "\n",
    "mse_g, t = error(reg_g, d)\n",
    "print(\"MAE a/c>1: \", mse_g)\n",
    "print(\"Prediction time: \", t)"
   ]
  },
  {
   "cell_type": "code",
   "execution_count": 13,
   "id": "31c11479",
   "metadata": {},
   "outputs": [
    {
     "data": {
      "text/plain": [
       "['models/rbf_g.joblib']"
      ]
     },
     "execution_count": 13,
     "metadata": {},
     "output_type": "execute_result"
    }
   ],
   "source": [
    "dump(reg_all, 'models/rbf_all.joblib')\n",
    "dump(reg_le, 'models/rbf_le.joblib')\n",
    "dump(reg_g, 'models/rbf_g.joblib')"
   ]
  },
  {
   "cell_type": "markdown",
   "id": "493f596a",
   "metadata": {},
   "source": [
    "## Fitting Equations"
   ]
  },
  {
   "cell_type": "code",
   "execution_count": 10,
   "id": "b9e286f9",
   "metadata": {},
   "outputs": [],
   "source": [
    "def sort(data):\n",
    "    models = []\n",
    "    model = np.unique(data[:,[0,1,2]], axis=0)\n",
    "    \n",
    "    for i in model:\n",
    "        models.append(data[np.where((data[:,[0,1,2]] == i).all(axis=1))])\n",
    "\n",
    "    return models \n",
    "\n",
    "def compare(model):\n",
    "    results_all = []\n",
    "    results_sep = []\n",
    "    \n",
    "    result = np.zeros((len(model),1))\n",
    "    model = np.delete(model, [2,4], 1)\n",
    "\n",
    "    result[:,0] = reg_all.predict(model[:,:-1])\n",
    "    results_all.append(result)\n",
    "\n",
    "    # a/c separated\n",
    "    result = np.zeros((len(model),1))\n",
    "    if model[0,0] <= 1:\n",
    "        result[:,0] = reg_le.predict(model[:,:-1])\n",
    "\n",
    "    elif model[0,0] > 1:\n",
    "        result[:,0] = reg_g.predict(model[:,:-1])\n",
    "\n",
    "    else:\n",
    "        print(\"Something wrong!\")\n",
    "\n",
    "    results_sep.append(result)\n",
    "        \n",
    "    return results_all, results_sep\n",
    "\n",
    "\n",
    "\n",
    "def plot(model_num):\n",
    "    results_all, results_sep = compare(models[model_num])\n",
    "    plt.scatter(models[model_num][:,-3], models[model_num][:,-1], label=\"Ground Truth\")\n",
    "    plt.plot(models[model_num][:,-3], results_all[0][:,0], label=\"NN all\", color='red')\n",
    "    plt.plot(models[model_num][:,-3], results_sep[0][:,0], label=\"NN separated\", color='green')\n",
    "    plt.title(\"a/c={}; a/t={}; c/b={}\".format(models[model_num][0,0],\n",
    "                                             models[model_num][0,1],\n",
    "                                             models[model_num][0,2]))\n",
    "    plt.xlabel(\"phi\")\n",
    "    plt.ylabel(\"Mg\")\n",
    "    plt.legend()\n",
    "    plt.show()\n",
    "    return"
   ]
  },
  {
   "cell_type": "code",
   "execution_count": 11,
   "id": "f4018571",
   "metadata": {},
   "outputs": [
    {
     "data": {
      "text/plain": [
       "32"
      ]
     },
     "execution_count": 11,
     "metadata": {},
     "output_type": "execute_result"
    }
   ],
   "source": [
    "# Loading test dataset\n",
    "df = pd.read_csv(\"1_RN_data.csv\")\n",
    "d = df.to_numpy()\n",
    "\n",
    "models = sort(d)\n",
    "len(models)"
   ]
  },
  {
   "cell_type": "code",
   "execution_count": 14,
   "id": "5ccdda7a",
   "metadata": {},
   "outputs": [
    {
     "data": {
      "application/vnd.jupyter.widget-view+json": {
       "model_id": "3d98b6193dba4c698b990fa0526dfece",
       "version_major": 2,
       "version_minor": 0
      },
      "text/plain": [
       "interactive(children=(IntSlider(value=16, description='model_num', max=31, min=1), Output()), _dom_classes=('w…"
      ]
     },
     "metadata": {},
     "output_type": "display_data"
    }
   ],
   "source": [
    "interact(plot, model_num=(1,len(models)-1,1));"
   ]
  },
  {
   "cell_type": "code",
   "execution_count": null,
   "id": "4a912643",
   "metadata": {},
   "outputs": [],
   "source": []
  }
 ],
 "metadata": {
  "kernelspec": {
   "display_name": "Python 3 (ipykernel)",
   "language": "python",
   "name": "python3"
  },
  "language_info": {
   "codemirror_mode": {
    "name": "ipython",
    "version": 3
   },
   "file_extension": ".py",
   "mimetype": "text/x-python",
   "name": "python",
   "nbconvert_exporter": "python",
   "pygments_lexer": "ipython3",
   "version": "3.8.10"
  }
 },
 "nbformat": 4,
 "nbformat_minor": 5
}
