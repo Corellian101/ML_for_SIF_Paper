{
 "cells": [
  {
   "cell_type": "code",
   "execution_count": 19,
   "id": "9ad5be57",
   "metadata": {},
   "outputs": [],
   "source": [
    "import tensorflow as tf\n",
    "from tensorflow.keras.models import Sequential\n",
    "from tensorflow.keras.layers import Dense\n",
    "from tensorflow.keras.callbacks import EarlyStopping\n",
    "import numpy as np\n",
    "import matplotlib.pyplot as plt\n",
    "import pandas as pd\n",
    "import timeit\n",
    "import time\n",
    "from torch.optim import Adam\n",
    "from __future__ import print_function\n",
    "from ipywidgets import interact, interactive, fixed, interact_manual\n",
    "import ipywidgets as widgets\n",
    "import matplotlib.pyplot as plt, random\n",
    "import numpy as np\n",
    "import matplotlib.pyplot as plt\n",
    "import sklearn\n",
    "from scipy.stats import loguniform\n",
    "from sklearn.svm import SVR\n",
    "import pandas as pd\n",
    "import timeit\n",
    "import time\n",
    "from joblib import dump, load\n",
    "from sklearn.model_selection import GridSearchCV, RandomizedSearchCV\n",
    "from __future__ import print_function\n",
    "from ipywidgets import interact, interactive, fixed, interact_manual\n",
    "import ipywidgets as widgets\n",
    "import matplotlib.pyplot as plt, random"
   ]
  },
  {
   "cell_type": "code",
   "execution_count": 20,
   "id": "d9ee18fc",
   "metadata": {},
   "outputs": [],
   "source": [
    "def F_s(a_c_,a_t_,c_b_,phi_,only_mg=True, ac_over_1 = None):\n",
    "    try:\n",
    "        len(a_c_)\n",
    "    except:\n",
    "        a_c_ = [a_c_]\n",
    "        a_t_ = [a_t_]\n",
    "        c_b_ = [c_b_]\n",
    "        phi_ = [phi_]\n",
    "        \n",
    "    a_c_ = np.array(a_c_)\n",
    "    a_t_ = np.array(a_t_)\n",
    "    c_b_ = np.array(c_b_)\n",
    "    phi_ = np.array(phi_)\n",
    "\n",
    "    # if ac_over_1 != None:\n",
    "    #     data = split_ac(np.column_stack((a_c_,a_t_,c_b_,phi_)), ac_over_1)\n",
    "    #     a_c_ = data[:, 0]\n",
    "    #     a_t_ = data[:, 1]\n",
    "    #     c_b_ = data[:, 2]\n",
    "    #     phi_ = data[:, 3]\n",
    "    \n",
    "    try:\n",
    "        F_s = np.zeros(len(a_c_))\n",
    "        iters = len(a_c_)\n",
    "    except:\n",
    "        F_s = np.zeros(1)\n",
    "        iters = 1\n",
    "    for i in range(iters):\n",
    "        a_c = a_c_[i]\n",
    "        a_t = a_t_[i]\n",
    "        c_b = c_b_[i]\n",
    "        phi = phi_[i]\n",
    "        fw = np.cos((np.pi/2)*(c_b)*np.sqrt(a_t))**(-0.5)\n",
    "        if np.isnan(a_c):\n",
    "            return 0\n",
    "        if a_c <= 1:\n",
    "            M1 = 1.13 - 0.09*(a_c)\n",
    "            M2 = -0.54 + (0.89/(0.2+(a_c)))\n",
    "            M3 = 0.5 - (1/(0.65+(a_c))) + 14*(1-(a_c))**(24)\n",
    "            g = 1 + (0.1 + 0.35*(a_t)**2)*(1-np.sin(phi))**2\n",
    "            fphi = ((a_c)**2*(np.cos(phi))**2+(np.sin(phi))**2)**(1/4)\n",
    "    \n",
    "        if a_c > 1:\n",
    "            M1 = np.sqrt((a_c**(-1)))*(1+0.04*((a_c**(-1))))\n",
    "            M2 = 0.2*((a_c**(-1)))**4\n",
    "            M3 = -0.11*((a_c**(-1)))**4\n",
    "            g = 1 + (0.1+0.35*((a_c**(-1)))*(a_t)**2)*(1-(np.sin(phi)))**2\n",
    "            fphi = ((((a_c**(-1)))**2)*np.sin(phi)**(2)+np.cos(phi)**(2))**(1/4)\n",
    "        \n",
    "        if only_mg:\n",
    "            Fs = (M1+M2*(a_t)**2+M3*(a_t)**4)*g\n",
    "        else:\n",
    "            Fs = (M1+M2*(a_t)**2+M3*(a_t)**4)*g*fphi*fw  \n",
    "        F_s[i] = Fs\n",
    "\n",
    "    return F_s"
   ]
  },
  {
   "cell_type": "code",
   "execution_count": 25,
   "id": "d24c8570",
   "metadata": {},
   "outputs": [],
   "source": [
    "def sort(data):\n",
    "    models = []\n",
    "    model = np.unique(data[:,[0,1,2]], axis=0)\n",
    "    \n",
    "    for i in model:\n",
    "        models.append(data[np.where((data[:,[0,1,2]] == i).all(axis=1))])\n",
    "\n",
    "    return models \n",
    "\n",
    "def compare(model):\n",
    "    rn_results = []\n",
    "    # RN Equation\n",
    "    for ex in model:\n",
    "        rn_results.append(F_s(ex[0], ex[1], ex[2], ex[3]))\n",
    "    \n",
    "    # ML Models\n",
    "    rbf_results_all = []\n",
    "    rbf_results_sep = []\n",
    "    nn_results_all = []\n",
    "    nn_results_sep = []\n",
    "    \n",
    "    rbf_result = np.zeros((len(model),1))\n",
    "    nn_result = np.zeros((len(model),1))\n",
    "    model = np.delete(model, [2,4], 1)\n",
    "\n",
    "    rbf_result[:,0] = rbf_reg_all.predict(model[:,:-1])\n",
    "    rbf_results_all.append(rbf_result)\n",
    "    nn_result[:,0] = np.squeeze(nn_reg_all.predict(model[:,:-1]), axis=-1)\n",
    "    nn_results_all.append(nn_result)\n",
    "\n",
    "    # a/c separated\n",
    "    rbf_result = np.zeros((len(model),1))\n",
    "    nn_result = np.zeros((len(model),1))\n",
    "    if model[0,0] <= 1:\n",
    "        rbf_result[:,0] = rbf_reg_le.predict(model[:,:-1])\n",
    "        nn_result[:,0] = np.squeeze(nn_reg_le.predict(model[:,:-1]), axis=-1)\n",
    "\n",
    "    elif model[0,0] > 1:\n",
    "        rbf_result[:,0] = rbf_reg_g.predict(model[:,:-1])\n",
    "        nn_result[:,0] = np.squeeze(nn_reg_g.predict(model[:,:-1]), axis=-1)\n",
    "\n",
    "    else:\n",
    "        print(\"Something wrong!\")\n",
    "\n",
    "    rbf_results_sep.append(rbf_result)\n",
    "    nn_results_sep.append(nn_result)\n",
    "        \n",
    "    return rbf_results_all, rbf_results_sep, nn_results_all, nn_results_sep, rn_results\n",
    "\n",
    "\n",
    "\n",
    "def plot(model_num):\n",
    "    rbf_results_all, rbf_results_sep, nn_results_all, nn_results_sep, rn_results = compare(models[model_num])\n",
    "    plt.scatter(models[model_num][:,-3], models[model_num][:,-1], label=\"Ground Truth\")\n",
    "    plt.plot(models[model_num][:,-3], nn_results_all[0][:,0], label=\"NN all\", color='red')\n",
    "    plt.plot(models[model_num][:,-3], nn_results_sep[0][:,0], label=\"NN separated\", color='green')\n",
    "    plt.plot(models[model_num][:,-3], rbf_results_all[0][:,0], label=\"RBF all\", color='black')\n",
    "    plt.plot(models[model_num][:,-3], rbf_results_sep[0][:,0], label=\"RBF separated\", color='cyan')\n",
    "    plt.plot(models[model_num][:,-3], rn_results[:], label=\"RN Equation\", color='m')\n",
    "    plt.title(\"a/c={}; a/t={}; c/b={}\".format(models[model_num][0,0],\n",
    "                                             models[model_num][0,1],\n",
    "                                             models[model_num][0,2]))\n",
    "    plt.xlabel(\"phi\")\n",
    "    plt.ylabel(\"Mg\")\n",
    "    plt.legend()\n",
    "    plt.show()\n",
    "    return"
   ]
  },
  {
   "cell_type": "code",
   "execution_count": 26,
   "id": "d5597343",
   "metadata": {},
   "outputs": [
    {
     "data": {
      "text/plain": [
       "32"
      ]
     },
     "execution_count": 26,
     "metadata": {},
     "output_type": "execute_result"
    }
   ],
   "source": [
    "# Loading test dataset\n",
    "df = pd.read_csv(\"1_RN_data.csv\")\n",
    "d = df.to_numpy()\n",
    "models = sort(d)\n",
    "len(models)"
   ]
  },
  {
   "cell_type": "code",
   "execution_count": 27,
   "id": "f34a4206",
   "metadata": {},
   "outputs": [],
   "source": [
    "rbf_reg_all = load(\"models/rbf_all.joblib\")\n",
    "nn_reg_all = tf.keras.models.load_model('models/NN_all.h5')\n",
    "\n",
    "rbf_reg_le = load(\"models/rbf_le.joblib\")\n",
    "nn_reg_le = tf.keras.models.load_model('models/NN_le.h5')\n",
    "\n",
    "rbf_reg_g = load(\"models/rbf_g.joblib\")\n",
    "nn_reg_g = tf.keras.models.load_model('models/NN_g.h5')"
   ]
  },
  {
   "cell_type": "code",
   "execution_count": 28,
   "id": "305f8889",
   "metadata": {},
   "outputs": [
    {
     "data": {
      "application/vnd.jupyter.widget-view+json": {
       "model_id": "89956e04ac2e40779b24026fe5dc2267",
       "version_major": 2,
       "version_minor": 0
      },
      "text/plain": [
       "interactive(children=(IntSlider(value=16, description='model_num', max=31, min=1), Output()), _dom_classes=('w…"
      ]
     },
     "metadata": {},
     "output_type": "display_data"
    }
   ],
   "source": [
    "interact(plot, model_num=(1,len(models)-1,1));"
   ]
  },
  {
   "cell_type": "code",
   "execution_count": null,
   "id": "0cbda4eb",
   "metadata": {},
   "outputs": [],
   "source": []
  }
 ],
 "metadata": {
  "kernelspec": {
   "display_name": "Python 3 (ipykernel)",
   "language": "python",
   "name": "python3"
  },
  "language_info": {
   "codemirror_mode": {
    "name": "ipython",
    "version": 3
   },
   "file_extension": ".py",
   "mimetype": "text/x-python",
   "name": "python",
   "nbconvert_exporter": "python",
   "pygments_lexer": "ipython3",
   "version": "3.8.10"
  }
 },
 "nbformat": 4,
 "nbformat_minor": 5
}
