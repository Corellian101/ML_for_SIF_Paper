{
 "cells": [
  {
   "cell_type": "code",
   "execution_count": 1,
   "id": "9ad5be57",
   "metadata": {},
   "outputs": [
    {
     "name": "stderr",
     "output_type": "stream",
     "text": [
      "2022-03-09 19:08:22.886819: W tensorflow/stream_executor/platform/default/dso_loader.cc:64] Could not load dynamic library 'libcudart.so.11.0'; dlerror: libcudart.so.11.0: cannot open shared object file: No such file or directory\n",
      "2022-03-09 19:08:22.886837: I tensorflow/stream_executor/cuda/cudart_stub.cc:29] Ignore above cudart dlerror if you do not have a GPU set up on your machine.\n"
     ]
    }
   ],
   "source": [
    "import tensorflow as tf\n",
    "from tensorflow.keras.models import Sequential\n",
    "from tensorflow.keras.layers import Dense\n",
    "from tensorflow.keras.callbacks import EarlyStopping\n",
    "import numpy as np\n",
    "import matplotlib.pyplot as plt\n",
    "import pandas as pd\n",
    "import timeit\n",
    "import time\n",
    "from torch.optim import Adam\n",
    "from __future__ import print_function\n",
    "from ipywidgets import interact, interactive, fixed, interact_manual\n",
    "import ipywidgets as widgets\n",
    "import matplotlib.pyplot as plt, random\n",
    "import numpy as np\n",
    "import matplotlib.pyplot as plt\n",
    "import sklearn\n",
    "from scipy.stats import loguniform\n",
    "from sklearn.svm import SVR\n",
    "import pandas as pd\n",
    "import timeit\n",
    "import time\n",
    "from joblib import dump, load\n",
    "from sklearn.model_selection import GridSearchCV, RandomizedSearchCV\n",
    "from __future__ import print_function\n",
    "from ipywidgets import interact, interactive, fixed, interact_manual\n",
    "import ipywidgets as widgets\n",
    "import matplotlib.pyplot as plt, random"
   ]
  },
  {
   "cell_type": "code",
   "execution_count": 9,
   "id": "d24c8570",
   "metadata": {},
   "outputs": [],
   "source": [
    "def sort(data):\n",
    "    models = []\n",
    "    model = np.unique(data[:,[0,1,2]], axis=0)\n",
    "    \n",
    "    for i in model:\n",
    "        models.append(data[np.where((data[:,[0,1,2]] == i).all(axis=1))])\n",
    "\n",
    "    return models \n",
    "\n",
    "def compare(model):\n",
    "    rbf_results_all = []\n",
    "    rbf_results_sep = []\n",
    "    nn_results_all = []\n",
    "    nn_results_sep = []\n",
    "    \n",
    "    rbf_result = np.zeros((len(model),1))\n",
    "    nn_result = np.zeros((len(model),1))\n",
    "    model = np.delete(model, [2,4], 1)\n",
    "\n",
    "    rbf_result[:,0] = rbf_reg_all.predict(model[:,:-1])\n",
    "    rbf_results_all.append(rbf_result)\n",
    "    nn_result[:,0] = np.squeeze(nn_reg_all.predict(model[:,:-1]), axis=-1)\n",
    "    nn_results_all.append(nn_result)\n",
    "\n",
    "    # a/c separated\n",
    "    rbf_result = np.zeros((len(model),1))\n",
    "    nn_result = np.zeros((len(model),1))\n",
    "    if model[0,0] <= 1:\n",
    "        rbf_result[:,0] = rbf_reg_le.predict(model[:,:-1])\n",
    "        nn_result[:,0] = np.squeeze(nn_reg_le.predict(model[:,:-1]), axis=-1)\n",
    "\n",
    "    elif model[0,0] > 1:\n",
    "        rbf_result[:,0] = rbf_reg_g.predict(model[:,:-1])\n",
    "        nn_result[:,0] = np.squeeze(nn_reg_g.predict(model[:,:-1]), axis=-1)\n",
    "\n",
    "    else:\n",
    "        print(\"Something wrong!\")\n",
    "\n",
    "    rbf_results_sep.append(rbf_result)\n",
    "    nn_results_sep.append(nn_result)\n",
    "        \n",
    "    return rbf_results_all, rbf_results_sep, nn_results_all, nn_results_sep\n",
    "\n",
    "\n",
    "\n",
    "def plot(model_num):\n",
    "    rbf_results_all, rbf_results_sep, nn_results_all, nn_results_sep = compare(models[model_num])\n",
    "    plt.scatter(models[model_num][:,-3], models[model_num][:,-1], label=\"Ground Truth\")\n",
    "    plt.plot(models[model_num][:,-3], nn_results_all[0][:,0], label=\"NN all\", color='red')\n",
    "    plt.plot(models[model_num][:,-3], nn_results_sep[0][:,0], label=\"NN separated\", color='green')\n",
    "    plt.plot(models[model_num][:,-3], rbf_results_all[0][:,0], label=\"RBF all\", color='black')\n",
    "    plt.plot(models[model_num][:,-3], rbf_results_sep[0][:,0], label=\"RBF separated\", color='cyan')\n",
    "    plt.title(\"a/c={}; a/t={}; c/b={}\".format(models[model_num][0,0],\n",
    "                                             models[model_num][0,1],\n",
    "                                             models[model_num][0,2]))\n",
    "    plt.xlabel(\"phi\")\n",
    "    plt.ylabel(\"Mg\")\n",
    "    plt.legend()\n",
    "    plt.show()\n",
    "    return"
   ]
  },
  {
   "cell_type": "code",
   "execution_count": 10,
   "id": "d5597343",
   "metadata": {},
   "outputs": [
    {
     "data": {
      "text/plain": [
       "32"
      ]
     },
     "execution_count": 10,
     "metadata": {},
     "output_type": "execute_result"
    }
   ],
   "source": [
    "# Loading test dataset\n",
    "df = pd.read_csv(\"1_RN_data.csv\")\n",
    "d = df.to_numpy()\n",
    "models = sort(d)\n",
    "len(models)"
   ]
  },
  {
   "cell_type": "code",
   "execution_count": 11,
   "id": "f34a4206",
   "metadata": {},
   "outputs": [],
   "source": [
    "rbf_reg_all = load(\"models/rbf_all.joblib\")\n",
    "nn_reg_all = tf.keras.models.load_model('models/NN_all.h5')\n",
    "\n",
    "rbf_reg_le = load(\"models/rbf_le.joblib\")\n",
    "nn_reg_le = tf.keras.models.load_model('models/NN_le.h5')\n",
    "\n",
    "rbf_reg_g = load(\"models/rbf_g.joblib\")\n",
    "nn_reg_g = tf.keras.models.load_model('models/NN_g.h5')"
   ]
  },
  {
   "cell_type": "code",
   "execution_count": 12,
   "id": "305f8889",
   "metadata": {},
   "outputs": [
    {
     "data": {
      "application/vnd.jupyter.widget-view+json": {
       "model_id": "09070cbbc682479fba0c4d64c281ece7",
       "version_major": 2,
       "version_minor": 0
      },
      "text/plain": [
       "interactive(children=(IntSlider(value=16, description='model_num', max=31, min=1), Output()), _dom_classes=('w…"
      ]
     },
     "metadata": {},
     "output_type": "display_data"
    }
   ],
   "source": [
    "interact(plot, model_num=(1,len(models)-1,1));"
   ]
  },
  {
   "cell_type": "code",
   "execution_count": null,
   "id": "20302d8e",
   "metadata": {},
   "outputs": [],
   "source": []
  }
 ],
 "metadata": {
  "kernelspec": {
   "display_name": "Python 3 (ipykernel)",
   "language": "python",
   "name": "python3"
  },
  "language_info": {
   "codemirror_mode": {
    "name": "ipython",
    "version": 3
   },
   "file_extension": ".py",
   "mimetype": "text/x-python",
   "name": "python",
   "nbconvert_exporter": "python",
   "pygments_lexer": "ipython3",
   "version": "3.8.10"
  }
 },
 "nbformat": 4,
 "nbformat_minor": 5
}
