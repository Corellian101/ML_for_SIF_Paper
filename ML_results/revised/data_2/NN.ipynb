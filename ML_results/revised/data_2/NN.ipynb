{
 "cells": [
  {
   "cell_type": "markdown",
   "id": "047d10c6",
   "metadata": {},
   "source": [
    "# Dependencies"
   ]
  },
  {
   "cell_type": "code",
   "execution_count": 1,
   "id": "54e6a3f5",
   "metadata": {
    "scrolled": true
   },
   "outputs": [
    {
     "name": "stderr",
     "output_type": "stream",
     "text": [
      "2022-03-09 18:52:13.188217: W tensorflow/stream_executor/platform/default/dso_loader.cc:64] Could not load dynamic library 'libcudart.so.11.0'; dlerror: libcudart.so.11.0: cannot open shared object file: No such file or directory\n",
      "2022-03-09 18:52:13.188235: I tensorflow/stream_executor/cuda/cudart_stub.cc:29] Ignore above cudart dlerror if you do not have a GPU set up on your machine.\n"
     ]
    }
   ],
   "source": [
    "import tensorflow as tf\n",
    "from tensorflow.keras.models import Sequential\n",
    "from tensorflow.keras.layers import Dense\n",
    "from tensorflow.keras.callbacks import EarlyStopping\n",
    "import numpy as np\n",
    "import matplotlib.pyplot as plt\n",
    "import pandas as pd\n",
    "import timeit\n",
    "import time\n",
    "from torch.optim import Adam\n",
    "from __future__ import print_function\n",
    "from ipywidgets import interact, interactive, fixed, interact_manual\n",
    "import ipywidgets as widgets\n",
    "import matplotlib.pyplot as plt, random"
   ]
  },
  {
   "cell_type": "code",
   "execution_count": 2,
   "id": "a48ba3c7",
   "metadata": {},
   "outputs": [],
   "source": [
    "all_times = []\n",
    "le_times = []\n",
    "g_times = []\n",
    "\n",
    "pred_all_times = []\n",
    "pred_le_times = []\n",
    "pred_g_times = []\n",
    "\n",
    "all_MAE = []\n",
    "le_MAE = []\n",
    "g_MAE = []"
   ]
  },
  {
   "cell_type": "code",
   "execution_count": 19,
   "id": "573a4355",
   "metadata": {},
   "outputs": [],
   "source": [
    "all_MSE = []\n",
    "le_MSE = []\n",
    "g_MSE = []"
   ]
  },
  {
   "cell_type": "markdown",
   "id": "ba83fecd",
   "metadata": {},
   "source": [
    "# Data"
   ]
  },
  {
   "cell_type": "code",
   "execution_count": 46,
   "id": "1f585eaa",
   "metadata": {},
   "outputs": [],
   "source": [
    "num_data = \"100k\""
   ]
  },
  {
   "cell_type": "code",
   "execution_count": 47,
   "id": "4dd0a049",
   "metadata": {},
   "outputs": [
    {
     "data": {
      "text/plain": [
       "((97290, 4), (44390, 4), (52900, 4))"
      ]
     },
     "execution_count": 47,
     "metadata": {},
     "output_type": "execute_result"
    }
   ],
   "source": [
    "df = pd.read_csv(\"train/{}.csv\".format(num_data))\n",
    "df.drop([\"c/b\", \"F\"], axis=1, inplace=True)\n",
    "d = df.to_numpy()\n",
    "\n",
    "d_le = np.load(\"train/{}_le1.npy\".format(num_data))\n",
    "d_g = np.load(\"train/{}_g1.npy\".format(num_data))\n",
    "\n",
    "d.shape, d_le.shape, d_g.shape"
   ]
  },
  {
   "cell_type": "markdown",
   "id": "bc8d77f4",
   "metadata": {},
   "source": [
    "# NN Fitting"
   ]
  },
  {
   "cell_type": "code",
   "execution_count": 48,
   "id": "1aed539d",
   "metadata": {},
   "outputs": [],
   "source": [
    "def NN(X_train, y_train):\n",
    "    #create model\n",
    "    model = Sequential()\n",
    "    #get number of columns in training data\n",
    "    n_cols = X_train.shape[1]\n",
    "    #add model layers\n",
    "    model.add(Dense(10, activation='tanh', input_shape=(n_cols,), kernel_initializer=tf.keras.initializers.HeUniform()))\n",
    "    model.add(Dense(50, activation='tanh', kernel_initializer=tf.keras.initializers.HeUniform()))\n",
    "    model.add(Dense(50, activation='tanh', kernel_initializer=tf.keras.initializers.HeUniform()))\n",
    "    model.add(Dense(50, activation='tanh', kernel_initializer=tf.keras.initializers.HeUniform()))\n",
    "    model.add(Dense(50, activation='tanh', kernel_initializer=tf.keras.initializers.HeUniform()))\n",
    "    model.add(Dense(1, activation='relu', kernel_initializer=tf.keras.initializers.HeUniform()))\n",
    "    model.compile(optimizer=tf.keras.optimizers.Adam(learning_rate=0.001), loss='mse')\n",
    "    early_stopping_monitor = EarlyStopping(patience=10)\n",
    "    history = model.fit(X_train, y_train, validation_split=0.2, epochs=1000, callbacks=[early_stopping_monitor])\n",
    "    return history, model"
   ]
  },
  {
   "cell_type": "code",
   "execution_count": 49,
   "id": "53e4a267",
   "metadata": {
    "scrolled": true
   },
   "outputs": [
    {
     "name": "stdout",
     "output_type": "stream",
     "text": [
      "Epoch 1/1000\n",
      "2433/2433 [==============================] - 3s 997us/step - loss: 0.0098 - val_loss: 6.6761e-04\n",
      "Epoch 2/1000\n",
      "2433/2433 [==============================] - 3s 1ms/step - loss: 7.2817e-04 - val_loss: 0.0012\n",
      "Epoch 3/1000\n",
      "2433/2433 [==============================] - 2s 956us/step - loss: 4.8124e-04 - val_loss: 4.6004e-04\n",
      "Epoch 4/1000\n",
      "2433/2433 [==============================] - 3s 1ms/step - loss: 3.4530e-04 - val_loss: 2.0351e-04\n",
      "Epoch 5/1000\n",
      "2433/2433 [==============================] - 2s 947us/step - loss: 3.5521e-04 - val_loss: 4.5605e-04\n",
      "Epoch 6/1000\n",
      "2433/2433 [==============================] - 2s 1ms/step - loss: 2.4054e-04 - val_loss: 8.9300e-04\n",
      "Epoch 7/1000\n",
      "2433/2433 [==============================] - 3s 1ms/step - loss: 1.9012e-04 - val_loss: 6.9415e-04\n",
      "Epoch 8/1000\n",
      "2433/2433 [==============================] - 2s 955us/step - loss: 1.9320e-04 - val_loss: 7.5376e-04\n",
      "Epoch 9/1000\n",
      "2433/2433 [==============================] - 2s 976us/step - loss: 2.0038e-04 - val_loss: 0.0018\n",
      "Epoch 10/1000\n",
      "2433/2433 [==============================] - 2s 1ms/step - loss: 1.5149e-04 - val_loss: 5.1836e-04\n",
      "Epoch 11/1000\n",
      "2433/2433 [==============================] - 3s 1ms/step - loss: 1.3103e-04 - val_loss: 3.5322e-04\n",
      "Epoch 12/1000\n",
      "2433/2433 [==============================] - 3s 1ms/step - loss: 1.2870e-04 - val_loss: 2.4159e-04\n",
      "Epoch 13/1000\n",
      "2433/2433 [==============================] - 3s 1ms/step - loss: 1.2037e-04 - val_loss: 3.0911e-04\n",
      "Epoch 14/1000\n",
      "2433/2433 [==============================] - 2s 1ms/step - loss: 1.1453e-04 - val_loss: 1.7368e-04\n",
      "Epoch 15/1000\n",
      "2433/2433 [==============================] - 3s 1ms/step - loss: 1.2979e-04 - val_loss: 0.0011\n",
      "Epoch 16/1000\n",
      "2433/2433 [==============================] - 3s 1ms/step - loss: 1.2091e-04 - val_loss: 1.5850e-04\n",
      "Epoch 17/1000\n",
      "2433/2433 [==============================] - 3s 1ms/step - loss: 8.6607e-05 - val_loss: 0.0012\n",
      "Epoch 18/1000\n",
      "2433/2433 [==============================] - 3s 1ms/step - loss: 9.0695e-05 - val_loss: 2.3082e-04\n",
      "Epoch 19/1000\n",
      "2433/2433 [==============================] - 3s 1ms/step - loss: 8.8912e-05 - val_loss: 2.7740e-04\n",
      "Epoch 20/1000\n",
      "2433/2433 [==============================] - 3s 1ms/step - loss: 8.5333e-05 - val_loss: 6.1455e-04\n",
      "Epoch 21/1000\n",
      "2433/2433 [==============================] - 3s 1ms/step - loss: 8.9976e-05 - val_loss: 4.0845e-04\n",
      "Epoch 22/1000\n",
      "2433/2433 [==============================] - 3s 1ms/step - loss: 8.1497e-05 - val_loss: 9.5007e-04\n",
      "Epoch 23/1000\n",
      "2433/2433 [==============================] - 3s 1ms/step - loss: 6.5970e-05 - val_loss: 9.2830e-04\n",
      "Epoch 24/1000\n",
      "2433/2433 [==============================] - 3s 1ms/step - loss: 9.0238e-05 - val_loss: 0.0012\n",
      "Epoch 25/1000\n",
      "2433/2433 [==============================] - 3s 1ms/step - loss: 6.2483e-05 - val_loss: 7.4565e-04\n",
      "Epoch 26/1000\n",
      "2433/2433 [==============================] - 2s 1ms/step - loss: 8.1981e-05 - val_loss: 6.0882e-04\n",
      "NN train time: 68.57174944877625 secs\n"
     ]
    }
   ],
   "source": [
    "t0 = time.time()\n",
    "history, reg_all = NN(d[:,:3], d[:,3])\n",
    "t1 = time.time()\n",
    "print(\"NN train time: {} secs\".format(t1-t0))"
   ]
  },
  {
   "cell_type": "code",
   "execution_count": 50,
   "id": "13f3eb77",
   "metadata": {},
   "outputs": [],
   "source": [
    "all_times.append(t1-t0)"
   ]
  },
  {
   "cell_type": "code",
   "execution_count": 51,
   "id": "547e3fed",
   "metadata": {},
   "outputs": [
    {
     "name": "stdout",
     "output_type": "stream",
     "text": [
      "Epoch 1/1000\n",
      "1110/1110 [==============================] - 1s 1ms/step - loss: 0.0158 - val_loss: 0.0022\n",
      "Epoch 2/1000\n",
      "1110/1110 [==============================] - 1s 1ms/step - loss: 0.0014 - val_loss: 0.0023\n",
      "Epoch 3/1000\n",
      "1110/1110 [==============================] - 1s 1ms/step - loss: 8.7357e-04 - val_loss: 0.0019\n",
      "Epoch 4/1000\n",
      "1110/1110 [==============================] - 1s 1ms/step - loss: 5.2391e-04 - val_loss: 7.2860e-04\n",
      "Epoch 5/1000\n",
      "1110/1110 [==============================] - 1s 1ms/step - loss: 3.8457e-04 - val_loss: 5.0290e-04\n",
      "Epoch 6/1000\n",
      "1110/1110 [==============================] - 1s 1ms/step - loss: 2.5835e-04 - val_loss: 1.8728e-04\n",
      "Epoch 7/1000\n",
      "1110/1110 [==============================] - 1s 1ms/step - loss: 2.9865e-04 - val_loss: 5.7687e-04\n",
      "Epoch 8/1000\n",
      "1110/1110 [==============================] - 1s 972us/step - loss: 2.4820e-04 - val_loss: 3.6713e-04\n",
      "Epoch 9/1000\n",
      "1110/1110 [==============================] - 1s 1ms/step - loss: 1.7859e-04 - val_loss: 0.0038\n",
      "Epoch 10/1000\n",
      "1110/1110 [==============================] - 1s 976us/step - loss: 2.2783e-04 - val_loss: 3.5710e-04\n",
      "Epoch 11/1000\n",
      "1110/1110 [==============================] - 1s 1ms/step - loss: 1.7748e-04 - val_loss: 2.8209e-04\n",
      "Epoch 12/1000\n",
      "1110/1110 [==============================] - 1s 1ms/step - loss: 1.4278e-04 - val_loss: 2.0713e-04\n",
      "Epoch 13/1000\n",
      "1110/1110 [==============================] - 1s 1ms/step - loss: 2.5570e-04 - val_loss: 3.5588e-04\n",
      "Epoch 14/1000\n",
      "1110/1110 [==============================] - 1s 1ms/step - loss: 1.0347e-04 - val_loss: 4.4126e-04\n",
      "Epoch 15/1000\n",
      "1110/1110 [==============================] - 1s 1ms/step - loss: 1.1150e-04 - val_loss: 9.3047e-05\n",
      "Epoch 16/1000\n",
      "1110/1110 [==============================] - 1s 985us/step - loss: 1.7191e-04 - val_loss: 1.3525e-04\n",
      "Epoch 17/1000\n",
      "1110/1110 [==============================] - 1s 985us/step - loss: 1.4498e-04 - val_loss: 4.5714e-04\n",
      "Epoch 18/1000\n",
      "1110/1110 [==============================] - 1s 1ms/step - loss: 1.4527e-04 - val_loss: 1.0695e-04\n",
      "Epoch 19/1000\n",
      "1110/1110 [==============================] - 1s 1ms/step - loss: 1.2434e-04 - val_loss: 1.6962e-04\n",
      "Epoch 20/1000\n",
      "1110/1110 [==============================] - 1s 1ms/step - loss: 1.0023e-04 - val_loss: 3.0488e-04\n",
      "Epoch 21/1000\n",
      "1110/1110 [==============================] - 1s 1ms/step - loss: 1.0748e-04 - val_loss: 9.9421e-05\n",
      "Epoch 22/1000\n",
      "1110/1110 [==============================] - 1s 1ms/step - loss: 1.2926e-04 - val_loss: 2.1154e-04\n",
      "Epoch 23/1000\n",
      "1110/1110 [==============================] - 1s 1ms/step - loss: 1.2051e-04 - val_loss: 8.9108e-05\n",
      "Epoch 24/1000\n",
      "1110/1110 [==============================] - 1s 1ms/step - loss: 9.6110e-05 - val_loss: 1.0506e-04\n",
      "Epoch 25/1000\n",
      "1110/1110 [==============================] - 1s 1ms/step - loss: 1.0297e-04 - val_loss: 2.2582e-04\n",
      "Epoch 26/1000\n",
      "1110/1110 [==============================] - 1s 1ms/step - loss: 8.1003e-05 - val_loss: 8.3700e-05\n",
      "Epoch 27/1000\n",
      "1110/1110 [==============================] - 1s 1ms/step - loss: 1.1481e-04 - val_loss: 1.7137e-04\n",
      "Epoch 28/1000\n",
      "1110/1110 [==============================] - 1s 1ms/step - loss: 9.9811e-05 - val_loss: 1.2739e-04\n",
      "Epoch 29/1000\n",
      "1110/1110 [==============================] - 1s 1ms/step - loss: 7.6267e-05 - val_loss: 9.7752e-05\n",
      "Epoch 30/1000\n",
      "1110/1110 [==============================] - 1s 1ms/step - loss: 8.4728e-05 - val_loss: 1.4193e-04\n",
      "Epoch 31/1000\n",
      "1110/1110 [==============================] - 1s 1ms/step - loss: 9.6025e-05 - val_loss: 6.5108e-05\n",
      "Epoch 32/1000\n",
      "1110/1110 [==============================] - 1s 1ms/step - loss: 1.1706e-04 - val_loss: 1.7428e-04\n",
      "Epoch 33/1000\n",
      "1110/1110 [==============================] - 1s 1ms/step - loss: 4.6375e-05 - val_loss: 1.7324e-04\n",
      "Epoch 34/1000\n",
      "1110/1110 [==============================] - 1s 952us/step - loss: 1.3527e-04 - val_loss: 7.8251e-05\n",
      "Epoch 35/1000\n",
      "1110/1110 [==============================] - 1s 946us/step - loss: 7.7854e-05 - val_loss: 9.4438e-05\n",
      "Epoch 36/1000\n",
      "1110/1110 [==============================] - 1s 970us/step - loss: 5.4802e-05 - val_loss: 2.2403e-04\n",
      "Epoch 37/1000\n",
      "1110/1110 [==============================] - 1s 956us/step - loss: 9.6029e-05 - val_loss: 9.0631e-05\n",
      "Epoch 38/1000\n",
      "1110/1110 [==============================] - 1s 958us/step - loss: 1.3685e-04 - val_loss: 1.2510e-04\n",
      "Epoch 39/1000\n",
      "1110/1110 [==============================] - 1s 1ms/step - loss: 3.4142e-05 - val_loss: 9.1116e-05\n",
      "Epoch 40/1000\n",
      "1110/1110 [==============================] - 1s 1ms/step - loss: 1.4052e-04 - val_loss: 1.6658e-04\n",
      "Epoch 41/1000\n",
      "1110/1110 [==============================] - 1s 1ms/step - loss: 6.2843e-05 - val_loss: 1.3175e-04\n",
      "NN train time: 50.00680446624756 secs\n"
     ]
    }
   ],
   "source": [
    "t0 = time.time()\n",
    "history, reg_le = NN(d_le[:,:3], d_le[:,3])\n",
    "t1 = time.time()\n",
    "print(\"NN train time: {} secs\".format(t1-t0))"
   ]
  },
  {
   "cell_type": "code",
   "execution_count": 52,
   "id": "ad27f9e4",
   "metadata": {},
   "outputs": [],
   "source": [
    "le_times.append(t1-t0)"
   ]
  },
  {
   "cell_type": "code",
   "execution_count": 53,
   "id": "3dd3b907",
   "metadata": {},
   "outputs": [
    {
     "name": "stdout",
     "output_type": "stream",
     "text": [
      "Epoch 1/1000\n",
      "1323/1323 [==============================] - 2s 1ms/step - loss: 0.0036 - val_loss: 5.5237e-04\n",
      "Epoch 2/1000\n",
      "1323/1323 [==============================] - 1s 935us/step - loss: 4.1854e-04 - val_loss: 3.9326e-04\n",
      "Epoch 3/1000\n",
      "1323/1323 [==============================] - 1s 999us/step - loss: 3.1624e-04 - val_loss: 5.9790e-04\n",
      "Epoch 4/1000\n",
      "1323/1323 [==============================] - 1s 1ms/step - loss: 2.4228e-04 - val_loss: 2.4917e-04\n",
      "Epoch 5/1000\n",
      "1323/1323 [==============================] - 2s 1ms/step - loss: 1.5052e-04 - val_loss: 8.1403e-05\n",
      "Epoch 6/1000\n",
      "1323/1323 [==============================] - 1s 970us/step - loss: 8.5897e-05 - val_loss: 3.1665e-04\n",
      "Epoch 7/1000\n",
      "1323/1323 [==============================] - 1s 998us/step - loss: 8.3608e-05 - val_loss: 4.5261e-05\n",
      "Epoch 8/1000\n",
      "1323/1323 [==============================] - 1s 1ms/step - loss: 7.2068e-05 - val_loss: 1.8742e-04\n",
      "Epoch 9/1000\n",
      "1323/1323 [==============================] - 1s 1ms/step - loss: 9.9020e-05 - val_loss: 7.3923e-05\n",
      "Epoch 10/1000\n",
      "1323/1323 [==============================] - 2s 1ms/step - loss: 2.8977e-05 - val_loss: 3.8866e-05\n",
      "Epoch 11/1000\n",
      "1323/1323 [==============================] - 1s 949us/step - loss: 6.4878e-05 - val_loss: 1.0832e-04\n",
      "Epoch 12/1000\n",
      "1323/1323 [==============================] - 1s 980us/step - loss: 4.8783e-05 - val_loss: 1.1883e-04\n",
      "Epoch 13/1000\n",
      "1323/1323 [==============================] - 1s 984us/step - loss: 4.8896e-05 - val_loss: 3.5671e-05\n",
      "Epoch 14/1000\n",
      "1323/1323 [==============================] - 1s 1ms/step - loss: 2.9878e-05 - val_loss: 4.2889e-05\n",
      "Epoch 15/1000\n",
      "1323/1323 [==============================] - 1s 975us/step - loss: 5.0976e-05 - val_loss: 3.8534e-05\n",
      "Epoch 16/1000\n",
      "1323/1323 [==============================] - 2s 1ms/step - loss: 3.2335e-05 - val_loss: 4.6031e-05\n",
      "Epoch 17/1000\n",
      "1323/1323 [==============================] - 1s 972us/step - loss: 2.1995e-05 - val_loss: 2.5480e-05\n",
      "Epoch 18/1000\n",
      "1323/1323 [==============================] - 2s 1ms/step - loss: 3.1911e-05 - val_loss: 7.6575e-06\n",
      "Epoch 19/1000\n",
      "1323/1323 [==============================] - 1s 1ms/step - loss: 4.1924e-05 - val_loss: 1.5198e-05\n",
      "Epoch 20/1000\n",
      "1323/1323 [==============================] - 1s 1ms/step - loss: 2.6693e-05 - val_loss: 1.1287e-05\n",
      "Epoch 21/1000\n",
      "1323/1323 [==============================] - 1s 977us/step - loss: 2.3584e-05 - val_loss: 3.0051e-05\n",
      "Epoch 22/1000\n",
      "1323/1323 [==============================] - 1s 932us/step - loss: 2.4140e-05 - val_loss: 6.3435e-05\n",
      "Epoch 23/1000\n",
      "1323/1323 [==============================] - 1s 964us/step - loss: 3.9771e-05 - val_loss: 3.2253e-05\n",
      "Epoch 24/1000\n",
      "1323/1323 [==============================] - 1s 1ms/step - loss: 2.1082e-05 - val_loss: 3.9246e-05\n",
      "Epoch 25/1000\n",
      "1323/1323 [==============================] - 1s 969us/step - loss: 2.9386e-05 - val_loss: 6.8964e-05\n",
      "Epoch 26/1000\n",
      "1323/1323 [==============================] - 1s 966us/step - loss: 1.6366e-05 - val_loss: 1.0529e-05\n",
      "Epoch 27/1000\n",
      "1323/1323 [==============================] - 1s 1ms/step - loss: 2.3741e-05 - val_loss: 1.0745e-05\n",
      "Epoch 28/1000\n",
      "1323/1323 [==============================] - 1s 1ms/step - loss: 2.1927e-05 - val_loss: 6.0419e-05\n",
      "NN train time: 38.35809350013733 secs\n"
     ]
    }
   ],
   "source": [
    "t0 = time.time()\n",
    "history, reg_g = NN(d_g[:,:3], d_g[:,3])\n",
    "t1 = time.time()\n",
    "print(\"NN train time: {} secs\".format(t1-t0))"
   ]
  },
  {
   "cell_type": "code",
   "execution_count": 54,
   "id": "162fe5f0",
   "metadata": {},
   "outputs": [],
   "source": [
    "g_times.append(t1-t0)"
   ]
  },
  {
   "cell_type": "markdown",
   "id": "23824d35",
   "metadata": {},
   "source": [
    "# Results"
   ]
  },
  {
   "cell_type": "code",
   "execution_count": 55,
   "id": "5b2f86f6",
   "metadata": {},
   "outputs": [
    {
     "data": {
      "text/plain": [
       "((13824, 4), (6336, 4), (7488, 4))"
      ]
     },
     "execution_count": 55,
     "metadata": {},
     "output_type": "execute_result"
    }
   ],
   "source": [
    "df = pd.read_csv(\"test/2_RN_eqn_data_TEST.csv\")\n",
    "df.drop([\"c/b\", \"F\"], axis=1, inplace=True)\n",
    "d = df.to_numpy()\n",
    "\n",
    "d_le = np.load(\"test/le1.npy\")\n",
    "d_g = np.load(\"test/g1.npy\")\n",
    "\n",
    "d.shape, d_le.shape, d_g.shape"
   ]
  },
  {
   "cell_type": "code",
   "execution_count": 56,
   "id": "3b8cdedd",
   "metadata": {},
   "outputs": [
    {
     "name": "stdout",
     "output_type": "stream",
     "text": [
      "432/432 [==============================] - 0s 892us/step - loss: 1.7872e-04\n",
      "MAE all:  0.3051965598738298\n",
      "Prediction time:  0.25738048553466797\n",
      "198/198 [==============================] - 0s 880us/step - loss: 6.6847e-05\n",
      "MAE a/c<=1:  0.28417056348193415\n",
      "Prediction time:  0.24448132514953613\n",
      "234/234 [==============================] - 0s 896us/step - loss: 2.1520e-05\n",
      "MAE a/c>1:  0.4196440252311813\n",
      "Prediction time:  0.23816418647766113\n"
     ]
    }
   ],
   "source": [
    "def error(reg, data):\n",
    "    t0 = time.time()\n",
    "    result = reg.predict(data[:,:-1])\n",
    "    t1 = time.time()\n",
    "    MAE = np.mean(np.abs(result-data[:,-1]))\n",
    "    return MAE, t1-t0\n",
    "\n",
    "mse, t = error(reg_all, d)\n",
    "pred_all_times.append(t)\n",
    "all_MAE.append(mse)\n",
    "all_MSE.append(reg_all.evaluate(d[:,:-1],d[:,-1]))\n",
    "print(\"MAE all: \", mse)\n",
    "print(\"Prediction time: \", t)\n",
    "\n",
    "mse, t = error(reg_le, d)\n",
    "pred_le_times.append(t)\n",
    "le_MAE.append(mse)\n",
    "le_MSE.append(reg_le.evaluate(d_le[:,:-1],d_le[:,-1]))\n",
    "print(\"MAE a/c<=1: \", mse)\n",
    "print(\"Prediction time: \", t)\n",
    "\n",
    "mse, t = error(reg_g, d)\n",
    "pred_g_times.append(t)\n",
    "g_MAE.append(mse)\n",
    "g_MSE.append(reg_g.evaluate(d_g[:,:-1],d_g[:,-1]))\n",
    "print(\"MAE a/c>1: \", mse)\n",
    "print(\"Prediction time: \", t)"
   ]
  },
  {
   "cell_type": "code",
   "execution_count": 57,
   "id": "c937e9e7",
   "metadata": {},
   "outputs": [],
   "source": [
    "reg_all.save(\"models/{}_NN_all.h5\".format(num_data))\n",
    "reg_le.save(\"models/{}_NN_le.h5\".format(num_data))\n",
    "reg_g.save(\"models/{}_NN_g.h5\".format(num_data))"
   ]
  },
  {
   "cell_type": "markdown",
   "id": "b1d36763",
   "metadata": {},
   "source": [
    "## Fitting Equation"
   ]
  },
  {
   "cell_type": "code",
   "execution_count": 82,
   "id": "e640e732",
   "metadata": {},
   "outputs": [],
   "source": [
    "def sort(data):\n",
    "    models = []\n",
    "    model = np.unique(data[:,[0,1,2]], axis=0)\n",
    "    \n",
    "    for i in model:\n",
    "        models.append(data[np.where((data[:,[0,1,2]] == i).all(axis=1))])\n",
    "\n",
    "    return models \n",
    "\n",
    "def compare(model):\n",
    "    results_all = []\n",
    "    results_sep = []\n",
    "    \n",
    "    result = np.zeros((len(model),1))\n",
    "    model = np.delete(model, [2,4], 1)\n",
    "\n",
    "    result[:,0] = np.squeeze(reg_all.predict(model[:,:-1]), axis=-1)\n",
    "    results_all.append(result)\n",
    "\n",
    "    # a/c separated\n",
    "    result = np.zeros((len(model),1))\n",
    "    if model[0,0] <= 1:\n",
    "        result[:,0] = np.squeeze(reg_le.predict(model[:,:-1]), axis=-1)\n",
    "\n",
    "    elif model[0,0] > 1:\n",
    "        result[:,0] = np.squeeze(reg_g.predict(model[:,:-1]), axis=-1)\n",
    "\n",
    "    else:\n",
    "        print(\"Something wrong!\")\n",
    "\n",
    "    results_sep.append(result)\n",
    "        \n",
    "    return results_all, results_sep\n",
    "\n",
    "\n",
    "\n",
    "def plot(model_num):\n",
    "    results_all, results_sep = compare(models[model_num])\n",
    "    plt.scatter(models[model_num][:,-3], models[model_num][:,-1], label=\"Ground Truth\")\n",
    "    plt.plot(models[model_num][:,-3], results_all[0][:,0], label=\"NN all\", color='red')\n",
    "    plt.plot(models[model_num][:,-3], results_sep[0][:,0], label=\"NN separated\", color='green')\n",
    "    plt.title(\"a/c={}; a/t={}; c/b={}\".format(models[model_num][0,0],\n",
    "                                             models[model_num][0,1],\n",
    "                                             models[model_num][0,2]))\n",
    "    plt.xlabel(\"phi\")\n",
    "    plt.ylabel(\"Mg\")\n",
    "    plt.legend()\n",
    "    plt.show()\n",
    "    return"
   ]
  },
  {
   "cell_type": "code",
   "execution_count": 83,
   "id": "d7926f98",
   "metadata": {},
   "outputs": [
    {
     "data": {
      "text/plain": [
       "(97290, 6)"
      ]
     },
     "execution_count": 83,
     "metadata": {},
     "output_type": "execute_result"
    }
   ],
   "source": [
    "# Loading test dataset\n",
    "df = pd.read_csv(\"test/2_RN_eqn_data_TEST.csv\")\n",
    "d = df.to_numpy()\n",
    "d.shape"
   ]
  },
  {
   "cell_type": "code",
   "execution_count": 84,
   "id": "7a0dcaa5",
   "metadata": {},
   "outputs": [
    {
     "data": {
      "text/plain": [
       "2115"
      ]
     },
     "execution_count": 84,
     "metadata": {},
     "output_type": "execute_result"
    }
   ],
   "source": [
    "models = sort(d)\n",
    "len(models)"
   ]
  },
  {
   "cell_type": "code",
   "execution_count": 85,
   "id": "f8144a3a",
   "metadata": {},
   "outputs": [
    {
     "data": {
      "application/vnd.jupyter.widget-view+json": {
       "model_id": "ac9ab6fd9b0d437b983ab9c4f28f806d",
       "version_major": 2,
       "version_minor": 0
      },
      "text/plain": [
       "interactive(children=(IntSlider(value=1057, description='model_num', max=2114, min=1), Output()), _dom_classes…"
      ]
     },
     "metadata": {},
     "output_type": "display_data"
    }
   ],
   "source": [
    "interact(plot, model_num=(1,len(models)-1,1));"
   ]
  },
  {
   "cell_type": "code",
   "execution_count": 62,
   "id": "8e4f4f5c",
   "metadata": {},
   "outputs": [],
   "source": [
    "# np.save(\"results/all_times.npy\", all_times)\n",
    "# np.save(\"results/le_times.npy\", le_times)\n",
    "# np.save(\"results/g_times.npy\", g_times)\n",
    "\n",
    "# np.save(\"results/pred_all_times.npy\", pred_all_times)\n",
    "# np.save(\"results/pred_le_times.npy\", pred_le_times)\n",
    "# np.save(\"results/pred_g_times.npy\", pred_g_times)\n",
    "\n",
    "# np.save(\"results/all_MAE.npy\", all_MAE)\n",
    "# np.save(\"results/le_MAE.npy\", le_MAE)\n",
    "# np.save(\"results/g_MAE.npy\", g_MAE)\n",
    "\n",
    "np.save(\"results/all_MSE.npy\", all_MSE)\n",
    "np.save(\"results/le_MSE.npy\", le_MSE)\n",
    "np.save(\"results/g_MSE.npy\", g_MSE)"
   ]
  },
  {
   "cell_type": "code",
   "execution_count": null,
   "id": "2f476f1d",
   "metadata": {},
   "outputs": [],
   "source": [
    "pred_all_times = np.load(\"results/pred_all_times.npy\")\n",
    "pred_le_times = np.load(\"results/pred_le_times.npy\")\n",
    "pred_g_times = np.load(\"results/pred_g_times.npy\")"
   ]
  },
  {
   "cell_type": "code",
   "execution_count": 58,
   "id": "a068884f",
   "metadata": {},
   "outputs": [
    {
     "data": {
      "text/plain": [
       "Text(0.5, 1.0, 'NN Training Time')"
      ]
     },
     "execution_count": 58,
     "metadata": {},
     "output_type": "execute_result"
    },
    {
     "data": {
      "image/png": "[encoded data removed]",
      "text/plain": [
       "<Figure size 432x288 with 1 Axes>"
      ]
     },
     "metadata": {
      "needs_background": "light"
     },
     "output_type": "display_data"
    }
   ],
   "source": [
    "num_data = [\"12k\", \"25k\", \"50k\", \"100k\"]\n",
    "plt.plot(num_data, all_times, label=\"All dataset\")\n",
    "plt.plot(num_data, le_times, label=\"a/c <= 1\")\n",
    "plt.plot(num_data, g_times, label=\"a/c > 1\")\n",
    "plt.legend()\n",
    "plt.semilogy()\n",
    "plt.xlabel(\"Number of training examples\")\n",
    "plt.ylabel(\"Time in secs\")\n",
    "plt.title(\"NN Training Time\")"
   ]
  },
  {
   "cell_type": "code",
   "execution_count": 59,
   "id": "11f5aa52",
   "metadata": {},
   "outputs": [
    {
     "ename": "ValueError",
     "evalue": "x and y must have same first dimension, but have shapes (4,) and (5,)",
     "output_type": "error",
     "traceback": [
      "\u001b[0;31m---------------------------------------------------------------------------\u001b[0m",
      "\u001b[0;31mValueError\u001b[0m                                Traceback (most recent call last)",
      "Input \u001b[0;32mIn [59]\u001b[0m, in \u001b[0;36m<cell line: 2>\u001b[0;34m()\u001b[0m\n\u001b[1;32m      1\u001b[0m num_data \u001b[38;5;241m=\u001b[39m [\u001b[38;5;124m\"\u001b[39m\u001b[38;5;124m12k\u001b[39m\u001b[38;5;124m\"\u001b[39m, \u001b[38;5;124m\"\u001b[39m\u001b[38;5;124m25k\u001b[39m\u001b[38;5;124m\"\u001b[39m, \u001b[38;5;124m\"\u001b[39m\u001b[38;5;124m50k\u001b[39m\u001b[38;5;124m\"\u001b[39m, \u001b[38;5;124m\"\u001b[39m\u001b[38;5;124m100k\u001b[39m\u001b[38;5;124m\"\u001b[39m]\n\u001b[0;32m----> 2\u001b[0m \u001b[43mplt\u001b[49m\u001b[38;5;241;43m.\u001b[39;49m\u001b[43mplot\u001b[49m\u001b[43m(\u001b[49m\u001b[43mnum_data\u001b[49m\u001b[43m,\u001b[49m\u001b[43m \u001b[49m\u001b[43mpred_all_times\u001b[49m\u001b[43m,\u001b[49m\u001b[43m \u001b[49m\u001b[43mlabel\u001b[49m\u001b[38;5;241;43m=\u001b[39;49m\u001b[38;5;124;43m\"\u001b[39;49m\u001b[38;5;124;43mAll dataset\u001b[39;49m\u001b[38;5;124;43m\"\u001b[39;49m\u001b[43m)\u001b[49m\n\u001b[1;32m      3\u001b[0m plt\u001b[38;5;241m.\u001b[39mplot(num_data, pred_le_times, label\u001b[38;5;241m=\u001b[39m\u001b[38;5;124m\"\u001b[39m\u001b[38;5;124ma/c <= 1\u001b[39m\u001b[38;5;124m\"\u001b[39m)\n\u001b[1;32m      4\u001b[0m plt\u001b[38;5;241m.\u001b[39mplot(num_data, pred_g_times, label\u001b[38;5;241m=\u001b[39m\u001b[38;5;124m\"\u001b[39m\u001b[38;5;124ma/c > 1\u001b[39m\u001b[38;5;124m\"\u001b[39m)\n",
      "File \u001b[0;32m~/envs/sif/lib/python3.8/site-packages/matplotlib/pyplot.py:2757\u001b[0m, in \u001b[0;36mplot\u001b[0;34m(scalex, scaley, data, *args, **kwargs)\u001b[0m\n\u001b[1;32m   2755\u001b[0m \u001b[38;5;129m@_copy_docstring_and_deprecators\u001b[39m(Axes\u001b[38;5;241m.\u001b[39mplot)\n\u001b[1;32m   2756\u001b[0m \u001b[38;5;28;01mdef\u001b[39;00m \u001b[38;5;21mplot\u001b[39m(\u001b[38;5;241m*\u001b[39margs, scalex\u001b[38;5;241m=\u001b[39m\u001b[38;5;28;01mTrue\u001b[39;00m, scaley\u001b[38;5;241m=\u001b[39m\u001b[38;5;28;01mTrue\u001b[39;00m, data\u001b[38;5;241m=\u001b[39m\u001b[38;5;28;01mNone\u001b[39;00m, \u001b[38;5;241m*\u001b[39m\u001b[38;5;241m*\u001b[39mkwargs):\n\u001b[0;32m-> 2757\u001b[0m     \u001b[38;5;28;01mreturn\u001b[39;00m \u001b[43mgca\u001b[49m\u001b[43m(\u001b[49m\u001b[43m)\u001b[49m\u001b[38;5;241;43m.\u001b[39;49m\u001b[43mplot\u001b[49m\u001b[43m(\u001b[49m\n\u001b[1;32m   2758\u001b[0m \u001b[43m        \u001b[49m\u001b[38;5;241;43m*\u001b[39;49m\u001b[43margs\u001b[49m\u001b[43m,\u001b[49m\u001b[43m \u001b[49m\u001b[43mscalex\u001b[49m\u001b[38;5;241;43m=\u001b[39;49m\u001b[43mscalex\u001b[49m\u001b[43m,\u001b[49m\u001b[43m \u001b[49m\u001b[43mscaley\u001b[49m\u001b[38;5;241;43m=\u001b[39;49m\u001b[43mscaley\u001b[49m\u001b[43m,\u001b[49m\n\u001b[1;32m   2759\u001b[0m \u001b[43m        \u001b[49m\u001b[38;5;241;43m*\u001b[39;49m\u001b[38;5;241;43m*\u001b[39;49m\u001b[43m(\u001b[49m\u001b[43m{\u001b[49m\u001b[38;5;124;43m\"\u001b[39;49m\u001b[38;5;124;43mdata\u001b[39;49m\u001b[38;5;124;43m\"\u001b[39;49m\u001b[43m:\u001b[49m\u001b[43m \u001b[49m\u001b[43mdata\u001b[49m\u001b[43m}\u001b[49m\u001b[43m \u001b[49m\u001b[38;5;28;43;01mif\u001b[39;49;00m\u001b[43m \u001b[49m\u001b[43mdata\u001b[49m\u001b[43m \u001b[49m\u001b[38;5;129;43;01mis\u001b[39;49;00m\u001b[43m \u001b[49m\u001b[38;5;129;43;01mnot\u001b[39;49;00m\u001b[43m \u001b[49m\u001b[38;5;28;43;01mNone\u001b[39;49;00m\u001b[43m \u001b[49m\u001b[38;5;28;43;01melse\u001b[39;49;00m\u001b[43m \u001b[49m\u001b[43m{\u001b[49m\u001b[43m}\u001b[49m\u001b[43m)\u001b[49m\u001b[43m,\u001b[49m\u001b[43m \u001b[49m\u001b[38;5;241;43m*\u001b[39;49m\u001b[38;5;241;43m*\u001b[39;49m\u001b[43mkwargs\u001b[49m\u001b[43m)\u001b[49m\n",
      "File \u001b[0;32m~/envs/sif/lib/python3.8/site-packages/matplotlib/axes/_axes.py:1632\u001b[0m, in \u001b[0;36mAxes.plot\u001b[0;34m(self, scalex, scaley, data, *args, **kwargs)\u001b[0m\n\u001b[1;32m   1390\u001b[0m \u001b[38;5;124;03m\"\"\"\u001b[39;00m\n\u001b[1;32m   1391\u001b[0m \u001b[38;5;124;03mPlot y versus x as lines and/or markers.\u001b[39;00m\n\u001b[1;32m   1392\u001b[0m \n\u001b[0;32m   (...)\u001b[0m\n\u001b[1;32m   1629\u001b[0m \u001b[38;5;124;03m(``'green'``) or hex strings (``'#008000'``).\u001b[39;00m\n\u001b[1;32m   1630\u001b[0m \u001b[38;5;124;03m\"\"\"\u001b[39;00m\n\u001b[1;32m   1631\u001b[0m kwargs \u001b[38;5;241m=\u001b[39m cbook\u001b[38;5;241m.\u001b[39mnormalize_kwargs(kwargs, mlines\u001b[38;5;241m.\u001b[39mLine2D)\n\u001b[0;32m-> 1632\u001b[0m lines \u001b[38;5;241m=\u001b[39m [\u001b[38;5;241m*\u001b[39m\u001b[38;5;28mself\u001b[39m\u001b[38;5;241m.\u001b[39m_get_lines(\u001b[38;5;241m*\u001b[39margs, data\u001b[38;5;241m=\u001b[39mdata, \u001b[38;5;241m*\u001b[39m\u001b[38;5;241m*\u001b[39mkwargs)]\n\u001b[1;32m   1633\u001b[0m \u001b[38;5;28;01mfor\u001b[39;00m line \u001b[38;5;129;01min\u001b[39;00m lines:\n\u001b[1;32m   1634\u001b[0m     \u001b[38;5;28mself\u001b[39m\u001b[38;5;241m.\u001b[39madd_line(line)\n",
      "File \u001b[0;32m~/envs/sif/lib/python3.8/site-packages/matplotlib/axes/_base.py:312\u001b[0m, in \u001b[0;36m_process_plot_var_args.__call__\u001b[0;34m(self, data, *args, **kwargs)\u001b[0m\n\u001b[1;32m    310\u001b[0m     this \u001b[38;5;241m+\u001b[39m\u001b[38;5;241m=\u001b[39m args[\u001b[38;5;241m0\u001b[39m],\n\u001b[1;32m    311\u001b[0m     args \u001b[38;5;241m=\u001b[39m args[\u001b[38;5;241m1\u001b[39m:]\n\u001b[0;32m--> 312\u001b[0m \u001b[38;5;28;01myield from\u001b[39;00m \u001b[38;5;28;43mself\u001b[39;49m\u001b[38;5;241;43m.\u001b[39;49m\u001b[43m_plot_args\u001b[49m\u001b[43m(\u001b[49m\u001b[43mthis\u001b[49m\u001b[43m,\u001b[49m\u001b[43m \u001b[49m\u001b[43mkwargs\u001b[49m\u001b[43m)\u001b[49m\n",
      "File \u001b[0;32m~/envs/sif/lib/python3.8/site-packages/matplotlib/axes/_base.py:498\u001b[0m, in \u001b[0;36m_process_plot_var_args._plot_args\u001b[0;34m(self, tup, kwargs, return_kwargs)\u001b[0m\n\u001b[1;32m    495\u001b[0m     \u001b[38;5;28mself\u001b[39m\u001b[38;5;241m.\u001b[39maxes\u001b[38;5;241m.\u001b[39myaxis\u001b[38;5;241m.\u001b[39mupdate_units(y)\n\u001b[1;32m    497\u001b[0m \u001b[38;5;28;01mif\u001b[39;00m x\u001b[38;5;241m.\u001b[39mshape[\u001b[38;5;241m0\u001b[39m] \u001b[38;5;241m!=\u001b[39m y\u001b[38;5;241m.\u001b[39mshape[\u001b[38;5;241m0\u001b[39m]:\n\u001b[0;32m--> 498\u001b[0m     \u001b[38;5;28;01mraise\u001b[39;00m \u001b[38;5;167;01mValueError\u001b[39;00m(\u001b[38;5;124mf\u001b[39m\u001b[38;5;124m\"\u001b[39m\u001b[38;5;124mx and y must have same first dimension, but \u001b[39m\u001b[38;5;124m\"\u001b[39m\n\u001b[1;32m    499\u001b[0m                      \u001b[38;5;124mf\u001b[39m\u001b[38;5;124m\"\u001b[39m\u001b[38;5;124mhave shapes \u001b[39m\u001b[38;5;132;01m{\u001b[39;00mx\u001b[38;5;241m.\u001b[39mshape\u001b[38;5;132;01m}\u001b[39;00m\u001b[38;5;124m and \u001b[39m\u001b[38;5;132;01m{\u001b[39;00my\u001b[38;5;241m.\u001b[39mshape\u001b[38;5;132;01m}\u001b[39;00m\u001b[38;5;124m\"\u001b[39m)\n\u001b[1;32m    500\u001b[0m \u001b[38;5;28;01mif\u001b[39;00m x\u001b[38;5;241m.\u001b[39mndim \u001b[38;5;241m>\u001b[39m \u001b[38;5;241m2\u001b[39m \u001b[38;5;129;01mor\u001b[39;00m y\u001b[38;5;241m.\u001b[39mndim \u001b[38;5;241m>\u001b[39m \u001b[38;5;241m2\u001b[39m:\n\u001b[1;32m    501\u001b[0m     \u001b[38;5;28;01mraise\u001b[39;00m \u001b[38;5;167;01mValueError\u001b[39;00m(\u001b[38;5;124mf\u001b[39m\u001b[38;5;124m\"\u001b[39m\u001b[38;5;124mx and y can be no greater than 2D, but have \u001b[39m\u001b[38;5;124m\"\u001b[39m\n\u001b[1;32m    502\u001b[0m                      \u001b[38;5;124mf\u001b[39m\u001b[38;5;124m\"\u001b[39m\u001b[38;5;124mshapes \u001b[39m\u001b[38;5;132;01m{\u001b[39;00mx\u001b[38;5;241m.\u001b[39mshape\u001b[38;5;132;01m}\u001b[39;00m\u001b[38;5;124m and \u001b[39m\u001b[38;5;132;01m{\u001b[39;00my\u001b[38;5;241m.\u001b[39mshape\u001b[38;5;132;01m}\u001b[39;00m\u001b[38;5;124m\"\u001b[39m)\n",
      "\u001b[0;31mValueError\u001b[0m: x and y must have same first dimension, but have shapes (4,) and (5,)"
     ]
    },
    {
     "data": {
      "image/png": "[encoded data removed]",
      "text/plain": [
       "<Figure size 432x288 with 1 Axes>"
      ]
     },
     "metadata": {
      "needs_background": "light"
     },
     "output_type": "display_data"
    }
   ],
   "source": [
    "num_data = [\"12k\", \"25k\", \"50k\", \"100k\"]\n",
    "plt.plot(num_data, pred_all_times, label=\"All dataset\")\n",
    "plt.plot(num_data, pred_le_times, label=\"a/c <= 1\")\n",
    "plt.plot(num_data, pred_g_times, label=\"a/c > 1\")\n",
    "plt.legend()\n",
    "plt.xlabel(\"Number of training examples\")\n",
    "plt.ylabel(\"Time in secs\")\n",
    "plt.title(\"NN Testing Time\")"
   ]
  },
  {
   "cell_type": "code",
   "execution_count": 60,
   "id": "6e334b83",
   "metadata": {},
   "outputs": [
    {
     "ename": "ValueError",
     "evalue": "x and y must have same first dimension, but have shapes (4,) and (5,)",
     "output_type": "error",
     "traceback": [
      "\u001b[0;31m---------------------------------------------------------------------------\u001b[0m",
      "\u001b[0;31mValueError\u001b[0m                                Traceback (most recent call last)",
      "Input \u001b[0;32mIn [60]\u001b[0m, in \u001b[0;36m<cell line: 2>\u001b[0;34m()\u001b[0m\n\u001b[1;32m      1\u001b[0m num_data \u001b[38;5;241m=\u001b[39m [\u001b[38;5;124m\"\u001b[39m\u001b[38;5;124m12k\u001b[39m\u001b[38;5;124m\"\u001b[39m, \u001b[38;5;124m\"\u001b[39m\u001b[38;5;124m25k\u001b[39m\u001b[38;5;124m\"\u001b[39m, \u001b[38;5;124m\"\u001b[39m\u001b[38;5;124m50k\u001b[39m\u001b[38;5;124m\"\u001b[39m, \u001b[38;5;124m\"\u001b[39m\u001b[38;5;124m100k\u001b[39m\u001b[38;5;124m\"\u001b[39m]\n\u001b[0;32m----> 2\u001b[0m \u001b[43mplt\u001b[49m\u001b[38;5;241;43m.\u001b[39;49m\u001b[43mplot\u001b[49m\u001b[43m(\u001b[49m\u001b[43mnum_data\u001b[49m\u001b[43m,\u001b[49m\u001b[43m \u001b[49m\u001b[43mall_MAE\u001b[49m\u001b[43m,\u001b[49m\u001b[43m \u001b[49m\u001b[43mlabel\u001b[49m\u001b[38;5;241;43m=\u001b[39;49m\u001b[38;5;124;43m\"\u001b[39;49m\u001b[38;5;124;43mAll dataset\u001b[39;49m\u001b[38;5;124;43m\"\u001b[39;49m\u001b[43m)\u001b[49m\n\u001b[1;32m      3\u001b[0m plt\u001b[38;5;241m.\u001b[39mplot(num_data, le_MAE, label\u001b[38;5;241m=\u001b[39m\u001b[38;5;124m\"\u001b[39m\u001b[38;5;124ma/c <= 1\u001b[39m\u001b[38;5;124m\"\u001b[39m)\n\u001b[1;32m      4\u001b[0m plt\u001b[38;5;241m.\u001b[39mplot(num_data, g_MAE, label\u001b[38;5;241m=\u001b[39m\u001b[38;5;124m\"\u001b[39m\u001b[38;5;124ma/c > 1\u001b[39m\u001b[38;5;124m\"\u001b[39m)\n",
      "File \u001b[0;32m~/envs/sif/lib/python3.8/site-packages/matplotlib/pyplot.py:2757\u001b[0m, in \u001b[0;36mplot\u001b[0;34m(scalex, scaley, data, *args, **kwargs)\u001b[0m\n\u001b[1;32m   2755\u001b[0m \u001b[38;5;129m@_copy_docstring_and_deprecators\u001b[39m(Axes\u001b[38;5;241m.\u001b[39mplot)\n\u001b[1;32m   2756\u001b[0m \u001b[38;5;28;01mdef\u001b[39;00m \u001b[38;5;21mplot\u001b[39m(\u001b[38;5;241m*\u001b[39margs, scalex\u001b[38;5;241m=\u001b[39m\u001b[38;5;28;01mTrue\u001b[39;00m, scaley\u001b[38;5;241m=\u001b[39m\u001b[38;5;28;01mTrue\u001b[39;00m, data\u001b[38;5;241m=\u001b[39m\u001b[38;5;28;01mNone\u001b[39;00m, \u001b[38;5;241m*\u001b[39m\u001b[38;5;241m*\u001b[39mkwargs):\n\u001b[0;32m-> 2757\u001b[0m     \u001b[38;5;28;01mreturn\u001b[39;00m \u001b[43mgca\u001b[49m\u001b[43m(\u001b[49m\u001b[43m)\u001b[49m\u001b[38;5;241;43m.\u001b[39;49m\u001b[43mplot\u001b[49m\u001b[43m(\u001b[49m\n\u001b[1;32m   2758\u001b[0m \u001b[43m        \u001b[49m\u001b[38;5;241;43m*\u001b[39;49m\u001b[43margs\u001b[49m\u001b[43m,\u001b[49m\u001b[43m \u001b[49m\u001b[43mscalex\u001b[49m\u001b[38;5;241;43m=\u001b[39;49m\u001b[43mscalex\u001b[49m\u001b[43m,\u001b[49m\u001b[43m \u001b[49m\u001b[43mscaley\u001b[49m\u001b[38;5;241;43m=\u001b[39;49m\u001b[43mscaley\u001b[49m\u001b[43m,\u001b[49m\n\u001b[1;32m   2759\u001b[0m \u001b[43m        \u001b[49m\u001b[38;5;241;43m*\u001b[39;49m\u001b[38;5;241;43m*\u001b[39;49m\u001b[43m(\u001b[49m\u001b[43m{\u001b[49m\u001b[38;5;124;43m\"\u001b[39;49m\u001b[38;5;124;43mdata\u001b[39;49m\u001b[38;5;124;43m\"\u001b[39;49m\u001b[43m:\u001b[49m\u001b[43m \u001b[49m\u001b[43mdata\u001b[49m\u001b[43m}\u001b[49m\u001b[43m \u001b[49m\u001b[38;5;28;43;01mif\u001b[39;49;00m\u001b[43m \u001b[49m\u001b[43mdata\u001b[49m\u001b[43m \u001b[49m\u001b[38;5;129;43;01mis\u001b[39;49;00m\u001b[43m \u001b[49m\u001b[38;5;129;43;01mnot\u001b[39;49;00m\u001b[43m \u001b[49m\u001b[38;5;28;43;01mNone\u001b[39;49;00m\u001b[43m \u001b[49m\u001b[38;5;28;43;01melse\u001b[39;49;00m\u001b[43m \u001b[49m\u001b[43m{\u001b[49m\u001b[43m}\u001b[49m\u001b[43m)\u001b[49m\u001b[43m,\u001b[49m\u001b[43m \u001b[49m\u001b[38;5;241;43m*\u001b[39;49m\u001b[38;5;241;43m*\u001b[39;49m\u001b[43mkwargs\u001b[49m\u001b[43m)\u001b[49m\n",
      "File \u001b[0;32m~/envs/sif/lib/python3.8/site-packages/matplotlib/axes/_axes.py:1632\u001b[0m, in \u001b[0;36mAxes.plot\u001b[0;34m(self, scalex, scaley, data, *args, **kwargs)\u001b[0m\n\u001b[1;32m   1390\u001b[0m \u001b[38;5;124;03m\"\"\"\u001b[39;00m\n\u001b[1;32m   1391\u001b[0m \u001b[38;5;124;03mPlot y versus x as lines and/or markers.\u001b[39;00m\n\u001b[1;32m   1392\u001b[0m \n\u001b[0;32m   (...)\u001b[0m\n\u001b[1;32m   1629\u001b[0m \u001b[38;5;124;03m(``'green'``) or hex strings (``'#008000'``).\u001b[39;00m\n\u001b[1;32m   1630\u001b[0m \u001b[38;5;124;03m\"\"\"\u001b[39;00m\n\u001b[1;32m   1631\u001b[0m kwargs \u001b[38;5;241m=\u001b[39m cbook\u001b[38;5;241m.\u001b[39mnormalize_kwargs(kwargs, mlines\u001b[38;5;241m.\u001b[39mLine2D)\n\u001b[0;32m-> 1632\u001b[0m lines \u001b[38;5;241m=\u001b[39m [\u001b[38;5;241m*\u001b[39m\u001b[38;5;28mself\u001b[39m\u001b[38;5;241m.\u001b[39m_get_lines(\u001b[38;5;241m*\u001b[39margs, data\u001b[38;5;241m=\u001b[39mdata, \u001b[38;5;241m*\u001b[39m\u001b[38;5;241m*\u001b[39mkwargs)]\n\u001b[1;32m   1633\u001b[0m \u001b[38;5;28;01mfor\u001b[39;00m line \u001b[38;5;129;01min\u001b[39;00m lines:\n\u001b[1;32m   1634\u001b[0m     \u001b[38;5;28mself\u001b[39m\u001b[38;5;241m.\u001b[39madd_line(line)\n",
      "File \u001b[0;32m~/envs/sif/lib/python3.8/site-packages/matplotlib/axes/_base.py:312\u001b[0m, in \u001b[0;36m_process_plot_var_args.__call__\u001b[0;34m(self, data, *args, **kwargs)\u001b[0m\n\u001b[1;32m    310\u001b[0m     this \u001b[38;5;241m+\u001b[39m\u001b[38;5;241m=\u001b[39m args[\u001b[38;5;241m0\u001b[39m],\n\u001b[1;32m    311\u001b[0m     args \u001b[38;5;241m=\u001b[39m args[\u001b[38;5;241m1\u001b[39m:]\n\u001b[0;32m--> 312\u001b[0m \u001b[38;5;28;01myield from\u001b[39;00m \u001b[38;5;28;43mself\u001b[39;49m\u001b[38;5;241;43m.\u001b[39;49m\u001b[43m_plot_args\u001b[49m\u001b[43m(\u001b[49m\u001b[43mthis\u001b[49m\u001b[43m,\u001b[49m\u001b[43m \u001b[49m\u001b[43mkwargs\u001b[49m\u001b[43m)\u001b[49m\n",
      "File \u001b[0;32m~/envs/sif/lib/python3.8/site-packages/matplotlib/axes/_base.py:498\u001b[0m, in \u001b[0;36m_process_plot_var_args._plot_args\u001b[0;34m(self, tup, kwargs, return_kwargs)\u001b[0m\n\u001b[1;32m    495\u001b[0m     \u001b[38;5;28mself\u001b[39m\u001b[38;5;241m.\u001b[39maxes\u001b[38;5;241m.\u001b[39myaxis\u001b[38;5;241m.\u001b[39mupdate_units(y)\n\u001b[1;32m    497\u001b[0m \u001b[38;5;28;01mif\u001b[39;00m x\u001b[38;5;241m.\u001b[39mshape[\u001b[38;5;241m0\u001b[39m] \u001b[38;5;241m!=\u001b[39m y\u001b[38;5;241m.\u001b[39mshape[\u001b[38;5;241m0\u001b[39m]:\n\u001b[0;32m--> 498\u001b[0m     \u001b[38;5;28;01mraise\u001b[39;00m \u001b[38;5;167;01mValueError\u001b[39;00m(\u001b[38;5;124mf\u001b[39m\u001b[38;5;124m\"\u001b[39m\u001b[38;5;124mx and y must have same first dimension, but \u001b[39m\u001b[38;5;124m\"\u001b[39m\n\u001b[1;32m    499\u001b[0m                      \u001b[38;5;124mf\u001b[39m\u001b[38;5;124m\"\u001b[39m\u001b[38;5;124mhave shapes \u001b[39m\u001b[38;5;132;01m{\u001b[39;00mx\u001b[38;5;241m.\u001b[39mshape\u001b[38;5;132;01m}\u001b[39;00m\u001b[38;5;124m and \u001b[39m\u001b[38;5;132;01m{\u001b[39;00my\u001b[38;5;241m.\u001b[39mshape\u001b[38;5;132;01m}\u001b[39;00m\u001b[38;5;124m\"\u001b[39m)\n\u001b[1;32m    500\u001b[0m \u001b[38;5;28;01mif\u001b[39;00m x\u001b[38;5;241m.\u001b[39mndim \u001b[38;5;241m>\u001b[39m \u001b[38;5;241m2\u001b[39m \u001b[38;5;129;01mor\u001b[39;00m y\u001b[38;5;241m.\u001b[39mndim \u001b[38;5;241m>\u001b[39m \u001b[38;5;241m2\u001b[39m:\n\u001b[1;32m    501\u001b[0m     \u001b[38;5;28;01mraise\u001b[39;00m \u001b[38;5;167;01mValueError\u001b[39;00m(\u001b[38;5;124mf\u001b[39m\u001b[38;5;124m\"\u001b[39m\u001b[38;5;124mx and y can be no greater than 2D, but have \u001b[39m\u001b[38;5;124m\"\u001b[39m\n\u001b[1;32m    502\u001b[0m                      \u001b[38;5;124mf\u001b[39m\u001b[38;5;124m\"\u001b[39m\u001b[38;5;124mshapes \u001b[39m\u001b[38;5;132;01m{\u001b[39;00mx\u001b[38;5;241m.\u001b[39mshape\u001b[38;5;132;01m}\u001b[39;00m\u001b[38;5;124m and \u001b[39m\u001b[38;5;132;01m{\u001b[39;00my\u001b[38;5;241m.\u001b[39mshape\u001b[38;5;132;01m}\u001b[39;00m\u001b[38;5;124m\"\u001b[39m)\n",
      "\u001b[0;31mValueError\u001b[0m: x and y must have same first dimension, but have shapes (4,) and (5,)"
     ]
    },
    {
     "data": {
      "image/png": "[encoded data removed]",
      "text/plain": [
       "<Figure size 432x288 with 1 Axes>"
      ]
     },
     "metadata": {
      "needs_background": "light"
     },
     "output_type": "display_data"
    }
   ],
   "source": [
    "num_data = [\"12k\", \"25k\", \"50k\", \"100k\"]\n",
    "plt.plot(num_data, all_MAE, label=\"All dataset\")\n",
    "plt.plot(num_data, le_MAE, label=\"a/c <= 1\")\n",
    "plt.plot(num_data, g_MAE, label=\"a/c > 1\")\n",
    "plt.legend()\n",
    "plt.xlabel(\"Number of training examples\")\n",
    "plt.ylabel(\"MAE\")\n",
    "plt.title(\"NN Mean Absolute Error\")"
   ]
  },
  {
   "cell_type": "code",
   "execution_count": 64,
   "id": "cec28031",
   "metadata": {},
   "outputs": [
    {
     "data": {
      "text/plain": [
       "Text(0.5, 1.0, 'NN Mean Squared Error')"
      ]
     },
     "execution_count": 64,
     "metadata": {},
     "output_type": "execute_result"
    },
    {
     "data": {
      "image/png": "[encoded data removed]",
      "text/plain": [
       "<Figure size 432x288 with 1 Axes>"
      ]
     },
     "metadata": {
      "needs_background": "light"
     },
     "output_type": "display_data"
    }
   ],
   "source": [
    "num_data = [\"12k\", \"25k\", \"50k\", \"100k\"]\n",
    "plt.plot(num_data, all_MSE, label=\"All dataset\")\n",
    "plt.plot(num_data, le_MSE, label=\"a/c <= 1\")\n",
    "plt.plot(num_data, g_MSE, label=\"a/c > 1\")\n",
    "plt.legend()\n",
    "plt.xlabel(\"Number of training examples\")\n",
    "plt.ylabel(\"MSE\")\n",
    "plt.title(\"NN Mean Squared Error\")"
   ]
  },
  {
   "cell_type": "code",
   "execution_count": null,
   "id": "5643bc78",
   "metadata": {},
   "outputs": [],
   "source": []
  }
 ],
 "metadata": {
  "kernelspec": {
   "display_name": "Python 3 (ipykernel)",
   "language": "python",
   "name": "python3"
  },
  "language_info": {
   "codemirror_mode": {
    "name": "ipython",
    "version": 3
   },
   "file_extension": ".py",
   "mimetype": "text/x-python",
   "name": "python",
   "nbconvert_exporter": "python",
   "pygments_lexer": "ipython3",
   "version": "3.8.10"
  }
 },
 "nbformat": 4,
 "nbformat_minor": 5
}
