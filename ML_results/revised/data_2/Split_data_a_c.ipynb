{
 "cells": [
  {
   "cell_type": "markdown",
   "id": "1256edfd",
   "metadata": {},
   "source": [
    "# Dependencies"
   ]
  },
  {
   "cell_type": "code",
   "execution_count": 1,
   "id": "e325919e",
   "metadata": {},
   "outputs": [],
   "source": [
    "import numpy as np\n",
    "import pandas as pd"
   ]
  },
  {
   "cell_type": "markdown",
   "id": "e31e67a7",
   "metadata": {},
   "source": [
    "# Dataset"
   ]
  },
  {
   "cell_type": "code",
   "execution_count": 12,
   "id": "7c77f706",
   "metadata": {},
   "outputs": [],
   "source": [
    "num_data = \"100k\""
   ]
  },
  {
   "cell_type": "code",
   "execution_count": 13,
   "id": "163a78b8",
   "metadata": {},
   "outputs": [],
   "source": [
    "# Loading dataset\n",
    "df = pd.read_csv(\"train/{}.csv\".format(num_data))\n",
    "df.drop([\"c/b\", \"F\"], axis=1, inplace=True)\n",
    "d = df.to_numpy()"
   ]
  },
  {
   "cell_type": "markdown",
   "id": "1561dfec",
   "metadata": {},
   "source": [
    "# Split a/c"
   ]
  },
  {
   "cell_type": "code",
   "execution_count": 14,
   "id": "04a327b7",
   "metadata": {},
   "outputs": [],
   "source": [
    "# Splitting a/c\n",
    "d_le1 = []\n",
    "d_g1 = []\n",
    "for ex in d:\n",
    "    if ex[0] <= 1:\n",
    "        d_le1.append(ex)\n",
    "    else:\n",
    "        d_g1.append(ex)\n",
    "\n",
    "np.save(\"train/{}_le1.npy\".format(num_data), d_le1)\n",
    "np.save(\"train/{}_g1.npy\".format(num_data), d_g1)"
   ]
  },
  {
   "cell_type": "markdown",
   "id": "97bee58b",
   "metadata": {},
   "source": [
    "# Test Data"
   ]
  },
  {
   "cell_type": "code",
   "execution_count": 15,
   "id": "27776165",
   "metadata": {},
   "outputs": [],
   "source": [
    "# Loading dataset\n",
    "df = pd.read_csv(\"test/2_RN_eqn_data_TEST.csv\")\n",
    "df.drop([\"c/b\", \"F\"], axis=1, inplace=True)\n",
    "d = df.to_numpy()"
   ]
  },
  {
   "cell_type": "code",
   "execution_count": 16,
   "id": "42a0a306",
   "metadata": {},
   "outputs": [],
   "source": [
    "# Splitting a/c\n",
    "d_le1 = []\n",
    "d_g1 = []\n",
    "for ex in d:\n",
    "    if ex[0] <= 1:\n",
    "        d_le1.append(ex)\n",
    "    else:\n",
    "        d_g1.append(ex)\n",
    "\n",
    "np.save(\"test/le1.npy\", d_le1)\n",
    "np.save(\"test/g1.npy\", d_g1)"
   ]
  },
  {
   "cell_type": "code",
   "execution_count": null,
   "id": "5ed678b3",
   "metadata": {},
   "outputs": [],
   "source": []
  }
 ],
 "metadata": {
  "kernelspec": {
   "display_name": "Python 3 (ipykernel)",
   "language": "python",
   "name": "python3"
  },
  "language_info": {
   "codemirror_mode": {
    "name": "ipython",
    "version": 3
   },
   "file_extension": ".py",
   "mimetype": "text/x-python",
   "name": "python",
   "nbconvert_exporter": "python",
   "pygments_lexer": "ipython3",
   "version": "3.8.10"
  }
 },
 "nbformat": 4,
 "nbformat_minor": 5
}
