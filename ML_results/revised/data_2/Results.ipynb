{
 "cells": [
  {
   "cell_type": "code",
   "execution_count": 1,
   "id": "9ad5be57",
   "metadata": {},
   "outputs": [
    {
     "name": "stderr",
     "output_type": "stream",
     "text": [
      "2022-03-09 19:25:24.367945: W tensorflow/stream_executor/platform/default/dso_loader.cc:64] Could not load dynamic library 'libcudart.so.11.0'; dlerror: libcudart.so.11.0: cannot open shared object file: No such file or directory\n",
      "2022-03-09 19:25:24.367962: I tensorflow/stream_executor/cuda/cudart_stub.cc:29] Ignore above cudart dlerror if you do not have a GPU set up on your machine.\n"
     ]
    }
   ],
   "source": [
    "import tensorflow as tf\n",
    "from tensorflow.keras.models import Sequential\n",
    "from tensorflow.keras.layers import Dense\n",
    "from tensorflow.keras.callbacks import EarlyStopping\n",
    "import numpy as np\n",
    "import matplotlib.pyplot as plt\n",
    "import pandas as pd\n",
    "import timeit\n",
    "import time\n",
    "from torch.optim import Adam\n",
    "from __future__ import print_function\n",
    "from ipywidgets import interact, interactive, fixed, interact_manual\n",
    "import ipywidgets as widgets\n",
    "import matplotlib.pyplot as plt, random\n",
    "import numpy as np\n",
    "import matplotlib.pyplot as plt\n",
    "import sklearn\n",
    "from scipy.stats import loguniform\n",
    "from sklearn.svm import SVR\n",
    "import pandas as pd\n",
    "import timeit\n",
    "import time\n",
    "from joblib import dump, load\n",
    "from sklearn.model_selection import GridSearchCV, RandomizedSearchCV\n",
    "from __future__ import print_function\n",
    "from ipywidgets import interact, interactive, fixed, interact_manual\n",
    "import ipywidgets as widgets\n",
    "import matplotlib.pyplot as plt, random"
   ]
  },
  {
   "cell_type": "code",
   "execution_count": 2,
   "id": "d24c8570",
   "metadata": {},
   "outputs": [],
   "source": [
    "def sort(data):\n",
    "    models = []\n",
    "    model = np.unique(data[:,[0,1,2]], axis=0)\n",
    "    \n",
    "    for i in model:\n",
    "        models.append(data[np.where((data[:,[0,1,2]] == i).all(axis=1))])\n",
    "\n",
    "    return models \n",
    "\n",
    "def compare(model):\n",
    "    rbf_results_all = []\n",
    "    rbf_results_sep = []\n",
    "    nn_results_all = []\n",
    "    nn_results_sep = []\n",
    "    \n",
    "    rbf_result = np.zeros((len(model),1))\n",
    "    nn_result = np.zeros((len(model),1))\n",
    "    model = np.delete(model, [2,4], 1)\n",
    "\n",
    "    rbf_result[:,0] = rbf_reg_all.predict(model[:,:-1])\n",
    "    rbf_results_all.append(rbf_result)\n",
    "    nn_result[:,0] = np.squeeze(nn_reg_all.predict(model[:,:-1]), axis=-1)\n",
    "    nn_results_all.append(nn_result)\n",
    "\n",
    "    # a/c separated\n",
    "    rbf_result = np.zeros((len(model),1))\n",
    "    nn_result = np.zeros((len(model),1))\n",
    "    if model[0,0] <= 1:\n",
    "        rbf_result[:,0] = rbf_reg_le.predict(model[:,:-1])\n",
    "        nn_result[:,0] = np.squeeze(nn_reg_le.predict(model[:,:-1]), axis=-1)\n",
    "\n",
    "    elif model[0,0] > 1:\n",
    "        rbf_result[:,0] = rbf_reg_g.predict(model[:,:-1])\n",
    "        nn_result[:,0] = np.squeeze(nn_reg_g.predict(model[:,:-1]), axis=-1)\n",
    "\n",
    "    else:\n",
    "        print(\"Something wrong!\")\n",
    "\n",
    "    rbf_results_sep.append(rbf_result)\n",
    "    nn_results_sep.append(nn_result)\n",
    "        \n",
    "    return rbf_results_all, rbf_results_sep, nn_results_all, nn_results_sep\n",
    "\n",
    "\n",
    "\n",
    "def plot(model_num):\n",
    "    rbf_results_all, rbf_results_sep, nn_results_all, nn_results_sep = compare(models[model_num])\n",
    "    plt.scatter(models[model_num][:,-3], models[model_num][:,-1], label=\"Ground Truth\")\n",
    "    plt.plot(models[model_num][:,-3], nn_results_all[0][:,0], label=\"NN all\", color='red')\n",
    "    plt.plot(models[model_num][:,-3], nn_results_sep[0][:,0], label=\"NN separated\", color='green')\n",
    "    plt.plot(models[model_num][:,-3], rbf_results_all[0][:,0], label=\"RBF all\", color='black')\n",
    "    plt.plot(models[model_num][:,-3], rbf_results_sep[0][:,0], label=\"RBF separated\", color='cyan')\n",
    "    plt.title(\"a/c={}; a/t={}; c/b={}\".format(models[model_num][0,0],\n",
    "                                             models[model_num][0,1],\n",
    "                                             models[model_num][0,2]))\n",
    "    plt.xlabel(\"phi\")\n",
    "    plt.ylabel(\"Mg\")\n",
    "    plt.legend()\n",
    "    plt.show()\n",
    "    return"
   ]
  },
  {
   "cell_type": "code",
   "execution_count": 3,
   "id": "d5597343",
   "metadata": {},
   "outputs": [
    {
     "data": {
      "text/plain": [
       "576"
      ]
     },
     "execution_count": 3,
     "metadata": {},
     "output_type": "execute_result"
    }
   ],
   "source": [
    "# Loading test dataset\n",
    "df = pd.read_csv(\"test/2_RN_eqn_data_TEST.csv\")\n",
    "d = df.to_numpy()\n",
    "models = sort(d)\n",
    "len(models)"
   ]
  },
  {
   "cell_type": "markdown",
   "id": "d296263b",
   "metadata": {},
   "source": [
    "# 12k"
   ]
  },
  {
   "cell_type": "code",
   "execution_count": 4,
   "id": "e3da6768",
   "metadata": {},
   "outputs": [],
   "source": [
    "num = \"12k\""
   ]
  },
  {
   "cell_type": "code",
   "execution_count": 6,
   "id": "f34a4206",
   "metadata": {},
   "outputs": [
    {
     "name": "stderr",
     "output_type": "stream",
     "text": [
      "2022-03-09 19:27:48.828358: I tensorflow/stream_executor/cuda/cuda_gpu_executor.cc:936] successful NUMA node read from SysFS had negative value (-1), but there must be at least one NUMA node, so returning NUMA node zero\n",
      "2022-03-09 19:27:48.828799: W tensorflow/stream_executor/platform/default/dso_loader.cc:64] Could not load dynamic library 'libcudart.so.11.0'; dlerror: libcudart.so.11.0: cannot open shared object file: No such file or directory\n",
      "2022-03-09 19:27:48.828845: W tensorflow/stream_executor/platform/default/dso_loader.cc:64] Could not load dynamic library 'libcublas.so.11'; dlerror: libcublas.so.11: cannot open shared object file: No such file or directory\n",
      "2022-03-09 19:27:48.828885: W tensorflow/stream_executor/platform/default/dso_loader.cc:64] Could not load dynamic library 'libcublasLt.so.11'; dlerror: libcublasLt.so.11: cannot open shared object file: No such file or directory\n",
      "2022-03-09 19:27:48.828925: W tensorflow/stream_executor/platform/default/dso_loader.cc:64] Could not load dynamic library 'libcufft.so.10'; dlerror: libcufft.so.10: cannot open shared object file: No such file or directory\n",
      "2022-03-09 19:27:48.828965: W tensorflow/stream_executor/platform/default/dso_loader.cc:64] Could not load dynamic library 'libcurand.so.10'; dlerror: libcurand.so.10: cannot open shared object file: No such file or directory\n",
      "2022-03-09 19:27:48.829004: W tensorflow/stream_executor/platform/default/dso_loader.cc:64] Could not load dynamic library 'libcusolver.so.11'; dlerror: libcusolver.so.11: cannot open shared object file: No such file or directory\n",
      "2022-03-09 19:27:48.829043: W tensorflow/stream_executor/platform/default/dso_loader.cc:64] Could not load dynamic library 'libcusparse.so.11'; dlerror: libcusparse.so.11: cannot open shared object file: No such file or directory\n",
      "2022-03-09 19:27:48.829083: W tensorflow/stream_executor/platform/default/dso_loader.cc:64] Could not load dynamic library 'libcudnn.so.8'; dlerror: libcudnn.so.8: cannot open shared object file: No such file or directory\n",
      "2022-03-09 19:27:48.829090: W tensorflow/core/common_runtime/gpu/gpu_device.cc:1850] Cannot dlopen some GPU libraries. Please make sure the missing libraries mentioned above are installed properly if you would like to use GPU. Follow the guide at https://www.tensorflow.org/install/gpu for how to download and setup the required libraries for your platform.\n",
      "Skipping registering GPU devices...\n",
      "2022-03-09 19:27:48.829321: I tensorflow/core/platform/cpu_feature_guard.cc:151] This TensorFlow binary is optimized with oneAPI Deep Neural Network Library (oneDNN) to use the following CPU instructions in performance-critical operations:  AVX2 FMA\n",
      "To enable them in other operations, rebuild TensorFlow with the appropriate compiler flags.\n"
     ]
    }
   ],
   "source": [
    "rbf_reg_all = load(\"models/{}_RBF_all.joblib\".format(num))\n",
    "nn_reg_all = tf.keras.models.load_model('models/{}_NN_all.h5'.format(num))\n",
    "\n",
    "rbf_reg_le = load(\"models/{}_RBF_le.joblib\".format(num))\n",
    "nn_reg_le = tf.keras.models.load_model('models/{}_NN_le.h5'.format(num))\n",
    "\n",
    "rbf_reg_g = load(\"models/{}_RBF_g.joblib\".format(num))\n",
    "nn_reg_g = tf.keras.models.load_model('models/{}_NN_g.h5'.format(num))"
   ]
  },
  {
   "cell_type": "code",
   "execution_count": 7,
   "id": "305f8889",
   "metadata": {},
   "outputs": [
    {
     "data": {
      "application/vnd.jupyter.widget-view+json": {
       "model_id": "2070254c5fb4423082721d1bed13b638",
       "version_major": 2,
       "version_minor": 0
      },
      "text/plain": [
       "interactive(children=(IntSlider(value=288, description='model_num', max=575, min=1), Output()), _dom_classes=(…"
      ]
     },
     "metadata": {},
     "output_type": "display_data"
    }
   ],
   "source": [
    "interact(plot, model_num=(1,len(models)-1,1));"
   ]
  },
  {
   "cell_type": "markdown",
   "id": "8b17ab68",
   "metadata": {},
   "source": [
    "# 25k"
   ]
  },
  {
   "cell_type": "code",
   "execution_count": 8,
   "id": "e572529a",
   "metadata": {},
   "outputs": [],
   "source": [
    "num = \"25k\""
   ]
  },
  {
   "cell_type": "code",
   "execution_count": 10,
   "id": "8c6599a3",
   "metadata": {},
   "outputs": [
    {
     "data": {
      "application/vnd.jupyter.widget-view+json": {
       "model_id": "4f9e70c9b36848a5915008d180f66511",
       "version_major": 2,
       "version_minor": 0
      },
      "text/plain": [
       "interactive(children=(IntSlider(value=288, description='model_num', max=575, min=1), Output()), _dom_classes=(…"
      ]
     },
     "metadata": {},
     "output_type": "display_data"
    }
   ],
   "source": [
    "rbf_reg_all = load(\"models/{}_RBF_all.joblib\".format(num))\n",
    "nn_reg_all = tf.keras.models.load_model('models/{}_NN_all.h5'.format(num))\n",
    "\n",
    "rbf_reg_le = load(\"models/{}_RBF_le.joblib\".format(num))\n",
    "nn_reg_le = tf.keras.models.load_model('models/{}_NN_le.h5'.format(num))\n",
    "\n",
    "rbf_reg_g = load(\"models/{}_RBF_g.joblib\".format(num))\n",
    "nn_reg_g = tf.keras.models.load_model('models/{}_NN_g.h5'.format(num))\n",
    "\n",
    "interact(plot, model_num=(1,len(models)-1,1));"
   ]
  },
  {
   "cell_type": "markdown",
   "id": "ed7c4642",
   "metadata": {},
   "source": [
    "# 50k"
   ]
  },
  {
   "cell_type": "code",
   "execution_count": 11,
   "id": "39844076",
   "metadata": {},
   "outputs": [
    {
     "data": {
      "application/vnd.jupyter.widget-view+json": {
       "model_id": "5312cc96f7c64fc4ad17e8e7ad9b0356",
       "version_major": 2,
       "version_minor": 0
      },
      "text/plain": [
       "interactive(children=(IntSlider(value=288, description='model_num', max=575, min=1), Output()), _dom_classes=(…"
      ]
     },
     "metadata": {},
     "output_type": "display_data"
    }
   ],
   "source": [
    "num = \"50k\"\n",
    "\n",
    "rbf_reg_all = load(\"models/{}_RBF_all.joblib\".format(num))\n",
    "nn_reg_all = tf.keras.models.load_model('models/{}_NN_all.h5'.format(num))\n",
    "\n",
    "rbf_reg_le = load(\"models/{}_RBF_le.joblib\".format(num))\n",
    "nn_reg_le = tf.keras.models.load_model('models/{}_NN_le.h5'.format(num))\n",
    "\n",
    "rbf_reg_g = load(\"models/{}_RBF_g.joblib\".format(num))\n",
    "nn_reg_g = tf.keras.models.load_model('models/{}_NN_g.h5'.format(num))\n",
    "\n",
    "interact(plot, model_num=(1,len(models)-1,1));"
   ]
  },
  {
   "cell_type": "markdown",
   "id": "ff7f51b0",
   "metadata": {},
   "source": [
    "# 100k"
   ]
  },
  {
   "cell_type": "code",
   "execution_count": 12,
   "id": "d8b995ac",
   "metadata": {},
   "outputs": [
    {
     "data": {
      "application/vnd.jupyter.widget-view+json": {
       "model_id": "ff65f753ebe84df184a6c52b3b965082",
       "version_major": 2,
       "version_minor": 0
      },
      "text/plain": [
       "interactive(children=(IntSlider(value=288, description='model_num', max=575, min=1), Output()), _dom_classes=(…"
      ]
     },
     "metadata": {},
     "output_type": "display_data"
    }
   ],
   "source": [
    "num = \"100k\"\n",
    "\n",
    "rbf_reg_all = load(\"models/{}_RBF_all.joblib\".format(num))\n",
    "nn_reg_all = tf.keras.models.load_model('models/{}_NN_all.h5'.format(num))\n",
    "\n",
    "rbf_reg_le = load(\"models/{}_RBF_le.joblib\".format(num))\n",
    "nn_reg_le = tf.keras.models.load_model('models/{}_NN_le.h5'.format(num))\n",
    "\n",
    "rbf_reg_g = load(\"models/{}_RBF_g.joblib\".format(num))\n",
    "nn_reg_g = tf.keras.models.load_model('models/{}_NN_g.h5'.format(num))\n",
    "\n",
    "interact(plot, model_num=(1,len(models)-1,1));"
   ]
  },
  {
   "cell_type": "code",
   "execution_count": null,
   "id": "a62b031e",
   "metadata": {},
   "outputs": [],
   "source": []
  }
 ],
 "metadata": {
  "kernelspec": {
   "display_name": "Python 3 (ipykernel)",
   "language": "python",
   "name": "python3"
  },
  "language_info": {
   "codemirror_mode": {
    "name": "ipython",
    "version": 3
   },
   "file_extension": ".py",
   "mimetype": "text/x-python",
   "name": "python",
   "nbconvert_exporter": "python",
   "pygments_lexer": "ipython3",
   "version": "3.8.10"
  }
 },
 "nbformat": 4,
 "nbformat_minor": 5
}
