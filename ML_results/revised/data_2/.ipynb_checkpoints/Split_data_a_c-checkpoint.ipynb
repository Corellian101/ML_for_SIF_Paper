{
 "cells": [
  {
   "cell_type": "markdown",
   "id": "00e88edd",
   "metadata": {},
   "source": [
    "# Dependencies"
   ]
  },
  {
   "cell_type": "code",
   "execution_count": 1,
   "id": "c16e6745",
   "metadata": {},
   "outputs": [],
   "source": [
    "import numpy as np\n",
    "import pandas as pd"
   ]
  },
  {
   "cell_type": "markdown",
   "id": "0b25ecad",
   "metadata": {},
   "source": [
    "# Dataset"
   ]
  },
  {
   "cell_type": "code",
   "execution_count": 12,
   "id": "af20d990",
   "metadata": {},
   "outputs": [],
   "source": [
    "num_data = \"100k\""
   ]
  },
  {
   "cell_type": "code",
   "execution_count": 13,
   "id": "57dcd7f3",
   "metadata": {},
   "outputs": [],
   "source": [
    "# Loading dataset\n",
    "df = pd.read_csv(\"train/{}.csv\".format(num_data))\n",
    "df.drop([\"c/b\", \"F\"], axis=1, inplace=True)\n",
    "d = df.to_numpy()"
   ]
  },
  {
   "cell_type": "markdown",
   "id": "6515fd78",
   "metadata": {},
   "source": [
    "# Split a/c"
   ]
  },
  {
   "cell_type": "code",
   "execution_count": 14,
   "id": "47722501",
   "metadata": {},
   "outputs": [],
   "source": [
    "# Splitting a/c\n",
    "d_le1 = []\n",
    "d_g1 = []\n",
    "for ex in d:\n",
    "    if ex[0] <= 1:\n",
    "        d_le1.append(ex)\n",
    "    else:\n",
    "        d_g1.append(ex)\n",
    "\n",
    "np.save(\"train/{}_le1.npy\".format(num_data), d_le1)\n",
    "np.save(\"train/{}_g1.npy\".format(num_data), d_g1)"
   ]
  },
  {
   "cell_type": "code",
   "execution_count": null,
   "id": "6035cde9",
   "metadata": {},
   "outputs": [],
   "source": []
  }
 ],
 "metadata": {
  "kernelspec": {
   "display_name": "Python 3 (ipykernel)",
   "language": "python",
   "name": "python3"
  },
  "language_info": {
   "codemirror_mode": {
    "name": "ipython",
    "version": 3
   },
   "file_extension": ".py",
   "mimetype": "text/x-python",
   "name": "python",
   "nbconvert_exporter": "python",
   "pygments_lexer": "ipython3",
   "version": "3.8.10"
  }
 },
 "nbformat": 4,
 "nbformat_minor": 5
}
