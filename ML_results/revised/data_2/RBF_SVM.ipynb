{
 "cells": [
  {
   "cell_type": "markdown",
   "id": "047d10c6",
   "metadata": {},
   "source": [
    "# Dependencies"
   ]
  },
  {
   "cell_type": "code",
   "execution_count": 1,
   "id": "54e6a3f5",
   "metadata": {},
   "outputs": [
    {
     "name": "stderr",
     "output_type": "stream",
     "text": [
      "2022-03-09 17:49:50.715042: W tensorflow/stream_executor/platform/default/dso_loader.cc:64] Could not load dynamic library 'libcudart.so.11.0'; dlerror: libcudart.so.11.0: cannot open shared object file: No such file or directory\n",
      "2022-03-09 17:49:50.715060: I tensorflow/stream_executor/cuda/cudart_stub.cc:29] Ignore above cudart dlerror if you do not have a GPU set up on your machine.\n"
     ]
    }
   ],
   "source": [
    "import tensorflow as tf\n",
    "from tensorflow.keras.models import Sequential\n",
    "from tensorflow.keras.layers import Dense\n",
    "from tensorflow.keras.callbacks import EarlyStopping\n",
    "import numpy as np\n",
    "import matplotlib.pyplot as plt\n",
    "import pandas as pd\n",
    "import timeit\n",
    "import time\n",
    "from torch.optim import Adam\n",
    "from __future__ import print_function\n",
    "from ipywidgets import interact, interactive, fixed, interact_manual\n",
    "import ipywidgets as widgets\n",
    "import matplotlib.pyplot as plt, random\n",
    "import sklearn\n",
    "from scipy.stats import loguniform\n",
    "from sklearn.svm import SVR\n",
    "from joblib import dump, load\n",
    "from sklearn.model_selection import GridSearchCV, RandomizedSearchCV"
   ]
  },
  {
   "cell_type": "code",
   "execution_count": 19,
   "id": "6d81ee2c",
   "metadata": {},
   "outputs": [],
   "source": [
    "all_times = []\n",
    "le_times = []\n",
    "g_times = []\n",
    "\n",
    "pred_all_times = []\n",
    "pred_le_times = []\n",
    "pred_g_times = []\n",
    "\n",
    "all_MAE = []\n",
    "le_MAE = []\n",
    "g_MAE = []"
   ]
  },
  {
   "cell_type": "markdown",
   "id": "ba83fecd",
   "metadata": {},
   "source": [
    "# Data"
   ]
  },
  {
   "cell_type": "code",
   "execution_count": 56,
   "id": "1f585eaa",
   "metadata": {},
   "outputs": [],
   "source": [
    "num_data = \"100k\""
   ]
  },
  {
   "cell_type": "code",
   "execution_count": 57,
   "id": "4dd0a049",
   "metadata": {},
   "outputs": [
    {
     "data": {
      "text/plain": [
       "((97290, 4), (44390, 4), (52900, 4))"
      ]
     },
     "execution_count": 57,
     "metadata": {},
     "output_type": "execute_result"
    }
   ],
   "source": [
    "df = pd.read_csv(\"train/{}.csv\".format(num_data))\n",
    "df.drop([\"c/b\", \"F\"], axis=1, inplace=True)\n",
    "d = df.to_numpy()\n",
    "\n",
    "d_le = np.load(\"train/{}_le1.npy\".format(num_data))\n",
    "d_g = np.load(\"train/{}_g1.npy\".format(num_data))\n",
    "\n",
    "d.shape, d_le.shape, d_g.shape"
   ]
  },
  {
   "cell_type": "markdown",
   "id": "eae289ab",
   "metadata": {},
   "source": [
    "# Hyperparameter Optimisation"
   ]
  },
  {
   "cell_type": "code",
   "execution_count": 143,
   "id": "37107401",
   "metadata": {
    "collapsed": true
   },
   "outputs": [
    {
     "name": "stdout",
     "output_type": "stream",
     "text": [
      "Fitting 5 folds for each of 50 candidates, totalling 250 fits\n",
      "[CV] END ...................C=100.0, gamma=0.001, kernel=rbf; total time=   9.7s\n",
      "[CV] END .................C=1000.0, gamma=1000.0, kernel=rbf; total time= 1.9min\n",
      "[CV] END .....................C=10.0, gamma=10.0, kernel=rbf; total time=   1.0s\n",
      "[CV] END .....................C=10.0, gamma=10.0, kernel=rbf; total time=   1.8s\n",
      "[CV] END .....................C=10.0, gamma=10.0, kernel=rbf; total time=   1.6s\n",
      "[CV] END ...................C=100.0, gamma=1e-05, kernel=rbf; total time=   8.2s\n",
      "[CV] END ...................C=100.0, gamma=1e-05, kernel=rbf; total time=  18.8s\n",
      "[CV] END ..................C=0.001, gamma=1000.0, kernel=rbf; total time=  27.1s\n",
      "[CV] END ....................C=0.1, gamma=1000.0, kernel=rbf; total time= 1.2min\n",
      "[CV] END .......................C=1.0, gamma=0.1, kernel=rbf; total time=   0.7s\n",
      "[CV] END .......................C=1.0, gamma=0.1, kernel=rbf; total time=   3.1s\n",
      "[CV] END .......................C=1.0, gamma=0.1, kernel=rbf; total time=   3.5s\n",
      "[CV] END .......................C=1.0, gamma=1.0, kernel=rbf; total time=   1.0s\n",
      "[CV] END .......................C=1.0, gamma=1.0, kernel=rbf; total time=   1.0s\n",
      "[CV] END .................C=1000.0, gamma=0.0001, kernel=rbf; total time=  13.6s\n",
      "[CV] END ....................C=10.0, gamma=1e-05, kernel=rbf; total time=  24.1s\n",
      "[CV] END ....................C=1000.0, gamma=0.1, kernel=rbf; total time=   9.0s\n",
      "[CV] END ....................C=1000.0, gamma=0.1, kernel=rbf; total time=   9.1s\n",
      "[CV] END ...................C=0.001, gamma=100.0, kernel=rbf; total time=  32.4s\n",
      "[CV] END ................C=100000.0, gamma=100.0, kernel=rbf; total time=  30.5s\n",
      "[CV] END ................C=100000.0, gamma=100.0, kernel=rbf; total time=  34.3s\n",
      "[CV] END .....................C=100.0, gamma=0.1, kernel=rbf; total time=   0.7s\n",
      "[CV] END .....................C=100.0, gamma=0.1, kernel=rbf; total time=   5.0s\n",
      "[CV] END ..................C=10000.0, gamma=0.01, kernel=rbf; total time=   3.3s\n",
      "[CV] END ..................C=10000.0, gamma=0.01, kernel=rbf; total time=  50.5s\n",
      "[CV] END ....................C=100.0, gamma=0.01, kernel=rbf; total time=   2.5s\n",
      "[CV] END ....................C=100.0, gamma=0.01, kernel=rbf; total time=   6.5s\n",
      "[CV] END ....................C=100.0, gamma=0.01, kernel=rbf; total time=   8.3s\n",
      "[CV] END ..................C=100000.0, gamma=1.0, kernel=rbf; total time=   1.0s\n",
      "[CV] END ..................C=100000.0, gamma=1.0, kernel=rbf; total time=   1.0s\n",
      "[CV] END ...................C=10000.0, gamma=1.0, kernel=rbf; total time=   0.2s\n",
      "[CV] END ...................C=10000.0, gamma=1.0, kernel=rbf; total time=   1.1s\n",
      "[CV] END ...................C=10000.0, gamma=1.0, kernel=rbf; total time=   1.0s\n",
      "[CV] END .....................C=0.1, gamma=0.001, kernel=rbf; total time=  17.6s\n",
      "[CV] END ................C=100000.0, gamma=0.001, kernel=rbf; total time= 8.3min\n",
      "[CV] END ...............C=100000.0, gamma=0.0001, kernel=rbf; total time= 1.9min\n",
      "[CV] END .....................C=0.1, gamma=100.0, kernel=rbf; total time=  45.2s\n",
      "[CV] END ................C=10000000.0, gamma=0.1, kernel=rbf; total time=   0.7s\n",
      "[CV] END ................C=10000000.0, gamma=0.1, kernel=rbf; total time=  16.9s\n",
      "[CV] END ....................C=0.01, gamma=1e-05, kernel=rbf; total time=  27.8s\n",
      "[CV] END ....................C=0.01, gamma=1e-05, kernel=rbf; total time=  35.7s\n",
      "[CV] END ...................C=100.0, gamma=0.001, kernel=rbf; total time=  10.0s\n",
      "[CV] END .................C=1000.0, gamma=1000.0, kernel=rbf; total time= 2.2min\n",
      "[CV] END ..................C=0.001, gamma=1000.0, kernel=rbf; total time=  28.2s\n",
      "[CV] END ....................C=0.1, gamma=1000.0, kernel=rbf; total time= 1.5min\n",
      "[CV] END .......................C=1.0, gamma=1.0, kernel=rbf; total time=   0.2s\n",
      "[CV] END .......................C=1.0, gamma=1.0, kernel=rbf; total time=   1.0s\n",
      "[CV] END .......................C=1.0, gamma=1.0, kernel=rbf; total time=   1.0s\n",
      "[CV] END .................C=1000.0, gamma=0.0001, kernel=rbf; total time=   5.4s\n",
      "[CV] END .................C=1000.0, gamma=0.0001, kernel=rbf; total time=  14.1s\n",
      "[CV] END ...................C=10.0, gamma=1000.0, kernel=rbf; total time= 2.2min\n",
      "[CV] END .....................C=100.0, gamma=0.1, kernel=rbf; total time=   3.8s\n",
      "[CV] END ..................C=1000.0, gamma=100.0, kernel=rbf; total time=  49.1s\n",
      "[CV] END ...................C=0.001, gamma=1e-05, kernel=rbf; total time=  46.3s\n",
      "[CV] END ................C=100000.0, gamma=0.001, kernel=rbf; total time= 5.1min\n",
      "[CV] END ....................C=10.0, gamma=0.001, kernel=rbf; total time=  12.8s\n",
      "[CV] END ...................C=0.001, gamma=0.001, kernel=rbf; total time=  34.6s\n",
      "[CV] END ..............C=10000000.0, gamma=1e-05, kernel=rbf; total time= 1.5min\n",
      "[CV] END ...............C=100000.0, gamma=0.0001, kernel=rbf; total time= 2.2min\n",
      "[CV] END .....................C=1.0, gamma=0.001, kernel=rbf; total time=   6.5s\n",
      "[CV] END .....................C=1.0, gamma=0.001, kernel=rbf; total time=  13.5s\n",
      "[CV] END .....................C=1.0, gamma=0.001, kernel=rbf; total time=  15.5s\n",
      "[CV] END .....................C=0.1, gamma=100.0, kernel=rbf; total time=  30.2s\n",
      "[CV] END .....................C=0.1, gamma=100.0, kernel=rbf; total time=  32.8s\n",
      "[CV] END ................C=10000000.0, gamma=0.1, kernel=rbf; total time=  17.3s\n",
      "[CV] END ....................C=0.01, gamma=1e-05, kernel=rbf; total time=  37.6s\n",
      "[CV] END ...................C=1000.0, gamma=0.01, kernel=rbf; total time=  17.8s\n",
      "[CV] END ...................C=100.0, gamma=0.001, kernel=rbf; total time=  10.0s\n",
      "[CV] END .................C=1000.0, gamma=1000.0, kernel=rbf; total time= 2.4min\n",
      "[CV] END ..................C=0.001, gamma=1000.0, kernel=rbf; total time=  34.5s\n",
      "[CV] END .......................C=0.1, gamma=1.0, kernel=rbf; total time=   0.3s\n",
      "[CV] END .......................C=0.1, gamma=1.0, kernel=rbf; total time=   1.5s\n",
      "[CV] END .......................C=0.1, gamma=1.0, kernel=rbf; total time=   1.5s\n",
      "[CV] END .......................C=0.1, gamma=1.0, kernel=rbf; total time=   1.5s\n",
      "[CV] END .......................C=0.1, gamma=1.0, kernel=rbf; total time=   1.6s\n",
      "[CV] END ......................C=0.1, gamma=10.0, kernel=rbf; total time=   1.0s\n",
      "[CV] END ......................C=0.1, gamma=10.0, kernel=rbf; total time=   1.9s\n",
      "[CV] END ......................C=0.1, gamma=10.0, kernel=rbf; total time=   1.8s\n",
      "[CV] END ......................C=0.1, gamma=10.0, kernel=rbf; total time=   1.8s\n",
      "[CV] END ......................C=0.1, gamma=10.0, kernel=rbf; total time=   1.6s\n",
      "[CV] END ...............C=1000000.0, gamma=100.0, kernel=rbf; total time=  30.1s\n",
      "[CV] END ...............C=1000000.0, gamma=100.0, kernel=rbf; total time=  51.1s\n",
      "[CV] END ...................C=10.0, gamma=1000.0, kernel=rbf; total time= 1.9min\n",
      "[CV] END ................C=100000.0, gamma=100.0, kernel=rbf; total time=  37.7s\n",
      "[CV] END ..................C=10000.0, gamma=0.01, kernel=rbf; total time=  59.4s\n",
      "[CV] END ..................C=100000.0, gamma=1.0, kernel=rbf; total time=   0.2s\n",
      "[CV] END ..................C=100000.0, gamma=1.0, kernel=rbf; total time=   1.0s\n",
      "[CV] END ..................C=100000.0, gamma=1.0, kernel=rbf; total time=   1.1s\n",
      "[CV] END ...................C=10000.0, gamma=1.0, kernel=rbf; total time=   1.0s\n",
      "[CV] END ...................C=10000.0, gamma=1.0, kernel=rbf; total time=   1.0s\n",
      "[CV] END .....................C=0.1, gamma=0.001, kernel=rbf; total time=  13.9s\n",
      "[CV] END ................C=100000.0, gamma=0.001, kernel=rbf; total time= 5.3min\n",
      "[CV] END ...................C=0.001, gamma=0.001, kernel=rbf; total time=  42.6s\n",
      "[CV] END ..............C=10000000.0, gamma=1e-05, kernel=rbf; total time=  51.3s\n",
      "[CV] END .................C=10000.0, gamma=1e-05, kernel=rbf; total time=   8.7s\n",
      "[CV] END .................C=10000.0, gamma=1e-05, kernel=rbf; total time=  18.7s\n",
      "[CV] END ...............C=100000.0, gamma=0.0001, kernel=rbf; total time= 2.6min\n",
      "[CV] END .....................C=1.0, gamma=0.001, kernel=rbf; total time=  15.1s\n",
      "[CV] END .....................C=1.0, gamma=0.001, kernel=rbf; total time=  15.1s\n",
      "[CV] END .....................C=0.1, gamma=100.0, kernel=rbf; total time=  48.3s\n",
      "[CV] END ................C=10000000.0, gamma=0.1, kernel=rbf; total time=  15.0s\n",
      "[CV] END ....................C=0.01, gamma=1e-05, kernel=rbf; total time=  45.4s\n",
      "[CV] END ...................C=1000.0, gamma=0.01, kernel=rbf; total time=  20.0s\n"
     ]
    },
    {
     "name": "stdout",
     "output_type": "stream",
     "text": [
      "[CV] END ...................C=100.0, gamma=0.001, kernel=rbf; total time=   9.3s\n",
      "[CV] END ....................C=1.0, gamma=1000.0, kernel=rbf; total time= 2.0min\n",
      "[CV] END .....................C=10.0, gamma=10.0, kernel=rbf; total time=   1.7s\n",
      "[CV] END .....................C=10.0, gamma=10.0, kernel=rbf; total time=   1.5s\n",
      "[CV] END ...................C=100.0, gamma=1e-05, kernel=rbf; total time=  14.9s\n",
      "[CV] END ..................C=0.001, gamma=1000.0, kernel=rbf; total time=  28.2s\n",
      "[CV] END ....................C=0.1, gamma=1000.0, kernel=rbf; total time= 1.5min\n",
      "[CV] END .................C=1000.0, gamma=0.0001, kernel=rbf; total time=  13.5s\n",
      "[CV] END ....................C=10.0, gamma=1e-05, kernel=rbf; total time=  23.1s\n",
      "[CV] END ....................C=1000.0, gamma=0.1, kernel=rbf; total time=   0.7s\n",
      "[CV] END ....................C=1000.0, gamma=0.1, kernel=rbf; total time=   8.4s\n",
      "[CV] END ......................C=10.0, gamma=1.0, kernel=rbf; total time=   0.2s\n",
      "[CV] END ......................C=10.0, gamma=1.0, kernel=rbf; total time=   0.9s\n",
      "[CV] END ......................C=10.0, gamma=1.0, kernel=rbf; total time=   0.9s\n",
      "[CV] END ......................C=10.0, gamma=1.0, kernel=rbf; total time=   0.9s\n",
      "[CV] END ......................C=10.0, gamma=1.0, kernel=rbf; total time=   0.9s\n",
      "[CV] END ....................C=100.0, gamma=10.0, kernel=rbf; total time=   1.7s\n",
      "[CV] END ....................C=100.0, gamma=10.0, kernel=rbf; total time=   1.5s\n",
      "[CV] END ...................C=0.001, gamma=100.0, kernel=rbf; total time=  24.7s\n",
      "[CV] END ...................C=0.001, gamma=100.0, kernel=rbf; total time=  25.8s\n",
      "[CV] END ................C=100000.0, gamma=100.0, kernel=rbf; total time=  48.8s\n",
      "[CV] END .....................C=100.0, gamma=0.1, kernel=rbf; total time=   4.8s\n",
      "[CV] END ..................C=1000.0, gamma=100.0, kernel=rbf; total time=  52.0s\n",
      "[CV] END ...................C=0.001, gamma=1e-05, kernel=rbf; total time=  39.4s\n",
      "[CV] END ................C=100000.0, gamma=0.001, kernel=rbf; total time= 7.5min\n",
      "[CV] END ...............C=100000.0, gamma=0.0001, kernel=rbf; total time= 1.5min\n",
      "[CV] END ...............C=100000.0, gamma=0.0001, kernel=rbf; total time= 1.5min\n",
      "[CV] END .....................C=0.1, gamma=100.0, kernel=rbf; total time=  31.6s\n",
      "[CV] END ................C=10000000.0, gamma=0.1, kernel=rbf; total time=  18.1s\n",
      "[CV] END ....................C=0.01, gamma=1e-05, kernel=rbf; total time=  39.8s\n",
      "[CV] END ...................C=1000.0, gamma=0.01, kernel=rbf; total time=   2.7s\n",
      "[CV] END ...................C=1000.0, gamma=0.01, kernel=rbf; total time=  13.4s\n",
      "[CV] END ...................C=1000.0, gamma=0.01, kernel=rbf; total time=  19.4s\n",
      "[CV] END .................C=100000.0, gamma=0.01, kernel=rbf; total time=38.3min\n",
      "[CV] END .................C=100000.0, gamma=0.01, kernel=rbf; total time=40.9min\n",
      "[CV] END .................C=100000.0, gamma=0.01, kernel=rbf; total time=42.6min\n"
     ]
    },
    {
     "data": {
      "text/plain": [
       "RandomizedSearchCV(estimator=SVR(), n_iter=50, n_jobs=-1,\n",
       "                   param_distributions={'C': [0.001, 0.01, 0.1, 1.0, 10.0,\n",
       "                                              100.0, 1000.0, 10000.0, 100000.0,\n",
       "                                              1000000.0, 10000000.0],\n",
       "                                        'gamma': [1e-05, 0.0001, 0.001, 0.01,\n",
       "                                                  0.1, 1.0, 10.0, 100.0,\n",
       "                                                  1000.0],\n",
       "                                        'kernel': ['rbf']},\n",
       "                   scoring='neg_mean_squared_error', verbose=2)"
      ]
     },
     "execution_count": 143,
     "metadata": {},
     "output_type": "execute_result"
    }
   ],
   "source": [
    "# defining parameter range\n",
    "param_grid = {'C': list(10. ** np.arange(-3, 8)),\n",
    "              'gamma': list(10. ** np.arange(-5, 4)),\n",
    "              'kernel': ['rbf']}\n",
    " \n",
    "# define search\n",
    "grid = RandomizedSearchCV(SVR(), param_grid, n_iter=50, scoring='neg_mean_squared_error', n_jobs=-1, verbose=2)\n",
    "# fitting the model for grid search\n",
    "grid.fit(d[:,:3], d[:,3])"
   ]
  },
  {
   "cell_type": "code",
   "execution_count": 144,
   "id": "a08295b1",
   "metadata": {},
   "outputs": [
    {
     "name": "stdout",
     "output_type": "stream",
     "text": [
      "{'kernel': 'rbf', 'gamma': 0.01, 'C': 10000.0}\n"
     ]
    }
   ],
   "source": [
    "#print best parameter after tuning\n",
    "print(grid.best_params_)"
   ]
  },
  {
   "cell_type": "markdown",
   "id": "bc8d77f4",
   "metadata": {},
   "source": [
    "# NN Fitting"
   ]
  },
  {
   "cell_type": "markdown",
   "id": "1dab222c",
   "metadata": {},
   "source": [
    "For 12k: gamma=0.01, C=10000\n",
    "\n",
    "For 25k: gamma=0.01, C=10000\n",
    "\n",
    "For 50k: gamma=0.01, C=10000\n",
    "\n",
    "For 100k: gamma=0.01, C=10000"
   ]
  },
  {
   "cell_type": "code",
   "execution_count": 58,
   "id": "1aed539d",
   "metadata": {},
   "outputs": [
    {
     "name": "stdout",
     "output_type": "stream",
     "text": [
      "RBF train time: 249.34028697013855 secs\n"
     ]
    }
   ],
   "source": [
    "t0 = time.time()\n",
    "reg_all = SVR(kernel=\"rbf\", gamma=0.01, C=10000)\n",
    "reg_all.fit(d[:,:-1], d[:,-1])\n",
    "t1 = time.time()\n",
    "print(\"RBF train time: {} secs\".format(t1-t0))\n",
    "\n",
    "all_times.append(t1-t0)"
   ]
  },
  {
   "cell_type": "code",
   "execution_count": 59,
   "id": "53e4a267",
   "metadata": {
    "scrolled": true
   },
   "outputs": [
    {
     "name": "stdout",
     "output_type": "stream",
     "text": [
      "RBF train time: 1.6381511688232422 secs\n"
     ]
    }
   ],
   "source": [
    "# a/c > 1\n",
    "t0 = time.time()\n",
    "reg_g = SVR(kernel=\"rbf\", gamma=0.01, C=10000)\n",
    "reg_g.fit(d_g[:,:-1], d_g[:,-1])\n",
    "t1 = time.time()\n",
    "print(\"RBF train time: {} secs\".format(t1-t0))\n",
    "\n",
    "g_times.append(t1-t0)"
   ]
  },
  {
   "cell_type": "code",
   "execution_count": 60,
   "id": "547e3fed",
   "metadata": {},
   "outputs": [
    {
     "name": "stdout",
     "output_type": "stream",
     "text": [
      "RBF train time: 87.94084119796753 secs\n"
     ]
    }
   ],
   "source": [
    "# a/c <= 1\n",
    "t0 = time.time()\n",
    "reg_le = SVR(kernel=\"rbf\", gamma=0.01, C=10000)\n",
    "reg_le.fit(d_le[:,:-1], d_le[:,-1])\n",
    "t1 = time.time()\n",
    "print(\"RBF train time: {} secs\".format(t1-t0))\n",
    "\n",
    "le_times.append(t1-t0)"
   ]
  },
  {
   "cell_type": "markdown",
   "id": "23824d35",
   "metadata": {},
   "source": [
    "# Results"
   ]
  },
  {
   "cell_type": "code",
   "execution_count": 61,
   "id": "5b2f86f6",
   "metadata": {},
   "outputs": [
    {
     "data": {
      "text/plain": [
       "((13824, 4), (6336, 4), (7488, 4))"
      ]
     },
     "execution_count": 61,
     "metadata": {},
     "output_type": "execute_result"
    }
   ],
   "source": [
    "df = pd.read_csv(\"test/2_RN_eqn_data_TEST.csv\")\n",
    "df.drop([\"c/b\", \"F\"], axis=1, inplace=True)\n",
    "d = df.to_numpy()\n",
    "\n",
    "d_le = np.load(\"test/le1.npy\")\n",
    "d_g = np.load(\"test/g1.npy\")\n",
    "\n",
    "d.shape, d_le.shape, d_g.shape"
   ]
  },
  {
   "cell_type": "code",
   "execution_count": 62,
   "id": "7b74fd7f",
   "metadata": {},
   "outputs": [
    {
     "name": "stdout",
     "output_type": "stream",
     "text": [
      "MAE all:  0.041619695291066884\n",
      "Prediction time:  0.7709693908691406\n",
      "MAE a/c<=1:  0.4531641616245748\n",
      "Prediction time:  0.4461655616760254\n",
      "MAE a/c>1:  0.07889816512198362\n",
      "Prediction time:  0.011432886123657227\n"
     ]
    }
   ],
   "source": [
    "def error(reg, data):\n",
    "    t0 = time.time()\n",
    "    result = reg.predict(data[:,:-1])\n",
    "    t1 = time.time()\n",
    "    MAE = np.mean(np.abs(result-data[:,-1]))\n",
    "    return MAE, t1-t0\n",
    "\n",
    "mse, t = error(reg_all, d)\n",
    "pred_all_times.append(t)\n",
    "all_MAE.append(mse)\n",
    "print(\"MAE all: \", mse)\n",
    "print(\"Prediction time: \", t)\n",
    "\n",
    "mse_le, t = error(reg_le, d)\n",
    "pred_le_times.append(t)\n",
    "le_MAE.append(mse)\n",
    "print(\"MAE a/c<=1: \", mse_le)\n",
    "print(\"Prediction time: \", t)\n",
    "\n",
    "mse_g, t = error(reg_g, d)\n",
    "pred_g_times.append(t)\n",
    "g_MAE.append(mse)\n",
    "print(\"MAE a/c>1: \", mse_g)\n",
    "print(\"Prediction time: \", t)"
   ]
  },
  {
   "cell_type": "code",
   "execution_count": 63,
   "id": "c937e9e7",
   "metadata": {},
   "outputs": [
    {
     "data": {
      "text/plain": [
       "['models/100k_RBF_g.joblib']"
      ]
     },
     "execution_count": 63,
     "metadata": {},
     "output_type": "execute_result"
    }
   ],
   "source": [
    "dump(reg_all, \"models/{}_RBF_all.joblib\".format(num_data))\n",
    "dump(reg_le, \"models/{}_RBF_le.joblib\".format(num_data))\n",
    "dump(reg_g, \"models/{}_RBF_g.joblib\".format(num_data))"
   ]
  },
  {
   "cell_type": "markdown",
   "id": "b1d36763",
   "metadata": {},
   "source": [
    "## Fitting Equation"
   ]
  },
  {
   "cell_type": "code",
   "execution_count": 64,
   "id": "e640e732",
   "metadata": {},
   "outputs": [],
   "source": [
    "def sort(data):\n",
    "    models = []\n",
    "    model = np.unique(data[:,[0,1,2]], axis=0)\n",
    "    \n",
    "    for i in model:\n",
    "        models.append(data[np.where((data[:,[0,1,2]] == i).all(axis=1))])\n",
    "\n",
    "    return models \n",
    "\n",
    "def compare(model):\n",
    "    results_all = []\n",
    "    results_sep = []\n",
    "    \n",
    "    result = np.zeros((len(model),1))\n",
    "    model = np.delete(model, [2,4], 1)\n",
    "\n",
    "    result[:,0] = reg_all.predict(model[:,:-1])\n",
    "    results_all.append(result)\n",
    "\n",
    "    # a/c separated\n",
    "    result = np.zeros((len(model),1))\n",
    "    if model[0,0] <= 1:\n",
    "        result[:,0] = reg_le.predict(model[:,:-1])\n",
    "\n",
    "    elif model[0,0] > 1:\n",
    "        result[:,0] = reg_g.predict(model[:,:-1])\n",
    "\n",
    "    else:\n",
    "        print(\"Something wrong!\")\n",
    "\n",
    "    results_sep.append(result)\n",
    "        \n",
    "    return results_all, results_sep\n",
    "\n",
    "\n",
    "\n",
    "def plot(model_num):\n",
    "    results_all, results_sep = compare(models[model_num])\n",
    "    plt.scatter(models[model_num][:,-3], models[model_num][:,-1], label=\"Ground Truth\")\n",
    "    plt.plot(models[model_num][:,-3], results_all[0][:,0], label=\"RBF all\", color='red')\n",
    "    plt.plot(models[model_num][:,-3], results_sep[0][:,0], label=\"RBF separated\", color='green')\n",
    "    plt.title(\"a/c={}; a/t={}; c/b={}\".format(models[model_num][0,0],\n",
    "                                             models[model_num][0,1],\n",
    "                                             models[model_num][0,2]))\n",
    "    plt.xlabel(\"phi\")\n",
    "    plt.ylabel(\"Mg\")\n",
    "    plt.legend()\n",
    "    plt.show()\n",
    "    return"
   ]
  },
  {
   "cell_type": "code",
   "execution_count": 65,
   "id": "d7926f98",
   "metadata": {},
   "outputs": [
    {
     "data": {
      "text/plain": [
       "(13824, 6)"
      ]
     },
     "execution_count": 65,
     "metadata": {},
     "output_type": "execute_result"
    }
   ],
   "source": [
    "# Loading test dataset\n",
    "df = pd.read_csv(\"test/2_RN_eqn_data_TEST.csv\")\n",
    "d = df.to_numpy()\n",
    "d.shape"
   ]
  },
  {
   "cell_type": "code",
   "execution_count": 66,
   "id": "7a0dcaa5",
   "metadata": {},
   "outputs": [
    {
     "data": {
      "text/plain": [
       "576"
      ]
     },
     "execution_count": 66,
     "metadata": {},
     "output_type": "execute_result"
    }
   ],
   "source": [
    "models = sort(d)\n",
    "len(models)"
   ]
  },
  {
   "cell_type": "code",
   "execution_count": 67,
   "id": "f8144a3a",
   "metadata": {},
   "outputs": [
    {
     "data": {
      "application/vnd.jupyter.widget-view+json": {
       "model_id": "a25e999906a64c329b318e4dc48a25a0",
       "version_major": 2,
       "version_minor": 0
      },
      "text/plain": [
       "interactive(children=(IntSlider(value=288, description='model_num', max=575, min=1), Output()), _dom_classes=(…"
      ]
     },
     "metadata": {},
     "output_type": "display_data"
    }
   ],
   "source": [
    "interact(plot, model_num=(1,len(models)-1,1));"
   ]
  },
  {
   "cell_type": "code",
   "execution_count": 68,
   "id": "9f22703c",
   "metadata": {},
   "outputs": [],
   "source": [
    "np.save(\"results/all_times.npy\", all_times)\n",
    "np.save(\"results/le_times.npy\", le_times)\n",
    "np.save(\"results/g_times.npy\", g_times)\n",
    "\n",
    "np.save(\"results/pred_all_times.npy\", pred_all_times)\n",
    "np.save(\"results/pred_le_times.npy\", pred_le_times)\n",
    "np.save(\"results/pred_g_times.npy\", pred_g_times)\n",
    "\n",
    "np.save(\"results/all_MAE.npy\", all_MAE)\n",
    "np.save(\"results/le_MAE.npy\", le_MAE)\n",
    "np.save(\"results/g_MAE.npy\", g_MAE)"
   ]
  },
  {
   "cell_type": "code",
   "execution_count": 71,
   "id": "1eaa948e",
   "metadata": {},
   "outputs": [
    {
     "data": {
      "text/plain": [
       "Text(0.5, 1.0, 'RBF Training Time')"
      ]
     },
     "execution_count": 71,
     "metadata": {},
     "output_type": "execute_result"
    },
    {
     "data": {
      "image/png": "[encoded data removed]",
      "text/plain": [
       "<Figure size 432x288 with 1 Axes>"
      ]
     },
     "metadata": {
      "needs_background": "light"
     },
     "output_type": "display_data"
    }
   ],
   "source": [
    "num_data = [\"12k\", \"25k\", \"50k\", \"100k\"]\n",
    "plt.plot(num_data, all_times, label=\"All dataset\")\n",
    "plt.plot(num_data, le_times, label=\"a/c <= 1\")\n",
    "plt.plot(num_data, g_times, label=\"a/c > 1\")\n",
    "plt.legend()\n",
    "plt.semilogy()\n",
    "plt.xlabel(\"Number of training examples\")\n",
    "plt.ylabel(\"Time in secs\")\n",
    "plt.title(\"RBF Training Time\")"
   ]
  },
  {
   "cell_type": "code",
   "execution_count": 72,
   "id": "e4b4eabf",
   "metadata": {},
   "outputs": [
    {
     "data": {
      "text/plain": [
       "Text(0.5, 1.0, 'RBF Testing Time')"
      ]
     },
     "execution_count": 72,
     "metadata": {},
     "output_type": "execute_result"
    },
    {
     "data": {
      "image/png": "[encoded data removed]",
      "text/plain": [
       "<Figure size 432x288 with 1 Axes>"
      ]
     },
     "metadata": {
      "needs_background": "light"
     },
     "output_type": "display_data"
    }
   ],
   "source": [
    "num_data = [\"12k\", \"25k\", \"50k\", \"100k\"]\n",
    "plt.plot(num_data, pred_all_times, label=\"All dataset\")\n",
    "plt.plot(num_data, pred_le_times, label=\"a/c <= 1\")\n",
    "plt.plot(num_data, pred_g_times, label=\"a/c > 1\")\n",
    "plt.legend()\n",
    "plt.semilogy()\n",
    "plt.xlabel(\"Number of training examples\")\n",
    "plt.ylabel(\"Time in secs\")\n",
    "plt.title(\"RBF Testing Time\")"
   ]
  },
  {
   "cell_type": "code",
   "execution_count": 74,
   "id": "7e199a0f",
   "metadata": {},
   "outputs": [
    {
     "data": {
      "text/plain": [
       "Text(0.5, 1.0, 'RBF Mean Absolute Error')"
      ]
     },
     "execution_count": 74,
     "metadata": {},
     "output_type": "execute_result"
    },
    {
     "data": {
      "image/png": "[encoded data removed]",
      "text/plain": [
       "<Figure size 432x288 with 1 Axes>"
      ]
     },
     "metadata": {
      "needs_background": "light"
     },
     "output_type": "display_data"
    }
   ],
   "source": [
    "num_data = [\"12k\", \"25k\", \"50k\", \"100k\"]\n",
    "plt.plot(num_data, all_MAE, label=\"All dataset\")\n",
    "plt.plot(num_data, le_MAE, label=\"a/c <= 1\")\n",
    "plt.plot(num_data, g_MAE, label=\"a/c > 1\")\n",
    "plt.legend()\n",
    "plt.xlabel(\"Number of training examples\")\n",
    "plt.ylabel(\"MAE\")\n",
    "plt.title(\"RBF Mean Absolute Error\")"
   ]
  },
  {
   "cell_type": "code",
   "execution_count": null,
   "id": "8dcda254",
   "metadata": {},
   "outputs": [],
   "source": []
  }
 ],
 "metadata": {
  "kernelspec": {
   "display_name": "Python 3 (ipykernel)",
   "language": "python",
   "name": "python3"
  },
  "language_info": {
   "codemirror_mode": {
    "name": "ipython",
    "version": 3
   },
   "file_extension": ".py",
   "mimetype": "text/x-python",
   "name": "python",
   "nbconvert_exporter": "python",
   "pygments_lexer": "ipython3",
   "version": "3.8.10"
  }
 },
 "nbformat": 4,
 "nbformat_minor": 5
}
