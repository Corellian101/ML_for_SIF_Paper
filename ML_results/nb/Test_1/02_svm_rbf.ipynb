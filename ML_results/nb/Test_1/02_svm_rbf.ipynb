{
 "cells": [
  {
   "cell_type": "code",
   "execution_count": null,
   "id": "4c046ea9",
   "metadata": {},
   "outputs": [],
   "source": [
    "import numpy as np\n",
    "import matplotlib.pyplot as plt\n",
    "from sklearn.svm import SVR\n",
    "import pandas as pd\n",
    "import timeit\n",
    "import time\n",
    "\n",
    "import numpy as np\n",
    "import tensorflow as tf\n",
    "import pandas as pd\n",
    "from sklearn.preprocessing import StandardScaler\n",
    "from tensorflow.keras.models import Sequential\n",
    "from tensorflow.keras.layers import Dense\n",
    "from sklearn.model_selection import train_test_split\n",
    "from tensorflow.keras.callbacks import EarlyStopping\n",
    "import matplotlib.pyplot as plt"
   ]
  },
  {
   "cell_type": "code",
   "execution_count": null,
   "id": "41a36040",
   "metadata": {},
   "outputs": [],
   "source": [
    "import time\n",
    "\n",
    "df = pd.read_csv(\"/content/1_RN_data_TRAIN.csv\")\n",
    "df.drop([\"c/b\", \"F\"], axis=1, inplace=True)\n",
    "d = df.to_numpy()\n",
    "\n",
    "def rbf_svm(data):\n",
    "    reg = SVR(kernel=\"rbf\")\n",
    "    reg.fit(data[:,:-1], data[:,-1])\n",
    "    return reg\n",
    "\n",
    "t0 = time.time()\n",
    "reg = rbf_svm(d)\n",
    "t1 = time.time()\n",
    "\n",
    "time = t1 - t0\n",
    "    \n",
    "# Loading test dataset\n",
    "df = pd.read_csv(\"/content/1_RN_data_TEST.csv\")\n",
    "df.drop([\"c/b\", \"F\"], axis=1, inplace=True)\n",
    "d_test = df.to_numpy()\n",
    "\n",
    "results = reg.predict(d_test[:,:-1])\n",
    "mse = np.sum((results - d_test[:,-1])**2)/len(d_test)\n",
    "print(\"Mean squared error: \", mse)\n",
    "print(\"Time: \", time)"
   ]
  },
  {
   "cell_type": "code",
   "execution_count": null,
   "id": "eedf1156",
   "metadata": {},
   "outputs": [],
   "source": [
    "import time\n",
    "\n",
    "df = pd.read_csv(\"/content/2_RN_eqn_TRAIN.csv\")\n",
    "df.drop([\"c/b\", \"F\"], axis=1, inplace=True)\n",
    "d = df.to_numpy()\n",
    "\n",
    "def rbf_svm(data):\n",
    "    reg = SVR(kernel=\"rbf\")\n",
    "    reg.fit(data[:,:-1], data[:,-1])\n",
    "    return reg\n",
    "\n",
    "t0 = time.time()\n",
    "reg = rbf_svm(d)\n",
    "t1 = time.time()\n",
    "\n",
    "time = t1 - t0\n",
    "    \n",
    "# Loading test dataset\n",
    "df = pd.read_csv(\"/content/2_RN_eqn_TEST.csv\")\n",
    "df.drop([\"c/b\", \"F\"], axis=1, inplace=True)\n",
    "d_test = df.to_numpy()\n",
    "\n",
    "results = reg.predict(d_test[:,:-1])\n",
    "mse = np.sum((results - d_test[:,-1])**2)/len(d_test)\n",
    "print(\"Mean squared error: \", mse)\n",
    "print(\"Time: \", time)"
   ]
  },
  {
   "cell_type": "code",
   "execution_count": null,
   "id": "d7fc284b",
   "metadata": {},
   "outputs": [],
   "source": []
  },
  {
   "cell_type": "code",
   "execution_count": null,
   "id": "441d8cd7",
   "metadata": {},
   "outputs": [],
   "source": []
  }
 ],
 "metadata": {
  "kernelspec": {
   "display_name": "Python 3 (ipykernel)",
   "language": "python",
   "name": "python3"
  },
  "language_info": {
   "codemirror_mode": {
    "name": "ipython",
    "version": 3
   },
   "file_extension": ".py",
   "mimetype": "text/x-python",
   "name": "python",
   "nbconvert_exporter": "python",
   "pygments_lexer": "ipython3",
   "version": "3.9.7"
  }
 },
 "nbformat": 4,
 "nbformat_minor": 5
}
