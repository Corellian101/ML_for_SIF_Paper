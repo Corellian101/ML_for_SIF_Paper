{
 "cells": [
  {
   "cell_type": "code",
   "execution_count": 5,
   "id": "4c046ea9",
   "metadata": {},
   "outputs": [],
   "source": [
    "import numpy as np\n",
    "import matplotlib.pyplot as plt\n",
    "from sklearn.svm import SVR\n",
    "import pandas as pd\n",
    "import timeit\n",
    "import time\n",
    "from joblib import dump, load\n",
    "import numpy as np\n",
    "import tensorflow as tf\n",
    "import pandas as pd\n",
    "from sklearn.preprocessing import StandardScaler\n",
    "from tensorflow.keras.models import Sequential\n",
    "from tensorflow.keras.layers import Dense\n",
    "from sklearn.model_selection import train_test_split\n",
    "from tensorflow.keras.callbacks import EarlyStopping\n",
    "import matplotlib.pyplot as plt"
   ]
  },
  {
   "cell_type": "code",
   "execution_count": 6,
   "id": "41a36040",
   "metadata": {},
   "outputs": [],
   "source": [
    "import time\n",
    "\n",
    "df = pd.read_csv(\"../../data/3_datasets_new/train/1_RN_data_TRAIN.csv\")\n",
    "df.drop([\"c/b\", \"F\"], axis=1, inplace=True)\n",
    "d = df.to_numpy()\n",
    "\n",
    "def rbf_svm(data):\n",
    "    reg = SVR(kernel=\"rbf\")\n",
    "    reg.fit(data[:,:-1], data[:,-1])\n",
    "    return reg\n",
    "\n",
    "t0 = time.time()\n",
    "reg = rbf_svm(d)\n",
    "t1 = time.time()\n",
    "\n",
    "time = t1 - t0\n",
    "dump(reg, 'rbf_svm/d1_rbf.joblib')\n",
    "# # Loading test dataset\n",
    "# df = pd.read_csv(\"/content/1_RN_data_TEST.csv\")\n",
    "# df.drop([\"c/b\", \"F\"], axis=1, inplace=True)\n",
    "# d_test = df.to_numpy()\n",
    "\n",
    "# results = reg.predict(d_test[:,:-1])\n",
    "# mse = np.sum((results - d_test[:,-1])**2)/len(d_test)\n",
    "# print(\"Mean squared error: \", mse)\n",
    "# print(\"Time: \", time)"
   ]
  },
  {
   "cell_type": "code",
   "execution_count": 7,
   "id": "27acbaad",
   "metadata": {},
   "outputs": [
    {
     "data": {
      "text/plain": [
       "['rbf_svm/d1_rbf.joblib']"
      ]
     },
     "execution_count": 7,
     "metadata": {},
     "output_type": "execute_result"
    }
   ],
   "source": [
    "dump(reg, 'rbf_svm/d1_rbf.joblib')"
   ]
  },
  {
   "cell_type": "code",
   "execution_count": 8,
   "id": "eedf1156",
   "metadata": {},
   "outputs": [
    {
     "data": {
      "text/plain": [
       "['rbf_svm/d2_rbf.joblib']"
      ]
     },
     "execution_count": 8,
     "metadata": {},
     "output_type": "execute_result"
    }
   ],
   "source": [
    "import time\n",
    "\n",
    "df = pd.read_csv(\"../../data/3_datasets_new/train/2_RN_eqn_TRAIN.csv\")\n",
    "df.drop([\"c/b\", \"F\"], axis=1, inplace=True)\n",
    "d = df.to_numpy()\n",
    "\n",
    "def rbf_svm(data):\n",
    "    reg = SVR(kernel=\"rbf\")\n",
    "    reg.fit(data[:,:-1], data[:,-1])\n",
    "    return reg\n",
    "\n",
    "t0 = time.time()\n",
    "reg = rbf_svm(d)\n",
    "t1 = time.time()\n",
    "\n",
    "time = t1 - t0\n",
    "dump(reg, 'rbf_svm/d2_rbf.joblib')"
   ]
  },
  {
   "cell_type": "code",
   "execution_count": 9,
   "id": "d7fc284b",
   "metadata": {},
   "outputs": [
    {
     "data": {
      "text/plain": [
       "['rbf_svm/d3a_rbf.joblib']"
      ]
     },
     "execution_count": 9,
     "metadata": {},
     "output_type": "execute_result"
    }
   ],
   "source": [
    "import time\n",
    "\n",
    "df = pd.read_csv(\"../../data/3_datasets_new/train/3_FRANC3D_FULL_TRAIN.csv\")\n",
    "df.drop([\"c/b\", \"F\"], axis=1, inplace=True)\n",
    "d = df.to_numpy()\n",
    "\n",
    "def rbf_svm(data):\n",
    "    reg = SVR(kernel=\"rbf\")\n",
    "    reg.fit(data[:,:-1], data[:,-1])\n",
    "    return reg\n",
    "\n",
    "t0 = time.time()\n",
    "reg = rbf_svm(d)\n",
    "t1 = time.time()\n",
    "\n",
    "time = t1 - t0\n",
    "dump(reg, 'rbf_svm/d3a_rbf.joblib')"
   ]
  },
  {
   "cell_type": "code",
   "execution_count": 10,
   "id": "441d8cd7",
   "metadata": {},
   "outputs": [
    {
     "data": {
      "text/plain": [
       "['rbf_svm/d3b_rbf.joblib']"
      ]
     },
     "execution_count": 10,
     "metadata": {},
     "output_type": "execute_result"
    }
   ],
   "source": [
    "import time\n",
    "\n",
    "df = pd.read_csv(\"../../data/3_datasets_new/train/3_FRANC3D_PHI_SAMPLE_TRAIN.csv\")\n",
    "df.drop([\"c/b\", \"F\"], axis=1, inplace=True)\n",
    "d = df.to_numpy()\n",
    "\n",
    "def rbf_svm(data):\n",
    "    reg = SVR(kernel=\"rbf\")\n",
    "    reg.fit(data[:,:-1], data[:,-1])\n",
    "    return reg\n",
    "\n",
    "t0 = time.time()\n",
    "reg = rbf_svm(d)\n",
    "t1 = time.time()\n",
    "\n",
    "time = t1 - t0\n",
    "dump(reg, 'rbf_svm/d3b_rbf.joblib')"
   ]
  },
  {
   "cell_type": "code",
   "execution_count": null,
   "id": "8f55ab69",
   "metadata": {},
   "outputs": [],
   "source": []
  }
 ],
 "metadata": {
  "kernelspec": {
   "display_name": "Python 3 (ipykernel)",
   "language": "python",
   "name": "python3"
  },
  "language_info": {
   "codemirror_mode": {
    "name": "ipython",
    "version": 3
   },
   "file_extension": ".py",
   "mimetype": "text/x-python",
   "name": "python",
   "nbconvert_exporter": "python",
   "pygments_lexer": "ipython3",
   "version": "3.9.7"
  }
 },
 "nbformat": 4,
 "nbformat_minor": 5
}
