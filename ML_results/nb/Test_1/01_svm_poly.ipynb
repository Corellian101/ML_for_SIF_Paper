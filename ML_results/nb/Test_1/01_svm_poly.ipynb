{
 "cells": [
  {
   "cell_type": "markdown",
   "id": "eb0d21d3",
   "metadata": {},
   "source": [
    "# Imports"
   ]
  },
  {
   "cell_type": "code",
   "execution_count": 1,
   "id": "190609c7",
   "metadata": {},
   "outputs": [],
   "source": [
    "import numpy as np\n",
    "import matplotlib.pyplot as plt\n",
    "from sklearn.svm import SVR\n",
    "import pandas as pd\n",
    "import timeit\n",
    "import time"
   ]
  },
  {
   "cell_type": "markdown",
   "id": "bc626d9c",
   "metadata": {},
   "source": [
    "# Visualise Train Dataset"
   ]
  },
  {
   "cell_type": "code",
   "execution_count": 2,
   "id": "31bea83a",
   "metadata": {},
   "outputs": [
    {
     "data": {
      "text/html": [
       "<div>\n",
       "<style scoped>\n",
       "    .dataframe tbody tr th:only-of-type {\n",
       "        vertical-align: middle;\n",
       "    }\n",
       "\n",
       "    .dataframe tbody tr th {\n",
       "        vertical-align: top;\n",
       "    }\n",
       "\n",
       "    .dataframe thead th {\n",
       "        text-align: right;\n",
       "    }\n",
       "</style>\n",
       "<table border=\"1\" class=\"dataframe\">\n",
       "  <thead>\n",
       "    <tr style=\"text-align: right;\">\n",
       "      <th></th>\n",
       "      <th>a/c</th>\n",
       "      <th>a/t</th>\n",
       "      <th>phi</th>\n",
       "      <th>Mg</th>\n",
       "    </tr>\n",
       "  </thead>\n",
       "  <tbody>\n",
       "    <tr>\n",
       "      <th>0</th>\n",
       "      <td>0.4</td>\n",
       "      <td>0.2</td>\n",
       "      <td>0.19635</td>\n",
       "      <td>1.17406</td>\n",
       "    </tr>\n",
       "    <tr>\n",
       "      <th>1</th>\n",
       "      <td>0.2</td>\n",
       "      <td>0.4</td>\n",
       "      <td>0.98175</td>\n",
       "      <td>1.30320</td>\n",
       "    </tr>\n",
       "    <tr>\n",
       "      <th>2</th>\n",
       "      <td>1.0</td>\n",
       "      <td>0.6</td>\n",
       "      <td>2.55254</td>\n",
       "      <td>1.19587</td>\n",
       "    </tr>\n",
       "    <tr>\n",
       "      <th>3</th>\n",
       "      <td>0.2</td>\n",
       "      <td>0.8</td>\n",
       "      <td>0.39270</td>\n",
       "      <td>1.99562</td>\n",
       "    </tr>\n",
       "    <tr>\n",
       "      <th>4</th>\n",
       "      <td>0.2</td>\n",
       "      <td>0.6</td>\n",
       "      <td>0.39270</td>\n",
       "      <td>1.60756</td>\n",
       "    </tr>\n",
       "    <tr>\n",
       "      <th>...</th>\n",
       "      <td>...</td>\n",
       "      <td>...</td>\n",
       "      <td>...</td>\n",
       "      <td>...</td>\n",
       "    </tr>\n",
       "    <tr>\n",
       "      <th>403</th>\n",
       "      <td>2.0</td>\n",
       "      <td>0.4</td>\n",
       "      <td>0.58905</td>\n",
       "      <td>0.74870</td>\n",
       "    </tr>\n",
       "    <tr>\n",
       "      <th>404</th>\n",
       "      <td>1.0</td>\n",
       "      <td>0.4</td>\n",
       "      <td>0.39270</td>\n",
       "      <td>1.14556</td>\n",
       "    </tr>\n",
       "    <tr>\n",
       "      <th>405</th>\n",
       "      <td>0.6</td>\n",
       "      <td>0.4</td>\n",
       "      <td>2.15984</td>\n",
       "      <td>1.14340</td>\n",
       "    </tr>\n",
       "    <tr>\n",
       "      <th>406</th>\n",
       "      <td>0.2</td>\n",
       "      <td>0.6</td>\n",
       "      <td>2.35619</td>\n",
       "      <td>1.57765</td>\n",
       "    </tr>\n",
       "    <tr>\n",
       "      <th>407</th>\n",
       "      <td>1.0</td>\n",
       "      <td>0.6</td>\n",
       "      <td>0.39270</td>\n",
       "      <td>1.28361</td>\n",
       "    </tr>\n",
       "  </tbody>\n",
       "</table>\n",
       "<p>408 rows × 4 columns</p>\n",
       "</div>"
      ],
      "text/plain": [
       "     a/c  a/t      phi       Mg\n",
       "0    0.4  0.2  0.19635  1.17406\n",
       "1    0.2  0.4  0.98175  1.30320\n",
       "2    1.0  0.6  2.55254  1.19587\n",
       "3    0.2  0.8  0.39270  1.99562\n",
       "4    0.2  0.6  0.39270  1.60756\n",
       "..   ...  ...      ...      ...\n",
       "403  2.0  0.4  0.58905  0.74870\n",
       "404  1.0  0.4  0.39270  1.14556\n",
       "405  0.6  0.4  2.15984  1.14340\n",
       "406  0.2  0.6  2.35619  1.57765\n",
       "407  1.0  0.6  0.39270  1.28361\n",
       "\n",
       "[408 rows x 4 columns]"
      ]
     },
     "execution_count": 2,
     "metadata": {},
     "output_type": "execute_result"
    }
   ],
   "source": [
    "df1 = pd.read_csv(\"../../data/3_datasets_new/train/1_RN_data_TRAIN.csv\")\n",
    "df1.drop([\"c/b\", \"F\"], axis=1, inplace=True)\n",
    "df1"
   ]
  },
  {
   "cell_type": "code",
   "execution_count": 3,
   "id": "40297805",
   "metadata": {},
   "outputs": [
    {
     "data": {
      "text/html": [
       "<div>\n",
       "<style scoped>\n",
       "    .dataframe tbody tr th:only-of-type {\n",
       "        vertical-align: middle;\n",
       "    }\n",
       "\n",
       "    .dataframe tbody tr th {\n",
       "        vertical-align: top;\n",
       "    }\n",
       "\n",
       "    .dataframe thead th {\n",
       "        text-align: right;\n",
       "    }\n",
       "</style>\n",
       "<table border=\"1\" class=\"dataframe\">\n",
       "  <thead>\n",
       "    <tr style=\"text-align: right;\">\n",
       "      <th></th>\n",
       "      <th>a/c</th>\n",
       "      <th>a/t</th>\n",
       "      <th>phi</th>\n",
       "      <th>Mg</th>\n",
       "    </tr>\n",
       "  </thead>\n",
       "  <tbody>\n",
       "    <tr>\n",
       "      <th>0</th>\n",
       "      <td>1.00</td>\n",
       "      <td>0.7</td>\n",
       "      <td>2.40050</td>\n",
       "      <td>1.14526</td>\n",
       "    </tr>\n",
       "    <tr>\n",
       "      <th>1</th>\n",
       "      <td>1.90</td>\n",
       "      <td>0.6</td>\n",
       "      <td>2.80053</td>\n",
       "      <td>0.80007</td>\n",
       "    </tr>\n",
       "    <tr>\n",
       "      <th>2</th>\n",
       "      <td>0.65</td>\n",
       "      <td>0.8</td>\n",
       "      <td>2.15906</td>\n",
       "      <td>1.29751</td>\n",
       "    </tr>\n",
       "    <tr>\n",
       "      <th>3</th>\n",
       "      <td>0.25</td>\n",
       "      <td>0.5</td>\n",
       "      <td>1.49409</td>\n",
       "      <td>1.42963</td>\n",
       "    </tr>\n",
       "    <tr>\n",
       "      <th>4</th>\n",
       "      <td>1.20</td>\n",
       "      <td>0.6</td>\n",
       "      <td>2.49842</td>\n",
       "      <td>1.00304</td>\n",
       "    </tr>\n",
       "    <tr>\n",
       "      <th>...</th>\n",
       "      <td>...</td>\n",
       "      <td>...</td>\n",
       "      <td>...</td>\n",
       "      <td>...</td>\n",
       "    </tr>\n",
       "    <tr>\n",
       "      <th>106792</th>\n",
       "      <td>1.20</td>\n",
       "      <td>0.8</td>\n",
       "      <td>0.80875</td>\n",
       "      <td>1.00486</td>\n",
       "    </tr>\n",
       "    <tr>\n",
       "      <th>106793</th>\n",
       "      <td>1.50</td>\n",
       "      <td>0.8</td>\n",
       "      <td>1.30442</td>\n",
       "      <td>0.85492</td>\n",
       "    </tr>\n",
       "    <tr>\n",
       "      <th>106794</th>\n",
       "      <td>1.10</td>\n",
       "      <td>0.8</td>\n",
       "      <td>2.36069</td>\n",
       "      <td>1.07260</td>\n",
       "    </tr>\n",
       "    <tr>\n",
       "      <th>106795</th>\n",
       "      <td>1.60</td>\n",
       "      <td>0.7</td>\n",
       "      <td>0.98995</td>\n",
       "      <td>0.82583</td>\n",
       "    </tr>\n",
       "    <tr>\n",
       "      <th>106796</th>\n",
       "      <td>0.20</td>\n",
       "      <td>0.6</td>\n",
       "      <td>1.99515</td>\n",
       "      <td>1.64241</td>\n",
       "    </tr>\n",
       "  </tbody>\n",
       "</table>\n",
       "<p>106797 rows × 4 columns</p>\n",
       "</div>"
      ],
      "text/plain": [
       "         a/c  a/t      phi       Mg\n",
       "0       1.00  0.7  2.40050  1.14526\n",
       "1       1.90  0.6  2.80053  0.80007\n",
       "2       0.65  0.8  2.15906  1.29751\n",
       "3       0.25  0.5  1.49409  1.42963\n",
       "4       1.20  0.6  2.49842  1.00304\n",
       "...      ...  ...      ...      ...\n",
       "106792  1.20  0.8  0.80875  1.00486\n",
       "106793  1.50  0.8  1.30442  0.85492\n",
       "106794  1.10  0.8  2.36069  1.07260\n",
       "106795  1.60  0.7  0.98995  0.82583\n",
       "106796  0.20  0.6  1.99515  1.64241\n",
       "\n",
       "[106797 rows x 4 columns]"
      ]
     },
     "execution_count": 3,
     "metadata": {},
     "output_type": "execute_result"
    }
   ],
   "source": [
    "df2 = pd.read_csv(\"../../data/3_datasets_new/train/2_RN_eqn_TRAIN.csv\")\n",
    "df2.drop([\"c/b\", \"F\"], axis=1, inplace=True)\n",
    "df2"
   ]
  },
  {
   "cell_type": "code",
   "execution_count": 4,
   "id": "436beaaf",
   "metadata": {},
   "outputs": [
    {
     "data": {
      "text/html": [
       "<div>\n",
       "<style scoped>\n",
       "    .dataframe tbody tr th:only-of-type {\n",
       "        vertical-align: middle;\n",
       "    }\n",
       "\n",
       "    .dataframe tbody tr th {\n",
       "        vertical-align: top;\n",
       "    }\n",
       "\n",
       "    .dataframe thead th {\n",
       "        text-align: right;\n",
       "    }\n",
       "</style>\n",
       "<table border=\"1\" class=\"dataframe\">\n",
       "  <thead>\n",
       "    <tr style=\"text-align: right;\">\n",
       "      <th></th>\n",
       "      <th>a/c</th>\n",
       "      <th>a/t</th>\n",
       "      <th>phi</th>\n",
       "      <th>Mg</th>\n",
       "    </tr>\n",
       "  </thead>\n",
       "  <tbody>\n",
       "    <tr>\n",
       "      <th>0</th>\n",
       "      <td>1.30</td>\n",
       "      <td>0.8</td>\n",
       "      <td>0.57435</td>\n",
       "      <td>1.00985</td>\n",
       "    </tr>\n",
       "    <tr>\n",
       "      <th>1</th>\n",
       "      <td>1.00</td>\n",
       "      <td>0.2</td>\n",
       "      <td>0.18003</td>\n",
       "      <td>1.14457</td>\n",
       "    </tr>\n",
       "    <tr>\n",
       "      <th>2</th>\n",
       "      <td>0.80</td>\n",
       "      <td>0.8</td>\n",
       "      <td>0.79683</td>\n",
       "      <td>1.23882</td>\n",
       "    </tr>\n",
       "    <tr>\n",
       "      <th>3</th>\n",
       "      <td>0.90</td>\n",
       "      <td>0.6</td>\n",
       "      <td>2.15516</td>\n",
       "      <td>1.12792</td>\n",
       "    </tr>\n",
       "    <tr>\n",
       "      <th>4</th>\n",
       "      <td>0.35</td>\n",
       "      <td>0.7</td>\n",
       "      <td>1.32011</td>\n",
       "      <td>1.45511</td>\n",
       "    </tr>\n",
       "    <tr>\n",
       "      <th>...</th>\n",
       "      <td>...</td>\n",
       "      <td>...</td>\n",
       "      <td>...</td>\n",
       "      <td>...</td>\n",
       "    </tr>\n",
       "    <tr>\n",
       "      <th>106792</th>\n",
       "      <td>0.45</td>\n",
       "      <td>0.7</td>\n",
       "      <td>0.18275</td>\n",
       "      <td>1.69819</td>\n",
       "    </tr>\n",
       "    <tr>\n",
       "      <th>106793</th>\n",
       "      <td>1.10</td>\n",
       "      <td>0.7</td>\n",
       "      <td>0.51333</td>\n",
       "      <td>1.12466</td>\n",
       "    </tr>\n",
       "    <tr>\n",
       "      <th>106794</th>\n",
       "      <td>1.70</td>\n",
       "      <td>0.3</td>\n",
       "      <td>0.15155</td>\n",
       "      <td>0.86065</td>\n",
       "    </tr>\n",
       "    <tr>\n",
       "      <th>106795</th>\n",
       "      <td>0.50</td>\n",
       "      <td>0.8</td>\n",
       "      <td>1.75330</td>\n",
       "      <td>1.30129</td>\n",
       "    </tr>\n",
       "    <tr>\n",
       "      <th>106796</th>\n",
       "      <td>1.80</td>\n",
       "      <td>0.3</td>\n",
       "      <td>2.73280</td>\n",
       "      <td>0.79140</td>\n",
       "    </tr>\n",
       "  </tbody>\n",
       "</table>\n",
       "<p>106797 rows × 4 columns</p>\n",
       "</div>"
      ],
      "text/plain": [
       "         a/c  a/t      phi       Mg\n",
       "0       1.30  0.8  0.57435  1.00985\n",
       "1       1.00  0.2  0.18003  1.14457\n",
       "2       0.80  0.8  0.79683  1.23882\n",
       "3       0.90  0.6  2.15516  1.12792\n",
       "4       0.35  0.7  1.32011  1.45511\n",
       "...      ...  ...      ...      ...\n",
       "106792  0.45  0.7  0.18275  1.69819\n",
       "106793  1.10  0.7  0.51333  1.12466\n",
       "106794  1.70  0.3  0.15155  0.86065\n",
       "106795  0.50  0.8  1.75330  1.30129\n",
       "106796  1.80  0.3  2.73280  0.79140\n",
       "\n",
       "[106797 rows x 4 columns]"
      ]
     },
     "execution_count": 4,
     "metadata": {},
     "output_type": "execute_result"
    }
   ],
   "source": [
    "df3a = pd.read_csv(\"../../data/3_datasets_new/train/3_FRANC3D_FULL_TRAIN.csv\")\n",
    "df3a.drop([\"c/b\", \"F\"], axis=1, inplace=True)\n",
    "df3a"
   ]
  },
  {
   "cell_type": "code",
   "execution_count": 5,
   "id": "5969f631",
   "metadata": {},
   "outputs": [
    {
     "data": {
      "text/html": [
       "<div>\n",
       "<style scoped>\n",
       "    .dataframe tbody tr th:only-of-type {\n",
       "        vertical-align: middle;\n",
       "    }\n",
       "\n",
       "    .dataframe tbody tr th {\n",
       "        vertical-align: top;\n",
       "    }\n",
       "\n",
       "    .dataframe thead th {\n",
       "        text-align: right;\n",
       "    }\n",
       "</style>\n",
       "<table border=\"1\" class=\"dataframe\">\n",
       "  <thead>\n",
       "    <tr style=\"text-align: right;\">\n",
       "      <th></th>\n",
       "      <th>a/c</th>\n",
       "      <th>a/t</th>\n",
       "      <th>phi</th>\n",
       "      <th>Mg</th>\n",
       "    </tr>\n",
       "  </thead>\n",
       "  <tbody>\n",
       "    <tr>\n",
       "      <th>0</th>\n",
       "      <td>0.20</td>\n",
       "      <td>0.3</td>\n",
       "      <td>1.80193</td>\n",
       "      <td>1.25084</td>\n",
       "    </tr>\n",
       "    <tr>\n",
       "      <th>1</th>\n",
       "      <td>1.20</td>\n",
       "      <td>0.6</td>\n",
       "      <td>0.29560</td>\n",
       "      <td>1.08480</td>\n",
       "    </tr>\n",
       "    <tr>\n",
       "      <th>2</th>\n",
       "      <td>0.45</td>\n",
       "      <td>0.7</td>\n",
       "      <td>1.05160</td>\n",
       "      <td>1.36263</td>\n",
       "    </tr>\n",
       "    <tr>\n",
       "      <th>3</th>\n",
       "      <td>1.80</td>\n",
       "      <td>0.5</td>\n",
       "      <td>2.55494</td>\n",
       "      <td>0.78700</td>\n",
       "    </tr>\n",
       "    <tr>\n",
       "      <th>4</th>\n",
       "      <td>1.20</td>\n",
       "      <td>0.3</td>\n",
       "      <td>1.96027</td>\n",
       "      <td>0.95150</td>\n",
       "    </tr>\n",
       "    <tr>\n",
       "      <th>...</th>\n",
       "      <td>...</td>\n",
       "      <td>...</td>\n",
       "      <td>...</td>\n",
       "      <td>...</td>\n",
       "    </tr>\n",
       "    <tr>\n",
       "      <th>14185</th>\n",
       "      <td>0.80</td>\n",
       "      <td>0.6</td>\n",
       "      <td>0.60456</td>\n",
       "      <td>1.20717</td>\n",
       "    </tr>\n",
       "    <tr>\n",
       "      <th>14186</th>\n",
       "      <td>1.10</td>\n",
       "      <td>0.4</td>\n",
       "      <td>0.60167</td>\n",
       "      <td>1.04293</td>\n",
       "    </tr>\n",
       "    <tr>\n",
       "      <th>14187</th>\n",
       "      <td>1.80</td>\n",
       "      <td>0.7</td>\n",
       "      <td>0.01162</td>\n",
       "      <td>0.87561</td>\n",
       "    </tr>\n",
       "    <tr>\n",
       "      <th>14188</th>\n",
       "      <td>1.40</td>\n",
       "      <td>0.5</td>\n",
       "      <td>0.30001</td>\n",
       "      <td>0.96272</td>\n",
       "    </tr>\n",
       "    <tr>\n",
       "      <th>14189</th>\n",
       "      <td>0.30</td>\n",
       "      <td>0.7</td>\n",
       "      <td>1.64955</td>\n",
       "      <td>1.52702</td>\n",
       "    </tr>\n",
       "  </tbody>\n",
       "</table>\n",
       "<p>14190 rows × 4 columns</p>\n",
       "</div>"
      ],
      "text/plain": [
       "        a/c  a/t      phi       Mg\n",
       "0      0.20  0.3  1.80193  1.25084\n",
       "1      1.20  0.6  0.29560  1.08480\n",
       "2      0.45  0.7  1.05160  1.36263\n",
       "3      1.80  0.5  2.55494  0.78700\n",
       "4      1.20  0.3  1.96027  0.95150\n",
       "...     ...  ...      ...      ...\n",
       "14185  0.80  0.6  0.60456  1.20717\n",
       "14186  1.10  0.4  0.60167  1.04293\n",
       "14187  1.80  0.7  0.01162  0.87561\n",
       "14188  1.40  0.5  0.30001  0.96272\n",
       "14189  0.30  0.7  1.64955  1.52702\n",
       "\n",
       "[14190 rows x 4 columns]"
      ]
     },
     "execution_count": 5,
     "metadata": {},
     "output_type": "execute_result"
    }
   ],
   "source": [
    "df3b = pd.read_csv(\"../../data/3_datasets_new/train/3_FRANC3D_PHI_SAMPLE_TRAIN.csv\")\n",
    "df3b.drop([\"c/b\", \"F\"], axis=1, inplace=True)\n",
    "df3b"
   ]
  },
  {
   "cell_type": "code",
   "execution_count": null,
   "id": "8921ab8d",
   "metadata": {},
   "outputs": [],
   "source": [
    "d1 = df1.to_numpy()\n",
    "d2 = df2.to_numpy()\n",
    "d3a = df3a.to_numpy()\n",
    "d3b = df3b.to_numpy()\n",
    "\n",
    "d1.shape, d2.shape, d3a.shape, d3b.shape"
   ]
  },
  {
   "cell_type": "markdown",
   "id": "5e4f751a",
   "metadata": {},
   "source": [
    "# Polynomial SVM"
   ]
  },
  {
   "cell_type": "markdown",
   "id": "24b7b262",
   "metadata": {
    "heading_collapsed": true
   },
   "source": [
    "## RN Dataset"
   ]
  },
  {
   "cell_type": "code",
   "execution_count": 3,
   "id": "56f6e9a1",
   "metadata": {
    "hidden": true
   },
   "outputs": [
    {
     "name": "stdout",
     "output_type": "stream",
     "text": [
      "Done degree 1\n",
      "Done degree 2\n",
      "Done degree 3\n",
      "Done degree 4\n",
      "Done degree 5\n",
      "Done degree 6\n",
      "Done degree 7\n",
      "Done degree 8\n",
      "Mean squared error:  0.05040460608506867\n",
      "Mean squared error:  0.030275217389641312\n",
      "Mean squared error:  0.022786457204176686\n",
      "Mean squared error:  0.03141332870812612\n",
      "Mean squared error:  0.036162047513108926\n",
      "Mean squared error:  0.04021069386660964\n",
      "Mean squared error:  0.04551045309486689\n",
      "Mean squared error:  0.048923367747252124\n"
     ]
    }
   ],
   "source": [
    "df = pd.read_csv(\"../../data/3_datasets_new/train/1_RN_data_TRAIN.csv\")\n",
    "df.drop([\"c/b\", \"F\"], axis=1, inplace=True)\n",
    "d = df.to_numpy()\n",
    "\n",
    "degrees = [1, 2, 3, 4, 5, 6, 7, 8]\n",
    "\n",
    "def poly_svm(data, degree):\n",
    "    reg = SVR(kernel=\"poly\", degree = degree)\n",
    "    reg.fit(data[:,:-1], data[:,-1])\n",
    "    return reg\n",
    "\n",
    "times = []\n",
    "regs = []\n",
    "for degree in degrees:\n",
    "    t0 = time.time()\n",
    "    reg = poly_svm(d, degree)\n",
    "    t1 = time.time()\n",
    "    times.append(t1-t0)\n",
    "    regs.append(reg)\n",
    "    print(\"Done degree {}\".format(degree))\n",
    "    \n",
    "# Loading test dataset\n",
    "df = pd.read_csv(\"../../data/3_datasets_new/test/1_RN_data_TEST.csv\")\n",
    "df.drop([\"c/b\", \"F\"], axis=1, inplace=True)\n",
    "d_test = df.to_numpy()\n",
    "\n",
    "# Testing\n",
    "MSE = []\n",
    "for reg in regs:\n",
    "    results = reg.predict(d_test[:,:-1])\n",
    "    mse = np.sum((results - d_test[:,-1])**2)/len(d_test)\n",
    "    print(\"Mean squared error: \", mse)\n",
    "    MSE.append(mse)"
   ]
  },
  {
   "cell_type": "markdown",
   "id": "28dd73c8",
   "metadata": {
    "hidden": true
   },
   "source": [
    "### Plots"
   ]
  },
  {
   "cell_type": "code",
   "execution_count": 4,
   "id": "76b93d03",
   "metadata": {
    "hidden": true
   },
   "outputs": [
    {
     "data": {
      "image/png": "[encoded data removed]",
      "text/plain": [
       "<Figure size 432x288 with 1 Axes>"
      ]
     },
     "metadata": {
      "needs_background": "light"
     },
     "output_type": "display_data"
    }
   ],
   "source": [
    "# Plotting\n",
    "plt.plot(degrees, MSE)\n",
    "plt.xlabel(\"Degree of Polynomial kernel\")\n",
    "plt.ylabel(\"MSE on test data\")\n",
    "plt.title(\"MSE vs Degree\")\n",
    "plt.show()"
   ]
  },
  {
   "cell_type": "code",
   "execution_count": 5,
   "id": "7d5895fa",
   "metadata": {
    "hidden": true,
    "scrolled": true
   },
   "outputs": [
    {
     "data": {
      "image/png": "[encoded data removed]",
      "text/plain": [
       "<Figure size 432x288 with 1 Axes>"
      ]
     },
     "metadata": {
      "needs_background": "light"
     },
     "output_type": "display_data"
    }
   ],
   "source": [
    "# Plotting\n",
    "plt.plot(degrees, times)\n",
    "plt.yscale('log',base=10)\n",
    "plt.xlabel(\"Degree of Polynomial kernel\")\n",
    "plt.ylabel(\"Training Time (secs) \")\n",
    "plt.title(\"Time vs Degree\")\n",
    "plt.show()"
   ]
  },
  {
   "cell_type": "markdown",
   "id": "896880da",
   "metadata": {
    "hidden": true
   },
   "source": [
    "### Saving results"
   ]
  },
  {
   "cell_type": "code",
   "execution_count": 6,
   "id": "fb322323",
   "metadata": {
    "hidden": true
   },
   "outputs": [],
   "source": [
    "from joblib import dump, load\n",
    "# saving models\n",
    "i = 1\n",
    "for reg in regs:\n",
    "    dump(reg, 'poly_svm/models/d1/d1_poly_degree_{}.joblib'.format(i))\n",
    "    i += 1\n",
    "    \n",
    "np.save(\"poly_svm/times/d1_times.npy\", times)"
   ]
  },
  {
   "cell_type": "code",
   "execution_count": 7,
   "id": "0279976b",
   "metadata": {
    "hidden": true
   },
   "outputs": [],
   "source": [
    "np.save(\"poly_svm/times/d1_times.npy\", times)"
   ]
  },
  {
   "cell_type": "code",
   "execution_count": null,
   "id": "cec16a73",
   "metadata": {
    "hidden": true
   },
   "outputs": [],
   "source": [
    "# load models\n",
    "# clf = load('filename.joblib')"
   ]
  },
  {
   "cell_type": "markdown",
   "id": "998deb31",
   "metadata": {},
   "source": [
    "## RN Equations"
   ]
  },
  {
   "cell_type": "code",
   "execution_count": null,
   "id": "c389b42d",
   "metadata": {},
   "outputs": [
    {
     "name": "stdout",
     "output_type": "stream",
     "text": [
      "Done degree 1\n",
      "Done degree 2\n",
      "Done degree 3\n",
      "Done degree 4\n"
     ]
    }
   ],
   "source": [
    "df = pd.read_csv(\"../../data/3_datasets_new/train/2_RN_eqn_TRAIN.csv\")\n",
    "df.drop([\"c/b\", \"F\"], axis=1, inplace=True)\n",
    "d = df.to_numpy()\n",
    "\n",
    "degrees = [1, 2, 3, 4, 5]\n",
    "\n",
    "def poly_svm(data, degree):\n",
    "    reg = SVR(kernel=\"poly\", degree = degree)\n",
    "    reg.fit(data[:,:-1], data[:,-1])\n",
    "    return reg\n",
    "\n",
    "times = []\n",
    "regs = []\n",
    "for degree in degrees:\n",
    "    t0 = time.time()\n",
    "    reg = poly_svm(d, degree)\n",
    "    t1 = time.time()\n",
    "    times.append(t1-t0)\n",
    "    regs.append(reg)\n",
    "    print(\"Done degree {}\".format(degree))\n",
    "    \n",
    "# Loading test dataset\n",
    "df = pd.read_csv(\"../../data/3_datasets_new/test/2_RN_eqn_TEST.csv\")\n",
    "df.drop([\"c/b\", \"F\"], axis=1, inplace=True)\n",
    "d_test = df.to_numpy()\n",
    "\n",
    "# Testing\n",
    "MSE = []\n",
    "for reg in regs:\n",
    "    results = reg.predict(d_test[:,:-1])\n",
    "    mse = np.sum((results - d_test[:,-1])**2)/len(d_test)\n",
    "    print(\"Mean squared error: \", mse)\n",
    "    MSE.append(mse)"
   ]
  },
  {
   "cell_type": "markdown",
   "id": "03be22ae",
   "metadata": {},
   "source": [
    "### Plots"
   ]
  },
  {
   "cell_type": "code",
   "execution_count": null,
   "id": "410bcda2",
   "metadata": {},
   "outputs": [],
   "source": [
    "# Plotting\n",
    "plt.plot(degrees, MSE)\n",
    "plt.xlabel(\"Degree of Polynomial kernel\")\n",
    "plt.ylabel(\"MSE on test data\")\n",
    "plt.title(\"MSE vs Degree\")\n",
    "plt.show()\n",
    "\n",
    "# Plotting\n",
    "plt.plot(degrees, times)\n",
    "plt.yscale('log', base=10)\n",
    "plt.xlabel(\"Degree of Polynomial kernel\")\n",
    "plt.ylabel(\"Training Time (secs) \")\n",
    "plt.title(\"Time vs Degree\")\n",
    "plt.show()"
   ]
  },
  {
   "cell_type": "markdown",
   "id": "711d25e6",
   "metadata": {},
   "source": [
    "### Saving results"
   ]
  },
  {
   "cell_type": "code",
   "execution_count": null,
   "id": "c3fde4f8",
   "metadata": {},
   "outputs": [],
   "source": [
    "from joblib import dump, load\n",
    "# saving models\n",
    "i = 1\n",
    "for reg in regs:\n",
    "    dump(reg, 'poly_svm/models/d2/d2_poly_degree_{}.joblib'.format(i))\n",
    "    i += 1\n",
    "    \n",
    "np.save(\"poly_svm/times/d2_times.npy\", times)"
   ]
  },
  {
   "cell_type": "markdown",
   "id": "361e08b9",
   "metadata": {},
   "source": [
    "## Franc3D Full"
   ]
  },
  {
   "cell_type": "code",
   "execution_count": null,
   "id": "52c6d17f",
   "metadata": {},
   "outputs": [],
   "source": [
    "df = pd.read_csv(\"../../data/3_datasets_new/train/3_FRANC3D_FULL_TRAIN.csv\")\n",
    "df.drop([\"c/b\", \"F\"], axis=1, inplace=True)\n",
    "d = df.to_numpy()\n",
    "\n",
    "degrees = [1, 2, 3, 4, 5]\n",
    "\n",
    "def poly_svm(data, degree):\n",
    "    reg = SVR(kernel=\"poly\", degree = degree)\n",
    "    reg.fit(data[:,:-1], data[:,-1])\n",
    "    return reg\n",
    "\n",
    "times = []\n",
    "regs = []\n",
    "for degree in degrees:\n",
    "    t0 = time.time()\n",
    "    reg = poly_svm(d, degree)\n",
    "    t1 = time.time()\n",
    "    times.append(t1-t0)\n",
    "    regs.append(reg)\n",
    "    print(\"Done degree {}\".format(degree))\n",
    "    \n",
    "# Loading test dataset\n",
    "df = pd.read_csv(\"../../data/3_datasets_new/test/3_FRANC3D_FULL_TEST.csv\")\n",
    "df.drop([\"c/b\", \"F\"], axis=1, inplace=True)\n",
    "d_test = df.to_numpy()\n",
    "\n",
    "# Testing\n",
    "MSE = []\n",
    "for reg in regs:\n",
    "    results = reg.predict(d_test[:,:-1])\n",
    "    mse = np.sum((d_results - d_test[:,-1])**2)/len(d_test)\n",
    "    print(\"Mean squared error: \", mse)\n",
    "    MSE.append(mse)"
   ]
  },
  {
   "cell_type": "markdown",
   "id": "0570f2ce",
   "metadata": {},
   "source": [
    "### Plots"
   ]
  },
  {
   "cell_type": "code",
   "execution_count": null,
   "id": "80ce7fa8",
   "metadata": {},
   "outputs": [],
   "source": [
    "# Plotting\n",
    "plt.plot(degrees, MSE)\n",
    "plt.xlabel(\"Degree of Polynomial kernel\")\n",
    "plt.ylabel(\"MSE on test data\")\n",
    "plt.title(\"MSE vs Degree\")\n",
    "plt.show()\n",
    "\n",
    "# Plotting\n",
    "plt.plot(degrees, times)\n",
    "plt.yscale('log',base=10)\n",
    "plt.xlabel(\"Degree of Polynomial kernel\")\n",
    "plt.ylabel(\"Training Time (secs) \")\n",
    "plt.title(\"Time vs Degree\")\n",
    "plt.show()"
   ]
  },
  {
   "cell_type": "markdown",
   "id": "a0dd4ab0",
   "metadata": {},
   "source": [
    "### Saving results"
   ]
  },
  {
   "cell_type": "code",
   "execution_count": null,
   "id": "82f26937",
   "metadata": {},
   "outputs": [],
   "source": [
    "from joblib import dump, load\n",
    "# saving models\n",
    "i = 1\n",
    "for reg in regs:\n",
    "    dump(reg, 'poly_svm/models/d3a/d3a_poly_degree_{}.joblib'.format(i))\n",
    "    i += 1\n",
    "    \n",
    "np.save(\"poly_svm/times/d3a_times.npy\", times)"
   ]
  },
  {
   "cell_type": "markdown",
   "id": "02bfe69c",
   "metadata": {},
   "source": [
    "## Franc3D Phi sampled"
   ]
  },
  {
   "cell_type": "code",
   "execution_count": null,
   "id": "8cb0bf49",
   "metadata": {},
   "outputs": [],
   "source": [
    "df = pd.read_csv(\"../../data/3_datasets_new/train/3_FRANC3D_PHI_SAMPLE_TRAIN.csv\")\n",
    "df.drop([\"c/b\", \"F\"], axis=1, inplace=True)\n",
    "d = df.to_numpy()\n",
    "\n",
    "degrees = [1, 2, 3, 4, 5]\n",
    "\n",
    "def poly_svm(data, degree):\n",
    "    reg = SVR(kernel=\"poly\", degree = degree)\n",
    "    reg.fit(data[:,:-1], data[:,-1])\n",
    "    return reg\n",
    "\n",
    "times = []\n",
    "regs = []\n",
    "for degree in degrees:\n",
    "    t0 = time.time()\n",
    "    reg = poly_svm(d, degree)\n",
    "    t1 = time.time()\n",
    "    times.append(t1-t0)\n",
    "    regs.append(reg)\n",
    "    print(\"Done degree {}\".format(degree))\n",
    "    \n",
    "# Loading test dataset\n",
    "df = pd.read_csv(\"../../data/3_datasets_new/test/3_FRANC3D_PHI_SAMPLE_TEST.csv\")\n",
    "df.drop([\"c/b\", \"F\"], axis=1, inplace=True)\n",
    "d_test = df.to_numpy()\n",
    "\n",
    "# Testing\n",
    "MSE = []\n",
    "for reg in regs:\n",
    "    results = reg.predict(d_test[:,:-1])\n",
    "    mse = np.sum((d_results - d_test[:,-1])**2)/len(d_test)\n",
    "    print(\"Mean squared error: \", mse)\n",
    "    MSE.append(mse)"
   ]
  },
  {
   "cell_type": "markdown",
   "id": "9ad28907",
   "metadata": {},
   "source": [
    "### Plots"
   ]
  },
  {
   "cell_type": "code",
   "execution_count": null,
   "id": "8b8b1f24",
   "metadata": {},
   "outputs": [],
   "source": [
    "# Plotting\n",
    "plt.plot(degrees, MSE)\n",
    "plt.xlabel(\"Degree of Polynomial kernel\")\n",
    "plt.ylabel(\"MSE on test data\")\n",
    "plt.title(\"MSE vs Degree\")\n",
    "plt.show()\n",
    "\n",
    "# Plotting\n",
    "plt.plot(degrees, times)\n",
    "plt.yscale('log',base=10)\n",
    "plt.xlabel(\"Degree of Polynomial kernel\")\n",
    "plt.ylabel(\"Training Time (secs) \")\n",
    "plt.title(\"Time vs Degree\")\n",
    "plt.show()"
   ]
  },
  {
   "cell_type": "markdown",
   "id": "4b41b06e",
   "metadata": {},
   "source": [
    "### Saving results"
   ]
  },
  {
   "cell_type": "code",
   "execution_count": null,
   "id": "ad3df316",
   "metadata": {},
   "outputs": [],
   "source": [
    "from joblib import dump, load\n",
    "# saving models\n",
    "i = 1\n",
    "for reg in regs:\n",
    "    dump(reg, 'poly_svm/models/d3b/d3b_poly_degree_{}.joblib'.format(i))\n",
    "    i += 1\n",
    "    \n",
    "np.save(\"poly_svm/times/d3b_times.npy\", times)"
   ]
  },
  {
   "cell_type": "code",
   "execution_count": null,
   "id": "f5022d0f",
   "metadata": {},
   "outputs": [],
   "source": []
  }
 ],
 "metadata": {
  "kernelspec": {
   "display_name": "Python 3 (ipykernel)",
   "language": "python",
   "name": "python3"
  },
  "language_info": {
   "codemirror_mode": {
    "name": "ipython",
    "version": 3
   },
   "file_extension": ".py",
   "mimetype": "text/x-python",
   "name": "python",
   "nbconvert_exporter": "python",
   "pygments_lexer": "ipython3",
   "version": "3.9.7"
  }
 },
 "nbformat": 4,
 "nbformat_minor": 5
}
