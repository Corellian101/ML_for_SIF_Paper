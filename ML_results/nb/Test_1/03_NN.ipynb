{
 "cells": [
  {
   "cell_type": "code",
   "execution_count": null,
   "id": "b7fe163e",
   "metadata": {},
   "outputs": [],
   "source": [
    "import numpy as np\n",
    "import matplotlib.pyplot as plt\n",
    "from sklearn.svm import SVR\n",
    "import pandas as pd\n",
    "import timeit\n",
    "import time\n",
    "\n",
    "import numpy as np\n",
    "import tensorflow as tf\n",
    "import pandas as pd\n",
    "from sklearn.preprocessing import StandardScaler\n",
    "from tensorflow.keras.models import Sequential\n",
    "from tensorflow.keras.layers import Dense\n",
    "from sklearn.model_selection import train_test_split\n",
    "from tensorflow.keras.callbacks import EarlyStopping\n",
    "import matplotlib.pyplot as plt"
   ]
  },
  {
   "cell_type": "code",
   "execution_count": null,
   "id": "2525aeee",
   "metadata": {},
   "outputs": [],
   "source": [
    "import time\n",
    "def NN(X_train, y_train):\n",
    "    #create model\n",
    "    model = Sequential()\n",
    "\n",
    "    #get number of columns in training data\n",
    "    n_cols = X_train.shape[1]\n",
    "\n",
    "    #add model layers\n",
    "    model.add(Dense(10, activation='relu', input_shape=(n_cols,)))\n",
    "    model.add(Dense(10, activation='relu'))\n",
    "    model.add(Dense(10, activation='relu'))\n",
    "    model.add(Dense(1, activation='relu'))\n",
    "\n",
    "    model.compile(optimizer='adam', loss='mse')\n",
    "    early_stopping_monitor = EarlyStopping(patience=10)\n",
    "    #train model\n",
    "    # t0 = time.time()\n",
    "    history = model.fit(X_train, y_train, validation_split=0.2, epochs=100, callbacks=[early_stopping_monitor])\n",
    "    # t1 = time.time()\n",
    "    # time = t1 - t0\n",
    "\n",
    "    return history, model#, time"
   ]
  },
  {
   "cell_type": "code",
   "execution_count": null,
   "id": "020a350e",
   "metadata": {},
   "outputs": [],
   "source": [
    "import time\n",
    "\n",
    "df = pd.read_csv(\"/content/1_RN_data_TRAIN.csv\")\n",
    "df.drop([\"c/b\", \"F\"], axis=1, inplace=True)\n",
    "d = df.to_numpy()\n",
    "\n",
    "history, model = NN(d[:,:-1], d[:,-1])\n",
    "    \n",
    "# Loading test dataset\n",
    "df = pd.read_csv(\"/content/1_RN_data_TEST.csv\")\n",
    "df.drop([\"c/b\", \"F\"], axis=1, inplace=True)\n",
    "d_test = df.to_numpy()\n",
    "\n",
    "mse = model.evaluate(d_test[:,:-1], d_test[:,-1])\n",
    "print(\"Mean squared error: \", mse)\n",
    "print(\"Time: \", time)"
   ]
  },
  {
   "cell_type": "code",
   "execution_count": null,
   "id": "06614e0b",
   "metadata": {},
   "outputs": [],
   "source": [
    "plt.figure(figsize=(12,7))\n",
    "plt.plot(history.history['loss'])\n",
    "plt.plot(history.history['val_loss'])\n",
    "plt.title('Loss Function vs Epoch Number', size=17)\n",
    "plt.ylabel('MEAN SQUARED ERROR')\n",
    "plt.xlabel('EPOCH NUMBER')\n",
    "plt.legend(['Train loss', 'Validation loss'], loc='upper right')\n",
    "plt.show()"
   ]
  },
  {
   "cell_type": "code",
   "execution_count": null,
   "id": "ea71568a",
   "metadata": {},
   "outputs": [],
   "source": []
  }
 ],
 "metadata": {
  "kernelspec": {
   "display_name": "Python 3 (ipykernel)",
   "language": "python",
   "name": "python3"
  },
  "language_info": {
   "codemirror_mode": {
    "name": "ipython",
    "version": 3
   },
   "file_extension": ".py",
   "mimetype": "text/x-python",
   "name": "python",
   "nbconvert_exporter": "python",
   "pygments_lexer": "ipython3",
   "version": "3.9.7"
  }
 },
 "nbformat": 4,
 "nbformat_minor": 5
}
