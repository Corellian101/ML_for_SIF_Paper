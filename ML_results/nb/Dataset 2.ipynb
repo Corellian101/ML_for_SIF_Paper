{
 "cells": [
  {
   "cell_type": "markdown",
   "id": "89ccd292",
   "metadata": {},
   "source": [
    "# Imports"
   ]
  },
  {
   "cell_type": "code",
   "execution_count": 1,
   "id": "96fa50eb",
   "metadata": {},
   "outputs": [],
   "source": [
    "import numpy as np\n",
    "import matplotlib.pyplot as plt\n",
    "from sklearn.svm import SVR\n",
    "import pandas as pd\n",
    "import timeit\n",
    "import time\n",
    "import tensorflow as tf\n",
    "from joblib import dump, load\n",
    "from sklearn.svm import SVR\n",
    "from sklearn.preprocessing import StandardScaler\n",
    "from tensorflow.keras.models import Sequential\n",
    "from tensorflow.keras.layers import Dense\n",
    "from sklearn.model_selection import train_test_split\n",
    "from tensorflow.keras.callbacks import EarlyStopping"
   ]
  },
  {
   "cell_type": "markdown",
   "id": "aa9d574f",
   "metadata": {},
   "source": [
    "# $ \\frac{a}{c} \\le 1$"
   ]
  },
  {
   "cell_type": "markdown",
   "id": "b02eeff6",
   "metadata": {},
   "source": [
    "## No Boosting"
   ]
  },
  {
   "cell_type": "code",
   "execution_count": 2,
   "id": "6c481223",
   "metadata": {},
   "outputs": [
    {
     "data": {
      "text/plain": [
       "(57302, 4)"
      ]
     },
     "execution_count": 2,
     "metadata": {},
     "output_type": "execute_result"
    }
   ],
   "source": [
    "d1_le1 = np.load(\"Test_2/data/2_RN_eqn_ac_le1.npy\")\n",
    "d1_le1.shape"
   ]
  },
  {
   "cell_type": "code",
   "execution_count": 3,
   "id": "62135433",
   "metadata": {},
   "outputs": [],
   "source": [
    "def poly_svm(train_data):\n",
    "    degrees = [1,2,3,4]\n",
    "    times = []\n",
    "    regs = []\n",
    "    for degree in degrees:\n",
    "        t0 = time.time()\n",
    "        reg = SVR(kernel=\"poly\", degree = degree)\n",
    "        reg.fit(train_data[:,:-1], train_data[:,-1])\n",
    "        t1 = time.time()\n",
    "        times.append(t1-t0)\n",
    "        regs.append(reg)\n",
    "        print(\"Done degree {}\".format(degree))\n",
    "    return times, regs"
   ]
  },
  {
   "cell_type": "code",
   "execution_count": 4,
   "id": "d50da7f9",
   "metadata": {},
   "outputs": [
    {
     "name": "stdout",
     "output_type": "stream",
     "text": [
      "Done degree 1\n",
      "Done degree 2\n",
      "Done degree 3\n",
      "Done degree 4\n"
     ]
    }
   ],
   "source": [
    "times, regs = poly_svm(d1_le1)\n",
    "\n",
    "# saving models\n",
    "i = 1\n",
    "for reg in regs:\n",
    "    dump(reg, 'results/d2/models/le/no_boost/le_poly_degree_{}.joblib'.format(i))\n",
    "    i += 1\n",
    "np.save(\"results/d2/times/le/no_boost/d2_times.npy\", times)"
   ]
  },
  {
   "cell_type": "code",
   "execution_count": 5,
   "id": "d168f492",
   "metadata": {},
   "outputs": [],
   "source": [
    "def rbf_svm(train_data):\n",
    "    t0 = time.time()\n",
    "    reg = SVR(kernel=\"rbf\")\n",
    "    reg.fit(train_data[:,:-1], train_data[:,-1])\n",
    "    t1 = time.time()\n",
    "    return t1-t0, reg"
   ]
  },
  {
   "cell_type": "code",
   "execution_count": 6,
   "id": "44369019",
   "metadata": {},
   "outputs": [],
   "source": [
    "times, regs = rbf_svm(d1_le1)\n",
    "\n",
    "# saving models\n",
    "dump(regs, 'results/d2/models/le/no_boost/le_rbf.joblib')\n",
    "np.save(\"results/d2/times/le/no_boost/d2_times_rbf.npy\", times)"
   ]
  },
  {
   "cell_type": "code",
   "execution_count": 3,
   "id": "7f0a356a",
   "metadata": {},
   "outputs": [
    {
     "name": "stdout",
     "output_type": "stream",
     "text": [
      "Epoch 1/100\n"
     ]
    },
    {
     "name": "stderr",
     "output_type": "stream",
     "text": [
      "2022-02-20 11:26:23.091831: I tensorflow/stream_executor/cuda/cuda_gpu_executor.cc:936] successful NUMA node read from SysFS had negative value (-1), but there must be at least one NUMA node, so returning NUMA node zero\n",
      "2022-02-20 11:26:23.098427: W tensorflow/stream_executor/platform/default/dso_loader.cc:64] Could not load dynamic library 'libcudnn.so.8'; dlerror: libcudnn.so.8: cannot open shared object file: No such file or directory\n",
      "2022-02-20 11:26:23.098444: W tensorflow/core/common_runtime/gpu/gpu_device.cc:1850] Cannot dlopen some GPU libraries. Please make sure the missing libraries mentioned above are installed properly if you would like to use GPU. Follow the guide at https://www.tensorflow.org/install/gpu for how to download and setup the required libraries for your platform.\n",
      "Skipping registering GPU devices...\n",
      "2022-02-20 11:26:23.099176: I tensorflow/core/platform/cpu_feature_guard.cc:151] This TensorFlow binary is optimized with oneAPI Deep Neural Network Library (oneDNN) to use the following CPU instructions in performance-critical operations:  AVX2 FMA\n",
      "To enable them in other operations, rebuild TensorFlow with the appropriate compiler flags.\n"
     ]
    },
    {
     "name": "stdout",
     "output_type": "stream",
     "text": [
      "1433/1433 [==============================] - 2s 1ms/step - loss: 0.0504 - val_loss: 0.0037\n",
      "Epoch 2/100\n",
      "1433/1433 [==============================] - 1s 926us/step - loss: 0.0033 - val_loss: 0.0023\n",
      "Epoch 3/100\n",
      "1433/1433 [==============================] - 2s 1ms/step - loss: 0.0017 - val_loss: 0.0012\n",
      "Epoch 4/100\n",
      "1433/1433 [==============================] - 1s 922us/step - loss: 9.7792e-04 - val_loss: 6.3460e-04\n",
      "Epoch 5/100\n",
      "1433/1433 [==============================] - 1s 995us/step - loss: 6.0524e-04 - val_loss: 4.4321e-04\n",
      "Epoch 6/100\n",
      "1433/1433 [==============================] - 1s 935us/step - loss: 4.3766e-04 - val_loss: 3.4627e-04\n",
      "Epoch 7/100\n",
      "1433/1433 [==============================] - 1s 942us/step - loss: 3.4595e-04 - val_loss: 2.5985e-04\n",
      "Epoch 8/100\n",
      "1433/1433 [==============================] - 1s 976us/step - loss: 2.9323e-04 - val_loss: 2.2552e-04\n",
      "Epoch 9/100\n",
      "1433/1433 [==============================] - 2s 1ms/step - loss: 2.6532e-04 - val_loss: 2.7584e-04\n",
      "Epoch 10/100\n",
      "1433/1433 [==============================] - 2s 1ms/step - loss: 2.4436e-04 - val_loss: 2.0955e-04\n",
      "Epoch 11/100\n",
      "1433/1433 [==============================] - 2s 2ms/step - loss: 2.2996e-04 - val_loss: 2.2572e-04\n",
      "Epoch 12/100\n",
      "1433/1433 [==============================] - 2s 1ms/step - loss: 2.3202e-04 - val_loss: 1.6625e-04\n",
      "Epoch 13/100\n",
      "1433/1433 [==============================] - 1s 989us/step - loss: 2.2068e-04 - val_loss: 1.7522e-04\n",
      "Epoch 14/100\n",
      "1433/1433 [==============================] - 1s 943us/step - loss: 2.1981e-04 - val_loss: 2.0267e-04\n",
      "Epoch 15/100\n",
      "1433/1433 [==============================] - 1s 931us/step - loss: 2.1190e-04 - val_loss: 2.0233e-04\n",
      "Epoch 16/100\n",
      "1433/1433 [==============================] - 2s 2ms/step - loss: 2.1198e-04 - val_loss: 1.7818e-04\n",
      "Epoch 17/100\n",
      "1433/1433 [==============================] - 2s 1ms/step - loss: 2.1158e-04 - val_loss: 1.7651e-04\n",
      "Epoch 18/100\n",
      "1433/1433 [==============================] - 1s 948us/step - loss: 2.0944e-04 - val_loss: 1.6393e-04\n",
      "Epoch 19/100\n",
      "1433/1433 [==============================] - 1s 961us/step - loss: 2.0405e-04 - val_loss: 1.8682e-04\n",
      "Epoch 20/100\n",
      "1433/1433 [==============================] - 1s 979us/step - loss: 2.0554e-04 - val_loss: 2.9776e-04\n",
      "Epoch 21/100\n",
      "1433/1433 [==============================] - 2s 1ms/step - loss: 2.0125e-04 - val_loss: 1.8443e-04\n",
      "Epoch 22/100\n",
      "1433/1433 [==============================] - 2s 1ms/step - loss: 2.0177e-04 - val_loss: 1.6120e-04\n",
      "Epoch 23/100\n",
      "1433/1433 [==============================] - 2s 1ms/step - loss: 1.9739e-04 - val_loss: 1.7143e-04\n",
      "Epoch 24/100\n",
      "1433/1433 [==============================] - 1s 981us/step - loss: 1.9315e-04 - val_loss: 1.5297e-04\n",
      "Epoch 25/100\n",
      "1433/1433 [==============================] - 1s 1ms/step - loss: 1.9193e-04 - val_loss: 1.7311e-04\n",
      "Epoch 26/100\n",
      "1433/1433 [==============================] - 1s 960us/step - loss: 1.8688e-04 - val_loss: 1.6433e-04\n",
      "Epoch 27/100\n",
      "1433/1433 [==============================] - 1s 922us/step - loss: 1.8899e-04 - val_loss: 1.5502e-04\n",
      "Epoch 28/100\n",
      "1433/1433 [==============================] - 1s 951us/step - loss: 1.8760e-04 - val_loss: 3.5006e-04\n",
      "Epoch 29/100\n",
      "1433/1433 [==============================] - 1s 929us/step - loss: 1.8491e-04 - val_loss: 2.4229e-04\n",
      "Epoch 30/100\n",
      "1433/1433 [==============================] - 1s 959us/step - loss: 1.8629e-04 - val_loss: 1.3691e-04\n",
      "Epoch 31/100\n",
      "1433/1433 [==============================] - 1s 930us/step - loss: 1.8312e-04 - val_loss: 1.5640e-04\n",
      "Epoch 32/100\n",
      "1433/1433 [==============================] - 1s 1ms/step - loss: 1.7978e-04 - val_loss: 1.9396e-04\n",
      "Epoch 33/100\n",
      "1433/1433 [==============================] - 1s 949us/step - loss: 1.8154e-04 - val_loss: 1.4095e-04\n",
      "Epoch 34/100\n",
      "1433/1433 [==============================] - 1s 939us/step - loss: 1.7413e-04 - val_loss: 1.3109e-04\n",
      "Epoch 35/100\n",
      "1433/1433 [==============================] - 1s 924us/step - loss: 1.7410e-04 - val_loss: 1.5841e-04\n",
      "Epoch 36/100\n",
      "1433/1433 [==============================] - 1s 928us/step - loss: 1.7848e-04 - val_loss: 1.3216e-04\n",
      "Epoch 37/100\n",
      "1433/1433 [==============================] - 1s 941us/step - loss: 1.6843e-04 - val_loss: 1.4692e-04\n",
      "Epoch 38/100\n",
      "1433/1433 [==============================] - 2s 1ms/step - loss: 1.6995e-04 - val_loss: 1.5416e-04\n",
      "Epoch 39/100\n",
      "1433/1433 [==============================] - 2s 1ms/step - loss: 1.6860e-04 - val_loss: 1.3929e-04\n",
      "Epoch 40/100\n",
      "1433/1433 [==============================] - 2s 1ms/step - loss: 1.6864e-04 - val_loss: 1.3152e-04\n",
      "Epoch 41/100\n",
      "1433/1433 [==============================] - 1s 912us/step - loss: 1.6698e-04 - val_loss: 1.2613e-04\n",
      "Epoch 42/100\n",
      "1433/1433 [==============================] - 1s 1ms/step - loss: 1.6104e-04 - val_loss: 1.3769e-04\n",
      "Epoch 43/100\n",
      "1433/1433 [==============================] - 1s 973us/step - loss: 1.6402e-04 - val_loss: 1.3626e-04\n",
      "Epoch 44/100\n",
      "1433/1433 [==============================] - 1s 1ms/step - loss: 1.6642e-04 - val_loss: 2.1057e-04\n",
      "Epoch 45/100\n",
      "1433/1433 [==============================] - 1s 941us/step - loss: 1.6461e-04 - val_loss: 1.3163e-04\n",
      "Epoch 46/100\n",
      "1433/1433 [==============================] - 2s 1ms/step - loss: 1.6073e-04 - val_loss: 1.2861e-04\n",
      "Epoch 47/100\n",
      "1433/1433 [==============================] - 1s 951us/step - loss: 1.5768e-04 - val_loss: 1.3104e-04\n",
      "Epoch 48/100\n",
      "1433/1433 [==============================] - 1s 951us/step - loss: 1.5725e-04 - val_loss: 1.3379e-04\n",
      "Epoch 49/100\n",
      "1433/1433 [==============================] - 1s 1ms/step - loss: 1.5748e-04 - val_loss: 1.2010e-04\n",
      "Epoch 50/100\n",
      "1433/1433 [==============================] - 1s 959us/step - loss: 1.5738e-04 - val_loss: 1.8250e-04\n",
      "Epoch 51/100\n",
      "1433/1433 [==============================] - 2s 1ms/step - loss: 1.5631e-04 - val_loss: 1.6305e-04\n",
      "Epoch 52/100\n",
      "1433/1433 [==============================] - 2s 2ms/step - loss: 1.5252e-04 - val_loss: 1.2418e-04\n",
      "Epoch 53/100\n",
      "1433/1433 [==============================] - 1s 971us/step - loss: 1.5233e-04 - val_loss: 1.5963e-04\n",
      "Epoch 54/100\n",
      "1433/1433 [==============================] - 2s 1ms/step - loss: 1.5408e-04 - val_loss: 1.3167e-04\n",
      "Epoch 55/100\n",
      "1433/1433 [==============================] - 2s 1ms/step - loss: 1.5240e-04 - val_loss: 1.5351e-04\n",
      "Epoch 56/100\n",
      "1433/1433 [==============================] - 2s 1ms/step - loss: 1.4852e-04 - val_loss: 1.2067e-04\n",
      "Epoch 57/100\n",
      "1433/1433 [==============================] - 2s 1ms/step - loss: 1.5482e-04 - val_loss: 1.3074e-04\n",
      "Epoch 58/100\n",
      "1433/1433 [==============================] - 2s 1ms/step - loss: 1.5271e-04 - val_loss: 1.1160e-04\n",
      "Epoch 59/100\n",
      "1433/1433 [==============================] - 1s 1ms/step - loss: 1.4529e-04 - val_loss: 2.1618e-04\n",
      "Epoch 60/100\n",
      "1433/1433 [==============================] - 1s 978us/step - loss: 1.4720e-04 - val_loss: 1.3854e-04\n",
      "Epoch 61/100\n",
      "1433/1433 [==============================] - 1s 998us/step - loss: 1.4518e-04 - val_loss: 1.1673e-04\n",
      "Epoch 62/100\n",
      "1433/1433 [==============================] - 1s 973us/step - loss: 1.4389e-04 - val_loss: 2.1131e-04\n",
      "Epoch 63/100\n",
      "1433/1433 [==============================] - 1s 929us/step - loss: 1.4687e-04 - val_loss: 1.1276e-04\n",
      "Epoch 64/100\n",
      "1433/1433 [==============================] - 2s 1ms/step - loss: 1.4068e-04 - val_loss: 1.0512e-04\n",
      "Epoch 65/100\n",
      "1433/1433 [==============================] - 2s 1ms/step - loss: 1.3908e-04 - val_loss: 1.7668e-04\n",
      "Epoch 66/100\n",
      "1433/1433 [==============================] - 2s 1ms/step - loss: 1.3716e-04 - val_loss: 1.4740e-04\n",
      "Epoch 67/100\n",
      "1433/1433 [==============================] - 2s 1ms/step - loss: 1.3790e-04 - val_loss: 1.0406e-04\n",
      "Epoch 68/100\n",
      "1433/1433 [==============================] - 2s 1ms/step - loss: 1.3889e-04 - val_loss: 2.1311e-04\n",
      "Epoch 69/100\n",
      "1433/1433 [==============================] - 1s 936us/step - loss: 1.3727e-04 - val_loss: 1.0614e-04\n",
      "Epoch 70/100\n",
      "1433/1433 [==============================] - 1s 948us/step - loss: 1.3281e-04 - val_loss: 9.9956e-05\n",
      "Epoch 71/100\n",
      "1433/1433 [==============================] - 1s 1ms/step - loss: 1.3294e-04 - val_loss: 1.5589e-04\n",
      "Epoch 72/100\n",
      "1433/1433 [==============================] - 1s 972us/step - loss: 1.3486e-04 - val_loss: 1.4159e-04\n",
      "Epoch 73/100\n",
      "1433/1433 [==============================] - 2s 1ms/step - loss: 1.3030e-04 - val_loss: 1.1466e-04\n"
     ]
    },
    {
     "name": "stdout",
     "output_type": "stream",
     "text": [
      "Epoch 74/100\n",
      "1433/1433 [==============================] - 2s 1ms/step - loss: 1.2748e-04 - val_loss: 1.2927e-04\n",
      "Epoch 75/100\n",
      "1433/1433 [==============================] - 2s 1ms/step - loss: 1.2519e-04 - val_loss: 1.3900e-04\n",
      "Epoch 76/100\n",
      "1433/1433 [==============================] - 1s 993us/step - loss: 1.2305e-04 - val_loss: 1.9808e-04\n",
      "Epoch 77/100\n",
      "1433/1433 [==============================] - 1s 984us/step - loss: 1.2324e-04 - val_loss: 1.1143e-04\n",
      "Epoch 78/100\n",
      "1433/1433 [==============================] - 1s 915us/step - loss: 1.2470e-04 - val_loss: 8.8812e-05\n",
      "Epoch 79/100\n",
      "1433/1433 [==============================] - 2s 1ms/step - loss: 1.2119e-04 - val_loss: 9.6858e-05\n",
      "Epoch 80/100\n",
      "1433/1433 [==============================] - 2s 1ms/step - loss: 1.2049e-04 - val_loss: 1.2016e-04\n",
      "Epoch 81/100\n",
      "1433/1433 [==============================] - 2s 2ms/step - loss: 1.1546e-04 - val_loss: 9.0272e-05\n",
      "Epoch 82/100\n",
      "1433/1433 [==============================] - 2s 1ms/step - loss: 1.1817e-04 - val_loss: 1.0150e-04\n",
      "Epoch 83/100\n",
      "1433/1433 [==============================] - 2s 1ms/step - loss: 1.1918e-04 - val_loss: 1.1063e-04\n",
      "Epoch 84/100\n",
      "1433/1433 [==============================] - 1s 1ms/step - loss: 1.1870e-04 - val_loss: 8.8585e-05\n",
      "Epoch 85/100\n",
      "1433/1433 [==============================] - 1s 964us/step - loss: 1.1931e-04 - val_loss: 9.0872e-05\n",
      "Epoch 86/100\n",
      "1433/1433 [==============================] - 1s 945us/step - loss: 1.1476e-04 - val_loss: 9.3824e-05\n",
      "Epoch 87/100\n",
      "1433/1433 [==============================] - 1s 930us/step - loss: 1.2129e-04 - val_loss: 1.3412e-04\n",
      "Epoch 88/100\n",
      "1433/1433 [==============================] - 1s 929us/step - loss: 1.1482e-04 - val_loss: 8.6819e-05\n",
      "Epoch 89/100\n",
      "1433/1433 [==============================] - 1s 984us/step - loss: 1.1601e-04 - val_loss: 1.0734e-04\n",
      "Epoch 90/100\n",
      "1433/1433 [==============================] - 1s 959us/step - loss: 1.1303e-04 - val_loss: 1.0498e-04\n",
      "Epoch 91/100\n",
      "1433/1433 [==============================] - 1s 954us/step - loss: 1.1743e-04 - val_loss: 1.2567e-04\n",
      "Epoch 92/100\n",
      "1433/1433 [==============================] - 1s 936us/step - loss: 1.1452e-04 - val_loss: 9.8916e-05\n",
      "Epoch 93/100\n",
      "1433/1433 [==============================] - 1s 919us/step - loss: 1.1410e-04 - val_loss: 8.7640e-05\n",
      "Epoch 94/100\n",
      "1433/1433 [==============================] - 1s 976us/step - loss: 1.1609e-04 - val_loss: 9.3737e-05\n",
      "Epoch 95/100\n",
      "1433/1433 [==============================] - 1s 946us/step - loss: 1.1051e-04 - val_loss: 1.0281e-04\n",
      "Epoch 96/100\n",
      "1433/1433 [==============================] - 1s 911us/step - loss: 1.1495e-04 - val_loss: 8.9079e-05\n",
      "Epoch 97/100\n",
      "1433/1433 [==============================] - 1s 999us/step - loss: 1.1272e-04 - val_loss: 9.1970e-05\n",
      "Epoch 98/100\n",
      "1433/1433 [==============================] - 1s 960us/step - loss: 1.1132e-04 - val_loss: 8.7805e-05\n"
     ]
    }
   ],
   "source": [
    "def NN(X_train, y_train):\n",
    "    #create model\n",
    "    model = Sequential()\n",
    "\n",
    "    #get number of columns in training data\n",
    "    n_cols = X_train.shape[1]\n",
    "\n",
    "    #add model layers\n",
    "    model.add(Dense(10, activation='relu', input_shape=(n_cols,)))\n",
    "    model.add(Dense(10, activation='relu'))\n",
    "    model.add(Dense(10, activation='relu'))\n",
    "    model.add(Dense(1, activation='relu'))\n",
    "\n",
    "    model.compile(optimizer='adam', loss='mse')\n",
    "    early_stopping_monitor = EarlyStopping(patience=10)\n",
    "\n",
    "    history = model.fit(X_train, y_train, validation_split=0.2, epochs=100, callbacks=[early_stopping_monitor])\n",
    "\n",
    "    return history, model\n",
    "\n",
    "history, model = NN(d1_le1[:,:-1], d1_le1[:,-1])\n",
    "model.save(\"results/d2/models/le/no_boost/le_nn.h5\")"
   ]
  },
  {
   "cell_type": "markdown",
   "id": "16f7eb91",
   "metadata": {},
   "source": [
    "## Boosting"
   ]
  },
  {
   "cell_type": "code",
   "execution_count": 5,
   "id": "0d5e71ac",
   "metadata": {},
   "outputs": [],
   "source": [
    "data = []\n",
    "for row in d1_le1:\n",
    "    if (row[2] > 1.5 and row[2] < 1.65):\n",
    "        data.append(np.delete(row, 2))\n",
    "M_data = np.array(data)"
   ]
  },
  {
   "cell_type": "code",
   "execution_count": 7,
   "id": "50a668f7",
   "metadata": {},
   "outputs": [],
   "source": [
    "def poly_svm_boost(train_data, M_train_data, data_type):\n",
    "    degrees = [1,2,3,4]\n",
    "    times = []\n",
    "    M_regs = []\n",
    "    g_regs = []\n",
    "    for degree in degrees:\n",
    "        t0 = time.time()\n",
    "        reg = SVR(kernel=\"poly\", degree = degree)\n",
    "        reg.fit(M_train_data[:,:-1], M_train_data[:,-1])\n",
    "        M = reg.predict(train_data[:,:2])\n",
    "        train_data[:,-1] = train_data[:,-1]/M\n",
    "        reg_g = SVR(kernel=\"poly\", degree = degree)\n",
    "        if data_type == 'le':\n",
    "            reg_g.fit(train_data[:,1:-1], train_data[:,-1])\n",
    "        elif data_type == 'g':\n",
    "            reg_g.fit(train_data[:,:-1], train_data[:,-1])\n",
    "        else:\n",
    "            raise Exception(\"Invalid data type\")\n",
    "        t1 = time.time()\n",
    "        times.append(t1-t0)\n",
    "        M_regs.append(reg)\n",
    "        g_regs.append(reg_g)\n",
    "        print(\"Done degree {}\".format(degree))\n",
    "    \n",
    "    return times, M_regs, g_regs"
   ]
  },
  {
   "cell_type": "code",
   "execution_count": 8,
   "id": "85c88884",
   "metadata": {},
   "outputs": [
    {
     "name": "stdout",
     "output_type": "stream",
     "text": [
      "Done degree 1\n",
      "Done degree 2\n",
      "Done degree 3\n",
      "Done degree 4\n"
     ]
    }
   ],
   "source": [
    "# Poly SVM\n",
    "times, M_regs, g_regs = poly_svm_boost(d1_le1, M_data, \"le\")\n",
    "\n",
    "# saving models\n",
    "for i in range(4):\n",
    "    dump(M_regs[i], 'results/d2/models/le/boost/le_M_poly_degree_{}.joblib'.format(i))\n",
    "    dump(g_regs[i], 'results/d2/models/le/boost/le_g_poly_degree_{}.joblib'.format(i))\n",
    "\n",
    "np.save(\"results/d2/times/le/boost/d1_times.npy\", times)"
   ]
  },
  {
   "cell_type": "code",
   "execution_count": 9,
   "id": "810dcee5",
   "metadata": {},
   "outputs": [],
   "source": [
    "def rbf_svm_boost(train_data, M_train_data, data_type):\n",
    "    t0 = time.time()\n",
    "    reg = SVR(kernel=\"rbf\")\n",
    "    reg.fit(M_train_data[:,:-1], M_train_data[:,-1])\n",
    "    M = reg.predict(train_data[:,:2])\n",
    "    train_data[:,-1] = train_data[:,-1]/M\n",
    "    reg_g = SVR(kernel=\"rbf\")\n",
    "    if data_type == 'le':\n",
    "        reg_g.fit(train_data[:,1:-1], train_data[:,-1])\n",
    "    elif data_type == 'g':\n",
    "        reg_g.fit(train_data[:,:-1], train_data[:,-1])\n",
    "    else:\n",
    "        raise Exception(\"Invalid data type\")\n",
    "    t1 = time.time()\n",
    "    return t1-t0, reg, reg_g"
   ]
  },
  {
   "cell_type": "code",
   "execution_count": 10,
   "id": "e5f66d23",
   "metadata": {},
   "outputs": [],
   "source": [
    "times, M_regs, g_regs = rbf_svm_boost(d1_le1, M_data, \"le\")\n",
    "\n",
    "# saving models\n",
    "dump(M_regs, 'results/d2/models/le/boost/le_M_rbf.joblib')\n",
    "dump(g_regs, 'results/d2/models/le/boost/le_g_rbf.joblib')\n",
    "np.save(\"results/d2/times/le/boost/d2_times_rbf.npy\", times)"
   ]
  },
  {
   "cell_type": "code",
   "execution_count": 6,
   "id": "4fc7cd1d",
   "metadata": {},
   "outputs": [
    {
     "name": "stdout",
     "output_type": "stream",
     "text": [
      "Epoch 1/100\n",
      "86/86 [==============================] - 0s 2ms/step - loss: 0.8592 - val_loss: 0.2586\n",
      "Epoch 2/100\n",
      "86/86 [==============================] - 0s 1ms/step - loss: 0.1312 - val_loss: 0.0890\n",
      "Epoch 3/100\n",
      "86/86 [==============================] - 0s 1ms/step - loss: 0.0838 - val_loss: 0.0702\n",
      "Epoch 4/100\n",
      "86/86 [==============================] - 0s 1ms/step - loss: 0.0644 - val_loss: 0.0522\n",
      "Epoch 5/100\n",
      "86/86 [==============================] - 0s 1ms/step - loss: 0.0453 - val_loss: 0.0340\n",
      "Epoch 6/100\n",
      "86/86 [==============================] - 0s 1ms/step - loss: 0.0261 - val_loss: 0.0172\n",
      "Epoch 7/100\n",
      "86/86 [==============================] - 0s 2ms/step - loss: 0.0132 - val_loss: 0.0096\n",
      "Epoch 8/100\n",
      "86/86 [==============================] - 0s 1ms/step - loss: 0.0084 - val_loss: 0.0075\n",
      "Epoch 9/100\n",
      "86/86 [==============================] - 0s 1ms/step - loss: 0.0073 - val_loss: 0.0069\n",
      "Epoch 10/100\n",
      "86/86 [==============================] - 0s 2ms/step - loss: 0.0071 - val_loss: 0.0067\n",
      "Epoch 11/100\n",
      "86/86 [==============================] - 0s 2ms/step - loss: 0.0069 - val_loss: 0.0066\n",
      "Epoch 12/100\n",
      "86/86 [==============================] - 0s 1ms/step - loss: 0.0069 - val_loss: 0.0066\n",
      "Epoch 13/100\n",
      "86/86 [==============================] - 0s 1ms/step - loss: 0.0068 - val_loss: 0.0065\n",
      "Epoch 14/100\n",
      "86/86 [==============================] - 0s 1ms/step - loss: 0.0068 - val_loss: 0.0066\n",
      "Epoch 15/100\n",
      "86/86 [==============================] - 0s 1ms/step - loss: 0.0068 - val_loss: 0.0065\n",
      "Epoch 16/100\n",
      "86/86 [==============================] - 0s 1ms/step - loss: 0.0068 - val_loss: 0.0064\n",
      "Epoch 17/100\n",
      "86/86 [==============================] - 0s 1ms/step - loss: 0.0068 - val_loss: 0.0064\n",
      "Epoch 18/100\n",
      "86/86 [==============================] - 0s 1ms/step - loss: 0.0067 - val_loss: 0.0067\n",
      "Epoch 19/100\n",
      "86/86 [==============================] - 0s 1ms/step - loss: 0.0068 - val_loss: 0.0064\n",
      "Epoch 20/100\n",
      "86/86 [==============================] - 0s 1ms/step - loss: 0.0067 - val_loss: 0.0064\n",
      "Epoch 21/100\n",
      "86/86 [==============================] - 0s 1ms/step - loss: 0.0066 - val_loss: 0.0064\n",
      "Epoch 22/100\n",
      "86/86 [==============================] - 0s 1ms/step - loss: 0.0067 - val_loss: 0.0063\n",
      "Epoch 23/100\n",
      "86/86 [==============================] - 0s 1ms/step - loss: 0.0066 - val_loss: 0.0063\n",
      "Epoch 24/100\n",
      "86/86 [==============================] - 0s 1ms/step - loss: 0.0066 - val_loss: 0.0065\n",
      "Epoch 25/100\n",
      "86/86 [==============================] - 0s 1ms/step - loss: 0.0066 - val_loss: 0.0063\n",
      "Epoch 26/100\n",
      "86/86 [==============================] - 0s 1ms/step - loss: 0.0066 - val_loss: 0.0063\n",
      "Epoch 27/100\n",
      "86/86 [==============================] - 0s 1ms/step - loss: 0.0066 - val_loss: 0.0063\n",
      "Epoch 28/100\n",
      "86/86 [==============================] - 0s 1ms/step - loss: 0.0066 - val_loss: 0.0062\n",
      "Epoch 29/100\n",
      "86/86 [==============================] - 0s 1ms/step - loss: 0.0066 - val_loss: 0.0062\n",
      "Epoch 30/100\n",
      "86/86 [==============================] - 0s 1ms/step - loss: 0.0066 - val_loss: 0.0063\n",
      "Epoch 31/100\n",
      "86/86 [==============================] - 0s 2ms/step - loss: 0.0065 - val_loss: 0.0064\n",
      "Epoch 32/100\n",
      "86/86 [==============================] - 0s 2ms/step - loss: 0.0066 - val_loss: 0.0061\n",
      "Epoch 33/100\n",
      "86/86 [==============================] - 0s 1ms/step - loss: 0.0065 - val_loss: 0.0061\n",
      "Epoch 34/100\n",
      "86/86 [==============================] - 0s 1ms/step - loss: 0.0064 - val_loss: 0.0062\n",
      "Epoch 35/100\n",
      "86/86 [==============================] - 0s 2ms/step - loss: 0.0065 - val_loss: 0.0067\n",
      "Epoch 36/100\n",
      "86/86 [==============================] - 0s 2ms/step - loss: 0.0064 - val_loss: 0.0060\n",
      "Epoch 37/100\n",
      "86/86 [==============================] - 0s 1ms/step - loss: 0.0064 - val_loss: 0.0061\n",
      "Epoch 38/100\n",
      "86/86 [==============================] - 0s 2ms/step - loss: 0.0063 - val_loss: 0.0060\n",
      "Epoch 39/100\n",
      "86/86 [==============================] - 0s 1ms/step - loss: 0.0063 - val_loss: 0.0061\n",
      "Epoch 40/100\n",
      "86/86 [==============================] - 0s 1ms/step - loss: 0.0063 - val_loss: 0.0061\n",
      "Epoch 41/100\n",
      "86/86 [==============================] - 0s 1ms/step - loss: 0.0062 - val_loss: 0.0059\n",
      "Epoch 42/100\n",
      "86/86 [==============================] - 0s 1ms/step - loss: 0.0063 - val_loss: 0.0062\n",
      "Epoch 43/100\n",
      "86/86 [==============================] - 0s 2ms/step - loss: 0.0063 - val_loss: 0.0061\n",
      "Epoch 44/100\n",
      "86/86 [==============================] - 0s 3ms/step - loss: 0.0062 - val_loss: 0.0059\n",
      "Epoch 45/100\n",
      "86/86 [==============================] - 0s 2ms/step - loss: 0.0061 - val_loss: 0.0058\n",
      "Epoch 46/100\n",
      "86/86 [==============================] - 0s 1ms/step - loss: 0.0063 - val_loss: 0.0060\n",
      "Epoch 47/100\n",
      "86/86 [==============================] - 0s 1ms/step - loss: 0.0061 - val_loss: 0.0057\n",
      "Epoch 48/100\n",
      "86/86 [==============================] - 0s 1ms/step - loss: 0.0061 - val_loss: 0.0057\n",
      "Epoch 49/100\n",
      "86/86 [==============================] - 0s 1ms/step - loss: 0.0060 - val_loss: 0.0059\n",
      "Epoch 50/100\n",
      "86/86 [==============================] - 0s 1ms/step - loss: 0.0061 - val_loss: 0.0057\n",
      "Epoch 51/100\n",
      "86/86 [==============================] - 0s 1ms/step - loss: 0.0061 - val_loss: 0.0056\n",
      "Epoch 52/100\n",
      "86/86 [==============================] - 0s 1ms/step - loss: 0.0059 - val_loss: 0.0058\n",
      "Epoch 53/100\n",
      "86/86 [==============================] - 0s 1ms/step - loss: 0.0059 - val_loss: 0.0055\n",
      "Epoch 54/100\n",
      "86/86 [==============================] - 0s 1ms/step - loss: 0.0059 - val_loss: 0.0057\n",
      "Epoch 55/100\n",
      "86/86 [==============================] - 0s 1ms/step - loss: 0.0058 - val_loss: 0.0054\n",
      "Epoch 56/100\n",
      "86/86 [==============================] - 0s 1ms/step - loss: 0.0059 - val_loss: 0.0057\n",
      "Epoch 57/100\n",
      "86/86 [==============================] - 0s 2ms/step - loss: 0.0059 - val_loss: 0.0054\n",
      "Epoch 58/100\n",
      "86/86 [==============================] - 0s 2ms/step - loss: 0.0057 - val_loss: 0.0053\n",
      "Epoch 59/100\n",
      "86/86 [==============================] - 0s 1ms/step - loss: 0.0057 - val_loss: 0.0054\n",
      "Epoch 60/100\n",
      "86/86 [==============================] - 0s 2ms/step - loss: 0.0056 - val_loss: 0.0053\n",
      "Epoch 61/100\n",
      "86/86 [==============================] - 0s 2ms/step - loss: 0.0056 - val_loss: 0.0053\n",
      "Epoch 62/100\n",
      "86/86 [==============================] - 0s 3ms/step - loss: 0.0056 - val_loss: 0.0052\n",
      "Epoch 63/100\n",
      "86/86 [==============================] - 0s 3ms/step - loss: 0.0055 - val_loss: 0.0052\n",
      "Epoch 64/100\n",
      "86/86 [==============================] - 0s 2ms/step - loss: 0.0056 - val_loss: 0.0053\n",
      "Epoch 65/100\n",
      "86/86 [==============================] - 0s 2ms/step - loss: 0.0056 - val_loss: 0.0053\n",
      "Epoch 66/100\n",
      "86/86 [==============================] - 0s 2ms/step - loss: 0.0056 - val_loss: 0.0053\n",
      "Epoch 67/100\n",
      "86/86 [==============================] - 0s 2ms/step - loss: 0.0055 - val_loss: 0.0053\n",
      "Epoch 68/100\n",
      "86/86 [==============================] - 0s 2ms/step - loss: 0.0057 - val_loss: 0.0054\n",
      "Epoch 69/100\n",
      "86/86 [==============================] - 0s 1ms/step - loss: 0.0056 - val_loss: 0.0053\n",
      "Epoch 70/100\n",
      "86/86 [==============================] - 0s 1ms/step - loss: 0.0055 - val_loss: 0.0052\n",
      "Epoch 71/100\n",
      "86/86 [==============================] - 0s 2ms/step - loss: 0.0055 - val_loss: 0.0053\n",
      "Epoch 72/100\n",
      "86/86 [==============================] - 0s 2ms/step - loss: 0.0055 - val_loss: 0.0052\n",
      "Epoch 73/100\n",
      "86/86 [==============================] - 0s 2ms/step - loss: 0.0055 - val_loss: 0.0053\n",
      "Epoch 74/100\n",
      "86/86 [==============================] - 0s 1ms/step - loss: 0.0054 - val_loss: 0.0054\n",
      "Epoch 75/100\n",
      "86/86 [==============================] - 0s 1ms/step - loss: 0.0055 - val_loss: 0.0053\n",
      "Epoch 76/100\n",
      "86/86 [==============================] - 0s 1ms/step - loss: 0.0055 - val_loss: 0.0053\n",
      "Epoch 77/100\n",
      "86/86 [==============================] - 0s 1ms/step - loss: 0.0056 - val_loss: 0.0055\n",
      "Epoch 78/100\n",
      "86/86 [==============================] - 0s 2ms/step - loss: 0.0057 - val_loss: 0.0054\n",
      "Epoch 79/100\n",
      "86/86 [==============================] - 0s 2ms/step - loss: 0.0055 - val_loss: 0.0053\n",
      "Epoch 80/100\n",
      "86/86 [==============================] - 0s 1ms/step - loss: 0.0056 - val_loss: 0.0054\n",
      "Epoch 1/100\n",
      "1433/1433 [==============================] - 2s 1ms/step - loss: 0.0260 - val_loss: 0.0041\n",
      "Epoch 2/100\n",
      "1433/1433 [==============================] - 1s 1ms/step - loss: 0.0041 - val_loss: 0.0041\n"
     ]
    },
    {
     "name": "stdout",
     "output_type": "stream",
     "text": [
      "Epoch 3/100\n",
      "1433/1433 [==============================] - 2s 1ms/step - loss: 0.0039 - val_loss: 0.0035\n",
      "Epoch 4/100\n",
      "1433/1433 [==============================] - 1s 991us/step - loss: 0.0035 - val_loss: 0.0032\n",
      "Epoch 5/100\n",
      "1433/1433 [==============================] - 1s 960us/step - loss: 0.0033 - val_loss: 0.0031\n",
      "Epoch 6/100\n",
      "1433/1433 [==============================] - 2s 1ms/step - loss: 0.0032 - val_loss: 0.0030\n",
      "Epoch 7/100\n",
      "1433/1433 [==============================] - 1s 1ms/step - loss: 0.0031 - val_loss: 0.0029\n",
      "Epoch 8/100\n",
      "1433/1433 [==============================] - 1s 1ms/step - loss: 0.0030 - val_loss: 0.0029\n",
      "Epoch 9/100\n",
      "1433/1433 [==============================] - 2s 1ms/step - loss: 0.0030 - val_loss: 0.0029\n",
      "Epoch 10/100\n",
      "1433/1433 [==============================] - 2s 1ms/step - loss: 0.0030 - val_loss: 0.0032\n",
      "Epoch 11/100\n",
      "1433/1433 [==============================] - 2s 1ms/step - loss: 0.0030 - val_loss: 0.0029\n",
      "Epoch 12/100\n",
      "1433/1433 [==============================] - 2s 1ms/step - loss: 0.0030 - val_loss: 0.0029\n",
      "Epoch 13/100\n",
      "1433/1433 [==============================] - 2s 1ms/step - loss: 0.0029 - val_loss: 0.0029\n",
      "Epoch 14/100\n",
      "1433/1433 [==============================] - 2s 1ms/step - loss: 0.0030 - val_loss: 0.0029\n",
      "Epoch 15/100\n",
      "1433/1433 [==============================] - 1s 979us/step - loss: 0.0030 - val_loss: 0.0029\n",
      "Epoch 16/100\n",
      "1433/1433 [==============================] - 2s 1ms/step - loss: 0.0029 - val_loss: 0.0028\n",
      "Epoch 17/100\n",
      "1433/1433 [==============================] - 1s 941us/step - loss: 0.0029 - val_loss: 0.0029\n",
      "Epoch 18/100\n",
      "1433/1433 [==============================] - 1s 984us/step - loss: 0.0029 - val_loss: 0.0030\n",
      "Epoch 19/100\n",
      "1433/1433 [==============================] - 1s 949us/step - loss: 0.0029 - val_loss: 0.0030\n",
      "Epoch 20/100\n",
      "1433/1433 [==============================] - 1s 959us/step - loss: 0.0029 - val_loss: 0.0029\n",
      "Epoch 21/100\n",
      "1433/1433 [==============================] - 1s 965us/step - loss: 0.0029 - val_loss: 0.0029\n",
      "Epoch 22/100\n",
      "1433/1433 [==============================] - 2s 1ms/step - loss: 0.0029 - val_loss: 0.0028\n",
      "Epoch 23/100\n",
      "1433/1433 [==============================] - 2s 1ms/step - loss: 0.0029 - val_loss: 0.0028\n",
      "Epoch 24/100\n",
      "1433/1433 [==============================] - 2s 1ms/step - loss: 0.0029 - val_loss: 0.0029\n",
      "Epoch 25/100\n",
      "1433/1433 [==============================] - 2s 1ms/step - loss: 0.0029 - val_loss: 0.0028\n",
      "Epoch 26/100\n",
      "1433/1433 [==============================] - 2s 1ms/step - loss: 0.0029 - val_loss: 0.0029\n",
      "Epoch 27/100\n",
      "1433/1433 [==============================] - 2s 1ms/step - loss: 0.0029 - val_loss: 0.0028\n",
      "Epoch 28/100\n",
      "1433/1433 [==============================] - 2s 1ms/step - loss: 0.0029 - val_loss: 0.0028\n",
      "Epoch 29/100\n",
      "1433/1433 [==============================] - 2s 1ms/step - loss: 0.0029 - val_loss: 0.0030\n",
      "Epoch 30/100\n",
      "1433/1433 [==============================] - 2s 1ms/step - loss: 0.0029 - val_loss: 0.0028\n",
      "Epoch 31/100\n",
      "1433/1433 [==============================] - 2s 1ms/step - loss: 0.0029 - val_loss: 0.0028\n",
      "Epoch 32/100\n",
      "1433/1433 [==============================] - 1s 1ms/step - loss: 0.0029 - val_loss: 0.0028\n",
      "Epoch 33/100\n",
      "1433/1433 [==============================] - 2s 1ms/step - loss: 0.0029 - val_loss: 0.0028\n",
      "Epoch 34/100\n",
      "1433/1433 [==============================] - 2s 1ms/step - loss: 0.0029 - val_loss: 0.0029\n",
      "Epoch 35/100\n",
      "1433/1433 [==============================] - 2s 1ms/step - loss: 0.0029 - val_loss: 0.0028\n",
      "Epoch 36/100\n",
      "1433/1433 [==============================] - 2s 1ms/step - loss: 0.0029 - val_loss: 0.0029\n",
      "Epoch 37/100\n",
      "1433/1433 [==============================] - 2s 1ms/step - loss: 0.0029 - val_loss: 0.0028\n",
      "Epoch 38/100\n",
      "1433/1433 [==============================] - 1s 910us/step - loss: 0.0029 - val_loss: 0.0028\n",
      "Epoch 39/100\n",
      "1433/1433 [==============================] - 2s 1ms/step - loss: 0.0029 - val_loss: 0.0028\n",
      "Epoch 40/100\n",
      "1433/1433 [==============================] - 2s 1ms/step - loss: 0.0029 - val_loss: 0.0028\n",
      "Epoch 41/100\n",
      "1433/1433 [==============================] - 1s 978us/step - loss: 0.0029 - val_loss: 0.0028\n",
      "Epoch 42/100\n",
      "1433/1433 [==============================] - 1s 917us/step - loss: 0.0029 - val_loss: 0.0028\n",
      "Epoch 43/100\n",
      "1433/1433 [==============================] - 1s 1ms/step - loss: 0.0029 - val_loss: 0.0028\n",
      "Epoch 44/100\n",
      "1433/1433 [==============================] - 1s 960us/step - loss: 0.0029 - val_loss: 0.0029\n",
      "Epoch 45/100\n",
      "1433/1433 [==============================] - 2s 1ms/step - loss: 0.0029 - val_loss: 0.0029\n",
      "Epoch 46/100\n",
      "1433/1433 [==============================] - 2s 1ms/step - loss: 0.0029 - val_loss: 0.0028\n",
      "Epoch 47/100\n",
      "1433/1433 [==============================] - 2s 1ms/step - loss: 0.0029 - val_loss: 0.0028\n"
     ]
    }
   ],
   "source": [
    "def nn_boost(train_data, M_train_data, data_type):\n",
    "    t0 = time.time()\n",
    "    _, reg = NN(M_train_data[:,:-1], M_train_data[:,-1])\n",
    "    M = reg.predict(train_data[:,:2])\n",
    "    train_data[:,-1] = train_data[:,-1]/np.squeeze(M, axis=-1)\n",
    "    if data_type == 'le':\n",
    "        _, reg_g = NN(train_data[:,1:-1], train_data[:,-1])\n",
    "    elif data_type == 'g':\n",
    "        _, reg_g = NN(train_data[:,:-1], train_data[:,-1])\n",
    "    else:\n",
    "        raise Exception(\"Invalid data type\")\n",
    "    t1 = time.time()\n",
    "    return t1-t0, reg, reg_g\n",
    "\n",
    "times, M_regs, g_regs = nn_boost(d1_le1, M_data, \"le\")\n",
    "M_regs.save(\"results/d2/models/le/boost/le_M_nn.h5\")\n",
    "g_regs.save(\"results/d2/models/le/boost/le_g_nn.h5\")\n",
    "np.save(\"results/d2/times/le/boost/d2_times_nn.npy\", times)"
   ]
  },
  {
   "cell_type": "markdown",
   "id": "67da5ba1",
   "metadata": {},
   "source": [
    "# $ \\frac{a}{c} > 1$"
   ]
  },
  {
   "cell_type": "markdown",
   "id": "4e8e6914",
   "metadata": {},
   "source": [
    "## No Boosting"
   ]
  },
  {
   "cell_type": "code",
   "execution_count": 7,
   "id": "7237d041",
   "metadata": {},
   "outputs": [
    {
     "data": {
      "text/plain": [
       "(49495, 4)"
      ]
     },
     "execution_count": 7,
     "metadata": {},
     "output_type": "execute_result"
    }
   ],
   "source": [
    "d1_le1 = np.load(\"Test_2/data/2_RN_eqn_ac_g1.npy\")\n",
    "d1_le1.shape"
   ]
  },
  {
   "cell_type": "code",
   "execution_count": 12,
   "id": "4d050843",
   "metadata": {},
   "outputs": [],
   "source": [
    "def poly_svm(train_data):\n",
    "    degrees = [1,2,3,4]\n",
    "    times = []\n",
    "    regs = []\n",
    "    for degree in degrees:\n",
    "        t0 = time.time()\n",
    "        reg = SVR(kernel=\"poly\", degree = degree)\n",
    "        reg.fit(train_data[:,:-1], train_data[:,-1])\n",
    "        t1 = time.time()\n",
    "        times.append(t1-t0)\n",
    "        regs.append(reg)\n",
    "        print(\"Done degree {}\".format(degree))\n",
    "    return times, regs"
   ]
  },
  {
   "cell_type": "code",
   "execution_count": 13,
   "id": "4666dbc4",
   "metadata": {},
   "outputs": [
    {
     "name": "stdout",
     "output_type": "stream",
     "text": [
      "Done degree 1\n",
      "Done degree 2\n",
      "Done degree 3\n",
      "Done degree 4\n"
     ]
    }
   ],
   "source": [
    "times, regs = poly_svm(d1_le1)\n",
    "\n",
    "# saving models\n",
    "i = 1\n",
    "for reg in regs:\n",
    "    dump(reg, 'results/d2/models/g/no_boost/g_poly_degree_{}.joblib'.format(i))\n",
    "    i += 1\n",
    "np.save(\"results/d2/times/g/no_boost/d2_times.npy\", times)"
   ]
  },
  {
   "cell_type": "code",
   "execution_count": 14,
   "id": "acdb2e78",
   "metadata": {},
   "outputs": [],
   "source": [
    "def rbf_svm(train_data):\n",
    "    t0 = time.time()\n",
    "    reg = SVR(kernel=\"rbf\")\n",
    "    reg.fit(train_data[:,:-1], train_data[:,-1])\n",
    "    t1 = time.time()\n",
    "    return t1-t0, reg"
   ]
  },
  {
   "cell_type": "code",
   "execution_count": 15,
   "id": "a4d1a6cb",
   "metadata": {},
   "outputs": [],
   "source": [
    "times, regs = rbf_svm(d1_le1)\n",
    "\n",
    "# saving models\n",
    "dump(regs, 'results/d2/models/g/no_boost/g_rbf.joblib')\n",
    "np.save(\"results/d2/times/g/no_boost/d2_times_rbf.npy\", times)"
   ]
  },
  {
   "cell_type": "code",
   "execution_count": 8,
   "id": "3924579b",
   "metadata": {},
   "outputs": [
    {
     "name": "stdout",
     "output_type": "stream",
     "text": [
      "Epoch 1/100\n",
      "1238/1238 [==============================] - 2s 1ms/step - loss: 0.0070 - val_loss: 4.6624e-04\n",
      "Epoch 2/100\n",
      "1238/1238 [==============================] - 1s 966us/step - loss: 4.1860e-04 - val_loss: 3.1607e-04\n",
      "Epoch 3/100\n",
      "1238/1238 [==============================] - 1s 979us/step - loss: 2.6729e-04 - val_loss: 1.8492e-04\n",
      "Epoch 4/100\n",
      "1238/1238 [==============================] - 1s 1ms/step - loss: 1.5742e-04 - val_loss: 1.2418e-04\n",
      "Epoch 5/100\n",
      "1238/1238 [==============================] - 1s 965us/step - loss: 1.1160e-04 - val_loss: 1.3593e-04\n",
      "Epoch 6/100\n",
      "1238/1238 [==============================] - 1s 952us/step - loss: 9.3574e-05 - val_loss: 6.9428e-05\n",
      "Epoch 7/100\n",
      "1238/1238 [==============================] - 2s 1ms/step - loss: 8.6660e-05 - val_loss: 9.4646e-05\n",
      "Epoch 8/100\n",
      "1238/1238 [==============================] - 1s 946us/step - loss: 8.0098e-05 - val_loss: 6.9085e-05\n",
      "Epoch 9/100\n",
      "1238/1238 [==============================] - 1s 939us/step - loss: 7.2192e-05 - val_loss: 5.2228e-05\n",
      "Epoch 10/100\n",
      "1238/1238 [==============================] - 1s 1ms/step - loss: 6.7258e-05 - val_loss: 5.2872e-05\n",
      "Epoch 11/100\n",
      "1238/1238 [==============================] - 1s 949us/step - loss: 6.6208e-05 - val_loss: 8.4297e-05\n",
      "Epoch 12/100\n",
      "1238/1238 [==============================] - 1s 1ms/step - loss: 6.3687e-05 - val_loss: 5.6178e-05\n",
      "Epoch 13/100\n",
      "1238/1238 [==============================] - 1s 970us/step - loss: 6.3379e-05 - val_loss: 6.4748e-05\n",
      "Epoch 14/100\n",
      "1238/1238 [==============================] - 1s 1ms/step - loss: 6.0428e-05 - val_loss: 4.9013e-05\n",
      "Epoch 15/100\n",
      "1238/1238 [==============================] - 2s 1ms/step - loss: 6.1655e-05 - val_loss: 5.5239e-05\n",
      "Epoch 16/100\n",
      "1238/1238 [==============================] - 1s 1ms/step - loss: 6.0830e-05 - val_loss: 5.2037e-05\n",
      "Epoch 17/100\n",
      "1238/1238 [==============================] - 1s 1ms/step - loss: 5.6086e-05 - val_loss: 5.5442e-05\n",
      "Epoch 18/100\n",
      "1238/1238 [==============================] - 1s 1ms/step - loss: 5.7367e-05 - val_loss: 7.9428e-05\n",
      "Epoch 19/100\n",
      "1238/1238 [==============================] - 1s 1ms/step - loss: 5.5279e-05 - val_loss: 4.2603e-05\n",
      "Epoch 20/100\n",
      "1238/1238 [==============================] - 1s 955us/step - loss: 5.4103e-05 - val_loss: 4.4617e-05\n",
      "Epoch 21/100\n",
      "1238/1238 [==============================] - 1s 1ms/step - loss: 5.2369e-05 - val_loss: 4.0628e-05\n",
      "Epoch 22/100\n",
      "1238/1238 [==============================] - 1s 1ms/step - loss: 4.9516e-05 - val_loss: 7.5331e-05\n",
      "Epoch 23/100\n",
      "1238/1238 [==============================] - 1s 989us/step - loss: 5.0336e-05 - val_loss: 3.9121e-05\n",
      "Epoch 24/100\n",
      "1238/1238 [==============================] - 1s 1ms/step - loss: 4.6792e-05 - val_loss: 5.8043e-05\n",
      "Epoch 25/100\n",
      "1238/1238 [==============================] - 1s 1ms/step - loss: 4.5137e-05 - val_loss: 3.4615e-05\n",
      "Epoch 26/100\n",
      "1238/1238 [==============================] - 1s 1ms/step - loss: 4.4627e-05 - val_loss: 3.3705e-05\n",
      "Epoch 27/100\n",
      "1238/1238 [==============================] - 1s 949us/step - loss: 4.3749e-05 - val_loss: 3.3213e-05\n",
      "Epoch 28/100\n",
      "1238/1238 [==============================] - 1s 1ms/step - loss: 4.3485e-05 - val_loss: 4.9090e-05\n",
      "Epoch 29/100\n",
      "1238/1238 [==============================] - 1s 1ms/step - loss: 4.0294e-05 - val_loss: 7.6041e-05\n",
      "Epoch 30/100\n",
      "1238/1238 [==============================] - 1s 922us/step - loss: 3.9926e-05 - val_loss: 6.0724e-05\n",
      "Epoch 31/100\n",
      "1238/1238 [==============================] - 1s 915us/step - loss: 4.0887e-05 - val_loss: 3.5959e-05\n",
      "Epoch 32/100\n",
      "1238/1238 [==============================] - 1s 841us/step - loss: 3.8628e-05 - val_loss: 2.6885e-05\n",
      "Epoch 33/100\n",
      "1238/1238 [==============================] - 1s 1ms/step - loss: 3.8324e-05 - val_loss: 5.7516e-05\n",
      "Epoch 34/100\n",
      "1238/1238 [==============================] - 1s 983us/step - loss: 3.8356e-05 - val_loss: 8.1548e-05\n",
      "Epoch 35/100\n",
      "1238/1238 [==============================] - 1s 948us/step - loss: 3.8006e-05 - val_loss: 2.7088e-05\n",
      "Epoch 36/100\n",
      "1238/1238 [==============================] - 1s 1ms/step - loss: 3.5758e-05 - val_loss: 4.3876e-05\n",
      "Epoch 37/100\n",
      "1238/1238 [==============================] - 1s 1ms/step - loss: 3.5403e-05 - val_loss: 2.6795e-05\n",
      "Epoch 38/100\n",
      "1238/1238 [==============================] - 1s 1ms/step - loss: 3.4843e-05 - val_loss: 6.1558e-05\n",
      "Epoch 39/100\n",
      "1238/1238 [==============================] - 1s 996us/step - loss: 3.4964e-05 - val_loss: 3.5435e-05\n",
      "Epoch 40/100\n",
      "1238/1238 [==============================] - 2s 1ms/step - loss: 3.3200e-05 - val_loss: 3.6643e-05\n",
      "Epoch 41/100\n",
      "1238/1238 [==============================] - 1s 1ms/step - loss: 3.0850e-05 - val_loss: 2.7183e-05\n",
      "Epoch 42/100\n",
      "1238/1238 [==============================] - 1s 1ms/step - loss: 3.4614e-05 - val_loss: 2.4053e-05\n",
      "Epoch 43/100\n",
      "1238/1238 [==============================] - 1s 915us/step - loss: 3.0663e-05 - val_loss: 3.1684e-05\n",
      "Epoch 44/100\n",
      "1238/1238 [==============================] - 1s 908us/step - loss: 3.0789e-05 - val_loss: 4.7713e-05\n",
      "Epoch 45/100\n",
      "1238/1238 [==============================] - 1s 1ms/step - loss: 3.0114e-05 - val_loss: 3.2539e-05\n",
      "Epoch 46/100\n",
      "1238/1238 [==============================] - 1s 1ms/step - loss: 2.8780e-05 - val_loss: 2.3001e-05\n",
      "Epoch 47/100\n",
      "1238/1238 [==============================] - 1s 914us/step - loss: 2.7821e-05 - val_loss: 2.3877e-05\n",
      "Epoch 48/100\n",
      "1238/1238 [==============================] - 1s 1ms/step - loss: 2.7815e-05 - val_loss: 2.4846e-05\n",
      "Epoch 49/100\n",
      "1238/1238 [==============================] - 1s 946us/step - loss: 2.8161e-05 - val_loss: 2.5965e-05\n",
      "Epoch 50/100\n",
      "1238/1238 [==============================] - 1s 957us/step - loss: 2.7731e-05 - val_loss: 3.4547e-05\n",
      "Epoch 51/100\n",
      "1238/1238 [==============================] - 1s 931us/step - loss: 2.5687e-05 - val_loss: 2.1101e-05\n",
      "Epoch 52/100\n",
      "1238/1238 [==============================] - 1s 1ms/step - loss: 2.7376e-05 - val_loss: 2.1225e-05\n",
      "Epoch 53/100\n",
      "1238/1238 [==============================] - 1s 1ms/step - loss: 2.5724e-05 - val_loss: 2.1283e-05\n",
      "Epoch 54/100\n",
      "1238/1238 [==============================] - 1s 993us/step - loss: 2.6883e-05 - val_loss: 3.3010e-05\n",
      "Epoch 55/100\n",
      "1238/1238 [==============================] - 1s 1ms/step - loss: 2.7364e-05 - val_loss: 2.3359e-05\n",
      "Epoch 56/100\n",
      "1238/1238 [==============================] - 1s 1ms/step - loss: 2.7124e-05 - val_loss: 5.1398e-05\n",
      "Epoch 57/100\n",
      "1238/1238 [==============================] - 1s 981us/step - loss: 2.6835e-05 - val_loss: 3.7797e-05\n",
      "Epoch 58/100\n",
      "1238/1238 [==============================] - 1s 979us/step - loss: 2.5466e-05 - val_loss: 2.0150e-05\n",
      "Epoch 59/100\n",
      "1238/1238 [==============================] - 1s 1ms/step - loss: 2.5070e-05 - val_loss: 2.2013e-05\n",
      "Epoch 60/100\n",
      "1238/1238 [==============================] - 1s 1ms/step - loss: 2.5091e-05 - val_loss: 2.3660e-05\n",
      "Epoch 61/100\n",
      "1238/1238 [==============================] - 1s 1ms/step - loss: 2.7666e-05 - val_loss: 1.8416e-05\n",
      "Epoch 62/100\n",
      "1238/1238 [==============================] - 1s 1ms/step - loss: 2.4393e-05 - val_loss: 2.4206e-05\n",
      "Epoch 63/100\n",
      "1238/1238 [==============================] - 1s 929us/step - loss: 2.4270e-05 - val_loss: 2.7608e-05\n",
      "Epoch 64/100\n",
      "1238/1238 [==============================] - 1s 1ms/step - loss: 2.4189e-05 - val_loss: 1.7484e-05\n",
      "Epoch 65/100\n",
      "1238/1238 [==============================] - 1s 1ms/step - loss: 2.3997e-05 - val_loss: 6.0867e-05\n",
      "Epoch 66/100\n",
      "1238/1238 [==============================] - 1s 1ms/step - loss: 2.3734e-05 - val_loss: 2.1175e-05\n",
      "Epoch 67/100\n",
      "1238/1238 [==============================] - 1s 998us/step - loss: 2.4270e-05 - val_loss: 1.6502e-05\n",
      "Epoch 68/100\n",
      "1238/1238 [==============================] - 1s 1ms/step - loss: 2.2779e-05 - val_loss: 3.0909e-05\n",
      "Epoch 69/100\n",
      "1238/1238 [==============================] - 1s 1ms/step - loss: 2.2461e-05 - val_loss: 1.5443e-05\n",
      "Epoch 70/100\n",
      "1238/1238 [==============================] - 1s 1ms/step - loss: 2.3579e-05 - val_loss: 1.5541e-05\n",
      "Epoch 71/100\n",
      "1238/1238 [==============================] - 1s 1ms/step - loss: 2.2586e-05 - val_loss: 3.2577e-05\n",
      "Epoch 72/100\n",
      "1238/1238 [==============================] - 1s 1ms/step - loss: 2.1944e-05 - val_loss: 2.5110e-05\n",
      "Epoch 73/100\n",
      "1238/1238 [==============================] - 1s 1ms/step - loss: 2.2708e-05 - val_loss: 2.0815e-05\n"
     ]
    },
    {
     "name": "stdout",
     "output_type": "stream",
     "text": [
      "Epoch 74/100\n",
      "1238/1238 [==============================] - 1s 1ms/step - loss: 2.1287e-05 - val_loss: 1.8847e-05\n",
      "Epoch 75/100\n",
      "1238/1238 [==============================] - 1s 1ms/step - loss: 2.2004e-05 - val_loss: 1.4179e-05\n",
      "Epoch 76/100\n",
      "1238/1238 [==============================] - 1s 1ms/step - loss: 2.1908e-05 - val_loss: 2.4253e-05\n",
      "Epoch 77/100\n",
      "1238/1238 [==============================] - 1s 1ms/step - loss: 2.1359e-05 - val_loss: 1.4610e-05\n",
      "Epoch 78/100\n",
      "1238/1238 [==============================] - 1s 1ms/step - loss: 2.1378e-05 - val_loss: 2.2016e-05\n",
      "Epoch 79/100\n",
      "1238/1238 [==============================] - 1s 1ms/step - loss: 2.1064e-05 - val_loss: 1.7357e-05\n",
      "Epoch 80/100\n",
      "1238/1238 [==============================] - 1s 1ms/step - loss: 2.1587e-05 - val_loss: 1.7298e-05\n",
      "Epoch 81/100\n",
      "1238/1238 [==============================] - 1s 1ms/step - loss: 2.0845e-05 - val_loss: 2.9318e-05\n",
      "Epoch 82/100\n",
      "1238/1238 [==============================] - 1s 999us/step - loss: 2.0801e-05 - val_loss: 2.0937e-05\n",
      "Epoch 83/100\n",
      "1238/1238 [==============================] - 1s 1ms/step - loss: 2.1120e-05 - val_loss: 3.9118e-05\n",
      "Epoch 84/100\n",
      "1238/1238 [==============================] - 1s 1ms/step - loss: 2.1092e-05 - val_loss: 2.0370e-05\n",
      "Epoch 85/100\n",
      "1238/1238 [==============================] - 1s 1ms/step - loss: 2.0339e-05 - val_loss: 2.9577e-05\n"
     ]
    }
   ],
   "source": [
    "def NN(X_train, y_train):\n",
    "    #create model\n",
    "    model = Sequential()\n",
    "\n",
    "    #get number of columns in training data\n",
    "    n_cols = X_train.shape[1]\n",
    "\n",
    "    #add model layers\n",
    "    model.add(Dense(10, activation='relu', input_shape=(n_cols,)))\n",
    "    model.add(Dense(10, activation='relu'))\n",
    "    model.add(Dense(10, activation='relu'))\n",
    "    model.add(Dense(1, activation='relu'))\n",
    "\n",
    "    model.compile(optimizer='adam', loss='mse')\n",
    "    early_stopping_monitor = EarlyStopping(patience=10)\n",
    "\n",
    "    history = model.fit(X_train, y_train, validation_split=0.2, epochs=100, callbacks=[early_stopping_monitor])\n",
    "\n",
    "    return history, model\n",
    "\n",
    "history, model = NN(d1_le1[:,:-1], d1_le1[:,-1])\n",
    "model.save(\"results/d2/models/g/no_boost/le_nn.h5\")"
   ]
  },
  {
   "cell_type": "markdown",
   "id": "f4165668",
   "metadata": {},
   "source": [
    "## Boosting"
   ]
  },
  {
   "cell_type": "code",
   "execution_count": 16,
   "id": "21e0321c",
   "metadata": {},
   "outputs": [],
   "source": [
    "def poly_svm_boost(train_data, M_train_data, data_type):\n",
    "    degrees = [1,2,3,4]\n",
    "    times = []\n",
    "    M_regs = []\n",
    "    g_regs = []\n",
    "    for degree in degrees:\n",
    "        t0 = time.time()\n",
    "        reg = SVR(kernel=\"poly\", degree = degree)\n",
    "        reg.fit(M_train_data[:,:-1], M_train_data[:,-1])\n",
    "        M = reg.predict(train_data[:,:2])\n",
    "        train_data[:,-1] = train_data[:,-1]/M\n",
    "        reg_g = SVR(kernel=\"poly\", degree = degree)\n",
    "        if data_type == 'le':\n",
    "            reg_g.fit(train_data[:,1:-1], train_data[:,-1])\n",
    "        elif data_type == 'g':\n",
    "            reg_g.fit(train_data[:,:-1], train_data[:,-1])\n",
    "        else:\n",
    "            raise Exception(\"Invalid data type\")\n",
    "        t1 = time.time()\n",
    "        times.append(t1-t0)\n",
    "        M_regs.append(reg)\n",
    "        g_regs.append(reg_g)\n",
    "        print(\"Done degree {}\".format(degree))\n",
    "    \n",
    "    return times, M_regs, g_regs"
   ]
  },
  {
   "cell_type": "code",
   "execution_count": 17,
   "id": "5bd1d0a8",
   "metadata": {},
   "outputs": [
    {
     "name": "stdout",
     "output_type": "stream",
     "text": [
      "Done degree 1\n",
      "Done degree 2\n",
      "Done degree 3\n",
      "Done degree 4\n"
     ]
    }
   ],
   "source": [
    "data = []\n",
    "for row in d1_le1:\n",
    "    if (row[2] > 1.5 and row[2] < 1.65):\n",
    "        data.append(np.delete(row, 2))\n",
    "M_data = np.array(data)\n",
    "\n",
    "# Poly SVM\n",
    "times, M_regs, g_regs = poly_svm_boost(d1_le1, M_data, \"g\")\n",
    "\n",
    "# saving models\n",
    "for i in range(4):\n",
    "    dump(M_regs[i], 'results/d2/models/g/boost/g_M_poly_degree_{}.joblib'.format(i))\n",
    "    dump(g_regs[i], 'results/d2/models/g/boost/g_g_poly_degree_{}.joblib'.format(i))\n",
    "\n",
    "np.save(\"results/d2/times/g/boost/d2_times.npy\", times)"
   ]
  },
  {
   "cell_type": "code",
   "execution_count": 18,
   "id": "2420add3",
   "metadata": {},
   "outputs": [],
   "source": [
    "def rbf_svm_boost(train_data, M_train_data, data_type):\n",
    "    t0 = time.time()\n",
    "    reg = SVR(kernel=\"rbf\")\n",
    "    reg.fit(M_train_data[:,:-1], M_train_data[:,-1])\n",
    "    M = reg.predict(train_data[:,:2])\n",
    "    train_data[:,-1] = train_data[:,-1]/M\n",
    "    reg_g = SVR(kernel=\"rbf\")\n",
    "    if data_type == 'le':\n",
    "        reg_g.fit(train_data[:,1:-1], train_data[:,-1])\n",
    "    elif data_type == 'g':\n",
    "        reg_g.fit(train_data[:,:-1], train_data[:,-1])\n",
    "    else:\n",
    "        raise Exception(\"Invalid data type\")\n",
    "    t1 = time.time()\n",
    "    return t1-t0, reg, reg_g"
   ]
  },
  {
   "cell_type": "code",
   "execution_count": 19,
   "id": "637760f4",
   "metadata": {},
   "outputs": [],
   "source": [
    "times, M_regs, g_regs = rbf_svm_boost(d1_le1, M_data, \"g\")\n",
    "\n",
    "# saving models\n",
    "dump(M_regs, 'results/d2/models/g/boost/g_M_rbf.joblib')\n",
    "dump(g_regs, 'results/d2/models/g/boost/g_g_rbf.joblib')\n",
    "np.save(\"results/d2/times/g/boost/d2_times_rbf.npy\", times)"
   ]
  },
  {
   "cell_type": "markdown",
   "id": "46daa528",
   "metadata": {},
   "source": [
    "# Results"
   ]
  },
  {
   "cell_type": "markdown",
   "id": "4b0d3284",
   "metadata": {},
   "source": [
    "## $0 \\le \\frac{a}{c} \\le 2$"
   ]
  },
  {
   "cell_type": "code",
   "execution_count": 2,
   "id": "c58ec07a",
   "metadata": {},
   "outputs": [],
   "source": [
    "# Loading test dataset\n",
    "df = pd.read_csv(\"../data/3_datasets_new/test/2_RN_eqn_TEST.csv\")\n",
    "df.drop([\"c/b\", \"F\"], axis=1, inplace=True)\n",
    "d_test = df.to_numpy()\n",
    "\n",
    "# Testing\n",
    "MSE = []\n",
    "for i in range(1, 5):\n",
    "    reg = load('results/d2/models/all/d2_poly_degree_{}.joblib'.format(i))\n",
    "    results = reg.predict(d_test[:,:-1])\n",
    "    mse = np.sum((results - d_test[:,-1])**2)/len(d_test)\n",
    "    MSE.append(mse)\n",
    "    \n",
    "reg = load('results/d2/models/all/d2_rbf.joblib')\n",
    "results = reg.predict(d_test[:,:-1])\n",
    "mse = np.sum((results - d_test[:,-1])**2)/len(d_test)\n",
    "MSE.append(mse)"
   ]
  },
  {
   "cell_type": "markdown",
   "id": "abfcb9d4",
   "metadata": {},
   "source": [
    "## $ \\frac{a}{c} \\le 1$"
   ]
  },
  {
   "cell_type": "markdown",
   "id": "612e4647",
   "metadata": {},
   "source": [
    "### No Boost"
   ]
  },
  {
   "cell_type": "code",
   "execution_count": 3,
   "id": "7189bcd2",
   "metadata": {},
   "outputs": [],
   "source": [
    "d_test = np.load(\"Test_2/data/test/d2_test_le.npy\")\n",
    "\n",
    "# Testing\n",
    "MSE_le_nb = []\n",
    "for i in range(1, 5):\n",
    "    reg = load('results/d2/models/le/no_boost/le_poly_degree_{}.joblib'.format(i))\n",
    "    results = reg.predict(d_test[:,:-1])\n",
    "    mse = np.sum((results - d_test[:,-1])**2)/len(d_test)\n",
    "    MSE_le_nb.append(mse)\n",
    "    \n",
    "reg = load('results/d2/models/le/no_boost/le_rbf.joblib')\n",
    "results = reg.predict(d_test[:,:-1])\n",
    "mse = np.sum((results - d_test[:,-1])**2)/len(d_test)\n",
    "MSE_le_nb.append(mse)"
   ]
  },
  {
   "cell_type": "markdown",
   "id": "fa9893b2",
   "metadata": {},
   "source": [
    "### Boost"
   ]
  },
  {
   "cell_type": "code",
   "execution_count": 4,
   "id": "93d6eefe",
   "metadata": {},
   "outputs": [],
   "source": [
    "# Testing\n",
    "MSE_le_b = []\n",
    "for i in range(4):\n",
    "    reg = load('results/d2/models/le/boost/le_M_poly_degree_{}.joblib'.format(i))\n",
    "    M = reg.predict(d_test[:,:2])\n",
    "    reg = load('results/d2/models/le/boost/le_g_poly_degree_{}.joblib'.format(i))\n",
    "    g = reg.predict(d_test[:,1:-1])\n",
    "    results = M*g\n",
    "    mse = np.sum((results - d_test[:,-1])**2)/len(d_test)\n",
    "    MSE_le_b.append(mse)\n",
    "    \n",
    "reg = load('results/d2/models/le/boost/le_M_rbf.joblib')\n",
    "M = reg.predict(d_test[:,:2])\n",
    "reg = load('results/d2/models/le/boost/le_g_rbf.joblib')\n",
    "g = reg.predict(d_test[:,1:-1])\n",
    "results = M*g\n",
    "mse = np.sum((results - d_test[:,-1])**2)/len(d_test)\n",
    "MSE_le_b.append(mse)    "
   ]
  },
  {
   "cell_type": "markdown",
   "id": "5fc0d21e",
   "metadata": {},
   "source": [
    "## $ \\frac{a}{c} > 1$"
   ]
  },
  {
   "cell_type": "markdown",
   "id": "1cf0815c",
   "metadata": {},
   "source": [
    "### No Boost"
   ]
  },
  {
   "cell_type": "code",
   "execution_count": 5,
   "id": "ec044e9e",
   "metadata": {},
   "outputs": [],
   "source": [
    "d_test = np.load(\"Test_2/data/test/d2_test_g.npy\")\n",
    "\n",
    "# Testing\n",
    "MSE_g_nb = []\n",
    "for i in range(1, 5):\n",
    "    reg = load('results/d2/models/g/no_boost/g_poly_degree_{}.joblib'.format(i))\n",
    "    results = reg.predict(d_test[:,:-1])\n",
    "    mse = np.sum((results - d_test[:,-1])**2)/len(d_test)\n",
    "    MSE_g_nb.append(mse)\n",
    "    \n",
    "reg = load('results/d2/models/g/no_boost/g_rbf.joblib')\n",
    "results = reg.predict(d_test[:,:-1])\n",
    "mse = np.sum((results - d_test[:,-1])**2)/len(d_test)\n",
    "MSE_g_nb.append(mse)"
   ]
  },
  {
   "cell_type": "markdown",
   "id": "3df50cc1",
   "metadata": {},
   "source": [
    "### Boost"
   ]
  },
  {
   "cell_type": "code",
   "execution_count": 6,
   "id": "29aa7531",
   "metadata": {},
   "outputs": [],
   "source": [
    "# Testing\n",
    "MSE_g_b = []\n",
    "for i in range(4):\n",
    "    reg = load('results/d2/models/g/boost/g_M_poly_degree_{}.joblib'.format(i))\n",
    "    M = reg.predict(d_test[:,:2])\n",
    "    reg = load('results/d2/models/g/boost/g_g_poly_degree_{}.joblib'.format(i))\n",
    "    g = reg.predict(d_test[:,:-1])\n",
    "    results = M*g\n",
    "    mse = np.sum((results - d_test[:,-1])**2)/len(d_test)\n",
    "    MSE_g_b.append(mse)\n",
    "    \n",
    "reg = load('results/d2/models/g/boost/g_M_rbf.joblib')\n",
    "M = reg.predict(d_test[:,:2])\n",
    "reg = load('results/d2/models/g/boost/g_g_rbf.joblib')\n",
    "g = reg.predict(d_test[:,:-1])\n",
    "results = M*g\n",
    "mse = np.sum((results - d_test[:,-1])**2)/len(d_test)\n",
    "MSE_g_b.append(mse)    "
   ]
  },
  {
   "cell_type": "markdown",
   "id": "1b897802",
   "metadata": {},
   "source": [
    "## Plot"
   ]
  },
  {
   "cell_type": "code",
   "execution_count": 35,
   "id": "6bdd26e8",
   "metadata": {},
   "outputs": [
    {
     "data": {
      "text/plain": [
       "<matplotlib.legend.Legend at 0x7f2401b2d280>"
      ]
     },
     "execution_count": 35,
     "metadata": {},
     "output_type": "execute_result"
    },
    {
     "data": {
      "image/png": "[encoded data removed]",
      "text/plain": [
       "<Figure size 432x288 with 1 Axes>"
      ]
     },
     "metadata": {
      "needs_background": "light"
     },
     "output_type": "display_data"
    }
   ],
   "source": [
    "algos = [\"Poly 1\", \"Poly 2\", \"Poly 3\", \"Poly 4\", \"RBF\"]\n",
    "plt.plot(algos, MSE, label=\"All points\")\n",
    "plt.ylabel(\"MSE\")\n",
    "plt.legend()"
   ]
  },
  {
   "cell_type": "code",
   "execution_count": 36,
   "id": "f571e63e",
   "metadata": {},
   "outputs": [
    {
     "data": {
      "text/plain": [
       "<matplotlib.legend.Legend at 0x7f2401b02d90>"
      ]
     },
     "execution_count": 36,
     "metadata": {},
     "output_type": "execute_result"
    },
    {
     "data": {
      "image/png": "[encoded data removed]",
      "text/plain": [
       "<Figure size 432x288 with 1 Axes>"
      ]
     },
     "metadata": {
      "needs_background": "light"
     },
     "output_type": "display_data"
    }
   ],
   "source": [
    "algos = [\"Poly 1\", \"Poly 2\", \"Poly 3\", \"Poly 4\", \"RBF\"]\n",
    "plt.plot(algos, MSE, label=\"All points\")\n",
    "plt.plot(algos, MSE_le_nb, label=\"a/c<=1 & No Boosting\")\n",
    "plt.plot(algos, MSE_g_nb, label=\"a/c>1 & No Boosting\")\n",
    "plt.ylabel(\"MSE\")\n",
    "plt.legend()"
   ]
  },
  {
   "cell_type": "code",
   "execution_count": 37,
   "id": "d3f57d2a",
   "metadata": {},
   "outputs": [
    {
     "data": {
      "text/plain": [
       "<matplotlib.legend.Legend at 0x7f2401c853d0>"
      ]
     },
     "execution_count": 37,
     "metadata": {},
     "output_type": "execute_result"
    },
    {
     "data": {
      "image/png": "[encoded data removed]",
      "text/plain": [
       "<Figure size 432x288 with 1 Axes>"
      ]
     },
     "metadata": {
      "needs_background": "light"
     },
     "output_type": "display_data"
    }
   ],
   "source": [
    "algos = [\"Poly 1\", \"Poly 2\", \"Poly 3\", \"Poly 4\", \"RBF\"]\n",
    "plt.plot(algos, MSE, label=\"All points\")\n",
    "plt.plot(algos, MSE_le_b, label=\"a/c<=1 & Boosting\")\n",
    "plt.plot(algos, MSE_g_b, label=\"a/c>1 & Boosting\")\n",
    "plt.ylabel(\"MSE\")\n",
    "plt.semilogy()\n",
    "plt.legend()"
   ]
  },
  {
   "cell_type": "code",
   "execution_count": 7,
   "id": "4fa0907b",
   "metadata": {},
   "outputs": [
    {
     "data": {
      "text/plain": [
       "<matplotlib.legend.Legend at 0x7f3d96af2f40>"
      ]
     },
     "execution_count": 7,
     "metadata": {},
     "output_type": "execute_result"
    },
    {
     "data": {
      "image/png": "[encoded data removed]",
      "text/plain": [
       "<Figure size 432x288 with 1 Axes>"
      ]
     },
     "metadata": {
      "needs_background": "light"
     },
     "output_type": "display_data"
    }
   ],
   "source": [
    "algos = [\"Poly 1\", \"Poly 2\", \"Poly 3\", \"Poly 4\", \"RBF\"]\n",
    "plt.plot(algos, MSE_le_nb, label=\"a/c<=1 & No Boosting\")\n",
    "plt.plot(algos, MSE_g_nb, label=\"a/c>1 & No Boosting\")\n",
    "plt.plot(algos, MSE, label=\"All points\")\n",
    "plt.plot(algos, MSE_le_b, label=\"a/c<=1 & Boosting\")\n",
    "plt.plot(algos, MSE_g_b, label=\"a/c>1 & Boosting\")\n",
    "plt.ylabel(\"MSE\")\n",
    "plt.semilogy()\n",
    "plt.legend()"
   ]
  },
  {
   "cell_type": "code",
   "execution_count": null,
   "id": "970c1494",
   "metadata": {},
   "outputs": [],
   "source": []
  }
 ],
 "metadata": {
  "kernelspec": {
   "display_name": "Python 3 (ipykernel)",
   "language": "python",
   "name": "python3"
  },
  "language_info": {
   "codemirror_mode": {
    "name": "ipython",
    "version": 3
   },
   "file_extension": ".py",
   "mimetype": "text/x-python",
   "name": "python",
   "nbconvert_exporter": "python",
   "pygments_lexer": "ipython3",
   "version": "3.9.7"
  }
 },
 "nbformat": 4,
 "nbformat_minor": 5
}
