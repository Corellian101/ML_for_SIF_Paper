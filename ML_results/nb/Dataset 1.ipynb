{
 "cells": [
  {
   "cell_type": "markdown",
   "id": "89ccd292",
   "metadata": {},
   "source": [
    "# Imports"
   ]
  },
  {
   "cell_type": "code",
   "execution_count": 1,
   "id": "96fa50eb",
   "metadata": {},
   "outputs": [],
   "source": [
    "import numpy as np\n",
    "import matplotlib.pyplot as plt\n",
    "from sklearn.svm import SVR\n",
    "import pandas as pd\n",
    "import timeit\n",
    "import time\n",
    "import tensorflow as tf\n",
    "from joblib import dump, load\n",
    "from sklearn.svm import SVR\n",
    "from sklearn.preprocessing import StandardScaler\n",
    "from tensorflow.keras.models import Sequential\n",
    "from tensorflow.keras.layers import Dense\n",
    "from sklearn.model_selection import train_test_split\n",
    "from tensorflow.keras.callbacks import EarlyStopping"
   ]
  },
  {
   "cell_type": "markdown",
   "id": "aa9d574f",
   "metadata": {},
   "source": [
    "# $ \\frac{a}{c} \\le 1$"
   ]
  },
  {
   "cell_type": "markdown",
   "id": "b02eeff6",
   "metadata": {},
   "source": [
    "## No Boosting"
   ]
  },
  {
   "cell_type": "code",
   "execution_count": 2,
   "id": "6c481223",
   "metadata": {},
   "outputs": [
    {
     "data": {
      "text/plain": [
       "(360, 4)"
      ]
     },
     "execution_count": 2,
     "metadata": {},
     "output_type": "execute_result"
    }
   ],
   "source": [
    "d1_le1 = np.load(\"Test_2/data/1_RN_data_ac_le1.npy\")\n",
    "d1_le1.shape"
   ]
  },
  {
   "cell_type": "code",
   "execution_count": 11,
   "id": "62135433",
   "metadata": {},
   "outputs": [],
   "source": [
    "def poly_svm(train_data):\n",
    "    degrees = [1,2,3,4]\n",
    "    times = []\n",
    "    regs = []\n",
    "    for degree in degrees:\n",
    "        t0 = time.time()\n",
    "        reg = SVR(kernel=\"poly\", degree = degree)\n",
    "        reg.fit(train_data[:,:-1], train_data[:,-1])\n",
    "        t1 = time.time()\n",
    "        times.append(t1-t0)\n",
    "        regs.append(reg)\n",
    "        print(\"Done degree {}\".format(degree))\n",
    "    return times, regs"
   ]
  },
  {
   "cell_type": "code",
   "execution_count": 12,
   "id": "d50da7f9",
   "metadata": {},
   "outputs": [
    {
     "name": "stdout",
     "output_type": "stream",
     "text": [
      "Done degree 1\n",
      "Done degree 2\n",
      "Done degree 3\n",
      "Done degree 4\n"
     ]
    }
   ],
   "source": [
    "times, regs = poly_svm(d1_le1)\n",
    "\n",
    "# saving models\n",
    "i = 1\n",
    "for reg in regs:\n",
    "    dump(reg, 'results/d1/models/le/no_boost/le_poly_degree_{}.joblib'.format(i))\n",
    "    i += 1\n",
    "np.save(\"results/d1/times/le/no_boost/d1_times.npy\", times)"
   ]
  },
  {
   "cell_type": "code",
   "execution_count": 13,
   "id": "d168f492",
   "metadata": {},
   "outputs": [],
   "source": [
    "def rbf_svm(train_data):\n",
    "    t0 = time.time()\n",
    "    reg = SVR(kernel=\"rbf\")\n",
    "    reg.fit(train_data[:,:-1], train_data[:,-1])\n",
    "    t1 = time.time()\n",
    "    return t1-t0, reg"
   ]
  },
  {
   "cell_type": "code",
   "execution_count": 14,
   "id": "44369019",
   "metadata": {},
   "outputs": [],
   "source": [
    "times, regs = rbf_svm(d1_le1)\n",
    "\n",
    "# saving models\n",
    "dump(regs, 'results/d1/models/le/no_boost/le_rbf.joblib')\n",
    "np.save(\"results/d1/times/le/no_boost/d1_times_rbf.npy\", times)"
   ]
  },
  {
   "cell_type": "code",
   "execution_count": 3,
   "id": "90cbfc73",
   "metadata": {},
   "outputs": [],
   "source": [
    "def NN(X_train, y_train):\n",
    "    #create model\n",
    "    model = Sequential()\n",
    "\n",
    "    #get number of columns in training data\n",
    "    n_cols = X_train.shape[1]\n",
    "\n",
    "    #add model layers\n",
    "    model.add(Dense(10, activation='relu', input_shape=(n_cols,)))\n",
    "    model.add(Dense(10, activation='relu'))\n",
    "    model.add(Dense(10, activation='relu'))\n",
    "    model.add(Dense(1, activation='relu'))\n",
    "\n",
    "    model.compile(optimizer='adam', loss='mse')\n",
    "    early_stopping_monitor = EarlyStopping(patience=10)\n",
    "\n",
    "    history = model.fit(X_train, y_train, validation_split=0.2, epochs=100, callbacks=[early_stopping_monitor])\n",
    "\n",
    "    return history, model"
   ]
  },
  {
   "cell_type": "code",
   "execution_count": 4,
   "id": "ffd54962",
   "metadata": {},
   "outputs": [
    {
     "name": "stdout",
     "output_type": "stream",
     "text": [
      "Epoch 1/100\n"
     ]
    },
    {
     "name": "stderr",
     "output_type": "stream",
     "text": [
      "2022-02-20 09:41:28.415676: I tensorflow/stream_executor/cuda/cuda_gpu_executor.cc:936] successful NUMA node read from SysFS had negative value (-1), but there must be at least one NUMA node, so returning NUMA node zero\n",
      "2022-02-20 09:41:28.444166: W tensorflow/stream_executor/platform/default/dso_loader.cc:64] Could not load dynamic library 'libcudnn.so.8'; dlerror: libcudnn.so.8: cannot open shared object file: No such file or directory\n",
      "2022-02-20 09:41:28.444190: W tensorflow/core/common_runtime/gpu/gpu_device.cc:1850] Cannot dlopen some GPU libraries. Please make sure the missing libraries mentioned above are installed properly if you would like to use GPU. Follow the guide at https://www.tensorflow.org/install/gpu for how to download and setup the required libraries for your platform.\n",
      "Skipping registering GPU devices...\n",
      "2022-02-20 09:41:28.445067: I tensorflow/core/platform/cpu_feature_guard.cc:151] This TensorFlow binary is optimized with oneAPI Deep Neural Network Library (oneDNN) to use the following CPU instructions in performance-critical operations:  AVX2 FMA\n",
      "To enable them in other operations, rebuild TensorFlow with the appropriate compiler flags.\n"
     ]
    },
    {
     "name": "stdout",
     "output_type": "stream",
     "text": [
      "9/9 [==============================] - 0s 14ms/step - loss: 0.8995 - val_loss: 0.6275\n",
      "Epoch 2/100\n",
      "9/9 [==============================] - 0s 3ms/step - loss: 0.6375 - val_loss: 0.4039\n",
      "Epoch 3/100\n",
      "9/9 [==============================] - 0s 3ms/step - loss: 0.4337 - val_loss: 0.2557\n",
      "Epoch 4/100\n",
      "9/9 [==============================] - 0s 4ms/step - loss: 0.3157 - val_loss: 0.1856\n",
      "Epoch 5/100\n",
      "9/9 [==============================] - 0s 4ms/step - loss: 0.2660 - val_loss: 0.1652\n",
      "Epoch 6/100\n",
      "9/9 [==============================] - 0s 4ms/step - loss: 0.2467 - val_loss: 0.1532\n",
      "Epoch 7/100\n",
      "9/9 [==============================] - 0s 3ms/step - loss: 0.2209 - val_loss: 0.1330\n",
      "Epoch 8/100\n",
      "9/9 [==============================] - 0s 4ms/step - loss: 0.1897 - val_loss: 0.1063\n",
      "Epoch 9/100\n",
      "9/9 [==============================] - 0s 4ms/step - loss: 0.1526 - val_loss: 0.0812\n",
      "Epoch 10/100\n",
      "9/9 [==============================] - 0s 3ms/step - loss: 0.1215 - val_loss: 0.0648\n",
      "Epoch 11/100\n",
      "9/9 [==============================] - 0s 3ms/step - loss: 0.1002 - val_loss: 0.0525\n",
      "Epoch 12/100\n",
      "9/9 [==============================] - 0s 3ms/step - loss: 0.0834 - val_loss: 0.0439\n",
      "Epoch 13/100\n",
      "9/9 [==============================] - 0s 3ms/step - loss: 0.0702 - val_loss: 0.0378\n",
      "Epoch 14/100\n",
      "9/9 [==============================] - 0s 3ms/step - loss: 0.0603 - val_loss: 0.0336\n",
      "Epoch 15/100\n",
      "9/9 [==============================] - 0s 3ms/step - loss: 0.0527 - val_loss: 0.0299\n",
      "Epoch 16/100\n",
      "9/9 [==============================] - 0s 3ms/step - loss: 0.0465 - val_loss: 0.0273\n",
      "Epoch 17/100\n",
      "9/9 [==============================] - 0s 3ms/step - loss: 0.0421 - val_loss: 0.0263\n",
      "Epoch 18/100\n",
      "9/9 [==============================] - 0s 3ms/step - loss: 0.0384 - val_loss: 0.0249\n",
      "Epoch 19/100\n",
      "9/9 [==============================] - 0s 3ms/step - loss: 0.0358 - val_loss: 0.0242\n",
      "Epoch 20/100\n",
      "9/9 [==============================] - 0s 3ms/step - loss: 0.0341 - val_loss: 0.0231\n",
      "Epoch 21/100\n",
      "9/9 [==============================] - 0s 3ms/step - loss: 0.0318 - val_loss: 0.0228\n",
      "Epoch 22/100\n",
      "9/9 [==============================] - 0s 3ms/step - loss: 0.0305 - val_loss: 0.0225\n",
      "Epoch 23/100\n",
      "9/9 [==============================] - 0s 3ms/step - loss: 0.0291 - val_loss: 0.0214\n",
      "Epoch 24/100\n",
      "9/9 [==============================] - 0s 3ms/step - loss: 0.0281 - val_loss: 0.0207\n",
      "Epoch 25/100\n",
      "9/9 [==============================] - 0s 3ms/step - loss: 0.0273 - val_loss: 0.0203\n",
      "Epoch 26/100\n",
      "9/9 [==============================] - 0s 3ms/step - loss: 0.0266 - val_loss: 0.0199\n",
      "Epoch 27/100\n",
      "9/9 [==============================] - 0s 3ms/step - loss: 0.0261 - val_loss: 0.0185\n",
      "Epoch 28/100\n",
      "9/9 [==============================] - 0s 3ms/step - loss: 0.0250 - val_loss: 0.0184\n",
      "Epoch 29/100\n",
      "9/9 [==============================] - 0s 3ms/step - loss: 0.0245 - val_loss: 0.0183\n",
      "Epoch 30/100\n",
      "9/9 [==============================] - 0s 3ms/step - loss: 0.0239 - val_loss: 0.0172\n",
      "Epoch 31/100\n",
      "9/9 [==============================] - 0s 3ms/step - loss: 0.0235 - val_loss: 0.0166\n",
      "Epoch 32/100\n",
      "9/9 [==============================] - 0s 3ms/step - loss: 0.0231 - val_loss: 0.0162\n",
      "Epoch 33/100\n",
      "9/9 [==============================] - 0s 3ms/step - loss: 0.0224 - val_loss: 0.0163\n",
      "Epoch 34/100\n",
      "9/9 [==============================] - 0s 3ms/step - loss: 0.0220 - val_loss: 0.0158\n",
      "Epoch 35/100\n",
      "9/9 [==============================] - 0s 3ms/step - loss: 0.0216 - val_loss: 0.0153\n",
      "Epoch 36/100\n",
      "9/9 [==============================] - 0s 3ms/step - loss: 0.0214 - val_loss: 0.0148\n",
      "Epoch 37/100\n",
      "9/9 [==============================] - 0s 4ms/step - loss: 0.0208 - val_loss: 0.0150\n",
      "Epoch 38/100\n",
      "9/9 [==============================] - 0s 3ms/step - loss: 0.0208 - val_loss: 0.0150\n",
      "Epoch 39/100\n",
      "9/9 [==============================] - 0s 3ms/step - loss: 0.0205 - val_loss: 0.0140\n",
      "Epoch 40/100\n",
      "9/9 [==============================] - 0s 3ms/step - loss: 0.0203 - val_loss: 0.0144\n",
      "Epoch 41/100\n",
      "9/9 [==============================] - 0s 5ms/step - loss: 0.0203 - val_loss: 0.0138\n",
      "Epoch 42/100\n",
      "9/9 [==============================] - 0s 3ms/step - loss: 0.0197 - val_loss: 0.0141\n",
      "Epoch 43/100\n",
      "9/9 [==============================] - 0s 3ms/step - loss: 0.0199 - val_loss: 0.0144\n",
      "Epoch 44/100\n",
      "9/9 [==============================] - 0s 3ms/step - loss: 0.0196 - val_loss: 0.0133\n",
      "Epoch 45/100\n",
      "9/9 [==============================] - 0s 3ms/step - loss: 0.0193 - val_loss: 0.0136\n",
      "Epoch 46/100\n",
      "9/9 [==============================] - 0s 3ms/step - loss: 0.0191 - val_loss: 0.0136\n",
      "Epoch 47/100\n",
      "9/9 [==============================] - 0s 4ms/step - loss: 0.0188 - val_loss: 0.0132\n",
      "Epoch 48/100\n",
      "9/9 [==============================] - 0s 3ms/step - loss: 0.0187 - val_loss: 0.0133\n",
      "Epoch 49/100\n",
      "9/9 [==============================] - 0s 3ms/step - loss: 0.0186 - val_loss: 0.0129\n",
      "Epoch 50/100\n",
      "9/9 [==============================] - 0s 3ms/step - loss: 0.0186 - val_loss: 0.0134\n",
      "Epoch 51/100\n",
      "9/9 [==============================] - 0s 3ms/step - loss: 0.0183 - val_loss: 0.0127\n",
      "Epoch 52/100\n",
      "9/9 [==============================] - 0s 3ms/step - loss: 0.0183 - val_loss: 0.0130\n",
      "Epoch 53/100\n",
      "9/9 [==============================] - 0s 3ms/step - loss: 0.0180 - val_loss: 0.0128\n",
      "Epoch 54/100\n",
      "9/9 [==============================] - 0s 3ms/step - loss: 0.0179 - val_loss: 0.0128\n",
      "Epoch 55/100\n",
      "9/9 [==============================] - 0s 3ms/step - loss: 0.0179 - val_loss: 0.0128\n",
      "Epoch 56/100\n",
      "9/9 [==============================] - 0s 3ms/step - loss: 0.0178 - val_loss: 0.0124\n",
      "Epoch 57/100\n",
      "9/9 [==============================] - 0s 3ms/step - loss: 0.0177 - val_loss: 0.0125\n",
      "Epoch 58/100\n",
      "9/9 [==============================] - 0s 3ms/step - loss: 0.0177 - val_loss: 0.0121\n",
      "Epoch 59/100\n",
      "9/9 [==============================] - 0s 3ms/step - loss: 0.0174 - val_loss: 0.0123\n",
      "Epoch 60/100\n",
      "9/9 [==============================] - 0s 5ms/step - loss: 0.0174 - val_loss: 0.0126\n",
      "Epoch 61/100\n",
      "9/9 [==============================] - 0s 6ms/step - loss: 0.0175 - val_loss: 0.0120\n",
      "Epoch 62/100\n",
      "9/9 [==============================] - 0s 5ms/step - loss: 0.0172 - val_loss: 0.0123\n",
      "Epoch 63/100\n",
      "9/9 [==============================] - 0s 6ms/step - loss: 0.0171 - val_loss: 0.0123\n",
      "Epoch 64/100\n",
      "9/9 [==============================] - 0s 5ms/step - loss: 0.0173 - val_loss: 0.0118\n",
      "Epoch 65/100\n",
      "9/9 [==============================] - 0s 5ms/step - loss: 0.0173 - val_loss: 0.0124\n",
      "Epoch 66/100\n",
      "9/9 [==============================] - 0s 5ms/step - loss: 0.0171 - val_loss: 0.0119\n",
      "Epoch 67/100\n",
      "9/9 [==============================] - 0s 4ms/step - loss: 0.0168 - val_loss: 0.0121\n",
      "Epoch 68/100\n",
      "9/9 [==============================] - 0s 3ms/step - loss: 0.0170 - val_loss: 0.0116\n",
      "Epoch 69/100\n",
      "9/9 [==============================] - 0s 3ms/step - loss: 0.0168 - val_loss: 0.0122\n",
      "Epoch 70/100\n",
      "9/9 [==============================] - 0s 3ms/step - loss: 0.0169 - val_loss: 0.0114\n",
      "Epoch 71/100\n",
      "9/9 [==============================] - 0s 3ms/step - loss: 0.0166 - val_loss: 0.0127\n",
      "Epoch 72/100\n",
      "9/9 [==============================] - 0s 3ms/step - loss: 0.0166 - val_loss: 0.0118\n",
      "Epoch 73/100\n",
      "9/9 [==============================] - 0s 3ms/step - loss: 0.0171 - val_loss: 0.0113\n",
      "Epoch 74/100\n",
      "9/9 [==============================] - 0s 3ms/step - loss: 0.0162 - val_loss: 0.0121\n",
      "Epoch 75/100\n",
      "9/9 [==============================] - 0s 3ms/step - loss: 0.0168 - val_loss: 0.0118\n",
      "Epoch 76/100\n",
      "9/9 [==============================] - 0s 3ms/step - loss: 0.0170 - val_loss: 0.0110\n",
      "Epoch 77/100\n",
      "9/9 [==============================] - 0s 3ms/step - loss: 0.0166 - val_loss: 0.0131\n",
      "Epoch 78/100\n",
      "9/9 [==============================] - 0s 4ms/step - loss: 0.0164 - val_loss: 0.0110\n",
      "Epoch 79/100\n",
      "9/9 [==============================] - 0s 3ms/step - loss: 0.0162 - val_loss: 0.0116\n",
      "Epoch 80/100\n",
      "9/9 [==============================] - 0s 3ms/step - loss: 0.0162 - val_loss: 0.0117\n",
      "Epoch 81/100\n",
      "9/9 [==============================] - 0s 3ms/step - loss: 0.0158 - val_loss: 0.0109\n",
      "Epoch 82/100\n",
      "9/9 [==============================] - 0s 3ms/step - loss: 0.0159 - val_loss: 0.0113\n",
      "Epoch 83/100\n",
      "9/9 [==============================] - 0s 3ms/step - loss: 0.0158 - val_loss: 0.0114\n",
      "Epoch 84/100\n",
      "9/9 [==============================] - 0s 3ms/step - loss: 0.0157 - val_loss: 0.0115\n"
     ]
    },
    {
     "name": "stdout",
     "output_type": "stream",
     "text": [
      "Epoch 85/100\n",
      "9/9 [==============================] - 0s 3ms/step - loss: 0.0155 - val_loss: 0.0110\n",
      "Epoch 86/100\n",
      "9/9 [==============================] - 0s 3ms/step - loss: 0.0154 - val_loss: 0.0114\n",
      "Epoch 87/100\n",
      "9/9 [==============================] - 0s 3ms/step - loss: 0.0154 - val_loss: 0.0107\n",
      "Epoch 88/100\n",
      "9/9 [==============================] - 0s 3ms/step - loss: 0.0153 - val_loss: 0.0116\n",
      "Epoch 89/100\n",
      "9/9 [==============================] - 0s 3ms/step - loss: 0.0151 - val_loss: 0.0112\n",
      "Epoch 90/100\n",
      "9/9 [==============================] - 0s 3ms/step - loss: 0.0152 - val_loss: 0.0111\n",
      "Epoch 91/100\n",
      "9/9 [==============================] - 0s 3ms/step - loss: 0.0150 - val_loss: 0.0112\n",
      "Epoch 92/100\n",
      "9/9 [==============================] - 0s 3ms/step - loss: 0.0149 - val_loss: 0.0111\n",
      "Epoch 93/100\n",
      "9/9 [==============================] - 0s 3ms/step - loss: 0.0149 - val_loss: 0.0108\n",
      "Epoch 94/100\n",
      "9/9 [==============================] - 0s 3ms/step - loss: 0.0149 - val_loss: 0.0109\n",
      "Epoch 95/100\n",
      "9/9 [==============================] - 0s 3ms/step - loss: 0.0148 - val_loss: 0.0110\n",
      "Epoch 96/100\n",
      "9/9 [==============================] - 0s 3ms/step - loss: 0.0147 - val_loss: 0.0108\n",
      "Epoch 97/100\n",
      "9/9 [==============================] - 0s 3ms/step - loss: 0.0148 - val_loss: 0.0111\n"
     ]
    }
   ],
   "source": [
    "history, model = NN(d1_le1[:,:-1], d1_le1[:,-1])\n",
    "model.save(\"results/d1/models/le/no_boost/le_nn.h5\")"
   ]
  },
  {
   "cell_type": "markdown",
   "id": "16f7eb91",
   "metadata": {},
   "source": [
    "## Boosting"
   ]
  },
  {
   "cell_type": "code",
   "execution_count": 15,
   "id": "50a668f7",
   "metadata": {},
   "outputs": [],
   "source": [
    "def poly_svm_boost(train_data, M_train_data, data_type):\n",
    "    degrees = [1,2,3,4]\n",
    "    times = []\n",
    "    M_regs = []\n",
    "    g_regs = []\n",
    "    for degree in degrees:\n",
    "        t0 = time.time()\n",
    "        reg = SVR(kernel=\"poly\", degree = degree)\n",
    "        reg.fit(M_train_data[:,:-1], M_train_data[:,-1])\n",
    "        M = reg.predict(train_data[:,:2])\n",
    "        train_data[:,-1] = train_data[:,-1]/M\n",
    "        reg_g = SVR(kernel=\"poly\", degree = degree)\n",
    "        if data_type == 'le':\n",
    "            reg_g.fit(train_data[:,1:-1], train_data[:,-1])\n",
    "        elif data_type == 'g':\n",
    "            reg_g.fit(train_data[:,:-1], train_data[:,-1])\n",
    "        else:\n",
    "            raise Exception(\"Invalid data type\")\n",
    "        t1 = time.time()\n",
    "        times.append(t1-t0)\n",
    "        M_regs.append(reg)\n",
    "        g_regs.append(reg_g)\n",
    "        print(\"Done degree {}\".format(degree))\n",
    "    \n",
    "    return times, M_regs, g_regs"
   ]
  },
  {
   "cell_type": "code",
   "execution_count": 6,
   "id": "8b5b932e",
   "metadata": {},
   "outputs": [],
   "source": [
    "data = []\n",
    "for row in d1_le1:\n",
    "    if (row[2] > 1.5 and row[2] < 1.65):\n",
    "        data.append(np.delete(row, 2))\n",
    "M_data = np.array(data)"
   ]
  },
  {
   "cell_type": "code",
   "execution_count": 16,
   "id": "85c88884",
   "metadata": {},
   "outputs": [
    {
     "name": "stdout",
     "output_type": "stream",
     "text": [
      "Done degree 1\n",
      "Done degree 2\n",
      "Done degree 3\n",
      "Done degree 4\n"
     ]
    }
   ],
   "source": [
    "data = []\n",
    "for row in d1_le1:\n",
    "    if (row[2] > 1.5 and row[2] < 1.65):\n",
    "        data.append(np.delete(row, 2))\n",
    "M_data = np.array(data)\n",
    "\n",
    "# Poly SVM\n",
    "times, M_regs, g_regs = poly_svm_boost(d1_le1, M_data, \"le\")\n",
    "\n",
    "# saving models\n",
    "for i in range(4):\n",
    "    dump(M_regs[i], 'results/d1/models/le/boost/le_M_poly_degree_{}.joblib'.format(i))\n",
    "    dump(g_regs[i], 'results/d1/models/le/boost/le_g_poly_degree_{}.joblib'.format(i))\n",
    "\n",
    "np.save(\"results/d1/times/le/boost/d1_times.npy\", times)"
   ]
  },
  {
   "cell_type": "code",
   "execution_count": 17,
   "id": "810dcee5",
   "metadata": {},
   "outputs": [],
   "source": [
    "def rbf_svm_boost(train_data, M_train_data, data_type):\n",
    "    t0 = time.time()\n",
    "    reg = SVR(kernel=\"rbf\")\n",
    "    reg.fit(M_train_data[:,:-1], M_train_data[:,-1])\n",
    "    M = reg.predict(train_data[:,:2])\n",
    "    train_data[:,-1] = train_data[:,-1]/M\n",
    "    reg_g = SVR(kernel=\"rbf\")\n",
    "    if data_type == 'le':\n",
    "        reg_g.fit(train_data[:,1:-1], train_data[:,-1])\n",
    "    elif data_type == 'g':\n",
    "        reg_g.fit(train_data[:,:-1], train_data[:,-1])\n",
    "    else:\n",
    "        raise Exception(\"Invalid data type\")\n",
    "    t1 = time.time()\n",
    "    return t1-t0, reg, reg_g"
   ]
  },
  {
   "cell_type": "code",
   "execution_count": 18,
   "id": "e5f66d23",
   "metadata": {},
   "outputs": [],
   "source": [
    "times, M_regs, g_regs = rbf_svm_boost(d1_le1, M_data, \"le\")\n",
    "\n",
    "# saving models\n",
    "dump(M_regs, 'results/d1/models/le/boost/le_M_rbf.joblib')\n",
    "dump(g_regs, 'results/d1/models/le/boost/le_g_rbf.joblib')\n",
    "np.save(\"results/d1/times/le/boost/d1_times_rbf.npy\", times)"
   ]
  },
  {
   "cell_type": "code",
   "execution_count": 20,
   "id": "e813643e",
   "metadata": {},
   "outputs": [],
   "source": [
    "def nn_boost(train_data, M_train_data, data_type):\n",
    "    t0 = time.time()\n",
    "    _, reg = NN(M_train_data[:,:-1], M_train_data[:,-1])\n",
    "    M = reg.predict(train_data[:,:2])\n",
    "    train_data[:,-1] = train_data[:,-1]/np.squeeze(M, axis=-1)\n",
    "    if data_type == 'le':\n",
    "        _, reg_g = NN(train_data[:,1:-1], train_data[:,-1])\n",
    "    elif data_type == 'g':\n",
    "        _, reg_g = NN(train_data[:,:-1], train_data[:,-1])\n",
    "    else:\n",
    "        raise Exception(\"Invalid data type\")\n",
    "    t1 = time.time()\n",
    "    return t1-t0, reg, reg_g"
   ]
  },
  {
   "cell_type": "code",
   "execution_count": 21,
   "id": "7139c275",
   "metadata": {},
   "outputs": [
    {
     "name": "stdout",
     "output_type": "stream",
     "text": [
      "Epoch 1/100\n",
      "1/1 [==============================] - 0s 319ms/step - loss: 1.6784 - val_loss: 1.3169\n",
      "Epoch 2/100\n",
      "1/1 [==============================] - 0s 18ms/step - loss: 1.6682 - val_loss: 1.3039\n",
      "Epoch 3/100\n",
      "1/1 [==============================] - 0s 19ms/step - loss: 1.6548 - val_loss: 1.2909\n",
      "Epoch 4/100\n",
      "1/1 [==============================] - 0s 22ms/step - loss: 1.6419 - val_loss: 1.2779\n",
      "Epoch 5/100\n",
      "1/1 [==============================] - 0s 24ms/step - loss: 1.6289 - val_loss: 1.2651\n",
      "Epoch 6/100\n",
      "1/1 [==============================] - 0s 20ms/step - loss: 1.6152 - val_loss: 1.2526\n",
      "Epoch 7/100\n",
      "1/1 [==============================] - 0s 23ms/step - loss: 1.6016 - val_loss: 1.2401\n",
      "Epoch 8/100\n",
      "1/1 [==============================] - 0s 23ms/step - loss: 1.5878 - val_loss: 1.2277\n",
      "Epoch 9/100\n",
      "1/1 [==============================] - 0s 18ms/step - loss: 1.5738 - val_loss: 1.2153\n",
      "Epoch 10/100\n",
      "1/1 [==============================] - 0s 19ms/step - loss: 1.5596 - val_loss: 1.2029\n",
      "Epoch 11/100\n",
      "1/1 [==============================] - 0s 19ms/step - loss: 1.5451 - val_loss: 1.1904\n",
      "Epoch 12/100\n",
      "1/1 [==============================] - 0s 19ms/step - loss: 1.5306 - val_loss: 1.1776\n",
      "Epoch 13/100\n",
      "1/1 [==============================] - 0s 19ms/step - loss: 1.5161 - val_loss: 1.1648\n",
      "Epoch 14/100\n",
      "1/1 [==============================] - 0s 20ms/step - loss: 1.5016 - val_loss: 1.1519\n",
      "Epoch 15/100\n",
      "1/1 [==============================] - 0s 19ms/step - loss: 1.4870 - val_loss: 1.1390\n",
      "Epoch 16/100\n",
      "1/1 [==============================] - 0s 22ms/step - loss: 1.4725 - val_loss: 1.1262\n",
      "Epoch 17/100\n",
      "1/1 [==============================] - 0s 19ms/step - loss: 1.4579 - val_loss: 1.1133\n",
      "Epoch 18/100\n",
      "1/1 [==============================] - 0s 20ms/step - loss: 1.4433 - val_loss: 1.1004\n",
      "Epoch 19/100\n",
      "1/1 [==============================] - 0s 19ms/step - loss: 1.4285 - val_loss: 1.0875\n",
      "Epoch 20/100\n",
      "1/1 [==============================] - 0s 19ms/step - loss: 1.4139 - val_loss: 1.0745\n",
      "Epoch 21/100\n",
      "1/1 [==============================] - 0s 19ms/step - loss: 1.3992 - val_loss: 1.0612\n",
      "Epoch 22/100\n",
      "1/1 [==============================] - 0s 22ms/step - loss: 1.3844 - val_loss: 1.0480\n",
      "Epoch 23/100\n",
      "1/1 [==============================] - 0s 23ms/step - loss: 1.3694 - val_loss: 1.0347\n",
      "Epoch 24/100\n",
      "1/1 [==============================] - 0s 27ms/step - loss: 1.3544 - val_loss: 1.0209\n",
      "Epoch 25/100\n",
      "1/1 [==============================] - 0s 28ms/step - loss: 1.3393 - val_loss: 1.0066\n",
      "Epoch 26/100\n",
      "1/1 [==============================] - 0s 22ms/step - loss: 1.3239 - val_loss: 0.9922\n",
      "Epoch 27/100\n",
      "1/1 [==============================] - 0s 24ms/step - loss: 1.3085 - val_loss: 0.9776\n",
      "Epoch 28/100\n",
      "1/1 [==============================] - 0s 30ms/step - loss: 1.2928 - val_loss: 0.9629\n",
      "Epoch 29/100\n",
      "1/1 [==============================] - 0s 26ms/step - loss: 1.2771 - val_loss: 0.9481\n",
      "Epoch 30/100\n",
      "1/1 [==============================] - 0s 26ms/step - loss: 1.2613 - val_loss: 0.9331\n",
      "Epoch 31/100\n",
      "1/1 [==============================] - 0s 21ms/step - loss: 1.2453 - val_loss: 0.9180\n",
      "Epoch 32/100\n",
      "1/1 [==============================] - 0s 25ms/step - loss: 1.2291 - val_loss: 0.9028\n",
      "Epoch 33/100\n",
      "1/1 [==============================] - 0s 31ms/step - loss: 1.2128 - val_loss: 0.8874\n",
      "Epoch 34/100\n",
      "1/1 [==============================] - 0s 34ms/step - loss: 1.1964 - val_loss: 0.8720\n",
      "Epoch 35/100\n",
      "1/1 [==============================] - 0s 23ms/step - loss: 1.1798 - val_loss: 0.8564\n",
      "Epoch 36/100\n",
      "1/1 [==============================] - 0s 27ms/step - loss: 1.1631 - val_loss: 0.8407\n",
      "Epoch 37/100\n",
      "1/1 [==============================] - 0s 26ms/step - loss: 1.1462 - val_loss: 0.8249\n",
      "Epoch 38/100\n",
      "1/1 [==============================] - 0s 21ms/step - loss: 1.1293 - val_loss: 0.8091\n",
      "Epoch 39/100\n",
      "1/1 [==============================] - 0s 23ms/step - loss: 1.1123 - val_loss: 0.7931\n",
      "Epoch 40/100\n",
      "1/1 [==============================] - 0s 23ms/step - loss: 1.0951 - val_loss: 0.7771\n",
      "Epoch 41/100\n",
      "1/1 [==============================] - 0s 23ms/step - loss: 1.0778 - val_loss: 0.7610\n",
      "Epoch 42/100\n",
      "1/1 [==============================] - 0s 20ms/step - loss: 1.0604 - val_loss: 0.7448\n",
      "Epoch 43/100\n",
      "1/1 [==============================] - 0s 20ms/step - loss: 1.0428 - val_loss: 0.7285\n",
      "Epoch 44/100\n",
      "1/1 [==============================] - 0s 23ms/step - loss: 1.0252 - val_loss: 0.7122\n",
      "Epoch 45/100\n",
      "1/1 [==============================] - 0s 22ms/step - loss: 1.0075 - val_loss: 0.6958\n",
      "Epoch 46/100\n",
      "1/1 [==============================] - 0s 21ms/step - loss: 0.9897 - val_loss: 0.6793\n",
      "Epoch 47/100\n",
      "1/1 [==============================] - 0s 27ms/step - loss: 0.9719 - val_loss: 0.6629\n",
      "Epoch 48/100\n",
      "1/1 [==============================] - 0s 26ms/step - loss: 0.9539 - val_loss: 0.6463\n",
      "Epoch 49/100\n",
      "1/1 [==============================] - 0s 22ms/step - loss: 0.9360 - val_loss: 0.6297\n",
      "Epoch 50/100\n",
      "1/1 [==============================] - 0s 24ms/step - loss: 0.9179 - val_loss: 0.6131\n",
      "Epoch 51/100\n",
      "1/1 [==============================] - 0s 24ms/step - loss: 0.8998 - val_loss: 0.5965\n",
      "Epoch 52/100\n",
      "1/1 [==============================] - 0s 23ms/step - loss: 0.8817 - val_loss: 0.5799\n",
      "Epoch 53/100\n",
      "1/1 [==============================] - 0s 31ms/step - loss: 0.8635 - val_loss: 0.5633\n",
      "Epoch 54/100\n",
      "1/1 [==============================] - 0s 24ms/step - loss: 0.8454 - val_loss: 0.5468\n",
      "Epoch 55/100\n",
      "1/1 [==============================] - 0s 25ms/step - loss: 0.8272 - val_loss: 0.5302\n",
      "Epoch 56/100\n",
      "1/1 [==============================] - 0s 23ms/step - loss: 0.8090 - val_loss: 0.5138\n",
      "Epoch 57/100\n",
      "1/1 [==============================] - 0s 29ms/step - loss: 0.7908 - val_loss: 0.4973\n",
      "Epoch 58/100\n",
      "1/1 [==============================] - 0s 24ms/step - loss: 0.7726 - val_loss: 0.4810\n",
      "Epoch 59/100\n",
      "1/1 [==============================] - 0s 22ms/step - loss: 0.7544 - val_loss: 0.4648\n",
      "Epoch 60/100\n",
      "1/1 [==============================] - 0s 27ms/step - loss: 0.7362 - val_loss: 0.4486\n",
      "Epoch 61/100\n",
      "1/1 [==============================] - 0s 24ms/step - loss: 0.7181 - val_loss: 0.4326\n",
      "Epoch 62/100\n",
      "1/1 [==============================] - 0s 24ms/step - loss: 0.7000 - val_loss: 0.4167\n",
      "Epoch 63/100\n",
      "1/1 [==============================] - 0s 24ms/step - loss: 0.6820 - val_loss: 0.4010\n",
      "Epoch 64/100\n",
      "1/1 [==============================] - 0s 19ms/step - loss: 0.6641 - val_loss: 0.3854\n",
      "Epoch 65/100\n",
      "1/1 [==============================] - 0s 18ms/step - loss: 0.6463 - val_loss: 0.3700\n",
      "Epoch 66/100\n",
      "1/1 [==============================] - 0s 20ms/step - loss: 0.6287 - val_loss: 0.3549\n",
      "Epoch 67/100\n",
      "1/1 [==============================] - 0s 16ms/step - loss: 0.6112 - val_loss: 0.3400\n",
      "Epoch 68/100\n",
      "1/1 [==============================] - 0s 15ms/step - loss: 0.5938 - val_loss: 0.3253\n",
      "Epoch 69/100\n",
      "1/1 [==============================] - 0s 15ms/step - loss: 0.5766 - val_loss: 0.3108\n",
      "Epoch 70/100\n",
      "1/1 [==============================] - 0s 15ms/step - loss: 0.5596 - val_loss: 0.2967\n",
      "Epoch 71/100\n",
      "1/1 [==============================] - 0s 15ms/step - loss: 0.5428 - val_loss: 0.2829\n",
      "Epoch 72/100\n",
      "1/1 [==============================] - 0s 16ms/step - loss: 0.5262 - val_loss: 0.2694\n",
      "Epoch 73/100\n",
      "1/1 [==============================] - 0s 16ms/step - loss: 0.5099 - val_loss: 0.2562\n",
      "Epoch 74/100\n",
      "1/1 [==============================] - 0s 19ms/step - loss: 0.4937 - val_loss: 0.2434\n",
      "Epoch 75/100\n",
      "1/1 [==============================] - 0s 22ms/step - loss: 0.4778 - val_loss: 0.2309\n",
      "Epoch 76/100\n",
      "1/1 [==============================] - 0s 29ms/step - loss: 0.4621 - val_loss: 0.2188\n",
      "Epoch 77/100\n",
      "1/1 [==============================] - 0s 30ms/step - loss: 0.4465 - val_loss: 0.2071\n",
      "Epoch 78/100\n",
      "1/1 [==============================] - 0s 26ms/step - loss: 0.4313 - val_loss: 0.1959\n",
      "Epoch 79/100\n",
      "1/1 [==============================] - 0s 24ms/step - loss: 0.4165 - val_loss: 0.1850\n",
      "Epoch 80/100\n",
      "1/1 [==============================] - 0s 27ms/step - loss: 0.4019 - val_loss: 0.1747\n",
      "Epoch 81/100\n",
      "1/1 [==============================] - 0s 28ms/step - loss: 0.3878 - val_loss: 0.1647\n",
      "Epoch 82/100\n",
      "1/1 [==============================] - 0s 32ms/step - loss: 0.3740 - val_loss: 0.1553\n",
      "Epoch 83/100\n",
      "1/1 [==============================] - 0s 27ms/step - loss: 0.3606 - val_loss: 0.1464\n"
     ]
    },
    {
     "name": "stdout",
     "output_type": "stream",
     "text": [
      "Epoch 84/100\n",
      "1/1 [==============================] - 0s 19ms/step - loss: 0.3476 - val_loss: 0.1379\n",
      "Epoch 85/100\n",
      "1/1 [==============================] - 0s 19ms/step - loss: 0.3351 - val_loss: 0.1300\n",
      "Epoch 86/100\n",
      "1/1 [==============================] - 0s 19ms/step - loss: 0.3229 - val_loss: 0.1226\n",
      "Epoch 87/100\n",
      "1/1 [==============================] - 0s 17ms/step - loss: 0.3113 - val_loss: 0.1158\n",
      "Epoch 88/100\n",
      "1/1 [==============================] - 0s 17ms/step - loss: 0.3001 - val_loss: 0.1095\n",
      "Epoch 89/100\n",
      "1/1 [==============================] - 0s 17ms/step - loss: 0.2894 - val_loss: 0.1037\n",
      "Epoch 90/100\n",
      "1/1 [==============================] - 0s 20ms/step - loss: 0.2791 - val_loss: 0.0985\n",
      "Epoch 91/100\n",
      "1/1 [==============================] - 0s 20ms/step - loss: 0.2694 - val_loss: 0.0938\n",
      "Epoch 92/100\n",
      "1/1 [==============================] - 0s 19ms/step - loss: 0.2601 - val_loss: 0.0897\n",
      "Epoch 93/100\n",
      "1/1 [==============================] - 0s 18ms/step - loss: 0.2513 - val_loss: 0.0860\n",
      "Epoch 94/100\n",
      "1/1 [==============================] - 0s 17ms/step - loss: 0.2430 - val_loss: 0.0829\n",
      "Epoch 95/100\n",
      "1/1 [==============================] - 0s 19ms/step - loss: 0.2352 - val_loss: 0.0803\n",
      "Epoch 96/100\n",
      "1/1 [==============================] - 0s 20ms/step - loss: 0.2279 - val_loss: 0.0781\n",
      "Epoch 97/100\n",
      "1/1 [==============================] - 0s 25ms/step - loss: 0.2210 - val_loss: 0.0764\n",
      "Epoch 98/100\n",
      "1/1 [==============================] - 0s 26ms/step - loss: 0.2146 - val_loss: 0.0751\n",
      "Epoch 99/100\n",
      "1/1 [==============================] - 0s 29ms/step - loss: 0.2086 - val_loss: 0.0743\n",
      "Epoch 100/100\n",
      "1/1 [==============================] - 0s 28ms/step - loss: 0.2031 - val_loss: 0.0738\n",
      "Epoch 1/100\n",
      "9/9 [==============================] - 0s 11ms/step - loss: 1.2150 - val_loss: 0.8537\n",
      "Epoch 2/100\n",
      "9/9 [==============================] - 0s 3ms/step - loss: 0.8368 - val_loss: 0.5994\n",
      "Epoch 3/100\n",
      "9/9 [==============================] - 0s 4ms/step - loss: 0.6370 - val_loss: 0.4463\n",
      "Epoch 4/100\n",
      "9/9 [==============================] - 0s 3ms/step - loss: 0.5156 - val_loss: 0.3492\n",
      "Epoch 5/100\n",
      "9/9 [==============================] - 0s 3ms/step - loss: 0.4407 - val_loss: 0.2979\n",
      "Epoch 6/100\n",
      "9/9 [==============================] - 0s 3ms/step - loss: 0.3972 - val_loss: 0.2715\n",
      "Epoch 7/100\n",
      "9/9 [==============================] - 0s 3ms/step - loss: 0.3616 - val_loss: 0.2477\n",
      "Epoch 8/100\n",
      "9/9 [==============================] - 0s 3ms/step - loss: 0.3255 - val_loss: 0.2178\n",
      "Epoch 9/100\n",
      "9/9 [==============================] - 0s 3ms/step - loss: 0.2892 - val_loss: 0.1920\n",
      "Epoch 10/100\n",
      "9/9 [==============================] - 0s 3ms/step - loss: 0.2644 - val_loss: 0.1768\n",
      "Epoch 11/100\n",
      "9/9 [==============================] - 0s 4ms/step - loss: 0.2411 - val_loss: 0.1679\n",
      "Epoch 12/100\n",
      "9/9 [==============================] - 0s 6ms/step - loss: 0.2254 - val_loss: 0.1624\n",
      "Epoch 13/100\n",
      "9/9 [==============================] - 0s 5ms/step - loss: 0.2127 - val_loss: 0.1555\n",
      "Epoch 14/100\n",
      "9/9 [==============================] - 0s 5ms/step - loss: 0.2032 - val_loss: 0.1496\n",
      "Epoch 15/100\n",
      "9/9 [==============================] - 0s 5ms/step - loss: 0.1939 - val_loss: 0.1480\n",
      "Epoch 16/100\n",
      "9/9 [==============================] - 0s 5ms/step - loss: 0.1865 - val_loss: 0.1494\n",
      "Epoch 17/100\n",
      "9/9 [==============================] - 0s 5ms/step - loss: 0.1834 - val_loss: 0.1486\n",
      "Epoch 18/100\n",
      "9/9 [==============================] - 0s 3ms/step - loss: 0.1802 - val_loss: 0.1482\n",
      "Epoch 19/100\n",
      "9/9 [==============================] - 0s 3ms/step - loss: 0.1775 - val_loss: 0.1484\n",
      "Epoch 20/100\n",
      "9/9 [==============================] - 0s 3ms/step - loss: 0.1760 - val_loss: 0.1484\n",
      "Epoch 21/100\n",
      "9/9 [==============================] - 0s 3ms/step - loss: 0.1761 - val_loss: 0.1493\n",
      "Epoch 22/100\n",
      "9/9 [==============================] - 0s 3ms/step - loss: 0.1758 - val_loss: 0.1521\n",
      "Epoch 23/100\n",
      "9/9 [==============================] - 0s 3ms/step - loss: 0.1737 - val_loss: 0.1502\n",
      "Epoch 24/100\n",
      "9/9 [==============================] - 0s 3ms/step - loss: 0.1729 - val_loss: 0.1497\n",
      "Epoch 25/100\n",
      "9/9 [==============================] - 0s 4ms/step - loss: 0.1729 - val_loss: 0.1502\n"
     ]
    }
   ],
   "source": [
    "times, M_regs, g_regs = nn_boost(d1_le1, M_data, \"le\")\n",
    "M_regs.save(\"results/d1/models/le/boost/le_M_nn.h5\")\n",
    "g_regs.save(\"results/d1/models/le/boost/le_g_nn.h5\")\n",
    "np.save(\"results/d1/times/le/boost/d1_times_nn.npy\", times)"
   ]
  },
  {
   "cell_type": "markdown",
   "id": "67da5ba1",
   "metadata": {},
   "source": [
    "# $ \\frac{a}{c} > 1$"
   ]
  },
  {
   "cell_type": "markdown",
   "id": "4e8e6914",
   "metadata": {},
   "source": [
    "## No Boosting"
   ]
  },
  {
   "cell_type": "code",
   "execution_count": 23,
   "id": "7237d041",
   "metadata": {},
   "outputs": [
    {
     "data": {
      "text/plain": [
       "(48, 4)"
      ]
     },
     "execution_count": 23,
     "metadata": {},
     "output_type": "execute_result"
    }
   ],
   "source": [
    "d1_le1 = np.load(\"Test_2/data/1_RN_data_ac_g1.npy\")\n",
    "d1_le1.shape"
   ]
  },
  {
   "cell_type": "code",
   "execution_count": 20,
   "id": "4d050843",
   "metadata": {},
   "outputs": [],
   "source": [
    "def poly_svm(train_data):\n",
    "    degrees = [1,2,3,4]\n",
    "    times = []\n",
    "    regs = []\n",
    "    for degree in degrees:\n",
    "        t0 = time.time()\n",
    "        reg = SVR(kernel=\"poly\", degree = degree)\n",
    "        reg.fit(train_data[:,:-1], train_data[:,-1])\n",
    "        t1 = time.time()\n",
    "        times.append(t1-t0)\n",
    "        regs.append(reg)\n",
    "        print(\"Done degree {}\".format(degree))\n",
    "    return times, regs"
   ]
  },
  {
   "cell_type": "code",
   "execution_count": 21,
   "id": "4666dbc4",
   "metadata": {},
   "outputs": [
    {
     "name": "stdout",
     "output_type": "stream",
     "text": [
      "Done degree 1\n",
      "Done degree 2\n",
      "Done degree 3\n",
      "Done degree 4\n"
     ]
    }
   ],
   "source": [
    "times, regs = poly_svm(d1_le1)\n",
    "\n",
    "# saving models\n",
    "i = 1\n",
    "for reg in regs:\n",
    "    dump(reg, 'results/d1/models/g/no_boost/g_poly_degree_{}.joblib'.format(i))\n",
    "    i += 1\n",
    "np.save(\"results/d1/times/g/no_boost/d1_times.npy\", times)"
   ]
  },
  {
   "cell_type": "code",
   "execution_count": 22,
   "id": "acdb2e78",
   "metadata": {},
   "outputs": [],
   "source": [
    "def rbf_svm(train_data):\n",
    "    t0 = time.time()\n",
    "    reg = SVR(kernel=\"rbf\")\n",
    "    reg.fit(train_data[:,:-1], train_data[:,-1])\n",
    "    t1 = time.time()\n",
    "    return t1-t0, reg"
   ]
  },
  {
   "cell_type": "code",
   "execution_count": 23,
   "id": "a4d1a6cb",
   "metadata": {},
   "outputs": [],
   "source": [
    "times, regs = rbf_svm(d1_le1)\n",
    "\n",
    "# saving models\n",
    "dump(regs, 'results/d1/models/g/no_boost/g_rbf.joblib')\n",
    "np.save(\"results/d1/times/g/no_boost/d1_times_rbf.npy\", times)"
   ]
  },
  {
   "cell_type": "code",
   "execution_count": 24,
   "id": "12e66510",
   "metadata": {},
   "outputs": [
    {
     "name": "stdout",
     "output_type": "stream",
     "text": [
      "Epoch 1/100\n",
      "2/2 [==============================] - 0s 84ms/step - loss: 0.5647 - val_loss: 0.5490\n",
      "Epoch 2/100\n",
      "2/2 [==============================] - 0s 19ms/step - loss: 0.5626 - val_loss: 0.5461\n",
      "Epoch 3/100\n",
      "2/2 [==============================] - 0s 19ms/step - loss: 0.5598 - val_loss: 0.5414\n",
      "Epoch 4/100\n",
      "2/2 [==============================] - 0s 22ms/step - loss: 0.5500 - val_loss: 0.5277\n",
      "Epoch 5/100\n",
      "2/2 [==============================] - 0s 21ms/step - loss: 0.5312 - val_loss: 0.4989\n",
      "Epoch 6/100\n",
      "2/2 [==============================] - 0s 20ms/step - loss: 0.4944 - val_loss: 0.4651\n",
      "Epoch 7/100\n",
      "2/2 [==============================] - 0s 19ms/step - loss: 0.4510 - val_loss: 0.4308\n",
      "Epoch 8/100\n",
      "2/2 [==============================] - 0s 19ms/step - loss: 0.4079 - val_loss: 0.3973\n",
      "Epoch 9/100\n",
      "2/2 [==============================] - 0s 20ms/step - loss: 0.3654 - val_loss: 0.3650\n",
      "Epoch 10/100\n",
      "2/2 [==============================] - 0s 19ms/step - loss: 0.3251 - val_loss: 0.3344\n",
      "Epoch 11/100\n",
      "2/2 [==============================] - 0s 25ms/step - loss: 0.2857 - val_loss: 0.3048\n",
      "Epoch 12/100\n",
      "2/2 [==============================] - 0s 20ms/step - loss: 0.2495 - val_loss: 0.2752\n",
      "Epoch 13/100\n",
      "2/2 [==============================] - 0s 19ms/step - loss: 0.2161 - val_loss: 0.2460\n",
      "Epoch 14/100\n",
      "2/2 [==============================] - 0s 20ms/step - loss: 0.1850 - val_loss: 0.2188\n",
      "Epoch 15/100\n",
      "2/2 [==============================] - 0s 20ms/step - loss: 0.1572 - val_loss: 0.1927\n",
      "Epoch 16/100\n",
      "2/2 [==============================] - 0s 20ms/step - loss: 0.1319 - val_loss: 0.1690\n",
      "Epoch 17/100\n",
      "2/2 [==============================] - 0s 19ms/step - loss: 0.1098 - val_loss: 0.1469\n",
      "Epoch 18/100\n",
      "2/2 [==============================] - 0s 19ms/step - loss: 0.0904 - val_loss: 0.1276\n",
      "Epoch 19/100\n",
      "2/2 [==============================] - 0s 18ms/step - loss: 0.0747 - val_loss: 0.1107\n",
      "Epoch 20/100\n",
      "2/2 [==============================] - 0s 23ms/step - loss: 0.0621 - val_loss: 0.0956\n",
      "Epoch 21/100\n",
      "2/2 [==============================] - 0s 18ms/step - loss: 0.0516 - val_loss: 0.0827\n",
      "Epoch 22/100\n",
      "2/2 [==============================] - 0s 18ms/step - loss: 0.0445 - val_loss: 0.0719\n",
      "Epoch 23/100\n",
      "2/2 [==============================] - 0s 19ms/step - loss: 0.0395 - val_loss: 0.0631\n",
      "Epoch 24/100\n",
      "2/2 [==============================] - 0s 18ms/step - loss: 0.0361 - val_loss: 0.0562\n",
      "Epoch 25/100\n",
      "2/2 [==============================] - 0s 19ms/step - loss: 0.0338 - val_loss: 0.0506\n",
      "Epoch 26/100\n",
      "2/2 [==============================] - 0s 19ms/step - loss: 0.0327 - val_loss: 0.0460\n",
      "Epoch 27/100\n",
      "2/2 [==============================] - 0s 19ms/step - loss: 0.0323 - val_loss: 0.0421\n",
      "Epoch 28/100\n",
      "2/2 [==============================] - 0s 20ms/step - loss: 0.0318 - val_loss: 0.0391\n",
      "Epoch 29/100\n",
      "2/2 [==============================] - 0s 19ms/step - loss: 0.0308 - val_loss: 0.0366\n",
      "Epoch 30/100\n",
      "2/2 [==============================] - 0s 19ms/step - loss: 0.0300 - val_loss: 0.0344\n",
      "Epoch 31/100\n",
      "2/2 [==============================] - 0s 20ms/step - loss: 0.0285 - val_loss: 0.0326\n",
      "Epoch 32/100\n",
      "2/2 [==============================] - 0s 28ms/step - loss: 0.0267 - val_loss: 0.0311\n",
      "Epoch 33/100\n",
      "2/2 [==============================] - 0s 24ms/step - loss: 0.0246 - val_loss: 0.0298\n",
      "Epoch 34/100\n",
      "2/2 [==============================] - 0s 21ms/step - loss: 0.0227 - val_loss: 0.0286\n",
      "Epoch 35/100\n",
      "2/2 [==============================] - 0s 20ms/step - loss: 0.0205 - val_loss: 0.0276\n",
      "Epoch 36/100\n",
      "2/2 [==============================] - 0s 24ms/step - loss: 0.0186 - val_loss: 0.0268\n",
      "Epoch 37/100\n",
      "2/2 [==============================] - 0s 24ms/step - loss: 0.0168 - val_loss: 0.0254\n",
      "Epoch 38/100\n",
      "2/2 [==============================] - 0s 20ms/step - loss: 0.0152 - val_loss: 0.0236\n",
      "Epoch 39/100\n",
      "2/2 [==============================] - 0s 20ms/step - loss: 0.0136 - val_loss: 0.0218\n",
      "Epoch 40/100\n",
      "2/2 [==============================] - 0s 22ms/step - loss: 0.0123 - val_loss: 0.0200\n",
      "Epoch 41/100\n",
      "2/2 [==============================] - 0s 22ms/step - loss: 0.0110 - val_loss: 0.0185\n",
      "Epoch 42/100\n",
      "2/2 [==============================] - 0s 18ms/step - loss: 0.0099 - val_loss: 0.0171\n",
      "Epoch 43/100\n",
      "2/2 [==============================] - 0s 19ms/step - loss: 0.0090 - val_loss: 0.0159\n",
      "Epoch 44/100\n",
      "2/2 [==============================] - 0s 18ms/step - loss: 0.0081 - val_loss: 0.0147\n",
      "Epoch 45/100\n",
      "2/2 [==============================] - 0s 22ms/step - loss: 0.0073 - val_loss: 0.0136\n",
      "Epoch 46/100\n",
      "2/2 [==============================] - 0s 20ms/step - loss: 0.0066 - val_loss: 0.0126\n",
      "Epoch 47/100\n",
      "2/2 [==============================] - 0s 21ms/step - loss: 0.0058 - val_loss: 0.0115\n",
      "Epoch 48/100\n",
      "2/2 [==============================] - 0s 27ms/step - loss: 0.0053 - val_loss: 0.0102\n",
      "Epoch 49/100\n",
      "2/2 [==============================] - 0s 22ms/step - loss: 0.0047 - val_loss: 0.0090\n",
      "Epoch 50/100\n",
      "2/2 [==============================] - 0s 21ms/step - loss: 0.0042 - val_loss: 0.0080\n",
      "Epoch 51/100\n",
      "2/2 [==============================] - 0s 22ms/step - loss: 0.0037 - val_loss: 0.0071\n",
      "Epoch 52/100\n",
      "2/2 [==============================] - 0s 22ms/step - loss: 0.0034 - val_loss: 0.0064\n",
      "Epoch 53/100\n",
      "2/2 [==============================] - 0s 20ms/step - loss: 0.0033 - val_loss: 0.0060\n",
      "Epoch 54/100\n",
      "2/2 [==============================] - 0s 21ms/step - loss: 0.0034 - val_loss: 0.0057\n",
      "Epoch 55/100\n",
      "2/2 [==============================] - 0s 21ms/step - loss: 0.0035 - val_loss: 0.0056\n",
      "Epoch 56/100\n",
      "2/2 [==============================] - 0s 22ms/step - loss: 0.0035 - val_loss: 0.0056\n",
      "Epoch 57/100\n",
      "2/2 [==============================] - 0s 20ms/step - loss: 0.0034 - val_loss: 0.0056\n",
      "Epoch 58/100\n",
      "2/2 [==============================] - 0s 22ms/step - loss: 0.0033 - val_loss: 0.0057\n",
      "Epoch 59/100\n",
      "2/2 [==============================] - 0s 23ms/step - loss: 0.0032 - val_loss: 0.0060\n",
      "Epoch 60/100\n",
      "2/2 [==============================] - 0s 21ms/step - loss: 0.0031 - val_loss: 0.0062\n",
      "Epoch 61/100\n",
      "2/2 [==============================] - 0s 22ms/step - loss: 0.0030 - val_loss: 0.0064\n",
      "Epoch 62/100\n",
      "2/2 [==============================] - 0s 18ms/step - loss: 0.0030 - val_loss: 0.0065\n",
      "Epoch 63/100\n",
      "2/2 [==============================] - 0s 19ms/step - loss: 0.0030 - val_loss: 0.0065\n",
      "Epoch 64/100\n",
      "2/2 [==============================] - 0s 19ms/step - loss: 0.0030 - val_loss: 0.0063\n",
      "Epoch 65/100\n",
      "2/2 [==============================] - 0s 22ms/step - loss: 0.0029 - val_loss: 0.0061\n",
      "Epoch 66/100\n",
      "2/2 [==============================] - 0s 17ms/step - loss: 0.0029 - val_loss: 0.0060\n"
     ]
    }
   ],
   "source": [
    "def NN(X_train, y_train):\n",
    "    #create model\n",
    "    model = Sequential()\n",
    "\n",
    "    #get number of columns in training data\n",
    "    n_cols = X_train.shape[1]\n",
    "\n",
    "    #add model layers\n",
    "    model.add(Dense(10, activation='relu', input_shape=(n_cols,)))\n",
    "    model.add(Dense(10, activation='relu'))\n",
    "    model.add(Dense(10, activation='relu'))\n",
    "    model.add(Dense(1, activation='relu'))\n",
    "\n",
    "    model.compile(optimizer='adam', loss='mse')\n",
    "    early_stopping_monitor = EarlyStopping(patience=10)\n",
    "\n",
    "    history = model.fit(X_train, y_train, validation_split=0.2, epochs=100, callbacks=[early_stopping_monitor])\n",
    "\n",
    "    return history, model\n",
    "\n",
    "history, model = NN(d1_le1[:,:-1], d1_le1[:,-1])\n",
    "model.save(\"results/d1/models/g/no_boost/le_nn.h5\")"
   ]
  },
  {
   "cell_type": "markdown",
   "id": "f4165668",
   "metadata": {},
   "source": [
    "## Boosting"
   ]
  },
  {
   "cell_type": "code",
   "execution_count": null,
   "id": "ec48f9aa",
   "metadata": {},
   "outputs": [],
   "source": [
    "data = []\n",
    "for row in d1_le1:\n",
    "    if (row[2] > 1.5 and row[2] < 1.65):\n",
    "        data.append(np.delete(row, 2))\n",
    "M_data = np.array(data)"
   ]
  },
  {
   "cell_type": "code",
   "execution_count": 24,
   "id": "21e0321c",
   "metadata": {},
   "outputs": [],
   "source": [
    "def poly_svm_boost(train_data, M_train_data, data_type):\n",
    "    degrees = [1,2,3,4]\n",
    "    times = []\n",
    "    M_regs = []\n",
    "    g_regs = []\n",
    "    for degree in degrees:\n",
    "        t0 = time.time()\n",
    "        reg = SVR(kernel=\"poly\", degree = degree)\n",
    "        reg.fit(M_train_data[:,:-1], M_train_data[:,-1])\n",
    "        M = reg.predict(train_data[:,:2])\n",
    "        train_data[:,-1] = train_data[:,-1]/M\n",
    "        reg_g = SVR(kernel=\"poly\", degree = degree)\n",
    "        if data_type == 'le':\n",
    "            reg_g.fit(train_data[:,1:-1], train_data[:,-1])\n",
    "        elif data_type == 'g':\n",
    "            reg_g.fit(train_data[:,:-1], train_data[:,-1])\n",
    "        else:\n",
    "            raise Exception(\"Invalid data type\")\n",
    "        t1 = time.time()\n",
    "        times.append(t1-t0)\n",
    "        M_regs.append(reg)\n",
    "        g_regs.append(reg_g)\n",
    "        print(\"Done degree {}\".format(degree))\n",
    "    \n",
    "    return times, M_regs, g_regs"
   ]
  },
  {
   "cell_type": "code",
   "execution_count": 25,
   "id": "5bd1d0a8",
   "metadata": {},
   "outputs": [
    {
     "name": "stdout",
     "output_type": "stream",
     "text": [
      "Done degree 1\n",
      "Done degree 2\n",
      "Done degree 3\n",
      "Done degree 4\n"
     ]
    }
   ],
   "source": [
    "# Poly SVM\n",
    "times, M_regs, g_regs = poly_svm_boost(d1_le1, M_data, \"g\")\n",
    "\n",
    "# saving models\n",
    "for i in range(4):\n",
    "    dump(M_regs[i], 'results/d1/models/g/boost/g_M_poly_degree_{}.joblib'.format(i))\n",
    "    dump(g_regs[i], 'results/d1/models/g/boost/g_g_poly_degree_{}.joblib'.format(i))\n",
    "\n",
    "np.save(\"results/d1/times/g/boost/d1_times.npy\", times)"
   ]
  },
  {
   "cell_type": "code",
   "execution_count": 26,
   "id": "2420add3",
   "metadata": {},
   "outputs": [],
   "source": [
    "def rbf_svm_boost(train_data, M_train_data, data_type):\n",
    "    t0 = time.time()\n",
    "    reg = SVR(kernel=\"rbf\")\n",
    "    reg.fit(M_train_data[:,:-1], M_train_data[:,-1])\n",
    "    M = reg.predict(train_data[:,:2])\n",
    "    train_data[:,-1] = train_data[:,-1]/M\n",
    "    reg_g = SVR(kernel=\"rbf\")\n",
    "    if data_type == 'le':\n",
    "        reg_g.fit(train_data[:,1:-1], train_data[:,-1])\n",
    "    elif data_type == 'g':\n",
    "        reg_g.fit(train_data[:,:-1], train_data[:,-1])\n",
    "    else:\n",
    "        raise Exception(\"Invalid data type\")\n",
    "    t1 = time.time()\n",
    "    return t1-t0, reg, reg_g"
   ]
  },
  {
   "cell_type": "code",
   "execution_count": 27,
   "id": "637760f4",
   "metadata": {},
   "outputs": [],
   "source": [
    "times, M_regs, g_regs = rbf_svm_boost(d1_le1, M_data, \"g\")\n",
    "\n",
    "# saving models\n",
    "dump(M_regs, 'results/d1/models/g/boost/g_M_rbf.joblib')\n",
    "dump(g_regs, 'results/d1/models/g/boost/g_g_rbf.joblib')\n",
    "np.save(\"results/d1/times/g/boost/d1_times_rbf.npy\", times)"
   ]
  },
  {
   "cell_type": "code",
   "execution_count": 27,
   "id": "3881c985",
   "metadata": {},
   "outputs": [
    {
     "name": "stdout",
     "output_type": "stream",
     "text": [
      "Epoch 1/100\n",
      "1/1 [==============================] - 0s 316ms/step - loss: 1.6427 - val_loss: 1.2732\n",
      "Epoch 2/100\n",
      "1/1 [==============================] - 0s 19ms/step - loss: 1.6296 - val_loss: 1.2600\n",
      "Epoch 3/100\n",
      "1/1 [==============================] - 0s 19ms/step - loss: 1.6161 - val_loss: 1.2468\n",
      "Epoch 4/100\n",
      "1/1 [==============================] - 0s 20ms/step - loss: 1.6027 - val_loss: 1.2338\n",
      "Epoch 5/100\n",
      "1/1 [==============================] - 0s 22ms/step - loss: 1.5893 - val_loss: 1.2209\n",
      "Epoch 6/100\n",
      "1/1 [==============================] - 0s 19ms/step - loss: 1.5759 - val_loss: 1.2080\n",
      "Epoch 7/100\n",
      "1/1 [==============================] - 0s 20ms/step - loss: 1.5625 - val_loss: 1.1958\n",
      "Epoch 8/100\n",
      "1/1 [==============================] - 0s 20ms/step - loss: 1.5492 - val_loss: 1.1838\n",
      "Epoch 9/100\n",
      "1/1 [==============================] - 0s 21ms/step - loss: 1.5362 - val_loss: 1.1716\n",
      "Epoch 10/100\n",
      "1/1 [==============================] - 0s 19ms/step - loss: 1.5235 - val_loss: 1.1592\n",
      "Epoch 11/100\n",
      "1/1 [==============================] - 0s 20ms/step - loss: 1.5111 - val_loss: 1.1468\n",
      "Epoch 12/100\n",
      "1/1 [==============================] - 0s 19ms/step - loss: 1.4991 - val_loss: 1.1345\n",
      "Epoch 13/100\n",
      "1/1 [==============================] - 0s 21ms/step - loss: 1.4870 - val_loss: 1.1224\n",
      "Epoch 14/100\n",
      "1/1 [==============================] - 0s 21ms/step - loss: 1.4759 - val_loss: 1.1101\n",
      "Epoch 15/100\n",
      "1/1 [==============================] - 0s 20ms/step - loss: 1.4642 - val_loss: 1.0979\n",
      "Epoch 16/100\n",
      "1/1 [==============================] - 0s 19ms/step - loss: 1.4526 - val_loss: 1.0871\n",
      "Epoch 17/100\n",
      "1/1 [==============================] - 0s 18ms/step - loss: 1.4409 - val_loss: 1.0767\n",
      "Epoch 18/100\n",
      "1/1 [==============================] - 0s 19ms/step - loss: 1.4291 - val_loss: 1.0662\n",
      "Epoch 19/100\n",
      "1/1 [==============================] - 0s 21ms/step - loss: 1.4171 - val_loss: 1.0560\n",
      "Epoch 20/100\n",
      "1/1 [==============================] - 0s 24ms/step - loss: 1.4049 - val_loss: 1.0440\n",
      "Epoch 21/100\n",
      "1/1 [==============================] - 0s 21ms/step - loss: 1.3924 - val_loss: 1.0318\n",
      "Epoch 22/100\n",
      "1/1 [==============================] - 0s 21ms/step - loss: 1.3797 - val_loss: 1.0194\n",
      "Epoch 23/100\n",
      "1/1 [==============================] - 0s 20ms/step - loss: 1.3669 - val_loss: 1.0069\n",
      "Epoch 24/100\n",
      "1/1 [==============================] - 0s 20ms/step - loss: 1.3540 - val_loss: 0.9944\n",
      "Epoch 25/100\n",
      "1/1 [==============================] - 0s 19ms/step - loss: 1.3412 - val_loss: 0.9813\n",
      "Epoch 26/100\n",
      "1/1 [==============================] - 0s 19ms/step - loss: 1.3280 - val_loss: 0.9677\n",
      "Epoch 27/100\n",
      "1/1 [==============================] - 0s 24ms/step - loss: 1.3146 - val_loss: 0.9540\n",
      "Epoch 28/100\n",
      "1/1 [==============================] - 0s 19ms/step - loss: 1.3009 - val_loss: 0.9402\n",
      "Epoch 29/100\n",
      "1/1 [==============================] - 0s 20ms/step - loss: 1.2871 - val_loss: 0.9264\n",
      "Epoch 30/100\n",
      "1/1 [==============================] - 0s 20ms/step - loss: 1.2733 - val_loss: 0.9125\n",
      "Epoch 31/100\n",
      "1/1 [==============================] - 0s 20ms/step - loss: 1.2594 - val_loss: 0.8985\n",
      "Epoch 32/100\n",
      "1/1 [==============================] - 0s 20ms/step - loss: 1.2454 - val_loss: 0.8846\n",
      "Epoch 33/100\n",
      "1/1 [==============================] - 0s 23ms/step - loss: 1.2312 - val_loss: 0.8708\n",
      "Epoch 34/100\n",
      "1/1 [==============================] - 0s 27ms/step - loss: 1.2169 - val_loss: 0.8570\n",
      "Epoch 35/100\n",
      "1/1 [==============================] - 0s 26ms/step - loss: 1.2026 - val_loss: 0.8433\n",
      "Epoch 36/100\n",
      "1/1 [==============================] - 0s 22ms/step - loss: 1.1882 - val_loss: 0.8295\n",
      "Epoch 37/100\n",
      "1/1 [==============================] - 0s 19ms/step - loss: 1.1738 - val_loss: 0.8156\n",
      "Epoch 38/100\n",
      "1/1 [==============================] - 0s 22ms/step - loss: 1.1593 - val_loss: 0.8017\n",
      "Epoch 39/100\n",
      "1/1 [==============================] - 0s 25ms/step - loss: 1.1448 - val_loss: 0.7879\n",
      "Epoch 40/100\n",
      "1/1 [==============================] - 0s 25ms/step - loss: 1.1301 - val_loss: 0.7740\n",
      "Epoch 41/100\n",
      "1/1 [==============================] - 0s 24ms/step - loss: 1.1153 - val_loss: 0.7601\n",
      "Epoch 42/100\n",
      "1/1 [==============================] - 0s 23ms/step - loss: 1.1006 - val_loss: 0.7462\n",
      "Epoch 43/100\n",
      "1/1 [==============================] - 0s 22ms/step - loss: 1.0858 - val_loss: 0.7327\n",
      "Epoch 44/100\n",
      "1/1 [==============================] - 0s 26ms/step - loss: 1.0711 - val_loss: 0.7193\n",
      "Epoch 45/100\n",
      "1/1 [==============================] - 0s 27ms/step - loss: 1.0563 - val_loss: 0.7059\n",
      "Epoch 46/100\n",
      "1/1 [==============================] - 0s 23ms/step - loss: 1.0416 - val_loss: 0.6924\n",
      "Epoch 47/100\n",
      "1/1 [==============================] - 0s 24ms/step - loss: 1.0268 - val_loss: 0.6788\n",
      "Epoch 48/100\n",
      "1/1 [==============================] - 0s 22ms/step - loss: 1.0121 - val_loss: 0.6653\n",
      "Epoch 49/100\n",
      "1/1 [==============================] - 0s 25ms/step - loss: 0.9973 - val_loss: 0.6518\n",
      "Epoch 50/100\n",
      "1/1 [==============================] - 0s 27ms/step - loss: 0.9824 - val_loss: 0.6383\n",
      "Epoch 51/100\n",
      "1/1 [==============================] - 0s 22ms/step - loss: 0.9675 - val_loss: 0.6249\n",
      "Epoch 52/100\n",
      "1/1 [==============================] - 0s 23ms/step - loss: 0.9526 - val_loss: 0.6115\n",
      "Epoch 53/100\n",
      "1/1 [==============================] - 0s 24ms/step - loss: 0.9377 - val_loss: 0.5982\n",
      "Epoch 54/100\n",
      "1/1 [==============================] - 0s 21ms/step - loss: 0.9228 - val_loss: 0.5848\n",
      "Epoch 55/100\n",
      "1/1 [==============================] - 0s 22ms/step - loss: 0.9079 - val_loss: 0.5714\n",
      "Epoch 56/100\n",
      "1/1 [==============================] - 0s 22ms/step - loss: 0.8930 - val_loss: 0.5580\n",
      "Epoch 57/100\n",
      "1/1 [==============================] - 0s 21ms/step - loss: 0.8780 - val_loss: 0.5447\n",
      "Epoch 58/100\n",
      "1/1 [==============================] - 0s 22ms/step - loss: 0.8631 - val_loss: 0.5314\n",
      "Epoch 59/100\n",
      "1/1 [==============================] - 0s 22ms/step - loss: 0.8482 - val_loss: 0.5183\n",
      "Epoch 60/100\n",
      "1/1 [==============================] - 0s 21ms/step - loss: 0.8333 - val_loss: 0.5052\n",
      "Epoch 61/100\n",
      "1/1 [==============================] - 0s 24ms/step - loss: 0.8184 - val_loss: 0.4922\n",
      "Epoch 62/100\n",
      "1/1 [==============================] - 0s 21ms/step - loss: 0.8035 - val_loss: 0.4792\n",
      "Epoch 63/100\n",
      "1/1 [==============================] - 0s 22ms/step - loss: 0.7887 - val_loss: 0.4664\n",
      "Epoch 64/100\n",
      "1/1 [==============================] - 0s 22ms/step - loss: 0.7739 - val_loss: 0.4537\n",
      "Epoch 65/100\n",
      "1/1 [==============================] - 0s 20ms/step - loss: 0.7592 - val_loss: 0.4410\n",
      "Epoch 66/100\n",
      "1/1 [==============================] - 0s 22ms/step - loss: 0.7444 - val_loss: 0.4285\n",
      "Epoch 67/100\n",
      "1/1 [==============================] - 0s 20ms/step - loss: 0.7298 - val_loss: 0.4161\n",
      "Epoch 68/100\n",
      "1/1 [==============================] - 0s 19ms/step - loss: 0.7152 - val_loss: 0.4039\n",
      "Epoch 69/100\n",
      "1/1 [==============================] - 0s 18ms/step - loss: 0.7006 - val_loss: 0.3918\n",
      "Epoch 70/100\n",
      "1/1 [==============================] - 0s 19ms/step - loss: 0.6862 - val_loss: 0.3797\n",
      "Epoch 71/100\n",
      "1/1 [==============================] - 0s 16ms/step - loss: 0.6718 - val_loss: 0.3679\n",
      "Epoch 72/100\n",
      "1/1 [==============================] - 0s 18ms/step - loss: 0.6576 - val_loss: 0.3562\n",
      "Epoch 73/100\n",
      "1/1 [==============================] - 0s 19ms/step - loss: 0.6434 - val_loss: 0.3446\n",
      "Epoch 74/100\n",
      "1/1 [==============================] - 0s 18ms/step - loss: 0.6293 - val_loss: 0.3333\n",
      "Epoch 75/100\n",
      "1/1 [==============================] - 0s 17ms/step - loss: 0.6153 - val_loss: 0.3222\n",
      "Epoch 76/100\n",
      "1/1 [==============================] - 0s 18ms/step - loss: 0.6014 - val_loss: 0.3113\n",
      "Epoch 77/100\n",
      "1/1 [==============================] - 0s 22ms/step - loss: 0.5877 - val_loss: 0.3006\n",
      "Epoch 78/100\n",
      "1/1 [==============================] - 0s 24ms/step - loss: 0.5741 - val_loss: 0.2901\n",
      "Epoch 79/100\n",
      "1/1 [==============================] - 0s 23ms/step - loss: 0.5606 - val_loss: 0.2798\n",
      "Epoch 80/100\n",
      "1/1 [==============================] - 0s 22ms/step - loss: 0.5473 - val_loss: 0.2698\n",
      "Epoch 81/100\n",
      "1/1 [==============================] - 0s 25ms/step - loss: 0.5342 - val_loss: 0.2600\n",
      "Epoch 82/100\n",
      "1/1 [==============================] - 0s 23ms/step - loss: 0.5212 - val_loss: 0.2504\n",
      "Epoch 83/100\n",
      "1/1 [==============================] - 0s 23ms/step - loss: 0.5084 - val_loss: 0.2411\n"
     ]
    },
    {
     "name": "stdout",
     "output_type": "stream",
     "text": [
      "Epoch 84/100\n",
      "1/1 [==============================] - 0s 25ms/step - loss: 0.4957 - val_loss: 0.2321\n",
      "Epoch 85/100\n",
      "1/1 [==============================] - 0s 21ms/step - loss: 0.4833 - val_loss: 0.2233\n",
      "Epoch 86/100\n",
      "1/1 [==============================] - 0s 20ms/step - loss: 0.4710 - val_loss: 0.2147\n",
      "Epoch 87/100\n",
      "1/1 [==============================] - 0s 21ms/step - loss: 0.4589 - val_loss: 0.2065\n",
      "Epoch 88/100\n",
      "1/1 [==============================] - 0s 24ms/step - loss: 0.4470 - val_loss: 0.1985\n",
      "Epoch 89/100\n",
      "1/1 [==============================] - 0s 22ms/step - loss: 0.4353 - val_loss: 0.1908\n",
      "Epoch 90/100\n",
      "1/1 [==============================] - 0s 20ms/step - loss: 0.4239 - val_loss: 0.1834\n",
      "Epoch 91/100\n",
      "1/1 [==============================] - 0s 20ms/step - loss: 0.4126 - val_loss: 0.1762\n",
      "Epoch 92/100\n",
      "1/1 [==============================] - 0s 20ms/step - loss: 0.4016 - val_loss: 0.1694\n",
      "Epoch 93/100\n",
      "1/1 [==============================] - 0s 19ms/step - loss: 0.3908 - val_loss: 0.1629\n",
      "Epoch 94/100\n",
      "1/1 [==============================] - 0s 18ms/step - loss: 0.3803 - val_loss: 0.1567\n",
      "Epoch 95/100\n",
      "1/1 [==============================] - 0s 18ms/step - loss: 0.3700 - val_loss: 0.1508\n",
      "Epoch 96/100\n",
      "1/1 [==============================] - 0s 18ms/step - loss: 0.3600 - val_loss: 0.1453\n",
      "Epoch 97/100\n",
      "1/1 [==============================] - 0s 18ms/step - loss: 0.3502 - val_loss: 0.1400\n",
      "Epoch 98/100\n",
      "1/1 [==============================] - 0s 20ms/step - loss: 0.3407 - val_loss: 0.1351\n",
      "Epoch 99/100\n",
      "1/1 [==============================] - 0s 20ms/step - loss: 0.3314 - val_loss: 0.1305\n",
      "Epoch 100/100\n",
      "1/1 [==============================] - 0s 20ms/step - loss: 0.3224 - val_loss: 0.1262\n",
      "Epoch 1/100\n",
      "2/2 [==============================] - 0s 96ms/step - loss: nan - val_loss: nan\n",
      "Epoch 2/100\n",
      "2/2 [==============================] - 0s 18ms/step - loss: nan - val_loss: nan\n",
      "Epoch 3/100\n",
      "2/2 [==============================] - 0s 19ms/step - loss: nan - val_loss: nan\n",
      "Epoch 4/100\n",
      "2/2 [==============================] - 0s 20ms/step - loss: nan - val_loss: nan\n",
      "Epoch 5/100\n",
      "2/2 [==============================] - 0s 20ms/step - loss: nan - val_loss: nan\n",
      "Epoch 6/100\n",
      "2/2 [==============================] - 0s 21ms/step - loss: nan - val_loss: nan\n",
      "Epoch 7/100\n",
      "2/2 [==============================] - 0s 23ms/step - loss: nan - val_loss: nan\n",
      "Epoch 8/100\n",
      "2/2 [==============================] - 0s 22ms/step - loss: nan - val_loss: nan\n",
      "Epoch 9/100\n",
      "2/2 [==============================] - 0s 20ms/step - loss: nan - val_loss: nan\n",
      "Epoch 10/100\n",
      "2/2 [==============================] - 0s 20ms/step - loss: nan - val_loss: nan\n"
     ]
    }
   ],
   "source": [
    "def nn_boost(train_data, M_train_data, data_type):\n",
    "    t0 = time.time()\n",
    "    _, reg = NN(M_train_data[:,:-1], M_train_data[:,-1])\n",
    "    M = reg.predict(train_data[:,:2])\n",
    "    train_data[:,-1] = train_data[:,-1]/np.squeeze(M, axis=-1)\n",
    "    if data_type == 'le':\n",
    "        _, reg_g = NN(train_data[:,1:-1], train_data[:,-1])\n",
    "    elif data_type == 'g':\n",
    "        _, reg_g = NN(train_data[:,:-1], train_data[:,-1])\n",
    "    else:\n",
    "        raise Exception(\"Invalid data type\")\n",
    "    t1 = time.time()\n",
    "    return t1-t0, reg, reg_g\n",
    "\n",
    "times, M_regs, g_regs = nn_boost(d1_le1, M_data, \"g\")\n",
    "M_regs.save(\"results/d1/models/g/boost/le_M_nn.h5\")\n",
    "g_regs.save(\"results/d1/models/g/boost/le_g_nn.h5\")\n",
    "np.save(\"results/d1/times/g/boost/d1_times_nn.npy\", times)"
   ]
  },
  {
   "cell_type": "markdown",
   "id": "46daa528",
   "metadata": {},
   "source": [
    "# Results"
   ]
  },
  {
   "cell_type": "code",
   "execution_count": 29,
   "id": "681ea719",
   "metadata": {},
   "outputs": [
    {
     "name": "stdout",
     "output_type": "stream",
     "text": [
      "Epoch 1/100\n",
      "11/11 [==============================] - 0s 10ms/step - loss: 1.7729 - val_loss: 1.5617\n",
      "Epoch 2/100\n",
      "11/11 [==============================] - 0s 3ms/step - loss: 1.6064 - val_loss: 1.3601\n",
      "Epoch 3/100\n",
      "11/11 [==============================] - 0s 3ms/step - loss: 1.3859 - val_loss: 1.1685\n",
      "Epoch 4/100\n",
      "11/11 [==============================] - 0s 3ms/step - loss: 1.1754 - val_loss: 0.9875\n",
      "Epoch 5/100\n",
      "11/11 [==============================] - 0s 3ms/step - loss: 0.9765 - val_loss: 0.8291\n",
      "Epoch 6/100\n",
      "11/11 [==============================] - 0s 3ms/step - loss: 0.8117 - val_loss: 0.7082\n",
      "Epoch 7/100\n",
      "11/11 [==============================] - 0s 3ms/step - loss: 0.6908 - val_loss: 0.6191\n",
      "Epoch 8/100\n",
      "11/11 [==============================] - 0s 3ms/step - loss: 0.6002 - val_loss: 0.5396\n",
      "Epoch 9/100\n",
      "11/11 [==============================] - 0s 3ms/step - loss: 0.5229 - val_loss: 0.4705\n",
      "Epoch 10/100\n",
      "11/11 [==============================] - 0s 3ms/step - loss: 0.4557 - val_loss: 0.4074\n",
      "Epoch 11/100\n",
      "11/11 [==============================] - 0s 3ms/step - loss: 0.3971 - val_loss: 0.3547\n",
      "Epoch 12/100\n",
      "11/11 [==============================] - 0s 3ms/step - loss: 0.3485 - val_loss: 0.3126\n",
      "Epoch 13/100\n",
      "11/11 [==============================] - 0s 4ms/step - loss: 0.3086 - val_loss: 0.2776\n",
      "Epoch 14/100\n",
      "11/11 [==============================] - 0s 3ms/step - loss: 0.2749 - val_loss: 0.2466\n",
      "Epoch 15/100\n",
      "11/11 [==============================] - 0s 3ms/step - loss: 0.2467 - val_loss: 0.2212\n",
      "Epoch 16/100\n",
      "11/11 [==============================] - 0s 3ms/step - loss: 0.2227 - val_loss: 0.2010\n",
      "Epoch 17/100\n",
      "11/11 [==============================] - 0s 3ms/step - loss: 0.2037 - val_loss: 0.1837\n",
      "Epoch 18/100\n",
      "11/11 [==============================] - 0s 3ms/step - loss: 0.1870 - val_loss: 0.1673\n",
      "Epoch 19/100\n",
      "11/11 [==============================] - 0s 3ms/step - loss: 0.1716 - val_loss: 0.1527\n",
      "Epoch 20/100\n",
      "11/11 [==============================] - 0s 3ms/step - loss: 0.1578 - val_loss: 0.1383\n",
      "Epoch 21/100\n",
      "11/11 [==============================] - 0s 3ms/step - loss: 0.1445 - val_loss: 0.1243\n",
      "Epoch 22/100\n",
      "11/11 [==============================] - 0s 4ms/step - loss: 0.1311 - val_loss: 0.1113\n",
      "Epoch 23/100\n",
      "11/11 [==============================] - 0s 4ms/step - loss: 0.1178 - val_loss: 0.0974\n",
      "Epoch 24/100\n",
      "11/11 [==============================] - 0s 3ms/step - loss: 0.1052 - val_loss: 0.0839\n",
      "Epoch 25/100\n",
      "11/11 [==============================] - 0s 3ms/step - loss: 0.0927 - val_loss: 0.0723\n",
      "Epoch 26/100\n",
      "11/11 [==============================] - 0s 3ms/step - loss: 0.0809 - val_loss: 0.0619\n",
      "Epoch 27/100\n",
      "11/11 [==============================] - 0s 3ms/step - loss: 0.0711 - val_loss: 0.0518\n",
      "Epoch 28/100\n",
      "11/11 [==============================] - 0s 3ms/step - loss: 0.0614 - val_loss: 0.0436\n",
      "Epoch 29/100\n",
      "11/11 [==============================] - 0s 3ms/step - loss: 0.0533 - val_loss: 0.0373\n",
      "Epoch 30/100\n",
      "11/11 [==============================] - 0s 3ms/step - loss: 0.0463 - val_loss: 0.0314\n",
      "Epoch 31/100\n",
      "11/11 [==============================] - 0s 3ms/step - loss: 0.0409 - val_loss: 0.0268\n",
      "Epoch 32/100\n",
      "11/11 [==============================] - 0s 3ms/step - loss: 0.0363 - val_loss: 0.0244\n",
      "Epoch 33/100\n",
      "11/11 [==============================] - 0s 3ms/step - loss: 0.0332 - val_loss: 0.0226\n",
      "Epoch 34/100\n",
      "11/11 [==============================] - 0s 3ms/step - loss: 0.0305 - val_loss: 0.0211\n",
      "Epoch 35/100\n",
      "11/11 [==============================] - 0s 3ms/step - loss: 0.0290 - val_loss: 0.0205\n",
      "Epoch 36/100\n",
      "11/11 [==============================] - 0s 3ms/step - loss: 0.0280 - val_loss: 0.0199\n",
      "Epoch 37/100\n",
      "11/11 [==============================] - 0s 3ms/step - loss: 0.0271 - val_loss: 0.0201\n",
      "Epoch 38/100\n",
      "11/11 [==============================] - 0s 3ms/step - loss: 0.0268 - val_loss: 0.0191\n",
      "Epoch 39/100\n",
      "11/11 [==============================] - 0s 3ms/step - loss: 0.0263 - val_loss: 0.0195\n",
      "Epoch 40/100\n",
      "11/11 [==============================] - 0s 3ms/step - loss: 0.0257 - val_loss: 0.0191\n",
      "Epoch 41/100\n",
      "11/11 [==============================] - 0s 3ms/step - loss: 0.0255 - val_loss: 0.0187\n",
      "Epoch 42/100\n",
      "11/11 [==============================] - 0s 3ms/step - loss: 0.0253 - val_loss: 0.0184\n",
      "Epoch 43/100\n",
      "11/11 [==============================] - 0s 3ms/step - loss: 0.0248 - val_loss: 0.0187\n",
      "Epoch 44/100\n",
      "11/11 [==============================] - 0s 3ms/step - loss: 0.0243 - val_loss: 0.0179\n",
      "Epoch 45/100\n",
      "11/11 [==============================] - 0s 3ms/step - loss: 0.0246 - val_loss: 0.0175\n",
      "Epoch 46/100\n",
      "11/11 [==============================] - 0s 3ms/step - loss: 0.0242 - val_loss: 0.0195\n",
      "Epoch 47/100\n",
      "11/11 [==============================] - 0s 3ms/step - loss: 0.0237 - val_loss: 0.0172\n",
      "Epoch 48/100\n",
      "11/11 [==============================] - 0s 3ms/step - loss: 0.0235 - val_loss: 0.0176\n",
      "Epoch 49/100\n",
      "11/11 [==============================] - 0s 2ms/step - loss: 0.0228 - val_loss: 0.0175\n",
      "Epoch 50/100\n",
      "11/11 [==============================] - 0s 2ms/step - loss: 0.0224 - val_loss: 0.0172\n",
      "Epoch 51/100\n",
      "11/11 [==============================] - 0s 2ms/step - loss: 0.0224 - val_loss: 0.0167\n",
      "Epoch 52/100\n",
      "11/11 [==============================] - 0s 3ms/step - loss: 0.0218 - val_loss: 0.0176\n",
      "Epoch 53/100\n",
      "11/11 [==============================] - 0s 3ms/step - loss: 0.0222 - val_loss: 0.0174\n",
      "Epoch 54/100\n",
      "11/11 [==============================] - 0s 2ms/step - loss: 0.0218 - val_loss: 0.0162\n",
      "Epoch 55/100\n",
      "11/11 [==============================] - 0s 2ms/step - loss: 0.0216 - val_loss: 0.0168\n",
      "Epoch 56/100\n",
      "11/11 [==============================] - 0s 3ms/step - loss: 0.0211 - val_loss: 0.0163\n",
      "Epoch 57/100\n",
      "11/11 [==============================] - 0s 3ms/step - loss: 0.0209 - val_loss: 0.0159\n",
      "Epoch 58/100\n",
      "11/11 [==============================] - 0s 3ms/step - loss: 0.0209 - val_loss: 0.0157\n",
      "Epoch 59/100\n",
      "11/11 [==============================] - 0s 3ms/step - loss: 0.0205 - val_loss: 0.0161\n",
      "Epoch 60/100\n",
      "11/11 [==============================] - 0s 3ms/step - loss: 0.0203 - val_loss: 0.0156\n",
      "Epoch 61/100\n",
      "11/11 [==============================] - 0s 3ms/step - loss: 0.0201 - val_loss: 0.0154\n",
      "Epoch 62/100\n",
      "11/11 [==============================] - 0s 3ms/step - loss: 0.0200 - val_loss: 0.0152\n",
      "Epoch 63/100\n",
      "11/11 [==============================] - 0s 3ms/step - loss: 0.0197 - val_loss: 0.0154\n",
      "Epoch 64/100\n",
      "11/11 [==============================] - 0s 3ms/step - loss: 0.0198 - val_loss: 0.0153\n",
      "Epoch 65/100\n",
      "11/11 [==============================] - 0s 3ms/step - loss: 0.0195 - val_loss: 0.0149\n",
      "Epoch 66/100\n",
      "11/11 [==============================] - 0s 3ms/step - loss: 0.0194 - val_loss: 0.0146\n",
      "Epoch 67/100\n",
      "11/11 [==============================] - 0s 3ms/step - loss: 0.0194 - val_loss: 0.0146\n",
      "Epoch 68/100\n",
      "11/11 [==============================] - 0s 3ms/step - loss: 0.0195 - val_loss: 0.0149\n",
      "Epoch 69/100\n",
      "11/11 [==============================] - 0s 3ms/step - loss: 0.0190 - val_loss: 0.0143\n",
      "Epoch 70/100\n",
      "11/11 [==============================] - 0s 3ms/step - loss: 0.0189 - val_loss: 0.0145\n",
      "Epoch 71/100\n",
      "11/11 [==============================] - 0s 3ms/step - loss: 0.0188 - val_loss: 0.0146\n",
      "Epoch 72/100\n",
      "11/11 [==============================] - 0s 3ms/step - loss: 0.0185 - val_loss: 0.0143\n",
      "Epoch 73/100\n",
      "11/11 [==============================] - 0s 3ms/step - loss: 0.0185 - val_loss: 0.0142\n",
      "Epoch 74/100\n",
      "11/11 [==============================] - 0s 3ms/step - loss: 0.0183 - val_loss: 0.0144\n",
      "Epoch 75/100\n",
      "11/11 [==============================] - 0s 4ms/step - loss: 0.0182 - val_loss: 0.0142\n",
      "Epoch 76/100\n",
      "11/11 [==============================] - 0s 3ms/step - loss: 0.0180 - val_loss: 0.0140\n",
      "Epoch 77/100\n",
      "11/11 [==============================] - 0s 3ms/step - loss: 0.0181 - val_loss: 0.0136\n",
      "Epoch 78/100\n",
      "11/11 [==============================] - 0s 3ms/step - loss: 0.0180 - val_loss: 0.0139\n",
      "Epoch 79/100\n",
      "11/11 [==============================] - 0s 3ms/step - loss: 0.0177 - val_loss: 0.0135\n",
      "Epoch 80/100\n",
      "11/11 [==============================] - 0s 3ms/step - loss: 0.0177 - val_loss: 0.0133\n",
      "Epoch 81/100\n",
      "11/11 [==============================] - 0s 3ms/step - loss: 0.0175 - val_loss: 0.0135\n",
      "Epoch 82/100\n",
      "11/11 [==============================] - 0s 3ms/step - loss: 0.0176 - val_loss: 0.0131\n",
      "Epoch 83/100\n"
     ]
    },
    {
     "name": "stdout",
     "output_type": "stream",
     "text": [
      "11/11 [==============================] - 0s 3ms/step - loss: 0.0175 - val_loss: 0.0140\n",
      "Epoch 84/100\n",
      "11/11 [==============================] - 0s 3ms/step - loss: 0.0172 - val_loss: 0.0132\n",
      "Epoch 85/100\n",
      "11/11 [==============================] - 0s 4ms/step - loss: 0.0172 - val_loss: 0.0133\n",
      "Epoch 86/100\n",
      "11/11 [==============================] - 0s 5ms/step - loss: 0.0170 - val_loss: 0.0132\n",
      "Epoch 87/100\n",
      "11/11 [==============================] - 0s 4ms/step - loss: 0.0169 - val_loss: 0.0133\n",
      "Epoch 88/100\n",
      "11/11 [==============================] - 0s 4ms/step - loss: 0.0170 - val_loss: 0.0129\n",
      "Epoch 89/100\n",
      "11/11 [==============================] - 0s 4ms/step - loss: 0.0166 - val_loss: 0.0132\n",
      "Epoch 90/100\n",
      "11/11 [==============================] - 0s 4ms/step - loss: 0.0166 - val_loss: 0.0127\n",
      "Epoch 91/100\n",
      "11/11 [==============================] - 0s 3ms/step - loss: 0.0168 - val_loss: 0.0127\n",
      "Epoch 92/100\n",
      "11/11 [==============================] - 0s 3ms/step - loss: 0.0165 - val_loss: 0.0130\n",
      "Epoch 93/100\n",
      "11/11 [==============================] - 0s 3ms/step - loss: 0.0164 - val_loss: 0.0124\n",
      "Epoch 94/100\n",
      "11/11 [==============================] - 0s 3ms/step - loss: 0.0163 - val_loss: 0.0125\n",
      "Epoch 95/100\n",
      "11/11 [==============================] - 0s 3ms/step - loss: 0.0164 - val_loss: 0.0123\n",
      "Epoch 96/100\n",
      "11/11 [==============================] - 0s 3ms/step - loss: 0.0162 - val_loss: 0.0127\n",
      "Epoch 97/100\n",
      "11/11 [==============================] - 0s 3ms/step - loss: 0.0159 - val_loss: 0.0120\n",
      "Epoch 98/100\n",
      "11/11 [==============================] - 0s 3ms/step - loss: 0.0158 - val_loss: 0.0123\n",
      "Epoch 99/100\n",
      "11/11 [==============================] - 0s 3ms/step - loss: 0.0157 - val_loss: 0.0121\n",
      "Epoch 100/100\n",
      "11/11 [==============================] - 0s 3ms/step - loss: 0.0156 - val_loss: 0.0120\n"
     ]
    }
   ],
   "source": [
    "df = pd.read_csv(\"../data/3_datasets_new/train/1_RN_data_TRAIN.csv\")\n",
    "df.drop([\"c/b\", \"F\"], axis=1, inplace=True)\n",
    "d = df.to_numpy()\n",
    "\n",
    "history, model = NN(d[:,:-1], d[:,-1])\n",
    "\n",
    "model.save(\"results/d1/models/all/d1_nn.h5\")"
   ]
  },
  {
   "cell_type": "markdown",
   "id": "4b0d3284",
   "metadata": {},
   "source": [
    "## $0 \\le \\frac{a}{c} \\le 2$"
   ]
  },
  {
   "cell_type": "code",
   "execution_count": 60,
   "id": "c58ec07a",
   "metadata": {},
   "outputs": [
    {
     "name": "stdout",
     "output_type": "stream",
     "text": [
      "5/5 [==============================] - 0s 798us/step - loss: 0.0200\n"
     ]
    }
   ],
   "source": [
    "# Loading test dataset\n",
    "df = pd.read_csv(\"../data/3_datasets_new/test/1_RN_data_TEST.csv\")\n",
    "df.drop([\"c/b\", \"F\"], axis=1, inplace=True)\n",
    "d_test = df.to_numpy()\n",
    "\n",
    "# Testing\n",
    "MSE = []\n",
    "for i in range(1, 5):\n",
    "    reg = load('results/d1/models/all/d1_poly_degree_{}.joblib'.format(i))\n",
    "    results = reg.predict(d_test[:,:-1])\n",
    "    mse = np.sum((results - d_test[:,-1])**2)/len(d_test)\n",
    "    MSE.append(mse)\n",
    "    \n",
    "reg = load('results/d1/models/all/d1_rbf.joblib')\n",
    "results = reg.predict(d_test[:,:-1])\n",
    "mse = np.sum((results - d_test[:,-1])**2)/len(d_test)\n",
    "MSE.append(mse)\n",
    "\n",
    "nn = tf.keras.models.load_model(\"results/d1/models/all/d1_nn.h5\")\n",
    "mse = nn.evaluate(d_test[:,:-1], d_test[:,-1])\n",
    "MSE.append(mse)"
   ]
  },
  {
   "cell_type": "code",
   "execution_count": 61,
   "id": "69776175",
   "metadata": {},
   "outputs": [
    {
     "name": "stdout",
     "output_type": "stream",
     "text": [
      "1113/1113 [==============================] - 1s 664us/step - loss: 0.0084\n"
     ]
    }
   ],
   "source": [
    "# Loading test dataset\n",
    "df = pd.read_csv(\"../data/3_datasets_new/test/2_RN_eqn_TEST.csv\")\n",
    "df.drop([\"c/b\", \"F\"], axis=1, inplace=True)\n",
    "d_test = df.to_numpy()\n",
    "\n",
    "# Testing\n",
    "MSE_base = []\n",
    "for i in range(1, 5):\n",
    "    reg = load('results/d1/models/all/d1_poly_degree_{}.joblib'.format(i))\n",
    "    results = reg.predict(d_test[:,:-1])\n",
    "    mse = np.sum((results - d_test[:,-1])**2)/len(d_test)\n",
    "    MSE_base.append(mse)\n",
    "    \n",
    "reg = load('results/d1/models/all/d1_rbf.joblib')\n",
    "results = reg.predict(d_test[:,:-1])\n",
    "mse = np.sum((results - d_test[:,-1])**2)/len(d_test)\n",
    "MSE_base.append(mse)\n",
    "\n",
    "nn = tf.keras.models.load_model(\"results/d1/models/all/d1_nn.h5\")\n",
    "mse = nn.evaluate(d_test[:,:-1], d_test[:,-1])\n",
    "MSE_base.append(mse)"
   ]
  },
  {
   "cell_type": "markdown",
   "id": "abfcb9d4",
   "metadata": {},
   "source": [
    "## $ \\frac{a}{c} \\le 1$"
   ]
  },
  {
   "cell_type": "markdown",
   "id": "612e4647",
   "metadata": {},
   "source": [
    "### No Boost"
   ]
  },
  {
   "cell_type": "code",
   "execution_count": 62,
   "id": "7189bcd2",
   "metadata": {},
   "outputs": [
    {
     "name": "stdout",
     "output_type": "stream",
     "text": [
      "4/4 [==============================] - 0s 1ms/step - loss: 0.0191\n"
     ]
    }
   ],
   "source": [
    "d_test = np.load(\"Test_2/data/test/d1_test_le.npy\")\n",
    "\n",
    "# Testing\n",
    "MSE_le_nb = []\n",
    "for i in range(1, 5):\n",
    "    reg = load('results/d1/models/le/no_boost/le_poly_degree_{}.joblib'.format(i))\n",
    "    results = reg.predict(d_test[:,:-1])\n",
    "    mse = np.sum((results - d_test[:,-1])**2)/len(d_test)\n",
    "    MSE_le_nb.append(mse)\n",
    "    \n",
    "reg = load('results/d1/models/le/no_boost/le_rbf.joblib')\n",
    "results = reg.predict(d_test[:,:-1])\n",
    "mse = np.sum((results - d_test[:,-1])**2)/len(d_test)\n",
    "MSE_le_nb.append(mse)\n",
    "\n",
    "nn = tf.keras.models.load_model(\"results/d1/models/le/no_boost/le_nn.h5\")\n",
    "mse = nn.evaluate(d_test[:,:-1], d_test[:,-1])\n",
    "MSE_le_nb.append(mse)"
   ]
  },
  {
   "cell_type": "code",
   "execution_count": 63,
   "id": "84f59a8e",
   "metadata": {},
   "outputs": [
    {
     "name": "stdout",
     "output_type": "stream",
     "text": [
      "599/599 [==============================] - 0s 657us/step - loss: 0.0075\n"
     ]
    }
   ],
   "source": [
    "d_test = np.load(\"Test_2/data/test/d2_test_le.npy\")\n",
    "\n",
    "# Testing\n",
    "MSE_le_nb_base = []\n",
    "for i in range(1, 5):\n",
    "    reg = load('results/d1/models/le/no_boost/le_poly_degree_{}.joblib'.format(i))\n",
    "    results = reg.predict(d_test[:,:-1])\n",
    "    mse = np.sum((results - d_test[:,-1])**2)/len(d_test)\n",
    "    MSE_le_nb_base.append(mse)\n",
    "    \n",
    "reg = load('results/d1/models/le/no_boost/le_rbf.joblib')\n",
    "results = reg.predict(d_test[:,:-1])\n",
    "mse = np.sum((results - d_test[:,-1])**2)/len(d_test)\n",
    "MSE_le_nb_base.append(mse)\n",
    "\n",
    "nn = tf.keras.models.load_model(\"results/d1/models/le/no_boost/le_nn.h5\")\n",
    "mse = nn.evaluate(d_test[:,:-1], d_test[:,-1])\n",
    "MSE_le_nb_base.append(mse)"
   ]
  },
  {
   "cell_type": "markdown",
   "id": "fa9893b2",
   "metadata": {},
   "source": [
    "### Boost"
   ]
  },
  {
   "cell_type": "code",
   "execution_count": 64,
   "id": "93d6eefe",
   "metadata": {},
   "outputs": [],
   "source": [
    "d_test = np.load(\"Test_2/data/test/d1_test_le.npy\")\n",
    "\n",
    "# Testing\n",
    "MSE_le_b = []\n",
    "for i in range(4):\n",
    "    reg = load('results/d1/models/le/boost/le_M_poly_degree_{}.joblib'.format(i))\n",
    "    M = reg.predict(d_test[:,:2])\n",
    "    reg = load('results/d1/models/le/boost/le_g_poly_degree_{}.joblib'.format(i))\n",
    "    g = reg.predict(d_test[:,1:-1])\n",
    "    results = M*g\n",
    "    mse = np.sum((results - d_test[:,-1])**2)/len(d_test)\n",
    "    MSE_le_b.append(mse)\n",
    "    \n",
    "reg = load('results/d1/models/le/boost/le_M_rbf.joblib')\n",
    "M = reg.predict(d_test[:,:2])\n",
    "reg = load('results/d1/models/le/boost/le_g_rbf.joblib')\n",
    "g = reg.predict(d_test[:,1:-1])\n",
    "results = M*g\n",
    "mse = np.sum((results - d_test[:,-1])**2)/len(d_test)\n",
    "MSE_le_b.append(mse)    \n",
    "\n",
    "nn = tf.keras.models.load_model(\"results/d1/models/le/boost/le_M_nn.h5\")\n",
    "M = nn.predict(d_test[:,:2])\n",
    "nn = tf.keras.models.load_model(\"results/d1/models/le/boost/le_g_nn.h5\")\n",
    "g = nn.predict(d_test[:,1:-1])\n",
    "results = M*g\n",
    "mse = np.sum((results - d_test[:,-1])**2)/len(d_test)\n",
    "MSE_le_b.append(mse)   "
   ]
  },
  {
   "cell_type": "code",
   "execution_count": 65,
   "id": "6d2aed27",
   "metadata": {},
   "outputs": [],
   "source": [
    "d_test = np.load(\"Test_2/data/test/d2_test_le.npy\")\n",
    "\n",
    "# Testing\n",
    "MSE_le_b_base = []\n",
    "for i in range(4):\n",
    "    reg = load('results/d1/models/le/boost/le_M_poly_degree_{}.joblib'.format(i))\n",
    "    M = reg.predict(d_test[:,:2])\n",
    "    reg = load('results/d1/models/le/boost/le_g_poly_degree_{}.joblib'.format(i))\n",
    "    g = reg.predict(d_test[:,1:-1])\n",
    "    results = M*g\n",
    "    mse = np.sum((results - d_test[:,-1])**2)/len(d_test)\n",
    "    MSE_le_b_base.append(mse)\n",
    "    \n",
    "reg = load('results/d1/models/le/boost/le_M_rbf.joblib')\n",
    "M = reg.predict(d_test[:,:2])\n",
    "reg = load('results/d1/models/le/boost/le_g_rbf.joblib')\n",
    "g = reg.predict(d_test[:,1:-1])\n",
    "results = M*g\n",
    "mse = np.sum((results - d_test[:,-1])**2)/len(d_test)\n",
    "MSE_le_b_base.append(mse)   \n",
    "\n",
    "nn = tf.keras.models.load_model(\"results/d1/models/le/boost/le_M_nn.h5\")\n",
    "M = nn.predict(d_test[:,:2])\n",
    "nn = tf.keras.models.load_model(\"results/d1/models/le/boost/le_g_nn.h5\")\n",
    "g = nn.predict(d_test[:,1:-1])\n",
    "results = M*g\n",
    "mse = np.sum((results - d_test[:,-1])**2)/len(d_test)\n",
    "MSE_le_b_base.append(mse) "
   ]
  },
  {
   "cell_type": "markdown",
   "id": "5fc0d21e",
   "metadata": {},
   "source": [
    "## $ \\frac{a}{c} > 1$"
   ]
  },
  {
   "cell_type": "markdown",
   "id": "1cf0815c",
   "metadata": {},
   "source": [
    "### No Boost"
   ]
  },
  {
   "cell_type": "code",
   "execution_count": 66,
   "id": "ec044e9e",
   "metadata": {},
   "outputs": [
    {
     "name": "stdout",
     "output_type": "stream",
     "text": [
      "1/1 [==============================] - 0s 58ms/step - loss: 0.0100\n"
     ]
    }
   ],
   "source": [
    "d_test = np.load(\"Test_2/data/test/d1_test_g.npy\")\n",
    "\n",
    "# Testing\n",
    "MSE_g_nb = []\n",
    "for i in range(1, 5):\n",
    "    reg = load('results/d1/models/g/no_boost/g_poly_degree_{}.joblib'.format(i))\n",
    "    results = reg.predict(d_test[:,:-1])\n",
    "    mse = np.sum((results - d_test[:,-1])**2)/len(d_test)\n",
    "    MSE_g_nb.append(mse)\n",
    "    \n",
    "reg = load('results/d1/models/g/no_boost/g_rbf.joblib')\n",
    "results = reg.predict(d_test[:,:-1])\n",
    "mse = np.sum((results - d_test[:,-1])**2)/len(d_test)\n",
    "MSE_g_nb.append(mse)\n",
    "\n",
    "nn = tf.keras.models.load_model(\"results/d1/models/g/no_boost/le_nn.h5\")\n",
    "mse = nn.evaluate(d_test[:,:-1], d_test[:,-1])\n",
    "MSE_g_nb.append(mse)"
   ]
  },
  {
   "cell_type": "code",
   "execution_count": 67,
   "id": "653ff02a",
   "metadata": {},
   "outputs": [
    {
     "name": "stdout",
     "output_type": "stream",
     "text": [
      "514/514 [==============================] - 0s 621us/step - loss: 0.0825\n"
     ]
    }
   ],
   "source": [
    "d_test = np.load(\"Test_2/data/test/d2_test_g.npy\")\n",
    "\n",
    "# Testing\n",
    "MSE_g_nb_base = []\n",
    "for i in range(1, 5):\n",
    "    reg = load('results/d1/models/g/no_boost/g_poly_degree_{}.joblib'.format(i))\n",
    "    results = reg.predict(d_test[:,:-1])\n",
    "    mse = np.sum((results - d_test[:,-1])**2)/len(d_test)\n",
    "    MSE_g_nb_base.append(mse)\n",
    "    \n",
    "reg = load('results/d1/models/g/no_boost/g_rbf.joblib')\n",
    "results = reg.predict(d_test[:,:-1])\n",
    "mse = np.sum((results - d_test[:,-1])**2)/len(d_test)\n",
    "MSE_g_nb_base.append(mse)\n",
    "\n",
    "nn = tf.keras.models.load_model(\"results/d1/models/g/no_boost/le_nn.h5\")\n",
    "mse = nn.evaluate(d_test[:,:-1], d_test[:,-1])\n",
    "MSE_g_nb_base.append(mse)"
   ]
  },
  {
   "cell_type": "markdown",
   "id": "3df50cc1",
   "metadata": {},
   "source": [
    "### Boost"
   ]
  },
  {
   "cell_type": "code",
   "execution_count": 68,
   "id": "29aa7531",
   "metadata": {},
   "outputs": [],
   "source": [
    "d_test = np.load(\"Test_2/data/test/d1_test_g.npy\")\n",
    "\n",
    "# Testing\n",
    "MSE_g_b = []\n",
    "for i in range(4):\n",
    "    reg = load('results/d1/models/g/boost/g_M_poly_degree_{}.joblib'.format(i))\n",
    "    M = reg.predict(d_test[:,:2])\n",
    "    reg = load('results/d1/models/g/boost/g_g_poly_degree_{}.joblib'.format(i))\n",
    "    g = reg.predict(d_test[:,:-1])\n",
    "    results = M*g\n",
    "    mse = np.sum((results - d_test[:,-1])**2)/len(d_test)\n",
    "    MSE_g_b.append(mse)\n",
    "    \n",
    "reg = load('results/d1/models/g/boost/g_M_rbf.joblib')\n",
    "M = reg.predict(d_test[:,:2])\n",
    "reg = load('results/d1/models/g/boost/g_g_rbf.joblib')\n",
    "g = reg.predict(d_test[:,:-1])\n",
    "results = M*g\n",
    "mse = np.sum((results - d_test[:,-1])**2)/len(d_test)\n",
    "MSE_g_b.append(mse)   \n",
    "\n",
    "nn = tf.keras.models.load_model(\"results/d1/models/g/boost/le_M_nn.h5\")\n",
    "M = nn.predict(d_test[:,:2])\n",
    "nn = tf.keras.models.load_model(\"results/d1/models/g/boost/le_g_nn.h5\")\n",
    "g = nn.predict(d_test[:,:-1])\n",
    "results = M*g\n",
    "mse = np.sum((results - d_test[:,-1])**2)/len(d_test)\n",
    "MSE_g_b.append(mse)   "
   ]
  },
  {
   "cell_type": "code",
   "execution_count": 69,
   "id": "2b53e387",
   "metadata": {},
   "outputs": [],
   "source": [
    "d_test = np.load(\"Test_2/data/test/d2_test_g.npy\")\n",
    "\n",
    "# Testing\n",
    "MSE_g_b_base = []\n",
    "for i in range(4):\n",
    "    reg = load('results/d1/models/g/boost/g_M_poly_degree_{}.joblib'.format(i))\n",
    "    M = reg.predict(d_test[:,:2])\n",
    "    reg = load('results/d1/models/g/boost/g_g_poly_degree_{}.joblib'.format(i))\n",
    "    g = reg.predict(d_test[:,:-1])\n",
    "    results = M*g\n",
    "    mse = np.sum((results - d_test[:,-1])**2)/len(d_test)\n",
    "    MSE_g_b_base.append(mse)\n",
    "    \n",
    "reg = load('results/d1/models/g/boost/g_M_rbf.joblib')\n",
    "M = reg.predict(d_test[:,:2])\n",
    "reg = load('results/d1/models/g/boost/g_g_rbf.joblib')\n",
    "g = reg.predict(d_test[:,:-1])\n",
    "results = M*g\n",
    "mse = np.sum((results - d_test[:,-1])**2)/len(d_test)\n",
    "MSE_g_b_base.append(mse) \n",
    "\n",
    "nn = tf.keras.models.load_model(\"results/d1/models/g/boost/le_M_nn.h5\")\n",
    "M = nn.predict(d_test[:,:2])\n",
    "nn = tf.keras.models.load_model(\"results/d1/models/g/boost/le_g_nn.h5\")\n",
    "g = nn.predict(d_test[:,:-1])\n",
    "results = M*g\n",
    "mse = np.sum((results - d_test[:,-1])**2)/len(d_test)\n",
    "MSE_g_b_base.append(mse)   "
   ]
  },
  {
   "cell_type": "markdown",
   "id": "1b897802",
   "metadata": {},
   "source": [
    "## Plot"
   ]
  },
  {
   "cell_type": "markdown",
   "id": "1ea3aa70",
   "metadata": {},
   "source": [
    "#### Test dataset"
   ]
  },
  {
   "cell_type": "code",
   "execution_count": 70,
   "id": "6bdd26e8",
   "metadata": {},
   "outputs": [
    {
     "data": {
      "text/plain": [
       "<matplotlib.legend.Legend at 0x7f28e7804970>"
      ]
     },
     "execution_count": 70,
     "metadata": {},
     "output_type": "execute_result"
    },
    {
     "data": {
      "image/png": "[encoded data removed]",
      "text/plain": [
       "<Figure size 432x288 with 1 Axes>"
      ]
     },
     "metadata": {
      "needs_background": "light"
     },
     "output_type": "display_data"
    }
   ],
   "source": [
    "algos = [\"Poly 1\", \"Poly 2\", \"Poly 3\", \"Poly 4\", \"RBF\", \"NN\"]\n",
    "plt.plot(algos, MSE, label=\"All points\")\n",
    "plt.ylabel(\"MSE\")\n",
    "plt.legend()"
   ]
  },
  {
   "cell_type": "code",
   "execution_count": 71,
   "id": "f571e63e",
   "metadata": {},
   "outputs": [
    {
     "data": {
      "text/plain": [
       "<matplotlib.legend.Legend at 0x7f28e7819d00>"
      ]
     },
     "execution_count": 71,
     "metadata": {},
     "output_type": "execute_result"
    },
    {
     "data": {
      "image/png": "[encoded data removed]",
      "text/plain": [
       "<Figure size 432x288 with 1 Axes>"
      ]
     },
     "metadata": {
      "needs_background": "light"
     },
     "output_type": "display_data"
    }
   ],
   "source": [
    "algos = [\"Poly 1\", \"Poly 2\", \"Poly 3\", \"Poly 4\", \"RBF\", \"NN\"]\n",
    "plt.plot(algos, MSE, label=\"All points\")\n",
    "plt.plot(algos, MSE_le_nb, label=\"a/c<=1 & No Boosting\")\n",
    "plt.plot(algos, MSE_g_nb, label=\"a/c>1 & No Boosting\")\n",
    "plt.ylabel(\"MSE\")\n",
    "plt.legend()"
   ]
  },
  {
   "cell_type": "code",
   "execution_count": 72,
   "id": "d3f57d2a",
   "metadata": {},
   "outputs": [
    {
     "data": {
      "text/plain": [
       "<matplotlib.legend.Legend at 0x7f28e77f3be0>"
      ]
     },
     "execution_count": 72,
     "metadata": {},
     "output_type": "execute_result"
    },
    {
     "data": {
      "image/png": "[encoded data removed]",
      "text/plain": [
       "<Figure size 432x288 with 1 Axes>"
      ]
     },
     "metadata": {
      "needs_background": "light"
     },
     "output_type": "display_data"
    }
   ],
   "source": [
    "algos = [\"Poly 1\", \"Poly 2\", \"Poly 3\", \"Poly 4\", \"RBF\", \"NN\"]\n",
    "plt.plot(algos, MSE, label=\"All points\")\n",
    "plt.plot(algos, MSE_le_b, label=\"a/c<=1 & Boosting\")\n",
    "plt.plot(algos, MSE_g_b, label=\"a/c>1 & Boosting\")\n",
    "plt.ylabel(\"MSE\")\n",
    "plt.semilogy()\n",
    "plt.legend()"
   ]
  },
  {
   "cell_type": "code",
   "execution_count": 74,
   "id": "4fa0907b",
   "metadata": {},
   "outputs": [
    {
     "data": {
      "text/plain": [
       "<matplotlib.legend.Legend at 0x7f28e758d760>"
      ]
     },
     "execution_count": 74,
     "metadata": {},
     "output_type": "execute_result"
    },
    {
     "data": {
      "image/png": "[encoded data removed]",
      "text/plain": [
       "<Figure size 432x288 with 1 Axes>"
      ]
     },
     "metadata": {
      "needs_background": "light"
     },
     "output_type": "display_data"
    }
   ],
   "source": [
    "algos = [\"Poly 1\", \"Poly 2\", \"Poly 3\", \"Poly 4\", \"RBF\", \"NN\"]\n",
    "plt.plot(algos, MSE, label=\"All points\")\n",
    "plt.plot(algos, MSE_le_nb, label=\"a/c<=1 & No Boosting\")\n",
    "plt.plot(algos, MSE_g_nb, label=\"a/c>1 & No Boosting\")\n",
    "plt.plot(algos, MSE_le_b, label=\"a/c<=1 & Boosting\")\n",
    "plt.plot(algos, MSE_g_b, label=\"a/c>1 & Boosting\")\n",
    "plt.ylabel(\"MSE\")\n",
    "plt.semilogy()\n",
    "plt.legend()"
   ]
  },
  {
   "cell_type": "markdown",
   "id": "dfec1dac",
   "metadata": {},
   "source": [
    "#### Baseline"
   ]
  },
  {
   "cell_type": "code",
   "execution_count": 75,
   "id": "dfffb314",
   "metadata": {},
   "outputs": [
    {
     "data": {
      "text/plain": [
       "<matplotlib.legend.Legend at 0x7f28e7602760>"
      ]
     },
     "execution_count": 75,
     "metadata": {},
     "output_type": "execute_result"
    },
    {
     "data": {
      "image/png": "[encoded data removed]",
      "text/plain": [
       "<Figure size 432x288 with 1 Axes>"
      ]
     },
     "metadata": {
      "needs_background": "light"
     },
     "output_type": "display_data"
    }
   ],
   "source": [
    "algos = [\"Poly 1\", \"Poly 2\", \"Poly 3\", \"Poly 4\", \"RBF\", \"NN\"]\n",
    "plt.plot(algos, MSE_base, label=\"All points baseline\")\n",
    "plt.plot(algos, MSE, label=\"All points\")\n",
    "plt.ylabel(\"MSE\")\n",
    "plt.legend()"
   ]
  },
  {
   "cell_type": "code",
   "execution_count": 76,
   "id": "20f531bc",
   "metadata": {},
   "outputs": [
    {
     "data": {
      "text/plain": [
       "<matplotlib.legend.Legend at 0x7f28e73ef1c0>"
      ]
     },
     "execution_count": 76,
     "metadata": {},
     "output_type": "execute_result"
    },
    {
     "data": {
      "image/png": "[encoded data removed]",
      "text/plain": [
       "<Figure size 432x288 with 1 Axes>"
      ]
     },
     "metadata": {
      "needs_background": "light"
     },
     "output_type": "display_data"
    }
   ],
   "source": [
    "algos = [\"Poly 1\", \"Poly 2\", \"Poly 3\", \"Poly 4\", \"RBF\", \"NN\"]\n",
    "plt.plot(algos, MSE_base, label=\"All points\")\n",
    "plt.plot(algos, MSE_le_nb_base, label=\"a/c<=1 & No Boosting\")\n",
    "plt.plot(algos, MSE_g_nb_base, label=\"a/c>1 & No Boosting\")\n",
    "plt.ylabel(\"MSE\")\n",
    "plt.legend()"
   ]
  },
  {
   "cell_type": "code",
   "execution_count": 77,
   "id": "3c5e1ef5",
   "metadata": {},
   "outputs": [
    {
     "data": {
      "text/plain": [
       "<matplotlib.legend.Legend at 0x7f28e7433f40>"
      ]
     },
     "execution_count": 77,
     "metadata": {},
     "output_type": "execute_result"
    },
    {
     "data": {
      "image/png": "[encoded data removed]",
      "text/plain": [
       "<Figure size 432x288 with 1 Axes>"
      ]
     },
     "metadata": {
      "needs_background": "light"
     },
     "output_type": "display_data"
    }
   ],
   "source": [
    "algos = [\"Poly 1\", \"Poly 2\", \"Poly 3\", \"Poly 4\", \"RBF\", \"NN\"]\n",
    "plt.plot(algos, MSE_base, label=\"All points\")\n",
    "plt.plot(algos, MSE_le_b_base, label=\"a/c<=1 & Boosting\")\n",
    "plt.plot(algos, MSE_g_b_base, label=\"a/c>1 & Boosting\")\n",
    "plt.ylabel(\"MSE\")\n",
    "plt.semilogy()\n",
    "plt.legend()"
   ]
  },
  {
   "cell_type": "code",
   "execution_count": 78,
   "id": "f1630ac6",
   "metadata": {},
   "outputs": [
    {
     "data": {
      "text/plain": [
       "<matplotlib.legend.Legend at 0x7f28e72b95b0>"
      ]
     },
     "execution_count": 78,
     "metadata": {},
     "output_type": "execute_result"
    },
    {
     "data": {
      "image/png": "[encoded data removed]",
      "text/plain": [
       "<Figure size 432x288 with 1 Axes>"
      ]
     },
     "metadata": {
      "needs_background": "light"
     },
     "output_type": "display_data"
    }
   ],
   "source": [
    "algos = [\"Poly 1\", \"Poly 2\", \"Poly 3\", \"Poly 4\", \"RBF\", \"NN\"]\n",
    "plt.plot(algos, MSE_base, label=\"All points\")\n",
    "plt.plot(algos, MSE_le_nb_base, label=\"a/c<=1 & No Boosting\")\n",
    "plt.plot(algos, MSE_g_nb_base, label=\"a/c>1 & No Boosting\")\n",
    "plt.plot(algos, MSE_le_b_base, label=\"a/c<=1 & Boosting\")\n",
    "plt.plot(algos, MSE_g_b_base, label=\"a/c>1 & Boosting\")\n",
    "plt.ylabel(\"MSE\")\n",
    "plt.semilogy()\n",
    "plt.legend()"
   ]
  },
  {
   "cell_type": "code",
   "execution_count": null,
   "id": "59e68fd4",
   "metadata": {},
   "outputs": [],
   "source": []
  }
 ],
 "metadata": {
  "kernelspec": {
   "display_name": "Python 3 (ipykernel)",
   "language": "python",
   "name": "python3"
  },
  "language_info": {
   "codemirror_mode": {
    "name": "ipython",
    "version": 3
   },
   "file_extension": ".py",
   "mimetype": "text/x-python",
   "name": "python",
   "nbconvert_exporter": "python",
   "pygments_lexer": "ipython3",
   "version": "3.9.7"
  }
 },
 "nbformat": 4,
 "nbformat_minor": 5
}
