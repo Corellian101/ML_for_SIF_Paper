{
 "cells": [
  {
   "cell_type": "code",
   "execution_count": 60,
   "id": "8b5f0086",
   "metadata": {},
   "outputs": [],
   "source": [
    "import numpy as np\n",
    "import matplotlib.pyplot as plt\n",
    "from sklearn.svm import SVR\n",
    "import pandas as pd\n",
    "import timeit\n",
    "import time\n",
    "import tensorflow as tf\n",
    "from joblib import dump, load\n",
    "import numpy as np\n",
    "import matplotlib.pyplot as plt\n",
    "from sklearn.svm import SVR\n",
    "import pandas as pd\n",
    "import timeit\n",
    "import time\n",
    "\n",
    "import numpy as np\n",
    "import tensorflow as tf\n",
    "import pandas as pd\n",
    "from sklearn.preprocessing import StandardScaler\n",
    "from tensorflow.keras.models import Sequential\n",
    "from tensorflow.keras.layers import Dense\n",
    "from sklearn.model_selection import train_test_split\n",
    "from tensorflow.keras.callbacks import EarlyStopping\n",
    "import matplotlib.pyplot as plt"
   ]
  },
  {
   "cell_type": "code",
   "execution_count": 61,
   "id": "197ae594",
   "metadata": {},
   "outputs": [],
   "source": [
    "def rbf_svm(train_data, pred_var, data_name):\n",
    "    t0 = time.time()\n",
    "    reg = SVR(kernel=\"rbf\")\n",
    "    reg.fit(train_data[:,:-1], train_data[:,-1])\n",
    "    t1 = time.time()\n",
    "    t = t1-t0\n",
    "    dump(reg, 'results/boosting/models/{}_{}_rbf.joblib'.format(data_name,pred_var))\n",
    "    np.save(\"results/boosting/times/{}_{}_rbf_times.npy\".format(data_name,pred_var),t)\n",
    "    return reg, t\n",
    "\n",
    "def NN(data):\n",
    "    X_train = data[:,:-1]\n",
    "    y_train = data[:,-1]\n",
    "    #create model\n",
    "    model = Sequential()\n",
    "\n",
    "    #get number of columns in training data\n",
    "    n_cols = X_train.shape[1]\n",
    "\n",
    "    #add model layers\n",
    "    model.add(Dense(10, activation='relu', input_shape=(n_cols,)))\n",
    "    model.add(Dense(10, activation='relu'))\n",
    "    model.add(Dense(10, activation='relu'))\n",
    "    model.add(Dense(1, activation='relu'))\n",
    "\n",
    "    model.compile(optimizer='adam', loss='mse')\n",
    "    early_stopping_monitor = EarlyStopping(patience=10)\n",
    "    history = model.fit(X_train, y_train, validation_split=0.2, \n",
    "                        epochs=100, callbacks=[early_stopping_monitor])\n",
    "\n",
    "    return model"
   ]
  },
  {
   "cell_type": "code",
   "execution_count": 70,
   "id": "b117c2f8",
   "metadata": {},
   "outputs": [],
   "source": [
    "def boost(d_le1, d_g1, data_name):\n",
    "    # a/c <= 1 \n",
    "    data = []\n",
    "    for row in d_le1:\n",
    "        if (row[2] > 1.5 and row[2] < 1.65):\n",
    "            data.append(np.delete(row, 2))\n",
    "    data = np.array(data)\n",
    "    reg_M, t = rbf_svm(data, \"M\", data_name+\"_le1\")\n",
    "    M = reg_M.predict(d_le1[:,:2])\n",
    "    d_le1[:,-1] /= M\n",
    "    reg_g, t = rbf_svm(d_le1[:,1:], \"g\", data_name+\"_le1\")\n",
    "    \n",
    "    # a/c > 1 \n",
    "    data = []\n",
    "    for row in d_g1:\n",
    "        if (row[2] > 1.5 and row[2] < 1.65):\n",
    "            data.append(np.delete(row, 2))\n",
    "    data = np.array(data)\n",
    "    reg_M, t = rbf_svm(data, \"M\", data_name+\"_g1\")\n",
    "    M = reg_M.predict(d_g1[:,:2])\n",
    "    d_g1[:,-1] /= M\n",
    "    reg_g, t = rbf_svm(d_g1, \"g\", data_name+\"_g1\")\n",
    "    return reg_M, reg_g"
   ]
  },
  {
   "cell_type": "code",
   "execution_count": 71,
   "id": "53bd188e",
   "metadata": {},
   "outputs": [],
   "source": [
    "d1_g1 = np.load(\"data/2_RN_eqn_ac_g1.npy\")\n",
    "d1_le1 = np.load(\"data/2_RN_eqn_ac_le1.npy\")"
   ]
  },
  {
   "cell_type": "code",
   "execution_count": 72,
   "id": "d3615a1f",
   "metadata": {},
   "outputs": [],
   "source": [
    "reg_M, reg_g = boost(d1_le1, d1_g1, \"d1\")"
   ]
  },
  {
   "cell_type": "code",
   "execution_count": 74,
   "id": "e0a3bd06",
   "metadata": {},
   "outputs": [
    {
     "data": {
      "text/plain": [
       "0.05048539316035211"
      ]
     },
     "execution_count": 74,
     "metadata": {},
     "output_type": "execute_result"
    }
   ],
   "source": [
    "test_data = np.load(\"data/test/d2_test_g.npy\")\n",
    "M = reg_M.predict(test_data[:,:2])\n",
    "g = reg_g.predict(test_data[:,:-1])\n",
    "Mg = M*g\n",
    "\n",
    "np.mean(Mg - test_data[:,-1])"
   ]
  },
  {
   "cell_type": "code",
   "execution_count": null,
   "id": "7b5618d6",
   "metadata": {},
   "outputs": [],
   "source": []
  }
 ],
 "metadata": {
  "kernelspec": {
   "display_name": "Python 3 (ipykernel)",
   "language": "python",
   "name": "python3"
  },
  "language_info": {
   "codemirror_mode": {
    "name": "ipython",
    "version": 3
   },
   "file_extension": ".py",
   "mimetype": "text/x-python",
   "name": "python",
   "nbconvert_exporter": "python",
   "pygments_lexer": "ipython3",
   "version": "3.9.7"
  }
 },
 "nbformat": 4,
 "nbformat_minor": 5
}
