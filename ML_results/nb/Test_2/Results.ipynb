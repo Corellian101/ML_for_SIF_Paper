{
 "cells": [
  {
   "cell_type": "code",
   "execution_count": 9,
   "id": "de6fcea8",
   "metadata": {},
   "outputs": [],
   "source": [
    "import numpy as np\n",
    "import matplotlib.pyplot as plt\n",
    "from sklearn.svm import SVR\n",
    "import pandas as pd\n",
    "import timeit\n",
    "import time\n",
    "import tensorflow as tf\n",
    "from joblib import dump, load\n",
    "import numpy as np\n",
    "import matplotlib.pyplot as plt\n",
    "from sklearn.svm import SVR\n",
    "import pandas as pd\n",
    "import timeit\n",
    "import time\n",
    "\n",
    "import numpy as np\n",
    "import tensorflow as tf\n",
    "import pandas as pd\n",
    "from sklearn.preprocessing import StandardScaler\n",
    "from tensorflow.keras.models import Sequential\n",
    "from tensorflow.keras.layers import Dense\n",
    "from sklearn.model_selection import train_test_split\n",
    "from tensorflow.keras.callbacks import EarlyStopping\n",
    "import matplotlib.pyplot as plt"
   ]
  },
  {
   "cell_type": "markdown",
   "id": "2b5a13e2",
   "metadata": {},
   "source": [
    "# Loading test data"
   ]
  },
  {
   "cell_type": "code",
   "execution_count": 5,
   "id": "d6f6c4a0",
   "metadata": {},
   "outputs": [
    {
     "data": {
      "text/plain": [
       "((136, 4), (20, 4), (116, 4))"
      ]
     },
     "execution_count": 5,
     "metadata": {},
     "output_type": "execute_result"
    }
   ],
   "source": [
    "# Loading test dataset\n",
    "df = pd.read_csv(\"../../data/3_datasets_new/test/1_RN_data_TEST.csv\")\n",
    "df.drop([\"c/b\", \"F\"], axis=1, inplace=True)\n",
    "d1_test = df.to_numpy()\n",
    "d1_test_le = d1_test[d1_test[:,0]<=1]\n",
    "d1_test_g = d1_test[d1_test[:,0]>1]\n",
    "d1_test.shape, d1_test_g.shape, d1_test_le.shape"
   ]
  },
  {
   "cell_type": "code",
   "execution_count": 6,
   "id": "654f1217",
   "metadata": {},
   "outputs": [
    {
     "data": {
      "text/plain": [
       "((35599, 4), (16437, 4), (19162, 4))"
      ]
     },
     "execution_count": 6,
     "metadata": {},
     "output_type": "execute_result"
    }
   ],
   "source": [
    "# Loading test dataset\n",
    "df = pd.read_csv(\"../../data/3_datasets_new/test/2_RN_eqn_TEST.csv\")\n",
    "df.drop([\"c/b\", \"F\"], axis=1, inplace=True)\n",
    "d2_test = df.to_numpy()\n",
    "d2_test_le = d2_test[d2_test[:,0]<=1]\n",
    "d2_test_g = d2_test[d2_test[:,0]>1]\n",
    "d2_test.shape, d2_test_g.shape, d2_test_le.shape"
   ]
  },
  {
   "cell_type": "code",
   "execution_count": 7,
   "id": "0ce140c7",
   "metadata": {},
   "outputs": [
    {
     "data": {
      "text/plain": [
       "((35599, 4), (16493, 4), (19106, 4))"
      ]
     },
     "execution_count": 7,
     "metadata": {},
     "output_type": "execute_result"
    }
   ],
   "source": [
    "# Loading test dataset\n",
    "df = pd.read_csv(\"../../data/3_datasets_new/test/3_FRANC3D_FULL_TEST.csv\")\n",
    "df.drop([\"c/b\", \"F\"], axis=1, inplace=True)\n",
    "d3a_test = df.to_numpy()\n",
    "d3a_test_le = d3a_test[d3a_test[:,0]<=1]\n",
    "d3a_test_g = d3a_test[d3a_test[:,0]>1]\n",
    "d3a_test.shape, d3a_test_g.shape, d3a_test_le.shape"
   ]
  },
  {
   "cell_type": "code",
   "execution_count": 8,
   "id": "c486bd86",
   "metadata": {},
   "outputs": [
    {
     "data": {
      "text/plain": [
       "((4731, 4), (1788, 4), (2943, 4))"
      ]
     },
     "execution_count": 8,
     "metadata": {},
     "output_type": "execute_result"
    }
   ],
   "source": [
    "# Loading test dataset\n",
    "df = pd.read_csv(\"../../data/3_datasets_new/test/3_FRANC3D_PHI_SAMPLE_TEST.csv\")\n",
    "df.drop([\"c/b\", \"F\"], axis=1, inplace=True)\n",
    "d3b_test = df.to_numpy()\n",
    "d3b_test_le = d3b_test[d3b_test[:,0]<=1]\n",
    "d3b_test_g = d3b_test[d3b_test[:,0]>1]\n",
    "d3b_test.shape, d3b_test_g.shape, d3b_test_le.shape"
   ]
  },
  {
   "cell_type": "code",
   "execution_count": 12,
   "id": "802594c0",
   "metadata": {},
   "outputs": [],
   "source": [
    "np.save(\"data/test/d1_test_g.npy\", d1_test_g)\n",
    "np.save(\"data/test/d1_test_le.npy\", d1_test_le)\n",
    "\n",
    "np.save(\"data/test/d2_test_g.npy\", d2_test_g)\n",
    "np.save(\"data/test/d2_test_le.npy\", d2_test_le)\n",
    "\n",
    "np.save(\"data/test/d3a_test_g.npy\", d3a_test_g)\n",
    "np.save(\"data/test/d3a_test_le.npy\", d3a_test_le)\n",
    "\n",
    "np.save(\"data/test/d3b_test_g.npy\", d3b_test_g)\n",
    "np.save(\"data/test/d3b_test_le.npy\", d3b_test_le)"
   ]
  },
  {
   "cell_type": "markdown",
   "id": "cdb11077",
   "metadata": {},
   "source": [
    "# Poly"
   ]
  },
  {
   "cell_type": "code",
   "execution_count": 14,
   "id": "e4c6fb4f",
   "metadata": {},
   "outputs": [
    {
     "name": "stdout",
     "output_type": "stream",
     "text": [
      "Working on data  1\n",
      "Working on division  g\n",
      "Mean squared error:  0.0028745868249999973\n",
      "Mean squared error:  0.0028745868249999973\n",
      "Mean squared error:  0.0028745868249999973\n",
      "Mean squared error:  0.0028745868249999973\n",
      "Working on division  le\n",
      "Mean squared error:  0.04858544015583079\n",
      "Mean squared error:  0.028020336321843878\n",
      "Mean squared error:  0.019142940114357496\n",
      "Mean squared error:  0.023557392149839915\n",
      "Working on data  2\n",
      "Working on division  g\n",
      "Mean squared error:  0.004145052923096069\n",
      "Mean squared error:  0.002447159542760288\n",
      "Mean squared error:  0.0029345117933527636\n",
      "Mean squared error:  0.003385480236342718\n",
      "Working on division  le\n",
      "Mean squared error:  0.013057416116578145\n",
      "Mean squared error:  0.0066752799264342254\n",
      "Mean squared error:  0.00437247242283545\n",
      "Mean squared error:  0.005488296638599669\n",
      "Working on data  3a\n",
      "Working on division  g\n",
      "Mean squared error:  0.003801586327381622\n",
      "Mean squared error:  0.002472225175305001\n",
      "Mean squared error:  0.0030605107259094964\n",
      "Mean squared error:  0.0032904194822406417\n",
      "Working on division  le\n",
      "Mean squared error:  0.027789328166656774\n",
      "Mean squared error:  0.040307929496599205\n",
      "Mean squared error:  0.07105182121372987\n",
      "Mean squared error:  0.07109257826493087\n",
      "Working on data  3b\n",
      "Working on division  g\n",
      "Mean squared error:  0.003125830683235616\n",
      "Mean squared error:  0.002092021788497302\n",
      "Mean squared error:  0.0031127061607070473\n",
      "Mean squared error:  0.0034685534460347067\n",
      "Working on division  le\n",
      "Mean squared error:  0.018065078437109756\n",
      "Mean squared error:  0.010006814452997424\n",
      "Mean squared error:  0.00674644656568584\n",
      "Mean squared error:  0.008206227411120513\n"
     ]
    }
   ],
   "source": [
    "datas = ['1', '2', '3a', '3b']\n",
    "divs = ['g', 'le']\n",
    "degrees = [1,2,3,4]\n",
    "\n",
    "data_MSE = []\n",
    "for data in datas:\n",
    "    div_MSE = []\n",
    "    print(\"Working on data \", data)\n",
    "    for div in divs:\n",
    "        MSE = []\n",
    "        print(\"Working on division \", div)\n",
    "        for degree in degrees:\n",
    "            model = load('results/no_boosting/models/poly/d{}{}1_poly_degree_{}.joblib'.format(data,\n",
    "                                                                                               div,\n",
    "                                                                                               degree))\n",
    "            test_data = np.load(\"data/test/d{}_test_{}.npy\".format(data,div))\n",
    "            results = model.predict(test_data[:,:-1])\n",
    "            mse = np.sum((results - test_data[:,-1])**2)/len(test_data)\n",
    "            print(\"Mean squared error: \", mse)\n",
    "            MSE.append(mse)\n",
    "        div_MSE.append(MSE)\n",
    "    data_MSE.append(div_MSE)\n",
    "    \n"
   ]
  },
  {
   "cell_type": "markdown",
   "id": "e67fd5bf",
   "metadata": {},
   "source": [
    "# RBF"
   ]
  },
  {
   "cell_type": "code",
   "execution_count": 15,
   "id": "a566bb5b",
   "metadata": {},
   "outputs": [
    {
     "name": "stdout",
     "output_type": "stream",
     "text": [
      "Working on data  1\n",
      "Working on division  g\n",
      "Mean squared error:  0.0028745868249999973\n",
      "Working on division  le\n",
      "Mean squared error:  0.010445684814969955\n",
      "Working on data  2\n",
      "Working on division  g\n",
      "Mean squared error:  0.0048975322175336304\n",
      "Working on division  le\n",
      "Mean squared error:  0.0024900070690098185\n",
      "Working on data  3a\n",
      "Working on division  g\n",
      "Mean squared error:  0.004497485517918559\n",
      "Working on division  le\n",
      "Mean squared error:  0.061165686229179436\n",
      "Working on data  3b\n",
      "Working on division  g\n",
      "Mean squared error:  0.004689568431863995\n",
      "Working on division  le\n",
      "Mean squared error:  0.0030075644578352895\n"
     ]
    }
   ],
   "source": [
    "datas = ['1', '2', '3a', '3b']\n",
    "divs = ['g', 'le']\n",
    "\n",
    "data_MSE = []\n",
    "for data in datas:\n",
    "    div_MSE = []\n",
    "    print(\"Working on data \", data)\n",
    "    for div in divs:\n",
    "        print(\"Working on division \", div)\n",
    "        model = load('results/no_boosting/models/rbf/d{}{}1_rbf_degree_{}.joblib'.format(data,\n",
    "                                                                                           div,\n",
    "                                                                                           1))\n",
    "        test_data = np.load(\"data/test/d{}_test_{}.npy\".format(data,div))\n",
    "        results = model.predict(test_data[:,:-1])\n",
    "        mse = np.sum((results - test_data[:,-1])**2)/len(test_data)\n",
    "        print(\"Mean squared error: \", mse)\n",
    "        div_MSE.append(mse)\n",
    "    data_MSE.append(div_MSE)\n",
    "    "
   ]
  },
  {
   "cell_type": "markdown",
   "id": "f3d04789",
   "metadata": {},
   "source": [
    "# NN"
   ]
  },
  {
   "cell_type": "code",
   "execution_count": 18,
   "id": "fcb909d9",
   "metadata": {},
   "outputs": [
    {
     "name": "stdout",
     "output_type": "stream",
     "text": [
      "Working on data  1\n",
      "Working on division  g\n"
     ]
    },
    {
     "name": "stderr",
     "output_type": "stream",
     "text": [
      "2022-02-05 11:57:24.145966: I tensorflow/stream_executor/cuda/cuda_gpu_executor.cc:936] successful NUMA node read from SysFS had negative value (-1), but there must be at least one NUMA node, so returning NUMA node zero\n",
      "2022-02-05 11:57:24.171471: W tensorflow/stream_executor/platform/default/dso_loader.cc:64] Could not load dynamic library 'libcudnn.so.8'; dlerror: libcudnn.so.8: cannot open shared object file: No such file or directory\n",
      "2022-02-05 11:57:24.171519: W tensorflow/core/common_runtime/gpu/gpu_device.cc:1850] Cannot dlopen some GPU libraries. Please make sure the missing libraries mentioned above are installed properly if you would like to use GPU. Follow the guide at https://www.tensorflow.org/install/gpu for how to download and setup the required libraries for your platform.\n",
      "Skipping registering GPU devices...\n",
      "2022-02-05 11:57:24.172722: I tensorflow/core/platform/cpu_feature_guard.cc:151] This TensorFlow binary is optimized with oneAPI Deep Neural Network Library (oneDNN) to use the following CPU instructions in performance-critical operations:  AVX2 FMA\n",
      "To enable them in other operations, rebuild TensorFlow with the appropriate compiler flags.\n"
     ]
    },
    {
     "name": "stdout",
     "output_type": "stream",
     "text": [
      "1/1 [==============================] - 0s 121ms/step - loss: 0.0137\n",
      "Mean squared error:  0.013685295358300209\n",
      "Working on division  le\n",
      "4/4 [==============================] - 0s 947us/step - loss: 0.0165\n",
      "Mean squared error:  0.016499800607562065\n",
      "Working on data  2\n",
      "Working on division  g\n",
      "514/514 [==============================] - 0s 685us/step - loss: 4.4586e-05\n",
      "Mean squared error:  4.458610055735335e-05\n",
      "Working on division  le\n",
      "599/599 [==============================] - 1s 859us/step - loss: 1.4997e-04\n",
      "Mean squared error:  0.00014996729441918433\n",
      "Working on data  3a\n",
      "Working on division  g\n",
      "516/516 [==============================] - 0s 663us/step - loss: 1.1689e-04\n",
      "Mean squared error:  0.00011688848462654278\n",
      "Working on division  le\n",
      "598/598 [==============================] - 0s 574us/step - loss: 1.7844\n",
      "Mean squared error:  1.7844051122665405\n",
      "Working on data  3b\n",
      "Working on division  g\n",
      "56/56 [==============================] - 0s 739us/step - loss: 1.1948e-04\n",
      "Mean squared error:  0.00011947860912187025\n",
      "Working on division  le\n",
      "92/92 [==============================] - 0s 1ms/step - loss: 0.0687\n",
      "Mean squared error:  0.06871835142374039\n"
     ]
    }
   ],
   "source": [
    "datas = ['1', '2', '3a', '3b']\n",
    "divs = ['g', 'le']\n",
    "\n",
    "data_MSE = []\n",
    "for data in datas:\n",
    "    div_MSE = []\n",
    "    print(\"Working on data \", data)\n",
    "    for div in divs:\n",
    "        print(\"Working on division \", div)\n",
    "        model = tf.keras.models.load_model('results/no_boosting/models/NN/d{}{}1.h5'.format(data,div))\n",
    "        test_data = np.load(\"data/test/d{}_test_{}.npy\".format(data,div))\n",
    "        mse = model.evaluate(test_data[:,:-1],test_data[:,-1])\n",
    "        print(\"Mean squared error: \", mse)\n",
    "        div_MSE.append(mse)\n",
    "    data_MSE.append(div_MSE)"
   ]
  },
  {
   "cell_type": "code",
   "execution_count": null,
   "id": "81f8ca24",
   "metadata": {},
   "outputs": [],
   "source": []
  }
 ],
 "metadata": {
  "kernelspec": {
   "display_name": "Python 3 (ipykernel)",
   "language": "python",
   "name": "python3"
  },
  "language_info": {
   "codemirror_mode": {
    "name": "ipython",
    "version": 3
   },
   "file_extension": ".py",
   "mimetype": "text/x-python",
   "name": "python",
   "nbconvert_exporter": "python",
   "pygments_lexer": "ipython3",
   "version": "3.9.7"
  }
 },
 "nbformat": 4,
 "nbformat_minor": 5
}
