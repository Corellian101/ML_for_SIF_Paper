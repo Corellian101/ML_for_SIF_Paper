{
 "cells": [
  {
   "cell_type": "markdown",
   "id": "89ccd292",
   "metadata": {},
   "source": [
    "# Imports"
   ]
  },
  {
   "cell_type": "code",
   "execution_count": 8,
   "id": "96fa50eb",
   "metadata": {},
   "outputs": [],
   "source": [
    "import numpy as np\n",
    "import matplotlib.pyplot as plt\n",
    "from sklearn.svm import SVR\n",
    "import pandas as pd\n",
    "import timeit\n",
    "import time\n",
    "import tensorflow as tf\n",
    "from joblib import dump, load\n",
    "from sklearn.svm import SVR\n",
    "from sklearn.preprocessing import StandardScaler\n",
    "from tensorflow.keras.models import Sequential\n",
    "from tensorflow.keras.layers import Dense\n",
    "from sklearn.model_selection import train_test_split\n",
    "from tensorflow.keras.callbacks import EarlyStopping"
   ]
  },
  {
   "cell_type": "markdown",
   "id": "aa9d574f",
   "metadata": {
    "heading_collapsed": true
   },
   "source": [
    "# $ \\frac{a}{c} \\le 1$"
   ]
  },
  {
   "cell_type": "markdown",
   "id": "b02eeff6",
   "metadata": {
    "heading_collapsed": true,
    "hidden": true
   },
   "source": [
    "## No Boosting"
   ]
  },
  {
   "cell_type": "code",
   "execution_count": 10,
   "id": "6c481223",
   "metadata": {
    "hidden": true
   },
   "outputs": [
    {
     "data": {
      "text/plain": [
       "(360, 4)"
      ]
     },
     "execution_count": 10,
     "metadata": {},
     "output_type": "execute_result"
    }
   ],
   "source": [
    "d1_le1 = np.load(\"Test_2/data/1_RN_data_ac_le1.npy\")\n",
    "d1_le1.shape"
   ]
  },
  {
   "cell_type": "code",
   "execution_count": 11,
   "id": "62135433",
   "metadata": {
    "hidden": true
   },
   "outputs": [],
   "source": [
    "def poly_svm(train_data):\n",
    "    degrees = [1,2,3,4]\n",
    "    times = []\n",
    "    regs = []\n",
    "    for degree in degrees:\n",
    "        t0 = time.time()\n",
    "        reg = SVR(kernel=\"poly\", degree = degree)\n",
    "        reg.fit(train_data[:,:-1], train_data[:,-1])\n",
    "        t1 = time.time()\n",
    "        times.append(t1-t0)\n",
    "        regs.append(reg)\n",
    "        print(\"Done degree {}\".format(degree))\n",
    "    return times, regs"
   ]
  },
  {
   "cell_type": "code",
   "execution_count": 12,
   "id": "d50da7f9",
   "metadata": {
    "hidden": true
   },
   "outputs": [
    {
     "name": "stdout",
     "output_type": "stream",
     "text": [
      "Done degree 1\n",
      "Done degree 2\n",
      "Done degree 3\n",
      "Done degree 4\n"
     ]
    }
   ],
   "source": [
    "times, regs = poly_svm(d1_le1)\n",
    "\n",
    "# saving models\n",
    "i = 1\n",
    "for reg in regs:\n",
    "    dump(reg, 'results/d1/models/le/no_boost/le_poly_degree_{}.joblib'.format(i))\n",
    "    i += 1\n",
    "np.save(\"results/d1/times/le/no_boost/d1_times.npy\", times)"
   ]
  },
  {
   "cell_type": "code",
   "execution_count": 13,
   "id": "d168f492",
   "metadata": {
    "hidden": true
   },
   "outputs": [],
   "source": [
    "def rbf_svm(train_data):\n",
    "    t0 = time.time()\n",
    "    reg = SVR(kernel=\"rbf\")\n",
    "    reg.fit(train_data[:,:-1], train_data[:,-1])\n",
    "    t1 = time.time()\n",
    "    return t1-t0, reg"
   ]
  },
  {
   "cell_type": "code",
   "execution_count": 14,
   "id": "44369019",
   "metadata": {
    "hidden": true
   },
   "outputs": [],
   "source": [
    "times, regs = rbf_svm(d1_le1)\n",
    "\n",
    "# saving models\n",
    "dump(regs, 'results/d1/models/le/no_boost/le_rbf.joblib')\n",
    "np.save(\"results/d1/times/le/no_boost/d1_times_rbf.npy\", times)"
   ]
  },
  {
   "cell_type": "markdown",
   "id": "16f7eb91",
   "metadata": {
    "hidden": true
   },
   "source": [
    "## Boosting"
   ]
  },
  {
   "cell_type": "code",
   "execution_count": 15,
   "id": "50a668f7",
   "metadata": {
    "hidden": true
   },
   "outputs": [],
   "source": [
    "def poly_svm_boost(train_data, M_train_data, data_type):\n",
    "    degrees = [1,2,3,4]\n",
    "    times = []\n",
    "    M_regs = []\n",
    "    g_regs = []\n",
    "    for degree in degrees:\n",
    "        t0 = time.time()\n",
    "        reg = SVR(kernel=\"poly\", degree = degree)\n",
    "        reg.fit(M_train_data[:,:-1], M_train_data[:,-1])\n",
    "        M = reg.predict(train_data[:,:2])\n",
    "        train_data[:,-1] = train_data[:,-1]/M\n",
    "        reg_g = SVR(kernel=\"poly\", degree = degree)\n",
    "        if data_type == 'le':\n",
    "            reg_g.fit(train_data[:,1:-1], train_data[:,-1])\n",
    "        elif data_type == 'g':\n",
    "            reg_g.fit(train_data[:,:-1], train_data[:,-1])\n",
    "        else:\n",
    "            raise Exception(\"Invalid data type\")\n",
    "        t1 = time.time()\n",
    "        times.append(t1-t0)\n",
    "        M_regs.append(reg)\n",
    "        g_regs.append(reg_g)\n",
    "        print(\"Done degree {}\".format(degree))\n",
    "    \n",
    "    return times, M_regs, g_regs"
   ]
  },
  {
   "cell_type": "code",
   "execution_count": 16,
   "id": "85c88884",
   "metadata": {
    "hidden": true
   },
   "outputs": [
    {
     "name": "stdout",
     "output_type": "stream",
     "text": [
      "Done degree 1\n",
      "Done degree 2\n",
      "Done degree 3\n",
      "Done degree 4\n"
     ]
    }
   ],
   "source": [
    "data = []\n",
    "for row in d1_le1:\n",
    "    if (row[2] > 1.5 and row[2] < 1.65):\n",
    "        data.append(np.delete(row, 2))\n",
    "M_data = np.array(data)\n",
    "\n",
    "# Poly SVM\n",
    "times, M_regs, g_regs = poly_svm_boost(d1_le1, M_data, \"le\")\n",
    "\n",
    "# saving models\n",
    "for i in range(4):\n",
    "    dump(M_regs[i], 'results/d1/models/le/boost/le_M_poly_degree_{}.joblib'.format(i))\n",
    "    dump(g_regs[i], 'results/d1/models/le/boost/le_g_poly_degree_{}.joblib'.format(i))\n",
    "\n",
    "np.save(\"results/d1/times/le/boost/d1_times.npy\", times)"
   ]
  },
  {
   "cell_type": "code",
   "execution_count": 17,
   "id": "810dcee5",
   "metadata": {
    "hidden": true
   },
   "outputs": [],
   "source": [
    "def rbf_svm_boost(train_data, M_train_data, data_type):\n",
    "    t0 = time.time()\n",
    "    reg = SVR(kernel=\"rbf\")\n",
    "    reg.fit(M_train_data[:,:-1], M_train_data[:,-1])\n",
    "    M = reg.predict(train_data[:,:2])\n",
    "    train_data[:,-1] = train_data[:,-1]/M\n",
    "    reg_g = SVR(kernel=\"rbf\")\n",
    "    if data_type == 'le':\n",
    "        reg_g.fit(train_data[:,1:-1], train_data[:,-1])\n",
    "    elif data_type == 'g':\n",
    "        reg_g.fit(train_data[:,:-1], train_data[:,-1])\n",
    "    else:\n",
    "        raise Exception(\"Invalid data type\")\n",
    "    t1 = time.time()\n",
    "    return t1-t0, reg, reg_g"
   ]
  },
  {
   "cell_type": "code",
   "execution_count": 18,
   "id": "e5f66d23",
   "metadata": {
    "hidden": true
   },
   "outputs": [],
   "source": [
    "times, M_regs, g_regs = rbf_svm_boost(d1_le1, M_data, \"le\")\n",
    "\n",
    "# saving models\n",
    "dump(M_regs, 'results/d1/models/le/boost/le_M_rbf.joblib')\n",
    "dump(g_regs, 'results/d1/models/le/boost/le_g_rbf.joblib')\n",
    "np.save(\"results/d1/times/le/boost/d1_times_rbf.npy\", times)"
   ]
  },
  {
   "cell_type": "markdown",
   "id": "67da5ba1",
   "metadata": {
    "heading_collapsed": true
   },
   "source": [
    "# $ \\frac{a}{c} > 1$"
   ]
  },
  {
   "cell_type": "markdown",
   "id": "4e8e6914",
   "metadata": {
    "hidden": true
   },
   "source": [
    "## No Boosting"
   ]
  },
  {
   "cell_type": "code",
   "execution_count": 19,
   "id": "7237d041",
   "metadata": {
    "hidden": true
   },
   "outputs": [
    {
     "data": {
      "text/plain": [
       "(48, 4)"
      ]
     },
     "execution_count": 19,
     "metadata": {},
     "output_type": "execute_result"
    }
   ],
   "source": [
    "d1_le1 = np.load(\"Test_2/data/1_RN_data_ac_g1.npy\")\n",
    "d1_le1.shape"
   ]
  },
  {
   "cell_type": "code",
   "execution_count": 20,
   "id": "4d050843",
   "metadata": {
    "hidden": true
   },
   "outputs": [],
   "source": [
    "def poly_svm(train_data):\n",
    "    degrees = [1,2,3,4]\n",
    "    times = []\n",
    "    regs = []\n",
    "    for degree in degrees:\n",
    "        t0 = time.time()\n",
    "        reg = SVR(kernel=\"poly\", degree = degree)\n",
    "        reg.fit(train_data[:,:-1], train_data[:,-1])\n",
    "        t1 = time.time()\n",
    "        times.append(t1-t0)\n",
    "        regs.append(reg)\n",
    "        print(\"Done degree {}\".format(degree))\n",
    "    return times, regs"
   ]
  },
  {
   "cell_type": "code",
   "execution_count": 21,
   "id": "4666dbc4",
   "metadata": {
    "hidden": true
   },
   "outputs": [
    {
     "name": "stdout",
     "output_type": "stream",
     "text": [
      "Done degree 1\n",
      "Done degree 2\n",
      "Done degree 3\n",
      "Done degree 4\n"
     ]
    }
   ],
   "source": [
    "times, regs = poly_svm(d1_le1)\n",
    "\n",
    "# saving models\n",
    "i = 1\n",
    "for reg in regs:\n",
    "    dump(reg, 'results/d1/models/g/no_boost/g_poly_degree_{}.joblib'.format(i))\n",
    "    i += 1\n",
    "np.save(\"results/d1/times/g/no_boost/d1_times.npy\", times)"
   ]
  },
  {
   "cell_type": "code",
   "execution_count": 22,
   "id": "acdb2e78",
   "metadata": {
    "hidden": true
   },
   "outputs": [],
   "source": [
    "def rbf_svm(train_data):\n",
    "    t0 = time.time()\n",
    "    reg = SVR(kernel=\"rbf\")\n",
    "    reg.fit(train_data[:,:-1], train_data[:,-1])\n",
    "    t1 = time.time()\n",
    "    return t1-t0, reg"
   ]
  },
  {
   "cell_type": "code",
   "execution_count": 23,
   "id": "a4d1a6cb",
   "metadata": {
    "hidden": true
   },
   "outputs": [],
   "source": [
    "times, regs = rbf_svm(d1_le1)\n",
    "\n",
    "# saving models\n",
    "dump(regs, 'results/d1/models/g/no_boost/g_rbf.joblib')\n",
    "np.save(\"results/d1/times/g/no_boost/d1_times_rbf.npy\", times)"
   ]
  },
  {
   "cell_type": "markdown",
   "id": "f4165668",
   "metadata": {
    "hidden": true
   },
   "source": [
    "## Boosting"
   ]
  },
  {
   "cell_type": "code",
   "execution_count": 24,
   "id": "21e0321c",
   "metadata": {
    "hidden": true
   },
   "outputs": [],
   "source": [
    "def poly_svm_boost(train_data, M_train_data, data_type):\n",
    "    degrees = [1,2,3,4]\n",
    "    times = []\n",
    "    M_regs = []\n",
    "    g_regs = []\n",
    "    for degree in degrees:\n",
    "        t0 = time.time()\n",
    "        reg = SVR(kernel=\"poly\", degree = degree)\n",
    "        reg.fit(M_train_data[:,:-1], M_train_data[:,-1])\n",
    "        M = reg.predict(train_data[:,:2])\n",
    "        train_data[:,-1] = train_data[:,-1]/M\n",
    "        reg_g = SVR(kernel=\"poly\", degree = degree)\n",
    "        if data_type == 'le':\n",
    "            reg_g.fit(train_data[:,1:-1], train_data[:,-1])\n",
    "        elif data_type == 'g':\n",
    "            reg_g.fit(train_data[:,:-1], train_data[:,-1])\n",
    "        else:\n",
    "            raise Exception(\"Invalid data type\")\n",
    "        t1 = time.time()\n",
    "        times.append(t1-t0)\n",
    "        M_regs.append(reg)\n",
    "        g_regs.append(reg_g)\n",
    "        print(\"Done degree {}\".format(degree))\n",
    "    \n",
    "    return times, M_regs, g_regs"
   ]
  },
  {
   "cell_type": "code",
   "execution_count": 25,
   "id": "5bd1d0a8",
   "metadata": {
    "hidden": true
   },
   "outputs": [
    {
     "name": "stdout",
     "output_type": "stream",
     "text": [
      "Done degree 1\n",
      "Done degree 2\n",
      "Done degree 3\n",
      "Done degree 4\n"
     ]
    }
   ],
   "source": [
    "data = []\n",
    "for row in d1_le1:\n",
    "    if (row[2] > 1.5 and row[2] < 1.65):\n",
    "        data.append(np.delete(row, 2))\n",
    "M_data = np.array(data)\n",
    "\n",
    "# Poly SVM\n",
    "times, M_regs, g_regs = poly_svm_boost(d1_le1, M_data, \"g\")\n",
    "\n",
    "# saving models\n",
    "for i in range(4):\n",
    "    dump(M_regs[i], 'results/d1/models/g/boost/g_M_poly_degree_{}.joblib'.format(i))\n",
    "    dump(g_regs[i], 'results/d1/models/g/boost/g_g_poly_degree_{}.joblib'.format(i))\n",
    "\n",
    "np.save(\"results/d1/times/g/boost/d1_times.npy\", times)"
   ]
  },
  {
   "cell_type": "code",
   "execution_count": 26,
   "id": "2420add3",
   "metadata": {
    "hidden": true
   },
   "outputs": [],
   "source": [
    "def rbf_svm_boost(train_data, M_train_data, data_type):\n",
    "    t0 = time.time()\n",
    "    reg = SVR(kernel=\"rbf\")\n",
    "    reg.fit(M_train_data[:,:-1], M_train_data[:,-1])\n",
    "    M = reg.predict(train_data[:,:2])\n",
    "    train_data[:,-1] = train_data[:,-1]/M\n",
    "    reg_g = SVR(kernel=\"rbf\")\n",
    "    if data_type == 'le':\n",
    "        reg_g.fit(train_data[:,1:-1], train_data[:,-1])\n",
    "    elif data_type == 'g':\n",
    "        reg_g.fit(train_data[:,:-1], train_data[:,-1])\n",
    "    else:\n",
    "        raise Exception(\"Invalid data type\")\n",
    "    t1 = time.time()\n",
    "    return t1-t0, reg, reg_g"
   ]
  },
  {
   "cell_type": "code",
   "execution_count": 27,
   "id": "637760f4",
   "metadata": {
    "hidden": true
   },
   "outputs": [],
   "source": [
    "times, M_regs, g_regs = rbf_svm_boost(d1_le1, M_data, \"g\")\n",
    "\n",
    "# saving models\n",
    "dump(M_regs, 'results/d1/models/g/boost/g_M_rbf.joblib')\n",
    "dump(g_regs, 'results/d1/models/g/boost/g_g_rbf.joblib')\n",
    "np.save(\"results/d1/times/g/boost/d1_times_rbf.npy\", times)"
   ]
  },
  {
   "cell_type": "markdown",
   "id": "46daa528",
   "metadata": {},
   "source": [
    "# Results"
   ]
  },
  {
   "cell_type": "markdown",
   "id": "4b0d3284",
   "metadata": {},
   "source": [
    "## $0 \\le \\frac{a}{c} \\le 2$"
   ]
  },
  {
   "cell_type": "code",
   "execution_count": 28,
   "id": "c58ec07a",
   "metadata": {},
   "outputs": [],
   "source": [
    "# Loading test dataset\n",
    "df = pd.read_csv(\"../data/3_datasets_new/test/1_RN_data_TEST.csv\")\n",
    "df.drop([\"c/b\", \"F\"], axis=1, inplace=True)\n",
    "d_test = df.to_numpy()\n",
    "\n",
    "# Testing\n",
    "MSE = []\n",
    "for i in range(1, 5):\n",
    "    reg = load('results/d1/models/all/d1_poly_degree_{}.joblib'.format(i))\n",
    "    results = reg.predict(d_test[:,:-1])\n",
    "    mse = np.sum((results - d_test[:,-1])**2)/len(d_test)\n",
    "    MSE.append(mse)\n",
    "    \n",
    "reg = load('results/d1/models/all/d1_rbf.joblib')\n",
    "results = reg.predict(d_test[:,:-1])\n",
    "mse = np.sum((results - d_test[:,-1])**2)/len(d_test)\n",
    "MSE.append(mse)"
   ]
  },
  {
   "cell_type": "code",
   "execution_count": 59,
   "id": "5f583958",
   "metadata": {},
   "outputs": [],
   "source": [
    "# Loading test dataset\n",
    "df = pd.read_csv(\"../data/3_datasets_new/test/2_RN_eqn_TEST.csv\")\n",
    "df.drop([\"c/b\", \"F\"], axis=1, inplace=True)\n",
    "d_test = df.to_numpy()\n",
    "\n",
    "# Testing\n",
    "MSE_base = []\n",
    "for i in range(1, 5):\n",
    "    reg = load('results/d1/models/all/d1_poly_degree_{}.joblib'.format(i))\n",
    "    results = reg.predict(d_test[:,:-1])\n",
    "    mse = np.sum((results - d_test[:,-1])**2)/len(d_test)\n",
    "    MSE_base.append(mse)\n",
    "    \n",
    "reg = load('results/d1/models/all/d1_rbf.joblib')\n",
    "results = reg.predict(d_test[:,:-1])\n",
    "mse = np.sum((results - d_test[:,-1])**2)/len(d_test)\n",
    "MSE_base.append(mse)"
   ]
  },
  {
   "cell_type": "markdown",
   "id": "abfcb9d4",
   "metadata": {},
   "source": [
    "## $ \\frac{a}{c} \\le 1$"
   ]
  },
  {
   "cell_type": "markdown",
   "id": "612e4647",
   "metadata": {},
   "source": [
    "### No Boost"
   ]
  },
  {
   "cell_type": "code",
   "execution_count": 31,
   "id": "7189bcd2",
   "metadata": {},
   "outputs": [],
   "source": [
    "d_test = np.load(\"Test_2/data/test/d1_test_le.npy\")\n",
    "\n",
    "# Testing\n",
    "MSE_le_nb = []\n",
    "for i in range(1, 5):\n",
    "    reg = load('results/d1/models/le/no_boost/le_poly_degree_{}.joblib'.format(i))\n",
    "    results = reg.predict(d_test[:,:-1])\n",
    "    mse = np.sum((results - d_test[:,-1])**2)/len(d_test)\n",
    "    MSE_le_nb.append(mse)\n",
    "    \n",
    "reg = load('results/d1/models/le/no_boost/le_rbf.joblib')\n",
    "results = reg.predict(d_test[:,:-1])\n",
    "mse = np.sum((results - d_test[:,-1])**2)/len(d_test)\n",
    "MSE_le_nb.append(mse)"
   ]
  },
  {
   "cell_type": "code",
   "execution_count": 60,
   "id": "298293ad",
   "metadata": {},
   "outputs": [],
   "source": [
    "d_test = np.load(\"Test_2/data/test/d2_test_le.npy\")\n",
    "\n",
    "# Testing\n",
    "MSE_le_nb_base = []\n",
    "for i in range(1, 5):\n",
    "    reg = load('results/d1/models/le/no_boost/le_poly_degree_{}.joblib'.format(i))\n",
    "    results = reg.predict(d_test[:,:-1])\n",
    "    mse = np.sum((results - d_test[:,-1])**2)/len(d_test)\n",
    "    MSE_le_nb_base.append(mse)\n",
    "    \n",
    "reg = load('results/d1/models/le/no_boost/le_rbf.joblib')\n",
    "results = reg.predict(d_test[:,:-1])\n",
    "mse = np.sum((results - d_test[:,-1])**2)/len(d_test)\n",
    "MSE_le_nb_base.append(mse)"
   ]
  },
  {
   "cell_type": "markdown",
   "id": "fa9893b2",
   "metadata": {},
   "source": [
    "### Boost"
   ]
  },
  {
   "cell_type": "code",
   "execution_count": 32,
   "id": "93d6eefe",
   "metadata": {},
   "outputs": [],
   "source": [
    "d_test = np.load(\"Test_2/data/test/d1_test_le.npy\")\n",
    "\n",
    "# Testing\n",
    "MSE_le_b = []\n",
    "for i in range(4):\n",
    "    reg = load('results/d1/models/le/boost/le_M_poly_degree_{}.joblib'.format(i))\n",
    "    M = reg.predict(d_test[:,:2])\n",
    "    reg = load('results/d1/models/le/boost/le_g_poly_degree_{}.joblib'.format(i))\n",
    "    g = reg.predict(d_test[:,1:-1])\n",
    "    results = M*g\n",
    "    mse = np.sum((results - d_test[:,-1])**2)/len(d_test)\n",
    "    MSE_le_b.append(mse)\n",
    "    \n",
    "reg = load('results/d1/models/le/boost/le_M_rbf.joblib')\n",
    "M = reg.predict(d_test[:,:2])\n",
    "reg = load('results/d1/models/le/boost/le_g_rbf.joblib')\n",
    "g = reg.predict(d_test[:,1:-1])\n",
    "results = M*g\n",
    "mse = np.sum((results - d_test[:,-1])**2)/len(d_test)\n",
    "MSE_le_b.append(mse)    "
   ]
  },
  {
   "cell_type": "code",
   "execution_count": 61,
   "id": "ead67a61",
   "metadata": {},
   "outputs": [],
   "source": [
    "d_test = np.load(\"Test_2/data/test/d2_test_le.npy\")\n",
    "\n",
    "# Testing\n",
    "MSE_le_b_base = []\n",
    "for i in range(4):\n",
    "    reg = load('results/d1/models/le/boost/le_M_poly_degree_{}.joblib'.format(i))\n",
    "    M = reg.predict(d_test[:,:2])\n",
    "    reg = load('results/d1/models/le/boost/le_g_poly_degree_{}.joblib'.format(i))\n",
    "    g = reg.predict(d_test[:,1:-1])\n",
    "    results = M*g\n",
    "    mse = np.sum((results - d_test[:,-1])**2)/len(d_test)\n",
    "    MSE_le_b_base.append(mse)\n",
    "    \n",
    "reg = load('results/d1/models/le/boost/le_M_rbf.joblib')\n",
    "M = reg.predict(d_test[:,:2])\n",
    "reg = load('results/d1/models/le/boost/le_g_rbf.joblib')\n",
    "g = reg.predict(d_test[:,1:-1])\n",
    "results = M*g\n",
    "mse = np.sum((results - d_test[:,-1])**2)/len(d_test)\n",
    "MSE_le_b_base.append(mse)   "
   ]
  },
  {
   "cell_type": "markdown",
   "id": "5fc0d21e",
   "metadata": {},
   "source": [
    "## $ \\frac{a}{c} > 1$"
   ]
  },
  {
   "cell_type": "markdown",
   "id": "1cf0815c",
   "metadata": {},
   "source": [
    "### No Boost"
   ]
  },
  {
   "cell_type": "code",
   "execution_count": 33,
   "id": "ec044e9e",
   "metadata": {},
   "outputs": [],
   "source": [
    "d_test = np.load(\"Test_2/data/test/d1_test_g.npy\")\n",
    "\n",
    "# Testing\n",
    "MSE_g_nb = []\n",
    "for i in range(1, 5):\n",
    "    reg = load('results/d1/models/g/no_boost/g_poly_degree_{}.joblib'.format(i))\n",
    "    results = reg.predict(d_test[:,:-1])\n",
    "    mse = np.sum((results - d_test[:,-1])**2)/len(d_test)\n",
    "    MSE_g_nb.append(mse)\n",
    "    \n",
    "reg = load('results/d1/models/g/no_boost/g_rbf.joblib')\n",
    "results = reg.predict(d_test[:,:-1])\n",
    "mse = np.sum((results - d_test[:,-1])**2)/len(d_test)\n",
    "MSE_g_nb.append(mse)"
   ]
  },
  {
   "cell_type": "code",
   "execution_count": 62,
   "id": "58e58336",
   "metadata": {},
   "outputs": [],
   "source": [
    "d_test = np.load(\"Test_2/data/test/d2_test_g.npy\")\n",
    "\n",
    "# Testing\n",
    "MSE_g_nb_base = []\n",
    "for i in range(1, 5):\n",
    "    reg = load('results/d1/models/g/no_boost/g_poly_degree_{}.joblib'.format(i))\n",
    "    results = reg.predict(d_test[:,:-1])\n",
    "    mse = np.sum((results - d_test[:,-1])**2)/len(d_test)\n",
    "    MSE_g_nb_base.append(mse)\n",
    "    \n",
    "reg = load('results/d1/models/g/no_boost/g_rbf.joblib')\n",
    "results = reg.predict(d_test[:,:-1])\n",
    "mse = np.sum((results - d_test[:,-1])**2)/len(d_test)\n",
    "MSE_g_nb_base.append(mse)"
   ]
  },
  {
   "cell_type": "markdown",
   "id": "3df50cc1",
   "metadata": {},
   "source": [
    "### Boost"
   ]
  },
  {
   "cell_type": "code",
   "execution_count": 36,
   "id": "29aa7531",
   "metadata": {},
   "outputs": [],
   "source": [
    "d_test = np.load(\"Test_2/data/test/d1_test_g.npy\")\n",
    "\n",
    "# Testing\n",
    "MSE_g_b = []\n",
    "for i in range(4):\n",
    "    reg = load('results/d1/models/g/boost/g_M_poly_degree_{}.joblib'.format(i))\n",
    "    M = reg.predict(d_test[:,:2])\n",
    "    reg = load('results/d1/models/g/boost/g_g_poly_degree_{}.joblib'.format(i))\n",
    "    g = reg.predict(d_test[:,:-1])\n",
    "    results = M*g\n",
    "    mse = np.sum((results - d_test[:,-1])**2)/len(d_test)\n",
    "    MSE_g_b.append(mse)\n",
    "    \n",
    "reg = load('results/d1/models/g/boost/g_M_rbf.joblib')\n",
    "M = reg.predict(d_test[:,:2])\n",
    "reg = load('results/d1/models/g/boost/g_g_rbf.joblib')\n",
    "g = reg.predict(d_test[:,:-1])\n",
    "results = M*g\n",
    "mse = np.sum((results - d_test[:,-1])**2)/len(d_test)\n",
    "MSE_g_b.append(mse)    "
   ]
  },
  {
   "cell_type": "code",
   "execution_count": 63,
   "id": "0f44699d",
   "metadata": {},
   "outputs": [],
   "source": [
    "d_test = np.load(\"Test_2/data/test/d2_test_g.npy\")\n",
    "\n",
    "# Testing\n",
    "MSE_g_b_base = []\n",
    "for i in range(4):\n",
    "    reg = load('results/d1/models/g/boost/g_M_poly_degree_{}.joblib'.format(i))\n",
    "    M = reg.predict(d_test[:,:2])\n",
    "    reg = load('results/d1/models/g/boost/g_g_poly_degree_{}.joblib'.format(i))\n",
    "    g = reg.predict(d_test[:,:-1])\n",
    "    results = M*g\n",
    "    mse = np.sum((results - d_test[:,-1])**2)/len(d_test)\n",
    "    MSE_g_b_base.append(mse)\n",
    "    \n",
    "reg = load('results/d1/models/g/boost/g_M_rbf.joblib')\n",
    "M = reg.predict(d_test[:,:2])\n",
    "reg = load('results/d1/models/g/boost/g_g_rbf.joblib')\n",
    "g = reg.predict(d_test[:,:-1])\n",
    "results = M*g\n",
    "mse = np.sum((results - d_test[:,-1])**2)/len(d_test)\n",
    "MSE_g_b_base.append(mse) "
   ]
  },
  {
   "cell_type": "markdown",
   "id": "1b897802",
   "metadata": {},
   "source": [
    "## Plot"
   ]
  },
  {
   "cell_type": "markdown",
   "id": "92ee5b33",
   "metadata": {},
   "source": [
    "#### Test dataset"
   ]
  },
  {
   "cell_type": "code",
   "execution_count": 52,
   "id": "6bdd26e8",
   "metadata": {},
   "outputs": [
    {
     "data": {
      "text/plain": [
       "<matplotlib.legend.Legend at 0x7fb2caf7a970>"
      ]
     },
     "execution_count": 52,
     "metadata": {},
     "output_type": "execute_result"
    },
    {
     "data": {
      "image/png": "[encoded data removed]",
      "text/plain": [
       "<Figure size 432x288 with 1 Axes>"
      ]
     },
     "metadata": {
      "needs_background": "light"
     },
     "output_type": "display_data"
    }
   ],
   "source": [
    "algos = [\"Poly 1\", \"Poly 2\", \"Poly 3\", \"Poly 4\", \"RBF\"]\n",
    "plt.plot(algos, MSE, label=\"All points\")\n",
    "plt.ylabel(\"MSE\")\n",
    "plt.legend()"
   ]
  },
  {
   "cell_type": "code",
   "execution_count": 55,
   "id": "f571e63e",
   "metadata": {},
   "outputs": [
    {
     "data": {
      "text/plain": [
       "<matplotlib.legend.Legend at 0x7fb2cada8c40>"
      ]
     },
     "execution_count": 55,
     "metadata": {},
     "output_type": "execute_result"
    },
    {
     "data": {
      "image/png": "[encoded data removed]",
      "text/plain": [
       "<Figure size 432x288 with 1 Axes>"
      ]
     },
     "metadata": {
      "needs_background": "light"
     },
     "output_type": "display_data"
    }
   ],
   "source": [
    "algos = [\"Poly 1\", \"Poly 2\", \"Poly 3\", \"Poly 4\", \"RBF\"]\n",
    "plt.plot(algos, MSE, label=\"All points\")\n",
    "plt.plot(algos, MSE_le_nb, label=\"a/c<=1 & No Boosting\")\n",
    "plt.plot(algos, MSE_g_nb, label=\"a/c>1 & No Boosting\")\n",
    "plt.ylabel(\"MSE\")\n",
    "plt.legend()"
   ]
  },
  {
   "cell_type": "code",
   "execution_count": 57,
   "id": "d3f57d2a",
   "metadata": {},
   "outputs": [
    {
     "data": {
      "text/plain": [
       "<matplotlib.legend.Legend at 0x7fb2cad34c10>"
      ]
     },
     "execution_count": 57,
     "metadata": {},
     "output_type": "execute_result"
    },
    {
     "data": {
      "image/png": "[encoded data removed]",
      "text/plain": [
       "<Figure size 432x288 with 1 Axes>"
      ]
     },
     "metadata": {
      "needs_background": "light"
     },
     "output_type": "display_data"
    }
   ],
   "source": [
    "algos = [\"Poly 1\", \"Poly 2\", \"Poly 3\", \"Poly 4\", \"RBF\"]\n",
    "plt.plot(algos, MSE, label=\"All points\")\n",
    "plt.plot(algos, MSE_le_b, label=\"a/c<=1 & Boosting\")\n",
    "plt.plot(algos, MSE_g_b, label=\"a/c>1 & Boosting\")\n",
    "plt.ylabel(\"MSE\")\n",
    "plt.semilogy()\n",
    "plt.legend()"
   ]
  },
  {
   "cell_type": "code",
   "execution_count": 76,
   "id": "4fa0907b",
   "metadata": {},
   "outputs": [
    {
     "data": {
      "text/plain": [
       "<matplotlib.legend.Legend at 0x7fb2ca5c5a90>"
      ]
     },
     "execution_count": 76,
     "metadata": {},
     "output_type": "execute_result"
    },
    {
     "data": {
      "image/png": "[encoded data removed]",
      "text/plain": [
       "<Figure size 432x288 with 1 Axes>"
      ]
     },
     "metadata": {
      "needs_background": "light"
     },
     "output_type": "display_data"
    }
   ],
   "source": [
    "algos = [\"Poly 1\", \"Poly 2\", \"Poly 3\", \"Poly 4\", \"RBF\"]\n",
    "plt.plot(algos, MSE_le_nb, label=\"a/c<=1 & No Boosting\")\n",
    "plt.plot(algos, MSE_g_nb, label=\"a/c>1 & No Boosting\")\n",
    "plt.plot(algos, MSE_le_b, label=\"a/c<=1 & Boosting\")\n",
    "plt.plot(algos, MSE_g_b, label=\"a/c>1 & Boosting\")\n",
    "plt.ylabel(\"MSE\")\n",
    "plt.semilogy()\n",
    "plt.legend()"
   ]
  },
  {
   "cell_type": "markdown",
   "id": "b836fdd1",
   "metadata": {},
   "source": [
    "#### Baseline"
   ]
  },
  {
   "cell_type": "code",
   "execution_count": 69,
   "id": "45d9e71f",
   "metadata": {},
   "outputs": [
    {
     "data": {
      "text/plain": [
       "<matplotlib.legend.Legend at 0x7fb2cb6bbf40>"
      ]
     },
     "execution_count": 69,
     "metadata": {},
     "output_type": "execute_result"
    },
    {
     "data": {
      "image/png": "[encoded data removed]",
      "text/plain": [
       "<Figure size 432x288 with 1 Axes>"
      ]
     },
     "metadata": {
      "needs_background": "light"
     },
     "output_type": "display_data"
    }
   ],
   "source": [
    "algos = [\"Poly 1\", \"Poly 2\", \"Poly 3\", \"Poly 4\", \"RBF\"]\n",
    "plt.plot(algos, MSE, label=\"All points\")\n",
    "plt.plot(algos, MSE_base, label=\"All points baseline\")\n",
    "plt.ylabel(\"MSE\")\n",
    "plt.legend()"
   ]
  },
  {
   "cell_type": "code",
   "execution_count": 73,
   "id": "0bff5d4e",
   "metadata": {},
   "outputs": [
    {
     "data": {
      "text/plain": [
       "<matplotlib.legend.Legend at 0x7fb2ca748430>"
      ]
     },
     "execution_count": 73,
     "metadata": {},
     "output_type": "execute_result"
    },
    {
     "data": {
      "image/png": "[encoded data removed]",
      "text/plain": [
       "<Figure size 432x288 with 1 Axes>"
      ]
     },
     "metadata": {
      "needs_background": "light"
     },
     "output_type": "display_data"
    }
   ],
   "source": [
    "algos = [\"Poly 1\", \"Poly 2\", \"Poly 3\", \"Poly 4\", \"RBF\"]\n",
    "plt.plot(algos, MSE_le_nb, label=\"a/c<=1 & No Boosting\")\n",
    "plt.plot(algos, MSE_g_nb, label=\"a/c>1 & No Boosting\")\n",
    "plt.plot(algos, MSE_le_nb_base, label=\"a/c<=1 & No Boosting base\")\n",
    "plt.plot(algos, MSE_g_nb_base, label=\"a/c>1 & No Boosting base\")\n",
    "plt.ylabel(\"MSE\")\n",
    "plt.legend()"
   ]
  },
  {
   "cell_type": "code",
   "execution_count": 75,
   "id": "d7d1049f",
   "metadata": {},
   "outputs": [
    {
     "data": {
      "text/plain": [
       "<matplotlib.legend.Legend at 0x7fb2ca7b24f0>"
      ]
     },
     "execution_count": 75,
     "metadata": {},
     "output_type": "execute_result"
    },
    {
     "data": {
      "image/png": "[encoded data removed]",
      "text/plain": [
       "<Figure size 432x288 with 1 Axes>"
      ]
     },
     "metadata": {
      "needs_background": "light"
     },
     "output_type": "display_data"
    }
   ],
   "source": [
    "algos = [\"Poly 1\", \"Poly 2\", \"Poly 3\", \"Poly 4\", \"RBF\"]\n",
    "plt.plot(algos, MSE_le_b, label=\"a/c<=1 & Boosting\")\n",
    "plt.plot(algos, MSE_g_b, label=\"a/c>1 & Boosting\")\n",
    "plt.plot(algos, MSE_le_b_base, label=\"a/c<=1 & Boosting base\")\n",
    "plt.plot(algos, MSE_g_b_base, label=\"a/c>1 & Boosting base\")\n",
    "plt.ylabel(\"MSE\")\n",
    "plt.semilogy()\n",
    "plt.legend()"
   ]
  },
  {
   "cell_type": "code",
   "execution_count": 77,
   "id": "950fa79b",
   "metadata": {},
   "outputs": [
    {
     "data": {
      "text/plain": [
       "<matplotlib.legend.Legend at 0x7fb2ca4f0fa0>"
      ]
     },
     "execution_count": 77,
     "metadata": {},
     "output_type": "execute_result"
    },
    {
     "data": {
      "image/png": "[encoded data removed]",
      "text/plain": [
       "<Figure size 432x288 with 1 Axes>"
      ]
     },
     "metadata": {
      "needs_background": "light"
     },
     "output_type": "display_data"
    }
   ],
   "source": [
    "algos = [\"Poly 1\", \"Poly 2\", \"Poly 3\", \"Poly 4\", \"RBF\"]\n",
    "plt.plot(algos, MSE_le_nb, label=\"a/c<=1 & No Boosting\")\n",
    "plt.plot(algos, MSE_g_nb, label=\"a/c>1 & No Boosting\")\n",
    "plt.plot(algos, MSE_le_b_base, label=\"a/c<=1 & Boosting base\")\n",
    "plt.plot(algos, MSE_g_b_base, label=\"a/c>1 & Boosting base\")\n",
    "plt.ylabel(\"MSE\")\n",
    "plt.semilogy()\n",
    "plt.legend()"
   ]
  },
  {
   "cell_type": "code",
   "execution_count": null,
   "id": "39ce9188",
   "metadata": {},
   "outputs": [],
   "source": []
  }
 ],
 "metadata": {
  "kernelspec": {
   "display_name": "Python 3 (ipykernel)",
   "language": "python",
   "name": "python3"
  },
  "language_info": {
   "codemirror_mode": {
    "name": "ipython",
    "version": 3
   },
   "file_extension": ".py",
   "mimetype": "text/x-python",
   "name": "python",
   "nbconvert_exporter": "python",
   "pygments_lexer": "ipython3",
   "version": "3.9.7"
  }
 },
 "nbformat": 4,
 "nbformat_minor": 5
}
